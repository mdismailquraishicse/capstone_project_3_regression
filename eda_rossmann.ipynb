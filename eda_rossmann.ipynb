{
 "cells": [
  {
   "cell_type": "markdown",
   "metadata": {
    "id": "vncDsAP0Gaoa"
   },
   "source": [
    "# **Project Name**    - Retail Sales Prediction"
   ]
  },
  {
   "cell_type": "markdown",
   "metadata": {
    "id": "beRrZCGUAJYm"
   },
   "source": [
    "##### **Project Type**    - Regression\n",
    "##### **Contribution**    - Individual\n",
    "##### **Team Member 1 -** Md Ismail Quraishi"
   ]
  },
  {
   "cell_type": "markdown",
   "metadata": {
    "id": "FJNUwmbgGyua"
   },
   "source": [
    "# **Project Summary -**"
   ]
  },
  {
   "cell_type": "markdown",
   "metadata": {
    "id": "F6v_1wHtG2nS"
   },
   "source": [
    "Rossmann operates over 3000 drug stores in 7 Europeon countries. Currently rossmann store manager are tasked with predicting their daily sales for upto six weeks in advance. Store sales are influenced by many factors including promotions, competiton, school and state holiday, seasonality and locality. With thousands of managers predicting sales based on their unique circumstances, the accuracy of result can be quite varied. I am provided with historical sales data for 1115 Rossmann stores. My task is to forcast sales columns for the test set. I am provided  with two datasets Rossmann_df and store_df first of all I will read the dataset and try to understand the datasets, then I will check some basic informations like missing values, what all the columns are, descriptions of the dataset. then I will perform data wrangling after that I will visualize some important charts and try to understand them. Then I will handle missing values and outliers. After that I will merge the dataset do feature engineering and also data encoding. Next splitting  the dataset for train and test purpose, after that I will do dimention reduction, data transformation and normalization/standardization. Then I will apply for machine learning algorithm, predicting the data and also evaluate the model. At last I will have to make some conclusion about the project."
   ]
  },
  {
   "cell_type": "markdown",
   "metadata": {
    "id": "w6K7xa23Elo4"
   },
   "source": [
    "# **GitHub Link -**"
   ]
  },
  {
   "cell_type": "markdown",
   "metadata": {
    "id": "h1o69JH3Eqqn"
   },
   "source": [
    "https://github.com/mdismailquraishicse/capstone_project_3_regression"
   ]
  },
  {
   "cell_type": "markdown",
   "metadata": {
    "id": "yQaldy8SH6Dl",
    "jp-MarkdownHeadingCollapsed": true
   },
   "source": [
    "# **Problem Statement**\n"
   ]
  },
  {
   "cell_type": "markdown",
   "metadata": {
    "id": "DpeJGUA3kjGy"
   },
   "source": [
    "Sales prediction is extremely important for any business as it forcast the sales for the clients who want to stock some product for  future. I have two dataset for this project 'Rossmann Stores Data.csv' and 'store.csv'. 'Rossmann Stores Data.csv' has 1017209 rows and 9 columns and 'store.csv' has 1115 rows and 10 columns. I have to do data analysis first for both the datasets and then merge the data after merging the data my task is to apply machine learning regression algorithm to predict the salling price."
   ]
  },
  {
   "cell_type": "markdown",
   "metadata": {
    "id": "xE2YAd6Ho-3h"
   },
   "source": [
    "**Make a model which is able to predict future sales**"
   ]
  },
  {
   "cell_type": "markdown",
   "metadata": {
    "id": "mDgbUHAGgjLW"
   },
   "source": [
    "# **General Guidelines** : -  "
   ]
  },
  {
   "cell_type": "markdown",
   "metadata": {
    "id": "ZrxVaUj-hHfC"
   },
   "source": [
    "1.   Well-structured, formatted, and commented code is required. \n",
    "2.   Exception Handling, Production Grade Code & Deployment Ready Code will be a plus. Those students will be awarded some additional credits. \n",
    "     \n",
    "     The additional credits will have advantages over other students during Star Student selection.\n",
    "       \n",
    "             [ Note: - Deployment Ready Code is defined as, the whole .ipynb notebook should be executable in one go\n",
    "                       without a single error logged. ]\n",
    "\n",
    "3.   Each and every logic should have proper comments.\n",
    "4. You may add as many number of charts you want. Make Sure for each and every chart the following format should be answered.\n",
    "        \n",
    "\n",
    "```\n",
    "# Chart visualization code\n",
    "```\n",
    "            \n",
    "\n",
    "*   Why did you pick the specific chart?\n",
    "*   What is/are the insight(s) found from the chart?\n",
    "* Will the gained insights help creating a positive business impact? \n",
    "Are there any insights that lead to negative growth? Justify with specific reason.\n",
    "\n",
    "5. You have to create at least 15 logical & meaningful charts having important insights.\n",
    "\n",
    "\n",
    "[ Hints : - Do the Vizualization in  a structured way while following \"UBM\" Rule. \n",
    "\n",
    "U - Univariate Analysis,\n",
    "\n",
    "B - Bivariate Analysis (Numerical - Categorical, Numerical - Numerical, Categorical - Categorical)\n",
    "\n",
    "M - Multivariate Analysis\n",
    " ]\n",
    "\n",
    "\n",
    "\n",
    "\n",
    "\n",
    "6. You may add more ml algorithms for model creation. Make sure for each and every algorithm, the following format should be answered.\n",
    "\n",
    "\n",
    "*   Explain the ML Model used and it's performance using Evaluation metric Score Chart.\n",
    "\n",
    "\n",
    "*   Cross- Validation & Hyperparameter Tuning\n",
    "\n",
    "*   Have you seen any improvement? Note down the improvement with updates Evaluation metric Score Chart.\n",
    "\n",
    "*   Explain each evaluation metric's indication towards business and the business impact pf the ML model used.\n",
    "\n",
    "\n",
    "\n",
    "\n",
    "\n",
    "\n",
    "\n",
    "\n",
    "\n",
    "\n",
    "\n",
    "\n",
    "\n",
    "\n",
    "\n",
    "\n",
    "\n",
    "\n"
   ]
  },
  {
   "cell_type": "markdown",
   "metadata": {
    "id": "O_i_v8NEhb9l"
   },
   "source": [
    "# ***Let's Begin !***"
   ]
  },
  {
   "cell_type": "markdown",
   "metadata": {
    "id": "HhfV-JJviCcP",
    "jp-MarkdownHeadingCollapsed": true
   },
   "source": [
    "## ***1. Know Your Data***"
   ]
  },
  {
   "cell_type": "markdown",
   "metadata": {
    "id": "Y3lxredqlCYt"
   },
   "source": [
    "### Import Libraries"
   ]
  },
  {
   "cell_type": "code",
   "execution_count": 1,
   "metadata": {
    "id": "M8Vqi-pPk-HR"
   },
   "outputs": [
    {
     "name": "stderr",
     "output_type": "stream",
     "text": [
      "C:\\Users\\Admin\\AppData\\Local\\Temp\\ipykernel_1712\\4014220726.py:10: DeprecationWarning: `np.math` is a deprecated alias for the standard library `math` module (Deprecated Numpy 1.25). Replace usages of `np.math` with `math`\n",
      "  from numpy import math\n"
     ]
    }
   ],
   "source": [
    "# Import Libraries\n",
    "import numpy as np\n",
    "import pandas as pd\n",
    "import matplotlib.pyplot as plt\n",
    "import seaborn as sns\n",
    "from datetime import datetime\n",
    "from statsmodels.stats.outliers_influence import variance_inflation_factor\n",
    "from sklearn.preprocessing import  StandardScaler,MinMaxScaler\n",
    "from sklearn.model_selection import train_test_split\n",
    "from numpy import math\n",
    "from sklearn.linear_model import LinearRegression\n",
    "from sklearn.metrics import r2_score, mean_squared_error\n",
    "from sklearn.model_selection import GridSearchCV\n",
    "from sklearn.linear_model import Ridge\n",
    "from sklearn.tree import DecisionTreeRegressor\n",
    "from xgboost import XGBRegressor\n",
    "from sklearn.ensemble import IsolationForest\n",
    "from sklearn.decomposition import PCA\n",
    "from scipy.stats import ttest_ind,ttest_1samp,t,norm\n",
    "import eda\n",
    "import warnings\n",
    "warnings.filterwarnings('ignore')"
   ]
  },
  {
   "cell_type": "markdown",
   "metadata": {
    "id": "3RnN4peoiCZX"
   },
   "source": [
    "### Dataset Loading"
   ]
  },
  {
   "cell_type": "code",
   "execution_count": 2,
   "metadata": {
    "colab": {
     "base_uri": "https://localhost:8080/"
    },
    "id": "4CkvbW_SlZ_R",
    "outputId": "c41ce862-a690-40bc-a8e9-a0fa1deeeadd"
   },
   "outputs": [],
   "source": [
    "# Load Dataset\n",
    "path = 'data/Rossmann Stores Data.csv'\n",
    "df = pd.read_csv(path)"
   ]
  },
  {
   "cell_type": "markdown",
   "metadata": {
    "id": "x71ZqKXriCWQ"
   },
   "source": [
    "### Dataset First View"
   ]
  },
  {
   "cell_type": "code",
   "execution_count": 3,
   "metadata": {
    "colab": {
     "base_uri": "https://localhost:8080/",
     "height": 0
    },
    "id": "LWNFOSvLl09H",
    "outputId": "7183fd82-805b-4d18-9f32-e1f61b08371c"
   },
   "outputs": [
    {
     "data": {
      "text/html": [
       "<div>\n",
       "<style scoped>\n",
       "    .dataframe tbody tr th:only-of-type {\n",
       "        vertical-align: middle;\n",
       "    }\n",
       "\n",
       "    .dataframe tbody tr th {\n",
       "        vertical-align: top;\n",
       "    }\n",
       "\n",
       "    .dataframe thead th {\n",
       "        text-align: right;\n",
       "    }\n",
       "</style>\n",
       "<table border=\"1\" class=\"dataframe\">\n",
       "  <thead>\n",
       "    <tr style=\"text-align: right;\">\n",
       "      <th></th>\n",
       "      <th>Store</th>\n",
       "      <th>DayOfWeek</th>\n",
       "      <th>Date</th>\n",
       "      <th>Sales</th>\n",
       "      <th>Customers</th>\n",
       "      <th>Open</th>\n",
       "      <th>Promo</th>\n",
       "      <th>StateHoliday</th>\n",
       "      <th>SchoolHoliday</th>\n",
       "    </tr>\n",
       "  </thead>\n",
       "  <tbody>\n",
       "    <tr>\n",
       "      <th>0</th>\n",
       "      <td>1</td>\n",
       "      <td>5</td>\n",
       "      <td>2015-07-31</td>\n",
       "      <td>5263</td>\n",
       "      <td>555</td>\n",
       "      <td>1</td>\n",
       "      <td>1</td>\n",
       "      <td>0</td>\n",
       "      <td>1</td>\n",
       "    </tr>\n",
       "    <tr>\n",
       "      <th>1</th>\n",
       "      <td>2</td>\n",
       "      <td>5</td>\n",
       "      <td>2015-07-31</td>\n",
       "      <td>6064</td>\n",
       "      <td>625</td>\n",
       "      <td>1</td>\n",
       "      <td>1</td>\n",
       "      <td>0</td>\n",
       "      <td>1</td>\n",
       "    </tr>\n",
       "    <tr>\n",
       "      <th>2</th>\n",
       "      <td>3</td>\n",
       "      <td>5</td>\n",
       "      <td>2015-07-31</td>\n",
       "      <td>8314</td>\n",
       "      <td>821</td>\n",
       "      <td>1</td>\n",
       "      <td>1</td>\n",
       "      <td>0</td>\n",
       "      <td>1</td>\n",
       "    </tr>\n",
       "    <tr>\n",
       "      <th>3</th>\n",
       "      <td>4</td>\n",
       "      <td>5</td>\n",
       "      <td>2015-07-31</td>\n",
       "      <td>13995</td>\n",
       "      <td>1498</td>\n",
       "      <td>1</td>\n",
       "      <td>1</td>\n",
       "      <td>0</td>\n",
       "      <td>1</td>\n",
       "    </tr>\n",
       "    <tr>\n",
       "      <th>4</th>\n",
       "      <td>5</td>\n",
       "      <td>5</td>\n",
       "      <td>2015-07-31</td>\n",
       "      <td>4822</td>\n",
       "      <td>559</td>\n",
       "      <td>1</td>\n",
       "      <td>1</td>\n",
       "      <td>0</td>\n",
       "      <td>1</td>\n",
       "    </tr>\n",
       "  </tbody>\n",
       "</table>\n",
       "</div>"
      ],
      "text/plain": [
       "   Store  DayOfWeek        Date  Sales  Customers  Open  Promo StateHoliday  \\\n",
       "0      1          5  2015-07-31   5263        555     1      1            0   \n",
       "1      2          5  2015-07-31   6064        625     1      1            0   \n",
       "2      3          5  2015-07-31   8314        821     1      1            0   \n",
       "3      4          5  2015-07-31  13995       1498     1      1            0   \n",
       "4      5          5  2015-07-31   4822        559     1      1            0   \n",
       "\n",
       "   SchoolHoliday  \n",
       "0              1  \n",
       "1              1  \n",
       "2              1  \n",
       "3              1  \n",
       "4              1  "
      ]
     },
     "execution_count": 3,
     "metadata": {},
     "output_type": "execute_result"
    }
   ],
   "source": [
    "# First view for rossmann_df\n",
    "df.head()"
   ]
  },
  {
   "cell_type": "markdown",
   "metadata": {
    "id": "7hBIi_osiCS2"
   },
   "source": [
    "### Dataset Rows & Columns count, Duplicate values, Missing, Unique value count"
   ]
  },
  {
   "cell_type": "code",
   "execution_count": 4,
   "metadata": {
    "colab": {
     "base_uri": "https://localhost:8080/"
    },
    "id": "Kllu7SJgmLij",
    "outputId": "a25d9ad1-9343-403c-9768-ffe01f109d4d"
   },
   "outputs": [
    {
     "name": "stdout",
     "output_type": "stream",
     "text": [
      " Rows and columns count for rossmann_df : (1017209, 9)\n",
      "\n",
      "columns :  ['Store', 'DayOfWeek', 'Date', 'Sales', 'Customers', 'Open', 'Promo', 'StateHoliday', 'SchoolHoliday']\n",
      "\n",
      "duplicates counts : 0\n",
      "\n",
      "Nan\\missing count :\n",
      "Store            0\n",
      "DayOfWeek        0\n",
      "Date             0\n",
      "Sales            0\n",
      "Customers        0\n",
      "Open             0\n",
      "Promo            0\n",
      "StateHoliday     0\n",
      "SchoolHoliday    0\n",
      "dtype: int64\n",
      "\n",
      "Unique Count :\n",
      "Store             1115\n",
      "DayOfWeek            7\n",
      "Date               942\n",
      "Sales            21734\n",
      "Customers         4086\n",
      "Open                 2\n",
      "Promo                2\n",
      "StateHoliday         5\n",
      "SchoolHoliday        2\n",
      "dtype: int64\n"
     ]
    }
   ],
   "source": [
    "# Display Shape, Columns, Duplicates, Missing, Unique\n",
    "eda.showSCDMU(df)"
   ]
  },
  {
   "cell_type": "markdown",
   "metadata": {
    "id": "JlHwYmJAmNHm"
   },
   "source": [
    "### Dataset Information"
   ]
  },
  {
   "cell_type": "code",
   "execution_count": 5,
   "metadata": {
    "colab": {
     "base_uri": "https://localhost:8080/"
    },
    "id": "e9hRXRi6meOf",
    "outputId": "59be4ba9-bd92-419b-d28c-26680892bc80"
   },
   "outputs": [
    {
     "name": "stdout",
     "output_type": "stream",
     "text": [
      "<class 'pandas.core.frame.DataFrame'>\n",
      "RangeIndex: 1017209 entries, 0 to 1017208\n",
      "Data columns (total 9 columns):\n",
      " #   Column         Non-Null Count    Dtype \n",
      "---  ------         --------------    ----- \n",
      " 0   Store          1017209 non-null  int64 \n",
      " 1   DayOfWeek      1017209 non-null  int64 \n",
      " 2   Date           1017209 non-null  object\n",
      " 3   Sales          1017209 non-null  int64 \n",
      " 4   Customers      1017209 non-null  int64 \n",
      " 5   Open           1017209 non-null  int64 \n",
      " 6   Promo          1017209 non-null  int64 \n",
      " 7   StateHoliday   1017209 non-null  object\n",
      " 8   SchoolHoliday  1017209 non-null  int64 \n",
      "dtypes: int64(7), object(2)\n",
      "memory usage: 69.8+ MB\n"
     ]
    }
   ],
   "source": [
    "# Dataset Info\n",
    "df.info()"
   ]
  },
  {
   "cell_type": "markdown",
   "metadata": {
    "id": "H0kj-8xxnORC"
   },
   "source": [
    "### What did you know about your dataset?"
   ]
  },
  {
   "cell_type": "markdown",
   "metadata": {},
   "source": [
    "1. The dataset has 1017209 rows and 9 columns.\n",
    "2. There is no duplicate row.\n",
    "3. There is no missing values in any column.\n",
    "4. There are 7 columns of where data types are int64 and 2 columns object data type."
   ]
  },
  {
   "cell_type": "markdown",
   "metadata": {
    "id": "nA9Y7ga8ng1Z",
    "jp-MarkdownHeadingCollapsed": true
   },
   "source": [
    "## ***2. Understanding Your Variables***"
   ]
  },
  {
   "cell_type": "code",
   "execution_count": 6,
   "metadata": {
    "colab": {
     "base_uri": "https://localhost:8080/",
     "height": 0
    },
    "id": "DnOaZdaE5Q5t",
    "outputId": "19448b2d-11dd-46bd-b4b6-38065ee829d3"
   },
   "outputs": [
    {
     "data": {
      "text/html": [
       "<div>\n",
       "<style scoped>\n",
       "    .dataframe tbody tr th:only-of-type {\n",
       "        vertical-align: middle;\n",
       "    }\n",
       "\n",
       "    .dataframe tbody tr th {\n",
       "        vertical-align: top;\n",
       "    }\n",
       "\n",
       "    .dataframe thead th {\n",
       "        text-align: right;\n",
       "    }\n",
       "</style>\n",
       "<table border=\"1\" class=\"dataframe\">\n",
       "  <thead>\n",
       "    <tr style=\"text-align: right;\">\n",
       "      <th></th>\n",
       "      <th>Store</th>\n",
       "      <th>DayOfWeek</th>\n",
       "      <th>Sales</th>\n",
       "      <th>Customers</th>\n",
       "      <th>Open</th>\n",
       "      <th>Promo</th>\n",
       "      <th>SchoolHoliday</th>\n",
       "    </tr>\n",
       "  </thead>\n",
       "  <tbody>\n",
       "    <tr>\n",
       "      <th>count</th>\n",
       "      <td>1017209.00</td>\n",
       "      <td>1017209.00</td>\n",
       "      <td>1017209.00</td>\n",
       "      <td>1017209.00</td>\n",
       "      <td>1017209.00</td>\n",
       "      <td>1017209.00</td>\n",
       "      <td>1017209.00</td>\n",
       "    </tr>\n",
       "    <tr>\n",
       "      <th>mean</th>\n",
       "      <td>558.43</td>\n",
       "      <td>4.00</td>\n",
       "      <td>5773.82</td>\n",
       "      <td>633.15</td>\n",
       "      <td>0.83</td>\n",
       "      <td>0.38</td>\n",
       "      <td>0.18</td>\n",
       "    </tr>\n",
       "    <tr>\n",
       "      <th>std</th>\n",
       "      <td>321.91</td>\n",
       "      <td>2.00</td>\n",
       "      <td>3849.93</td>\n",
       "      <td>464.41</td>\n",
       "      <td>0.38</td>\n",
       "      <td>0.49</td>\n",
       "      <td>0.38</td>\n",
       "    </tr>\n",
       "    <tr>\n",
       "      <th>min</th>\n",
       "      <td>1.00</td>\n",
       "      <td>1.00</td>\n",
       "      <td>0.00</td>\n",
       "      <td>0.00</td>\n",
       "      <td>0.00</td>\n",
       "      <td>0.00</td>\n",
       "      <td>0.00</td>\n",
       "    </tr>\n",
       "    <tr>\n",
       "      <th>25%</th>\n",
       "      <td>280.00</td>\n",
       "      <td>2.00</td>\n",
       "      <td>3727.00</td>\n",
       "      <td>405.00</td>\n",
       "      <td>1.00</td>\n",
       "      <td>0.00</td>\n",
       "      <td>0.00</td>\n",
       "    </tr>\n",
       "    <tr>\n",
       "      <th>50%</th>\n",
       "      <td>558.00</td>\n",
       "      <td>4.00</td>\n",
       "      <td>5744.00</td>\n",
       "      <td>609.00</td>\n",
       "      <td>1.00</td>\n",
       "      <td>0.00</td>\n",
       "      <td>0.00</td>\n",
       "    </tr>\n",
       "    <tr>\n",
       "      <th>75%</th>\n",
       "      <td>838.00</td>\n",
       "      <td>6.00</td>\n",
       "      <td>7856.00</td>\n",
       "      <td>837.00</td>\n",
       "      <td>1.00</td>\n",
       "      <td>1.00</td>\n",
       "      <td>0.00</td>\n",
       "    </tr>\n",
       "    <tr>\n",
       "      <th>max</th>\n",
       "      <td>1115.00</td>\n",
       "      <td>7.00</td>\n",
       "      <td>41551.00</td>\n",
       "      <td>7388.00</td>\n",
       "      <td>1.00</td>\n",
       "      <td>1.00</td>\n",
       "      <td>1.00</td>\n",
       "    </tr>\n",
       "  </tbody>\n",
       "</table>\n",
       "</div>"
      ],
      "text/plain": [
       "           Store  DayOfWeek      Sales  Customers       Open      Promo  \\\n",
       "count 1017209.00 1017209.00 1017209.00 1017209.00 1017209.00 1017209.00   \n",
       "mean      558.43       4.00    5773.82     633.15       0.83       0.38   \n",
       "std       321.91       2.00    3849.93     464.41       0.38       0.49   \n",
       "min         1.00       1.00       0.00       0.00       0.00       0.00   \n",
       "25%       280.00       2.00    3727.00     405.00       1.00       0.00   \n",
       "50%       558.00       4.00    5744.00     609.00       1.00       0.00   \n",
       "75%       838.00       6.00    7856.00     837.00       1.00       1.00   \n",
       "max      1115.00       7.00   41551.00    7388.00       1.00       1.00   \n",
       "\n",
       "       SchoolHoliday  \n",
       "count     1017209.00  \n",
       "mean            0.18  \n",
       "std             0.38  \n",
       "min             0.00  \n",
       "25%             0.00  \n",
       "50%             0.00  \n",
       "75%             0.00  \n",
       "max             1.00  "
      ]
     },
     "execution_count": 6,
     "metadata": {},
     "output_type": "execute_result"
    }
   ],
   "source": [
    "# Dataset Describe\n",
    "pd.set_option('display.float_format', lambda x: '%.2f' % x)\n",
    "df.describe()"
   ]
  },
  {
   "cell_type": "markdown",
   "metadata": {
    "id": "PBTbrJXOngz2"
   },
   "source": [
    "### Variables Description "
   ]
  },
  {
   "cell_type": "markdown",
   "metadata": {},
   "source": [
    "1. Store : id of the store has mean\n",
    "2. DayOfWeek : Day in numbers like 1 for monday, 2 for tuesday etc. Mean and median for this column is same.\n",
    "3. Sales : Number of sales for particular data. Mean is 5773 and median is 5744.\n",
    "4. Customers : Number of customers for perticular date. Mean is 633 and median is 609.\n",
    "5. Open : Whether the shop was open or not  for the perticular date. It is a binary column.\n",
    "6. Promo  : A binary column.\n",
    "7. Holiday : A binary column indicates holiday for a perticular date."
   ]
  },
  {
   "cell_type": "markdown",
   "metadata": {
    "id": "dauF4eBmngu3"
   },
   "source": [
    "## 3. ***Data Wrangling***"
   ]
  },
  {
   "cell_type": "markdown",
   "metadata": {
    "id": "bKJF3rekwFvQ",
    "jp-MarkdownHeadingCollapsed": true
   },
   "source": [
    "### Data Wrangling Code"
   ]
  },
  {
   "cell_type": "code",
   "execution_count": 7,
   "metadata": {
    "colab": {
     "base_uri": "https://localhost:8080/",
     "height": 0
    },
    "id": "ji3QAXMEP_1Z",
    "outputId": "378bd385-e73c-46eb-e235-6ab0486b3f9d"
   },
   "outputs": [
    {
     "data": {
      "text/html": [
       "<div>\n",
       "<style scoped>\n",
       "    .dataframe tbody tr th:only-of-type {\n",
       "        vertical-align: middle;\n",
       "    }\n",
       "\n",
       "    .dataframe tbody tr th {\n",
       "        vertical-align: top;\n",
       "    }\n",
       "\n",
       "    .dataframe thead th {\n",
       "        text-align: right;\n",
       "    }\n",
       "</style>\n",
       "<table border=\"1\" class=\"dataframe\">\n",
       "  <thead>\n",
       "    <tr style=\"text-align: right;\">\n",
       "      <th></th>\n",
       "      <th>Store</th>\n",
       "      <th>DayOfWeek</th>\n",
       "      <th>Date</th>\n",
       "      <th>Sales</th>\n",
       "      <th>Customers</th>\n",
       "      <th>Open</th>\n",
       "      <th>Promo</th>\n",
       "      <th>StateHoliday</th>\n",
       "      <th>SchoolHoliday</th>\n",
       "    </tr>\n",
       "  </thead>\n",
       "  <tbody>\n",
       "    <tr>\n",
       "      <th>291</th>\n",
       "      <td>292</td>\n",
       "      <td>5</td>\n",
       "      <td>2015-07-31</td>\n",
       "      <td>0</td>\n",
       "      <td>0</td>\n",
       "      <td>0</td>\n",
       "      <td>1</td>\n",
       "      <td>0</td>\n",
       "      <td>1</td>\n",
       "    </tr>\n",
       "    <tr>\n",
       "      <th>875</th>\n",
       "      <td>876</td>\n",
       "      <td>5</td>\n",
       "      <td>2015-07-31</td>\n",
       "      <td>0</td>\n",
       "      <td>0</td>\n",
       "      <td>0</td>\n",
       "      <td>1</td>\n",
       "      <td>0</td>\n",
       "      <td>1</td>\n",
       "    </tr>\n",
       "    <tr>\n",
       "      <th>1406</th>\n",
       "      <td>292</td>\n",
       "      <td>4</td>\n",
       "      <td>2015-07-30</td>\n",
       "      <td>0</td>\n",
       "      <td>0</td>\n",
       "      <td>0</td>\n",
       "      <td>1</td>\n",
       "      <td>0</td>\n",
       "      <td>1</td>\n",
       "    </tr>\n",
       "    <tr>\n",
       "      <th>1990</th>\n",
       "      <td>876</td>\n",
       "      <td>4</td>\n",
       "      <td>2015-07-30</td>\n",
       "      <td>0</td>\n",
       "      <td>0</td>\n",
       "      <td>0</td>\n",
       "      <td>1</td>\n",
       "      <td>0</td>\n",
       "      <td>1</td>\n",
       "    </tr>\n",
       "    <tr>\n",
       "      <th>2521</th>\n",
       "      <td>292</td>\n",
       "      <td>3</td>\n",
       "      <td>2015-07-29</td>\n",
       "      <td>0</td>\n",
       "      <td>0</td>\n",
       "      <td>0</td>\n",
       "      <td>1</td>\n",
       "      <td>0</td>\n",
       "      <td>1</td>\n",
       "    </tr>\n",
       "  </tbody>\n",
       "</table>\n",
       "</div>"
      ],
      "text/plain": [
       "      Store  DayOfWeek        Date  Sales  Customers  Open  Promo  \\\n",
       "291     292          5  2015-07-31      0          0     0      1   \n",
       "875     876          5  2015-07-31      0          0     0      1   \n",
       "1406    292          4  2015-07-30      0          0     0      1   \n",
       "1990    876          4  2015-07-30      0          0     0      1   \n",
       "2521    292          3  2015-07-29      0          0     0      1   \n",
       "\n",
       "     StateHoliday  SchoolHoliday  \n",
       "291             0              1  \n",
       "875             0              1  \n",
       "1406            0              1  \n",
       "1990            0              1  \n",
       "2521            0              1  "
      ]
     },
     "metadata": {},
     "output_type": "display_data"
    },
    {
     "name": "stdout",
     "output_type": "stream",
     "text": [
      "shape after dropping values for Open = 0 :  (844392, 8)\n"
     ]
    }
   ],
   "source": [
    "# Assigning copy of final_df to a variable\n",
    "display(df[df['Open']==0].head()) # when shops are closed then customers and sales are 0. Therefore I decided to drop them.\n",
    "df = df[df['Open'] == 1] # drop the rows where Open = 0.\n",
    "df.drop('Open', axis=1, inplace = True) # drop Open bacause now there is only 1 value.\n",
    "print('shape after dropping values for Open = 0 : ',df.shape)"
   ]
  },
  {
   "cell_type": "code",
   "execution_count": 8,
   "metadata": {
    "id": "IhzUTenuOrq5"
   },
   "outputs": [],
   "source": [
    "# Function to get top ten sum\n",
    "df['Date'] = df[\"Date\"].apply(lambda x:datetime.strptime(x, '%Y-%m-%d').date()) # Convert Date column from string to datetime format\n",
    "df['year'] = df['Date'].apply(lambda x: x.year) # Fetching year from Date\n",
    "top10storesWithHighestSales = df.groupby(['Store'])['Sales'].sum().sort_values(ascending=False).head(10)\n",
    "top10storesWithHighestCustomers = df.groupby(['Store'])['Customers'].sum().sort_values(ascending=False).head(10)\n",
    "meanSalesForStateHoliday = df.groupby(['StateHoliday'])['Sales'].sum().sort_values(ascending=False)\n",
    "meanSalesForSchoolHoliday = df.groupby(['SchoolHoliday'])['Sales'].sum().sort_values(ascending=False)\n",
    "meanSalesForDayOfWeek = df.groupby(['DayOfWeek'])['Sales'].sum().sort_values(ascending=False)\n",
    "meanSalesForPromo = df.groupby(['Promo'])['Sales'].sum().sort_values(ascending=False)"
   ]
  },
  {
   "cell_type": "code",
   "execution_count": 9,
   "metadata": {},
   "outputs": [
    {
     "data": {
      "text/html": [
       "<div>\n",
       "<style scoped>\n",
       "    .dataframe tbody tr th:only-of-type {\n",
       "        vertical-align: middle;\n",
       "    }\n",
       "\n",
       "    .dataframe tbody tr th {\n",
       "        vertical-align: top;\n",
       "    }\n",
       "\n",
       "    .dataframe thead th {\n",
       "        text-align: right;\n",
       "    }\n",
       "</style>\n",
       "<table border=\"1\" class=\"dataframe\">\n",
       "  <thead>\n",
       "    <tr style=\"text-align: right;\">\n",
       "      <th></th>\n",
       "      <th>Store</th>\n",
       "      <th>sum_sales</th>\n",
       "    </tr>\n",
       "  </thead>\n",
       "  <tbody>\n",
       "    <tr>\n",
       "      <th>0</th>\n",
       "      <td>262</td>\n",
       "      <td>19516842</td>\n",
       "    </tr>\n",
       "    <tr>\n",
       "      <th>1</th>\n",
       "      <td>817</td>\n",
       "      <td>17057867</td>\n",
       "    </tr>\n",
       "    <tr>\n",
       "      <th>2</th>\n",
       "      <td>562</td>\n",
       "      <td>16927322</td>\n",
       "    </tr>\n",
       "    <tr>\n",
       "      <th>3</th>\n",
       "      <td>1114</td>\n",
       "      <td>16202585</td>\n",
       "    </tr>\n",
       "    <tr>\n",
       "      <th>4</th>\n",
       "      <td>251</td>\n",
       "      <td>14896870</td>\n",
       "    </tr>\n",
       "    <tr>\n",
       "      <th>5</th>\n",
       "      <td>513</td>\n",
       "      <td>14252406</td>\n",
       "    </tr>\n",
       "    <tr>\n",
       "      <th>6</th>\n",
       "      <td>788</td>\n",
       "      <td>14082141</td>\n",
       "    </tr>\n",
       "    <tr>\n",
       "      <th>7</th>\n",
       "      <td>733</td>\n",
       "      <td>14067158</td>\n",
       "    </tr>\n",
       "    <tr>\n",
       "      <th>8</th>\n",
       "      <td>383</td>\n",
       "      <td>13489879</td>\n",
       "    </tr>\n",
       "    <tr>\n",
       "      <th>9</th>\n",
       "      <td>756</td>\n",
       "      <td>12911782</td>\n",
       "    </tr>\n",
       "  </tbody>\n",
       "</table>\n",
       "</div>"
      ],
      "text/plain": [
       "   Store  sum_sales\n",
       "0    262   19516842\n",
       "1    817   17057867\n",
       "2    562   16927322\n",
       "3   1114   16202585\n",
       "4    251   14896870\n",
       "5    513   14252406\n",
       "6    788   14082141\n",
       "7    733   14067158\n",
       "8    383   13489879\n",
       "9    756   12911782"
      ]
     },
     "execution_count": 9,
     "metadata": {},
     "output_type": "execute_result"
    }
   ],
   "source": [
    "top10storesWithHighestSales.reset_index(name='sum_sales')"
   ]
  },
  {
   "cell_type": "code",
   "execution_count": 10,
   "metadata": {},
   "outputs": [
    {
     "data": {
      "text/html": [
       "<div>\n",
       "<style scoped>\n",
       "    .dataframe tbody tr th:only-of-type {\n",
       "        vertical-align: middle;\n",
       "    }\n",
       "\n",
       "    .dataframe tbody tr th {\n",
       "        vertical-align: top;\n",
       "    }\n",
       "\n",
       "    .dataframe thead th {\n",
       "        text-align: right;\n",
       "    }\n",
       "</style>\n",
       "<table border=\"1\" class=\"dataframe\">\n",
       "  <thead>\n",
       "    <tr style=\"text-align: right;\">\n",
       "      <th></th>\n",
       "      <th>Store</th>\n",
       "      <th>sum_customers</th>\n",
       "    </tr>\n",
       "  </thead>\n",
       "  <tbody>\n",
       "    <tr>\n",
       "      <th>0</th>\n",
       "      <td>733</td>\n",
       "      <td>3206058</td>\n",
       "    </tr>\n",
       "    <tr>\n",
       "      <th>1</th>\n",
       "      <td>262</td>\n",
       "      <td>3204694</td>\n",
       "    </tr>\n",
       "    <tr>\n",
       "      <th>2</th>\n",
       "      <td>562</td>\n",
       "      <td>2924960</td>\n",
       "    </tr>\n",
       "    <tr>\n",
       "      <th>3</th>\n",
       "      <td>769</td>\n",
       "      <td>2902351</td>\n",
       "    </tr>\n",
       "    <tr>\n",
       "      <th>4</th>\n",
       "      <td>1114</td>\n",
       "      <td>2509542</td>\n",
       "    </tr>\n",
       "    <tr>\n",
       "      <th>5</th>\n",
       "      <td>817</td>\n",
       "      <td>2454370</td>\n",
       "    </tr>\n",
       "    <tr>\n",
       "      <th>6</th>\n",
       "      <td>1097</td>\n",
       "      <td>2280508</td>\n",
       "    </tr>\n",
       "    <tr>\n",
       "      <th>7</th>\n",
       "      <td>335</td>\n",
       "      <td>2246936</td>\n",
       "    </tr>\n",
       "    <tr>\n",
       "      <th>8</th>\n",
       "      <td>259</td>\n",
       "      <td>2210980</td>\n",
       "    </tr>\n",
       "    <tr>\n",
       "      <th>9</th>\n",
       "      <td>251</td>\n",
       "      <td>1908934</td>\n",
       "    </tr>\n",
       "  </tbody>\n",
       "</table>\n",
       "</div>"
      ],
      "text/plain": [
       "   Store  sum_customers\n",
       "0    733        3206058\n",
       "1    262        3204694\n",
       "2    562        2924960\n",
       "3    769        2902351\n",
       "4   1114        2509542\n",
       "5    817        2454370\n",
       "6   1097        2280508\n",
       "7    335        2246936\n",
       "8    259        2210980\n",
       "9    251        1908934"
      ]
     },
     "execution_count": 10,
     "metadata": {},
     "output_type": "execute_result"
    }
   ],
   "source": [
    "top10storesWithHighestCustomers.reset_index(name='sum_customers')"
   ]
  },
  {
   "cell_type": "code",
   "execution_count": 11,
   "metadata": {},
   "outputs": [
    {
     "data": {
      "text/html": [
       "<div>\n",
       "<style scoped>\n",
       "    .dataframe tbody tr th:only-of-type {\n",
       "        vertical-align: middle;\n",
       "    }\n",
       "\n",
       "    .dataframe tbody tr th {\n",
       "        vertical-align: top;\n",
       "    }\n",
       "\n",
       "    .dataframe thead th {\n",
       "        text-align: right;\n",
       "    }\n",
       "</style>\n",
       "<table border=\"1\" class=\"dataframe\">\n",
       "  <thead>\n",
       "    <tr style=\"text-align: right;\">\n",
       "      <th></th>\n",
       "      <th>StateHoliday</th>\n",
       "      <th>MeanSale</th>\n",
       "    </tr>\n",
       "  </thead>\n",
       "  <tbody>\n",
       "    <tr>\n",
       "      <th>0</th>\n",
       "      <td>0</td>\n",
       "      <td>5113659442</td>\n",
       "    </tr>\n",
       "    <tr>\n",
       "      <th>1</th>\n",
       "      <td>0</td>\n",
       "      <td>751505326</td>\n",
       "    </tr>\n",
       "    <tr>\n",
       "      <th>2</th>\n",
       "      <td>a</td>\n",
       "      <td>5890305</td>\n",
       "    </tr>\n",
       "    <tr>\n",
       "      <th>3</th>\n",
       "      <td>b</td>\n",
       "      <td>1433744</td>\n",
       "    </tr>\n",
       "    <tr>\n",
       "      <th>4</th>\n",
       "      <td>c</td>\n",
       "      <td>691806</td>\n",
       "    </tr>\n",
       "  </tbody>\n",
       "</table>\n",
       "</div>"
      ],
      "text/plain": [
       "  StateHoliday    MeanSale\n",
       "0            0  5113659442\n",
       "1            0   751505326\n",
       "2            a     5890305\n",
       "3            b     1433744\n",
       "4            c      691806"
      ]
     },
     "execution_count": 11,
     "metadata": {},
     "output_type": "execute_result"
    }
   ],
   "source": [
    "meanSalesForStateHoliday.reset_index(name='MeanSale')"
   ]
  },
  {
   "cell_type": "code",
   "execution_count": 12,
   "metadata": {},
   "outputs": [
    {
     "data": {
      "text/html": [
       "<div>\n",
       "<style scoped>\n",
       "    .dataframe tbody tr th:only-of-type {\n",
       "        vertical-align: middle;\n",
       "    }\n",
       "\n",
       "    .dataframe tbody tr th {\n",
       "        vertical-align: top;\n",
       "    }\n",
       "\n",
       "    .dataframe thead th {\n",
       "        text-align: right;\n",
       "    }\n",
       "</style>\n",
       "<table border=\"1\" class=\"dataframe\">\n",
       "  <thead>\n",
       "    <tr style=\"text-align: right;\">\n",
       "      <th></th>\n",
       "      <th>SchoolHoliday</th>\n",
       "      <th>MeanSale</th>\n",
       "    </tr>\n",
       "  </thead>\n",
       "  <tbody>\n",
       "    <tr>\n",
       "      <th>0</th>\n",
       "      <td>0</td>\n",
       "      <td>4696260531</td>\n",
       "    </tr>\n",
       "    <tr>\n",
       "      <th>1</th>\n",
       "      <td>1</td>\n",
       "      <td>1176920092</td>\n",
       "    </tr>\n",
       "  </tbody>\n",
       "</table>\n",
       "</div>"
      ],
      "text/plain": [
       "   SchoolHoliday    MeanSale\n",
       "0              0  4696260531\n",
       "1              1  1176920092"
      ]
     },
     "execution_count": 12,
     "metadata": {},
     "output_type": "execute_result"
    }
   ],
   "source": [
    "meanSalesForSchoolHoliday.reset_index(name='MeanSale')"
   ]
  },
  {
   "cell_type": "code",
   "execution_count": 13,
   "metadata": {},
   "outputs": [
    {
     "data": {
      "text/html": [
       "<div>\n",
       "<style scoped>\n",
       "    .dataframe tbody tr th:only-of-type {\n",
       "        vertical-align: middle;\n",
       "    }\n",
       "\n",
       "    .dataframe tbody tr th {\n",
       "        vertical-align: top;\n",
       "    }\n",
       "\n",
       "    .dataframe thead th {\n",
       "        text-align: right;\n",
       "    }\n",
       "</style>\n",
       "<table border=\"1\" class=\"dataframe\">\n",
       "  <thead>\n",
       "    <tr style=\"text-align: right;\">\n",
       "      <th></th>\n",
       "      <th>Promo</th>\n",
       "      <th>MeanSale</th>\n",
       "    </tr>\n",
       "  </thead>\n",
       "  <tbody>\n",
       "    <tr>\n",
       "      <th>0</th>\n",
       "      <td>1</td>\n",
       "      <td>3101206286</td>\n",
       "    </tr>\n",
       "    <tr>\n",
       "      <th>1</th>\n",
       "      <td>0</td>\n",
       "      <td>2771974337</td>\n",
       "    </tr>\n",
       "  </tbody>\n",
       "</table>\n",
       "</div>"
      ],
      "text/plain": [
       "   Promo    MeanSale\n",
       "0      1  3101206286\n",
       "1      0  2771974337"
      ]
     },
     "execution_count": 13,
     "metadata": {},
     "output_type": "execute_result"
    }
   ],
   "source": [
    "meanSalesForPromo.reset_index(name='MeanSale')"
   ]
  },
  {
   "cell_type": "code",
   "execution_count": 14,
   "metadata": {},
   "outputs": [
    {
     "data": {
      "text/html": [
       "<div>\n",
       "<style scoped>\n",
       "    .dataframe tbody tr th:only-of-type {\n",
       "        vertical-align: middle;\n",
       "    }\n",
       "\n",
       "    .dataframe tbody tr th {\n",
       "        vertical-align: top;\n",
       "    }\n",
       "\n",
       "    .dataframe thead th {\n",
       "        text-align: right;\n",
       "    }\n",
       "</style>\n",
       "<table border=\"1\" class=\"dataframe\">\n",
       "  <thead>\n",
       "    <tr style=\"text-align: right;\">\n",
       "      <th></th>\n",
       "      <th>DayOfWeek</th>\n",
       "      <th>MeanSale</th>\n",
       "    </tr>\n",
       "  </thead>\n",
       "  <tbody>\n",
       "    <tr>\n",
       "      <th>0</th>\n",
       "      <td>1</td>\n",
       "      <td>1130203012</td>\n",
       "    </tr>\n",
       "    <tr>\n",
       "      <th>1</th>\n",
       "      <td>2</td>\n",
       "      <td>1020411930</td>\n",
       "    </tr>\n",
       "    <tr>\n",
       "      <th>2</th>\n",
       "      <td>5</td>\n",
       "      <td>980555941</td>\n",
       "    </tr>\n",
       "    <tr>\n",
       "      <th>3</th>\n",
       "      <td>3</td>\n",
       "      <td>954962863</td>\n",
       "    </tr>\n",
       "    <tr>\n",
       "      <th>4</th>\n",
       "      <td>4</td>\n",
       "      <td>911177709</td>\n",
       "    </tr>\n",
       "    <tr>\n",
       "      <th>5</th>\n",
       "      <td>6</td>\n",
       "      <td>846317735</td>\n",
       "    </tr>\n",
       "    <tr>\n",
       "      <th>6</th>\n",
       "      <td>7</td>\n",
       "      <td>29551433</td>\n",
       "    </tr>\n",
       "  </tbody>\n",
       "</table>\n",
       "</div>"
      ],
      "text/plain": [
       "   DayOfWeek    MeanSale\n",
       "0          1  1130203012\n",
       "1          2  1020411930\n",
       "2          5   980555941\n",
       "3          3   954962863\n",
       "4          4   911177709\n",
       "5          6   846317735\n",
       "6          7    29551433"
      ]
     },
     "execution_count": 14,
     "metadata": {},
     "output_type": "execute_result"
    }
   ],
   "source": [
    "meanSalesForDayOfWeek.reset_index(name='MeanSale')"
   ]
  },
  {
   "cell_type": "code",
   "execution_count": 15,
   "metadata": {},
   "outputs": [
    {
     "data": {
      "text/html": [
       "<div>\n",
       "<style scoped>\n",
       "    .dataframe tbody tr th:only-of-type {\n",
       "        vertical-align: middle;\n",
       "    }\n",
       "\n",
       "    .dataframe tbody tr th {\n",
       "        vertical-align: top;\n",
       "    }\n",
       "\n",
       "    .dataframe thead th {\n",
       "        text-align: right;\n",
       "    }\n",
       "</style>\n",
       "<table border=\"1\" class=\"dataframe\">\n",
       "  <thead>\n",
       "    <tr style=\"text-align: right;\">\n",
       "      <th></th>\n",
       "      <th>mean</th>\n",
       "      <th>50%</th>\n",
       "    </tr>\n",
       "  </thead>\n",
       "  <tbody>\n",
       "    <tr>\n",
       "      <th>Store</th>\n",
       "      <td>558.01</td>\n",
       "      <td>558.00</td>\n",
       "    </tr>\n",
       "    <tr>\n",
       "      <th>DayOfWeek</th>\n",
       "      <td>3.52</td>\n",
       "      <td>3.00</td>\n",
       "    </tr>\n",
       "    <tr>\n",
       "      <th>Sales</th>\n",
       "      <td>6814.39</td>\n",
       "      <td>6218.00</td>\n",
       "    </tr>\n",
       "    <tr>\n",
       "      <th>Customers</th>\n",
       "      <td>757.54</td>\n",
       "      <td>670.00</td>\n",
       "    </tr>\n",
       "    <tr>\n",
       "      <th>Promo</th>\n",
       "      <td>0.43</td>\n",
       "      <td>0.00</td>\n",
       "    </tr>\n",
       "    <tr>\n",
       "      <th>SchoolHoliday</th>\n",
       "      <td>0.20</td>\n",
       "      <td>0.00</td>\n",
       "    </tr>\n",
       "    <tr>\n",
       "      <th>year</th>\n",
       "      <td>2013.00</td>\n",
       "      <td>2013.00</td>\n",
       "    </tr>\n",
       "  </tbody>\n",
       "</table>\n",
       "</div>"
      ],
      "text/plain": [
       "                 mean     50%\n",
       "Store          558.01  558.00\n",
       "DayOfWeek        3.52    3.00\n",
       "Sales         6814.39 6218.00\n",
       "Customers      757.54  670.00\n",
       "Promo            0.43    0.00\n",
       "SchoolHoliday    0.20    0.00\n",
       "year          2013.00 2013.00"
      ]
     },
     "execution_count": 15,
     "metadata": {},
     "output_type": "execute_result"
    }
   ],
   "source": [
    "eda.getMeanMedian(df, 'year', 2013)"
   ]
  },
  {
   "cell_type": "code",
   "execution_count": 16,
   "metadata": {},
   "outputs": [
    {
     "data": {
      "text/html": [
       "<div>\n",
       "<style scoped>\n",
       "    .dataframe tbody tr th:only-of-type {\n",
       "        vertical-align: middle;\n",
       "    }\n",
       "\n",
       "    .dataframe tbody tr th {\n",
       "        vertical-align: top;\n",
       "    }\n",
       "\n",
       "    .dataframe thead th {\n",
       "        text-align: right;\n",
       "    }\n",
       "</style>\n",
       "<table border=\"1\" class=\"dataframe\">\n",
       "  <thead>\n",
       "    <tr style=\"text-align: right;\">\n",
       "      <th></th>\n",
       "      <th>mean</th>\n",
       "      <th>50%</th>\n",
       "    </tr>\n",
       "  </thead>\n",
       "  <tbody>\n",
       "    <tr>\n",
       "      <th>Store</th>\n",
       "      <td>559.11</td>\n",
       "      <td>558.00</td>\n",
       "    </tr>\n",
       "    <tr>\n",
       "      <th>DayOfWeek</th>\n",
       "      <td>3.51</td>\n",
       "      <td>3.00</td>\n",
       "    </tr>\n",
       "    <tr>\n",
       "      <th>Sales</th>\n",
       "      <td>7025.40</td>\n",
       "      <td>6427.00</td>\n",
       "    </tr>\n",
       "    <tr>\n",
       "      <th>Customers</th>\n",
       "      <td>774.73</td>\n",
       "      <td>686.00</td>\n",
       "    </tr>\n",
       "    <tr>\n",
       "      <th>Promo</th>\n",
       "      <td>0.45</td>\n",
       "      <td>0.00</td>\n",
       "    </tr>\n",
       "    <tr>\n",
       "      <th>SchoolHoliday</th>\n",
       "      <td>0.20</td>\n",
       "      <td>0.00</td>\n",
       "    </tr>\n",
       "    <tr>\n",
       "      <th>year</th>\n",
       "      <td>2014.00</td>\n",
       "      <td>2014.00</td>\n",
       "    </tr>\n",
       "  </tbody>\n",
       "</table>\n",
       "</div>"
      ],
      "text/plain": [
       "                 mean     50%\n",
       "Store          559.11  558.00\n",
       "DayOfWeek        3.51    3.00\n",
       "Sales         7025.40 6427.00\n",
       "Customers      774.73  686.00\n",
       "Promo            0.45    0.00\n",
       "SchoolHoliday    0.20    0.00\n",
       "year          2014.00 2014.00"
      ]
     },
     "execution_count": 16,
     "metadata": {},
     "output_type": "execute_result"
    }
   ],
   "source": [
    "eda.getMeanMedian(df, 'year', 2014)"
   ]
  },
  {
   "cell_type": "code",
   "execution_count": 17,
   "metadata": {},
   "outputs": [
    {
     "data": {
      "text/html": [
       "<div>\n",
       "<style scoped>\n",
       "    .dataframe tbody tr th:only-of-type {\n",
       "        vertical-align: middle;\n",
       "    }\n",
       "\n",
       "    .dataframe tbody tr th {\n",
       "        vertical-align: top;\n",
       "    }\n",
       "\n",
       "    .dataframe thead th {\n",
       "        text-align: right;\n",
       "    }\n",
       "</style>\n",
       "<table border=\"1\" class=\"dataframe\">\n",
       "  <thead>\n",
       "    <tr style=\"text-align: right;\">\n",
       "      <th></th>\n",
       "      <th>mean</th>\n",
       "      <th>50%</th>\n",
       "    </tr>\n",
       "  </thead>\n",
       "  <tbody>\n",
       "    <tr>\n",
       "      <th>Store</th>\n",
       "      <td>558.04</td>\n",
       "      <td>558.00</td>\n",
       "    </tr>\n",
       "    <tr>\n",
       "      <th>DayOfWeek</th>\n",
       "      <td>3.53</td>\n",
       "      <td>4.00</td>\n",
       "    </tr>\n",
       "    <tr>\n",
       "      <th>Sales</th>\n",
       "      <td>7088.13</td>\n",
       "      <td>6530.00</td>\n",
       "    </tr>\n",
       "    <tr>\n",
       "      <th>Customers</th>\n",
       "      <td>752.67</td>\n",
       "      <td>670.00</td>\n",
       "    </tr>\n",
       "    <tr>\n",
       "      <th>Promo</th>\n",
       "      <td>0.47</td>\n",
       "      <td>0.00</td>\n",
       "    </tr>\n",
       "    <tr>\n",
       "      <th>SchoolHoliday</th>\n",
       "      <td>0.16</td>\n",
       "      <td>0.00</td>\n",
       "    </tr>\n",
       "    <tr>\n",
       "      <th>year</th>\n",
       "      <td>2015.00</td>\n",
       "      <td>2015.00</td>\n",
       "    </tr>\n",
       "  </tbody>\n",
       "</table>\n",
       "</div>"
      ],
      "text/plain": [
       "                 mean     50%\n",
       "Store          558.04  558.00\n",
       "DayOfWeek        3.53    4.00\n",
       "Sales         7088.13 6530.00\n",
       "Customers      752.67  670.00\n",
       "Promo            0.47    0.00\n",
       "SchoolHoliday    0.16    0.00\n",
       "year          2015.00 2015.00"
      ]
     },
     "execution_count": 17,
     "metadata": {},
     "output_type": "execute_result"
    }
   ],
   "source": [
    "eda.getMeanMedian(df, 'year', 2015)"
   ]
  },
  {
   "cell_type": "markdown",
   "metadata": {
    "id": "MSa1f5Uengrz",
    "jp-MarkdownHeadingCollapsed": true
   },
   "source": [
    "### What all manipulations have you done and insights you found?"
   ]
  },
  {
   "cell_type": "markdown",
   "metadata": {
    "id": "3dZApe4767b7"
   },
   "source": [
    "1. First of all I displayed the data when Store are not open and found that when stores are not open then number of customers and sales are 0.\n",
    "2. Then I decided to drop the rows where Open = 0. After that I dropped Open column.\n",
    "3. Top store with highest sum of sale is 262 with 19516842 number of sales.\n",
    "4. Top store with highest sum of customer is 733 with 3206058 number of customers.\n",
    "5. Mean sale is 4 times higher when there is no school holiday.\n",
    "6. Mean sales for day 7 is least. It is because of sunday and holiday."
   ]
  },
  {
   "cell_type": "markdown",
   "metadata": {
    "id": "GF8Ens_Soomf"
   },
   "source": [
    "## ***4. Data Vizualization, Storytelling & Experimenting with charts : Understand the relationships between variables***"
   ]
  },
  {
   "cell_type": "markdown",
   "metadata": {
    "id": "0wOQAZs5pc--"
   },
   "source": [
    "#### Chart - 1 - Target column distribution plot"
   ]
  },
  {
   "cell_type": "code",
   "execution_count": 18,
   "metadata": {
    "colab": {
     "base_uri": "https://localhost:8080/",
     "height": 0
    },
    "id": "7v_ESjsspbW7",
    "outputId": "9ea604fb-f3ca-4d58-bfa8-5179e6a925bd"
   },
   "outputs": [
    {
     "data": {
      "image/png": "[encoded data removed]",
      "text/plain": [
       "<Figure size 1400x300 with 2 Axes>"
      ]
     },
     "metadata": {},
     "output_type": "display_data"
    }
   ],
   "source": [
    "# Chart - 1 visualization code\n",
    "facecolor = 'lightskyblue'\n",
    "fig, axes = plt.subplots(ncols=2, nrows=1, facecolor=facecolor, figsize=(14,3))\n",
    "sns.distplot(df['Sales'], ax=axes[0]) # Without log-transformation\n",
    "axes[0].set_title('Distribution without log transformation')\n",
    "sns.distplot(np.log2(df['Sales']+1), ax=axes[1]) # After log-transformation\n",
    "axes[1].set_title('Distribution after log transformation')\n",
    "plt.show()"
   ]
  },
  {
   "cell_type": "markdown",
   "metadata": {
    "id": "XESiWehPqBRc"
   },
   "source": [
    "1. Distribution charts shows how data is distributed on the axis. I picked this chart to check the distribution about the target variable.\n",
    "2. From the above chart I found that Sales column was very close to normal distribution and After log transformation I found that the distribution became more close to Normal distribution.\n",
    "3. Since the column is normally distributed and it is ideal for ML model building."
   ]
  },
  {
   "cell_type": "markdown",
   "metadata": {
    "id": "KSlN3yHqYklG"
   },
   "source": [
    "#### Chart - 2 - Pie chart groupby day of week and sales."
   ]
  },
  {
   "cell_type": "code",
   "execution_count": 19,
   "metadata": {
    "colab": {
     "base_uri": "https://localhost:8080/",
     "height": 0
    },
    "id": "R4YgtaqtYklH",
    "outputId": "62f0bf22-9b9d-469e-c658-eabbf35ea6de"
   },
   "outputs": [
    {
     "data": {
      "image/png": "[encoded data removed]",
      "text/plain": [
       "<Figure size 1400x400 with 2 Axes>"
      ]
     },
     "metadata": {},
     "output_type": "display_data"
    }
   ],
   "source": [
    "# Chart - 2 visualization code\n",
    "fig, axes = plt.subplots(nrows=1, ncols=2, facecolor=facecolor, figsize=(14, 4))\n",
    "df.groupby(['DayOfWeek'])['Sales'].sum().plot.pie(ax=axes[0],shadow =True,explode=[0.03,0.03,0.03,0.03,0.03,0.03,0.03], autopct='%0.1f%%',colors={'red','white','green'})\n",
    "df.groupby(['DayOfWeek'])['Sales'].mean().plot.pie(ax=axes[1],shadow =True,explode=[0.03,0.03,0.03,0.03,0.03,0.03,0.03], autopct='%0.1f%%',colors={'red','white','green'})\n",
    "axes[0].set_title('% of sum of the sales')\n",
    "axes[1].set_title('% of mean of the sales')\n",
    "plt.show()"
   ]
  },
  {
   "cell_type": "markdown",
   "metadata": {
    "id": "5aaW0BYyYklI"
   },
   "source": [
    "1. Pie chart shows part to whole relationship in the data. I picked this chart to see percentage of Sales for different days.\n",
    "2. I found that sum of sales are maximum at day 1 and minimum at day 7. I think it is because at day 7 most of the time shop not open because of sunday so the sale is minimum and since the day 1 is monday therefore poeple buys more and more because many people could not buy anything at sunday.\n",
    "3. Yes on day 7 sale is minimun but when we see mean sale then it is close to normal day therefore I can say that lot of the customers also want to buy things on day 7.\n",
    "4. In the second figure mean % is almost equal for all the days."
   ]
  },
  {
   "cell_type": "markdown",
   "metadata": {
    "id": "EM7whBJCYoAo"
   },
   "source": [
    "#### Chart - 3 - Pie chart Groupby Promo and Sales"
   ]
  },
  {
   "cell_type": "code",
   "execution_count": 20,
   "metadata": {
    "colab": {
     "base_uri": "https://localhost:8080/",
     "height": 0
    },
    "id": "t6GMdE67YoAp",
    "outputId": "9f87ec3b-c8f3-453d-f7cf-6457f0e209c8"
   },
   "outputs": [
    {
     "data": {
      "image/png": "[encoded data removed]",
      "text/plain": [
       "<Figure size 1400x400 with 2 Axes>"
      ]
     },
     "metadata": {},
     "output_type": "display_data"
    }
   ],
   "source": [
    "# Chart - 3 visualization code\n",
    "fig, axes = plt.subplots(nrows=1, ncols=2, facecolor=facecolor, figsize=(14, 4))\n",
    "df.groupby(['Promo'])['Sales'].sum().plot.pie(ax=axes[0],shadow =True,explode=[0.03,0.03], autopct='%0.1f%%',colors={'red','white','green'})\n",
    "df.groupby(['Promo'])['Sales'].mean().plot.pie(ax=axes[1],shadow =True,explode=[0.03,0.03], autopct='%0.1f%%',colors={'red','white','green'})\n",
    "axes[0].set_title('% of sum of the sales')\n",
    "axes[1].set_title('% of mean of the sales')\n",
    "plt.show()"
   ]
  },
  {
   "cell_type": "markdown",
   "metadata": {
    "id": "4jstXR6OYoAp"
   },
   "source": [
    "1. In case of promo sale sum is 52.8% and in another case sale is just 47.2%.\n",
    "2. In case of promo sale mean is 58.1% while in another case sale is just 41.9%.\n",
    "3. I found that in case when there is non promo the sale is lower therefore promo play important role with sales."
   ]
  },
  {
   "cell_type": "markdown",
   "metadata": {
    "id": "bamQiAODYuh1"
   },
   "source": [
    "#### Chart - 4 - Pie chart groupby school holiday and sales."
   ]
  },
  {
   "cell_type": "code",
   "execution_count": 21,
   "metadata": {
    "colab": {
     "base_uri": "https://localhost:8080/",
     "height": 0
    },
    "id": "TIJwrbroYuh3",
    "outputId": "63395bd1-ed15-480d-8211-51261bdd0494"
   },
   "outputs": [
    {
     "data": {
      "image/png": "[encoded data removed]",
      "text/plain": [
       "<Figure size 1400x400 with 2 Axes>"
      ]
     },
     "metadata": {},
     "output_type": "display_data"
    }
   ],
   "source": [
    "# Chart - 4 visualization code\n",
    "fig, axes = plt.subplots(nrows=1, ncols=2, facecolor=facecolor, figsize=(14, 4))\n",
    "df.groupby(['SchoolHoliday'])['Sales'].sum().plot.pie(ax=axes[0],shadow =True,explode=[0.03,0.03], autopct='%0.1f%%',colors={'red','white','green'})\n",
    "df.groupby(['SchoolHoliday'])['Sales'].mean().plot.pie(ax=axes[1],shadow =True,explode=[0.03,0.03], autopct='%0.1f%%',colors={'red','white','green'})\n",
    "axes[0].set_title('% of sum of the sales')\n",
    "axes[1].set_title('% of mean of the sales')\n",
    "plt.show()"
   ]
  },
  {
   "cell_type": "markdown",
   "metadata": {
    "id": "uyqkiB8YYuh3"
   },
   "source": [
    "1. Average sale for holiday is 51.1% and for non holiday is 48.9%.\n",
    "2. Sum of the % for holiday is 80% and for non holiday is 20%.\n",
    "3. School holiday leading to more sales it might be because there are lot of teenage students who are important customers."
   ]
  },
  {
   "cell_type": "markdown",
   "metadata": {
    "id": "OH-pJp9IphqM"
   },
   "source": [
    "#### Chart - 5 - Pie chart groupby State Holiday and sales."
   ]
  },
  {
   "cell_type": "code",
   "execution_count": 22,
   "metadata": {
    "colab": {
     "base_uri": "https://localhost:8080/",
     "height": 0
    },
    "id": "kuRf4wtuphqN",
    "outputId": "b678b153-36f8-4492-a13c-d84f11d7117d"
   },
   "outputs": [
    {
     "data": {
      "image/png": "[encoded data removed]",
      "text/plain": [
       "<Figure size 1400x400 with 2 Axes>"
      ]
     },
     "metadata": {},
     "output_type": "display_data"
    }
   ],
   "source": [
    "# Chart - 5 visualization code\n",
    "fig, axes = plt.subplots(nrows=1, ncols=2, facecolor=facecolor, figsize=(14, 4))\n",
    "df.groupby(['StateHoliday'])['Sales'].sum().plot.pie(ax=axes[0],shadow =True,explode=[.03,.03,.03,.03,.03], autopct='%0.1f%%',colors={'red','white','green'})\n",
    "df.groupby(['StateHoliday'])['Sales'].mean().plot.pie(ax=axes[1],shadow =True,explode=[.03,.03,.03,.03,.03], autopct='%0.1f%%',colors={'red','white','green'})\n",
    "axes[0].set_title('% of sum of the sales')\n",
    "axes[1].set_title('% of mean of the sales')\n",
    "plt.show()"
   ]
  },
  {
   "cell_type": "markdown",
   "metadata": {
    "id": "DW4_bGpfphqN"
   },
   "source": [
    "1. For state holiday 0 sale is 46.3%, for '0' 48.3%, for a 2.3%, for b 17% and for c 14%.\n",
    "2. More that 87% of sum sales are when there is no holidays in state and state type '0'. Only few percentage of sales happened during holiday a,b,c. I think a,b,c are state festival and that day customers busy celebrating the festivals therefore those days are not good for business."
   ]
  },
  {
   "cell_type": "markdown",
   "metadata": {},
   "source": [
    "Chart 6 - Yearwise Sales"
   ]
  },
  {
   "cell_type": "code",
   "execution_count": 23,
   "metadata": {
    "colab": {
     "base_uri": "https://localhost:8080/",
     "height": 0
    },
    "id": "mAQTIvtqp1cj",
    "outputId": "d5161be9-7775-462f-fd02-c37b3e39ffcd"
   },
   "outputs": [
    {
     "data": {
      "image/png": "[encoded data removed]",
      "text/plain": [
       "<Figure size 400x400 with 1 Axes>"
      ]
     },
     "metadata": {},
     "output_type": "display_data"
    }
   ],
   "source": [
    "# Chart - 11 visualization code\n",
    "plt.figure(facecolor=facecolor, figsize=(4,4))\n",
    "df.groupby(['year'])['Sales'].mean().plot.pie(shadow =True,explode=[0.03,0.03,.03], autopct='%0.1f%%',colors={'red','white','green'})\n",
    "plt.show()"
   ]
  },
  {
   "cell_type": "markdown",
   "metadata": {
    "id": "ZYdMsrqVp1ck"
   },
   "source": [
    "1. Average sale for 2013,2014 and 2015 is almost equal which is nearly 33%.\n",
    "2. Sales for each year is almost same."
   ]
  },
  {
   "cell_type": "markdown",
   "metadata": {
    "id": "n3dbpmDWp1ck"
   },
   "source": [
    "#### Chart - 12"
   ]
  },
  {
   "cell_type": "code",
   "execution_count": 24,
   "metadata": {
    "colab": {
     "base_uri": "https://localhost:8080/",
     "height": 0
    },
    "id": "bwevp1tKp1ck",
    "outputId": "be68a144-606b-494a-e81d-102559cd2d26"
   },
   "outputs": [
    {
     "data": {
      "image/png": "[encoded data removed]",
      "text/plain": [
       "<Figure size 2400x1200 with 6 Axes>"
      ]
     },
     "metadata": {},
     "output_type": "display_data"
    }
   ],
   "source": [
    "# Chart - 12 visualization code\n",
    "fig, axes = plt.subplots(nrows=3, ncols=2, figsize=(24,12), facecolor=facecolor)\n",
    "colors = ['violet','indigo','b','g','y','orange','r']\n",
    "top10storesWithHighestSales.plot.bar(ax=axes[0][0], color=colors)\n",
    "top10storesWithHighestCustomers.plot.bar(ax=axes[0][1], color=colors)\n",
    "meanSalesForSchoolHoliday.plot.bar(ax=axes[1][0], color=colors)\n",
    "meanSalesForStateHoliday.plot.bar(ax=axes[1][1], color=colors)\n",
    "meanSalesForPromo.plot.bar(ax=axes[2][0], color=colors)\n",
    "meanSalesForDayOfWeek.plot.bar(ax=axes[2][1], color=colors)\n",
    "plt.show()"
   ]
  },
  {
   "cell_type": "markdown",
   "metadata": {
    "id": "NC_X3p0fY2L0"
   },
   "source": [
    "#### Chart - 14 - Correlation Heatmap"
   ]
  },
  {
   "cell_type": "code",
   "execution_count": 25,
   "metadata": {
    "colab": {
     "base_uri": "https://localhost:8080/",
     "height": 0
    },
    "id": "xyC9zolEZNRQ",
    "outputId": "3b38d375-b200-4a59-c5dd-b95493e7643f"
   },
   "outputs": [
    {
     "ename": "ValueError",
     "evalue": "could not convert string to float: 'a'",
     "output_type": "error",
     "traceback": [
      "\u001b[1;31m---------------------------------------------------------------------------\u001b[0m",
      "\u001b[1;31mValueError\u001b[0m                                Traceback (most recent call last)",
      "Cell \u001b[1;32mIn[25], line 3\u001b[0m\n\u001b[0;32m      1\u001b[0m \u001b[38;5;66;03m# Correlation Heatmap visualization code\u001b[39;00m\n\u001b[0;32m      2\u001b[0m plt\u001b[38;5;241m.\u001b[39mrcParams[\u001b[38;5;124m'\u001b[39m\u001b[38;5;124mfigure.figsize\u001b[39m\u001b[38;5;124m'\u001b[39m] \u001b[38;5;241m=\u001b[39m (\u001b[38;5;241m24\u001b[39m,\u001b[38;5;241m8\u001b[39m)\n\u001b[1;32m----> 3\u001b[0m corr \u001b[38;5;241m=\u001b[39m df\u001b[38;5;241m.\u001b[39mcorr()\n\u001b[0;32m      4\u001b[0m sns\u001b[38;5;241m.\u001b[39mheatmap(corr,annot\u001b[38;5;241m=\u001b[39m\u001b[38;5;28;01mTrue\u001b[39;00m, cmap\u001b[38;5;241m=\u001b[39m \u001b[38;5;124m'\u001b[39m\u001b[38;5;124mcoolwarm\u001b[39m\u001b[38;5;124m'\u001b[39m)\n\u001b[0;32m      5\u001b[0m plt\u001b[38;5;241m.\u001b[39mshow()\n",
      "File \u001b[1;32mC:\\ProgramData\\anaconda3\\Lib\\site-packages\\pandas\\core\\frame.py:10704\u001b[0m, in \u001b[0;36mDataFrame.corr\u001b[1;34m(self, method, min_periods, numeric_only)\u001b[0m\n\u001b[0;32m  10702\u001b[0m cols \u001b[38;5;241m=\u001b[39m data\u001b[38;5;241m.\u001b[39mcolumns\n\u001b[0;32m  10703\u001b[0m idx \u001b[38;5;241m=\u001b[39m cols\u001b[38;5;241m.\u001b[39mcopy()\n\u001b[1;32m> 10704\u001b[0m mat \u001b[38;5;241m=\u001b[39m data\u001b[38;5;241m.\u001b[39mto_numpy(dtype\u001b[38;5;241m=\u001b[39m\u001b[38;5;28mfloat\u001b[39m, na_value\u001b[38;5;241m=\u001b[39mnp\u001b[38;5;241m.\u001b[39mnan, copy\u001b[38;5;241m=\u001b[39m\u001b[38;5;28;01mFalse\u001b[39;00m)\n\u001b[0;32m  10706\u001b[0m \u001b[38;5;28;01mif\u001b[39;00m method \u001b[38;5;241m==\u001b[39m \u001b[38;5;124m\"\u001b[39m\u001b[38;5;124mpearson\u001b[39m\u001b[38;5;124m\"\u001b[39m:\n\u001b[0;32m  10707\u001b[0m     correl \u001b[38;5;241m=\u001b[39m libalgos\u001b[38;5;241m.\u001b[39mnancorr(mat, minp\u001b[38;5;241m=\u001b[39mmin_periods)\n",
      "File \u001b[1;32mC:\\ProgramData\\anaconda3\\Lib\\site-packages\\pandas\\core\\frame.py:1889\u001b[0m, in \u001b[0;36mDataFrame.to_numpy\u001b[1;34m(self, dtype, copy, na_value)\u001b[0m\n\u001b[0;32m   1887\u001b[0m \u001b[38;5;28;01mif\u001b[39;00m dtype \u001b[38;5;129;01mis\u001b[39;00m \u001b[38;5;129;01mnot\u001b[39;00m \u001b[38;5;28;01mNone\u001b[39;00m:\n\u001b[0;32m   1888\u001b[0m     dtype \u001b[38;5;241m=\u001b[39m np\u001b[38;5;241m.\u001b[39mdtype(dtype)\n\u001b[1;32m-> 1889\u001b[0m result \u001b[38;5;241m=\u001b[39m \u001b[38;5;28mself\u001b[39m\u001b[38;5;241m.\u001b[39m_mgr\u001b[38;5;241m.\u001b[39mas_array(dtype\u001b[38;5;241m=\u001b[39mdtype, copy\u001b[38;5;241m=\u001b[39mcopy, na_value\u001b[38;5;241m=\u001b[39mna_value)\n\u001b[0;32m   1890\u001b[0m \u001b[38;5;28;01mif\u001b[39;00m result\u001b[38;5;241m.\u001b[39mdtype \u001b[38;5;129;01mis\u001b[39;00m \u001b[38;5;129;01mnot\u001b[39;00m dtype:\n\u001b[0;32m   1891\u001b[0m     result \u001b[38;5;241m=\u001b[39m np\u001b[38;5;241m.\u001b[39marray(result, dtype\u001b[38;5;241m=\u001b[39mdtype, copy\u001b[38;5;241m=\u001b[39m\u001b[38;5;28;01mFalse\u001b[39;00m)\n",
      "File \u001b[1;32mC:\\ProgramData\\anaconda3\\Lib\\site-packages\\pandas\\core\\internals\\managers.py:1656\u001b[0m, in \u001b[0;36mBlockManager.as_array\u001b[1;34m(self, dtype, copy, na_value)\u001b[0m\n\u001b[0;32m   1654\u001b[0m         arr\u001b[38;5;241m.\u001b[39mflags\u001b[38;5;241m.\u001b[39mwriteable \u001b[38;5;241m=\u001b[39m \u001b[38;5;28;01mFalse\u001b[39;00m\n\u001b[0;32m   1655\u001b[0m \u001b[38;5;28;01melse\u001b[39;00m:\n\u001b[1;32m-> 1656\u001b[0m     arr \u001b[38;5;241m=\u001b[39m \u001b[38;5;28mself\u001b[39m\u001b[38;5;241m.\u001b[39m_interleave(dtype\u001b[38;5;241m=\u001b[39mdtype, na_value\u001b[38;5;241m=\u001b[39mna_value)\n\u001b[0;32m   1657\u001b[0m     \u001b[38;5;66;03m# The underlying data was copied within _interleave, so no need\u001b[39;00m\n\u001b[0;32m   1658\u001b[0m     \u001b[38;5;66;03m# to further copy if copy=True or setting na_value\u001b[39;00m\n\u001b[0;32m   1660\u001b[0m \u001b[38;5;28;01mif\u001b[39;00m na_value \u001b[38;5;129;01mis\u001b[39;00m lib\u001b[38;5;241m.\u001b[39mno_default:\n",
      "File \u001b[1;32mC:\\ProgramData\\anaconda3\\Lib\\site-packages\\pandas\\core\\internals\\managers.py:1715\u001b[0m, in \u001b[0;36mBlockManager._interleave\u001b[1;34m(self, dtype, na_value)\u001b[0m\n\u001b[0;32m   1713\u001b[0m     \u001b[38;5;28;01melse\u001b[39;00m:\n\u001b[0;32m   1714\u001b[0m         arr \u001b[38;5;241m=\u001b[39m blk\u001b[38;5;241m.\u001b[39mget_values(dtype)\n\u001b[1;32m-> 1715\u001b[0m     result[rl\u001b[38;5;241m.\u001b[39mindexer] \u001b[38;5;241m=\u001b[39m arr\n\u001b[0;32m   1716\u001b[0m     itemmask[rl\u001b[38;5;241m.\u001b[39mindexer] \u001b[38;5;241m=\u001b[39m \u001b[38;5;241m1\u001b[39m\n\u001b[0;32m   1718\u001b[0m \u001b[38;5;28;01mif\u001b[39;00m \u001b[38;5;129;01mnot\u001b[39;00m itemmask\u001b[38;5;241m.\u001b[39mall():\n",
      "\u001b[1;31mValueError\u001b[0m: could not convert string to float: 'a'"
     ]
    }
   ],
   "source": [
    "# Correlation Heatmap visualization code\n",
    "plt.rcParams['figure.figsize'] = (24,8)\n",
    "corr = df.corr()\n",
    "sns.heatmap(corr,annot=True, cmap= 'coolwarm')\n",
    "plt.show()"
   ]
  },
  {
   "cell_type": "markdown",
   "metadata": {
    "id": "UV0SzAkaZNRQ"
   },
   "source": [
    "##### 1. Why did you pick the specific chart?"
   ]
  },
  {
   "cell_type": "markdown",
   "metadata": {
    "id": "DVPuT8LYZNRQ"
   },
   "source": [
    "Corellation chart shows relationship between variables therefore I picked this chart to check correlations."
   ]
  },
  {
   "cell_type": "markdown",
   "metadata": {
    "id": "YPEH6qLeZNRQ"
   },
   "source": [
    "##### 2. What is/are the insight(s) found from the chart?"
   ]
  },
  {
   "cell_type": "markdown",
   "metadata": {
    "id": "bfSqtnDqZNRR"
   },
   "source": [
    "I found that our target variable Sales has -0.46 corralation with day of week, 0.89 with customers, 0.68 with open, 0.45 with Promo. Variable day of week has -0.39 correlation with customers, -0.53 with open,-0.39 with promo, -0.21with school holiday. Variable customers has correlation with 0.62 with open, 0.32 with promo and -0.15 with promo2. Variable Open has correlation 0.3 with Promo.\n",
    "Variable Competition Distance has correlation -0.14 with promo2 and -0.11 with Promo2SinceYear. rest of the variables have very less correlations with each other."
   ]
  },
  {
   "cell_type": "markdown",
   "metadata": {
    "id": "q29F0dvdveiT"
   },
   "source": [
    "#### Chart - 15 - Pair Plot "
   ]
  },
  {
   "cell_type": "code",
   "execution_count": null,
   "metadata": {
    "colab": {
     "base_uri": "https://localhost:8080/",
     "height": 0
    },
    "id": "o58-TEIhveiU",
    "outputId": "b08046e7-f1d5-4b96-c7ee-bd4e79629aef"
   },
   "outputs": [],
   "source": [
    "# Pair Plot visualization code\n",
    "drop_col = ['Store','Date','CompetitionOpenSinceMonth','CompetitionOpenSinceYear','Promo2SinceWeek',\n",
    "            'Promo2SinceYear','PromoInterval','DayOfWeek','Promo','SchoolHoliday','StateHoliday',\n",
    "            'Promo2']\n",
    "            \n",
    "sns.pairplot(final_df.drop(columns = drop_col))\n",
    "plt.show()"
   ]
  },
  {
   "cell_type": "markdown",
   "metadata": {
    "id": "EXh0U9oCveiU"
   },
   "source": [
    "##### 1. Why did you pick the specific chart?"
   ]
  },
  {
   "cell_type": "markdown",
   "metadata": {
    "id": "eMmPjTByveiU"
   },
   "source": [
    "Pair chart gives very good visualization of realtionship between two variables which is very important to select and understand the variables I picked this chart to see the relationship between the variables."
   ]
  },
  {
   "cell_type": "markdown",
   "metadata": {
    "id": "22aHeOlLveiV"
   },
   "source": [
    "##### 2. What is/are the insight(s) found from the chart?"
   ]
  },
  {
   "cell_type": "markdown",
   "metadata": {
    "id": "uPQ8RGwHveiV"
   },
   "source": [
    "I found that only Sales and Customers has linear relationship."
   ]
  },
  {
   "cell_type": "markdown",
   "metadata": {
    "id": "g-ATYxFrGrvw",
    "jp-MarkdownHeadingCollapsed": true
   },
   "source": [
    "## ***5. Hypothesis Testing***"
   ]
  },
  {
   "cell_type": "markdown",
   "metadata": {
    "id": "Yfr_Vlr8HBkt"
   },
   "source": [
    "### Based on your chart experiments, define three hypothetical statements from the dataset. In the next three questions, perform hypothesis testing to obtain final conclusion about the statements through your code and statistical testing."
   ]
  },
  {
   "cell_type": "markdown",
   "metadata": {
    "id": "-7MS06SUHkB-"
   },
   "source": [
    "Answer here.\n",
    "\n",
    "*   Mean sale for promo = 1 is greater than or equal to the mean sale when promo = 0.\n",
    "*   Mean sale  is 0 when shop is closed.\n",
    "*   Mean sale for store type b is equal to mean sales of a+b+c."
   ]
  },
  {
   "cell_type": "markdown",
   "metadata": {
    "id": "8yEUt7NnHlrM"
   },
   "source": [
    "### Hypothetical Statement - 1\n",
    "* Mean Sale for promo = 1 is equal to mean sale for promo = 0."
   ]
  },
  {
   "cell_type": "markdown",
   "metadata": {
    "id": "tEA2Xm5dHt1r"
   },
   "source": [
    "#### 1. State Your research hypothesis as a null hypothesis and alternate hypothesis."
   ]
  },
  {
   "cell_type": "markdown",
   "metadata": {
    "id": "HI9ZP0laH0D-"
   },
   "source": [
    "*   Mean sale for promo = 1 is greater than or equal to the mean sale when promo = 0.\n",
    "* H0: promo_mean >= non_promo_mean\n",
    "* H1: promo_mean < non_promo_mean"
   ]
  },
  {
   "cell_type": "markdown",
   "metadata": {
    "id": "I79__PHVH19G"
   },
   "source": [
    "#### 2. Perform an appropriate statistical test."
   ]
  },
  {
   "cell_type": "code",
   "execution_count": null,
   "metadata": {
    "colab": {
     "base_uri": "https://localhost:8080/"
    },
    "id": "oZrfquKtyian",
    "outputId": "e21c85d3-85b1-4ac6-a4e7-dde62e739c13"
   },
   "outputs": [],
   "source": [
    "# Perform Statistical Test to obtain P-Value\n",
    "\n",
    "s1 = final_df[final_df['Promo']== 1]['Sales']\n",
    "s2 = final_df[final_df['Promo']== 0]['Sales']\n",
    "\n",
    "dof = len(s1)+len(s2)-2\n",
    "alpha = 1-0.05\n",
    "lower = t.ppf(alpha,dof)\n",
    "statistic, p_value = ttest_ind(s1,s2,equal_var=False, alternative='less')\n",
    "\n",
    "print('dof',dof)\n",
    "print('alpha ',alpha)\n",
    "print(f\"lower bound : {lower}\")\n",
    "print(f\"Statistic : {statistic}  p_value : {p_value}\")\n",
    "if  statistic < lower:\n",
    "  print('Null hypothesis is rejected')\n",
    "else :\n",
    "  print('Failed to reject null hypothesis')"
   ]
  },
  {
   "cell_type": "markdown",
   "metadata": {
    "id": "Ou-I18pAyIpj"
   },
   "source": [
    "##### Which statistical test have you done to obtain P-Value?"
   ]
  },
  {
   "cell_type": "markdown",
   "metadata": {
    "id": "s2U0kk00ygSB"
   },
   "source": [
    "I have done T-test to get P_value."
   ]
  },
  {
   "cell_type": "markdown",
   "metadata": {
    "id": "fF3858GYyt-u"
   },
   "source": [
    "##### Why did you choose the specific statistical test?"
   ]
  },
  {
   "cell_type": "markdown",
   "metadata": {
    "id": "HO4K0gP5y3B4"
   },
   "source": [
    "Because my sample size and variance are not same."
   ]
  },
  {
   "cell_type": "markdown",
   "metadata": {
    "id": "4_0_7-oCpUZd"
   },
   "source": [
    "### Hypothetical Statement - 2"
   ]
  },
  {
   "cell_type": "markdown",
   "metadata": {
    "id": "hwyV_J3ipUZe"
   },
   "source": [
    "#### 1. State Your research hypothesis as a null hypothesis and alternate hypothesis."
   ]
  },
  {
   "cell_type": "markdown",
   "metadata": {
    "id": "FnpLGJ-4pUZe"
   },
   "source": [
    "Mean Sale is 0 when shop is closed.\n",
    "* H0: mean Sale = 0\n",
    "* H1: mean Sale > 0\n",
    "* Significance level = 0.05"
   ]
  },
  {
   "cell_type": "markdown",
   "metadata": {
    "id": "3yB-zSqbpUZe"
   },
   "source": [
    "#### 2. Perform an appropriate statistical test."
   ]
  },
  {
   "cell_type": "code",
   "execution_count": null,
   "metadata": {
    "colab": {
     "base_uri": "https://localhost:8080/"
    },
    "id": "sWxdNTXNpUZe",
    "outputId": "f3ddaf5f-4fb8-49ad-c82b-6eee47d4f86f"
   },
   "outputs": [],
   "source": [
    "# Perform Statistical Test to obtain P-Value\n",
    "s1 = final_df[final_df['Open'] == 0]['Sales']\n",
    "samp_mean = s1.mean()\n",
    "pop_mean = final_df['Sales'].mean()\n",
    "s = s1.std()\n",
    "n = len(s1)\n",
    "alpha = 1-0.05\n",
    "critical_value = t.ppf(alpha,n-1)\n",
    "t_statistic = (samp_mean- pop_mean)/(s/np.sqrt(n))\n",
    "\n",
    "print('Sample mean :', samp_mean)\n",
    "print('population mean :', pop_mean)\n",
    "print('s',s)\n",
    "print('n',n)\n",
    "print('alpha ',alpha)\n",
    "print('critical value ',critical_value)\n",
    "print('t_statistic ',t_statistic)\n",
    "\n",
    "if t_statistic > critical_value:\n",
    "  print('Null hypothesis is rejected')\n",
    "else :\n",
    "  print('Null hypothesis is accepted')"
   ]
  },
  {
   "cell_type": "markdown",
   "metadata": {
    "id": "dEUvejAfpUZe"
   },
   "source": [
    "##### Which statistical test have you done to obtain P-Value?"
   ]
  },
  {
   "cell_type": "markdown",
   "metadata": {
    "id": "oLDrPz7HpUZf"
   },
   "source": [
    "I have done t statistic test to obrain p_value."
   ]
  },
  {
   "cell_type": "markdown",
   "metadata": {
    "id": "Fd15vwWVpUZf"
   },
   "source": [
    "##### Why did you choose the specific statistical test?"
   ]
  },
  {
   "cell_type": "markdown",
   "metadata": {
    "id": "4xOGYyiBpUZf"
   },
   "source": [
    "Because the variance for sample and population were different."
   ]
  },
  {
   "cell_type": "markdown",
   "metadata": {
    "id": "bn_IUdTipZyH"
   },
   "source": [
    "### Hypothetical Statement - 3"
   ]
  },
  {
   "cell_type": "markdown",
   "metadata": {
    "id": "49K5P_iCpZyH"
   },
   "source": [
    "#### 1. State Your research hypothesis as a null hypothesis and alternate hypothesis."
   ]
  },
  {
   "cell_type": "markdown",
   "metadata": {
    "id": "7gWI5rT9pZyH"
   },
   "source": [
    "Mean sale for store type b is equal to mean sales of a+c+d.\n",
    "* H0: E[b] = E[a+c+d]\n",
    "* H1: E[b] != E[a+c+d]"
   ]
  },
  {
   "cell_type": "markdown",
   "metadata": {
    "id": "Nff-vKELpZyI"
   },
   "source": [
    "#### 2. Perform an appropriate statistical test."
   ]
  },
  {
   "cell_type": "code",
   "execution_count": null,
   "metadata": {
    "colab": {
     "base_uri": "https://localhost:8080/"
    },
    "id": "s6AnJQjtpZyI",
    "outputId": "4c9e83f8-0bf0-4ddd-b33c-0b30d47fa36d"
   },
   "outputs": [],
   "source": [
    "# Perform Statistical Test to obtain P-Value\n",
    "sa = final_df[final_df['StoreType'] == 'a']['Sales']\n",
    "sb = final_df[final_df['StoreType'] == 'b']['Sales']\n",
    "sc = final_df[final_df['StoreType'] == 'c']['Sales']\n",
    "sd = final_df[final_df['StoreType'] == 'd']['Sales']\n",
    "# mean1 = sb.mean()\n",
    "mean2 = sa.mean()+sc.mean()+sd.mean()\n",
    "dof = len(sa)-1\n",
    "lower = t.ppf(0.025,dof)\n",
    "upper = t.ppf(0.975,dof)\n",
    "stat,p_value = ttest_1samp(sa,mean2)\n",
    "\n",
    "print(f\"lower : {lower} and upper :{upper}\")\n",
    "print(f'Statistic :{stat} and p_value: {p_value}')\n",
    "if stat < lower or stat > upper:\n",
    "  print('Null hypothesis is rejected')\n",
    "else:\n",
    "  print('null hypothesis is accepted')"
   ]
  },
  {
   "cell_type": "markdown",
   "metadata": {
    "id": "kLW572S8pZyI"
   },
   "source": [
    "##### Which statistical test have you done to obtain P-Value?"
   ]
  },
  {
   "cell_type": "markdown",
   "metadata": {
    "id": "ytWJ8v15pZyI"
   },
   "source": [
    "I have done t statistic test."
   ]
  },
  {
   "cell_type": "markdown",
   "metadata": {
    "id": "dWbDXHzopZyI"
   },
   "source": [
    "##### Why did you choose the specific statistical test?"
   ]
  },
  {
   "cell_type": "markdown",
   "metadata": {
    "id": "M99G98V6pZyI"
   },
   "source": [
    "Because standard daviation of the samples were different."
   ]
  },
  {
   "cell_type": "markdown",
   "metadata": {
    "id": "yLjJCtPM0KBk",
    "jp-MarkdownHeadingCollapsed": true
   },
   "source": [
    "## ***6. Feature Engineering & Data Pre-processing***"
   ]
  },
  {
   "cell_type": "markdown",
   "metadata": {
    "id": "xiyOF9F70UgQ"
   },
   "source": [
    "### 1. Handling Missing Values"
   ]
  },
  {
   "cell_type": "code",
   "execution_count": null,
   "metadata": {
    "colab": {
     "base_uri": "https://localhost:8080/"
    },
    "id": "iRsAHk1K0fpS",
    "outputId": "58358502-5bc7-4a64-fd5e-312c4510b392"
   },
   "outputs": [],
   "source": [
    "# Handling Missing Values & Missing Value Imputation\n",
    "df = final_df.copy()\n",
    "df = df[df['Open'] == 1]\n",
    "for i in null_calculator(df).keys():\n",
    "    print(f\"{i} : {null_calculator(df)[i]/len(df)*100}\")\n",
    "    \n",
    "# Filling nan values with mean in column CompetitionDistance\n",
    "# df['CompetitionDistance'] = df['CompetitionDistance'].fillna(df['CompetitionDistance'].mean())\n",
    "\n",
    "# Filling nan values with median in column CompetitionOpenSinceMonth and CompetitionOpenSinceYear\n",
    "df['CompetitionOpenSinceMonth'] = df['CompetitionOpenSinceMonth'].fillna(df['CompetitionOpenSinceMonth'].median())\n",
    "df['CompetitionOpenSinceYear'] = df['CompetitionOpenSinceYear'].fillna(df['CompetitionOpenSinceYear'].median())\n",
    "\n",
    "\n",
    "# dropping the columns which has more than 45% null values because already lost lot of informations and also dropping the rows\n",
    "# which has only less than 1% null values. \n",
    "col_to_drop = ['Open','Promo2SinceWeek','Promo2SinceYear','PromoInterval']\n",
    "df.drop(columns=col_to_drop,inplace=True)\n",
    "df = df.dropna()"
   ]
  },
  {
   "cell_type": "markdown",
   "metadata": {
    "id": "7wuGOrhz0itI"
   },
   "source": [
    "#### What all missing value imputation techniques have you used and why did you use those techniques?"
   ]
  },
  {
   "cell_type": "markdown",
   "metadata": {
    "id": "1ixusLtI0pqI"
   },
   "source": [
    "First of all I deleted all data when Stores were closed then I fill nan values in columns CompetitionDistance and CompetitionOpenSinceYear with median and I dropped those columns which contains more than 40% nan values. I also dropped some observations which containing less than 1% nan values. Since the Open column was containing contant value 1 therefore I decided to drop this column too."
   ]
  },
  {
   "cell_type": "markdown",
   "metadata": {
    "id": "id1riN9m0vUs"
   },
   "source": [
    "### 2. Handling Outliers"
   ]
  },
  {
   "cell_type": "code",
   "execution_count": null,
   "metadata": {
    "colab": {
     "base_uri": "https://localhost:8080/",
     "height": 0
    },
    "id": "M6w2CzZf04JK",
    "outputId": "0a1bb9bb-346b-489c-c74d-cbd6080289cc"
   },
   "outputs": [],
   "source": [
    "# Handling Outliers & Outlier treatments\n",
    "# Single variate outlier detection\n",
    "# Dropping those observations when sale is zero\n",
    "df = df[df['Sales']!=0]\n",
    "# Plotting outliers\n",
    "plt.rcParams['figure.figsize'] = (15,3)\n",
    "sns.boxplot(df['Sales'])\n",
    "plt.title('Before outlier removal')\n",
    "print(f\"Shape before outlier removal {df.shape}\")\n",
    "plt.show()\n",
    "print('')\n",
    "for i in range(1,7):\n",
    "  q1 = df['Sales'].quantile(.25)\n",
    "  q3 = df['Sales'].quantile(.75)\n",
    "  iqr = q3-q1\n",
    "  lower = q1-(1.5*iqr)\n",
    "  upper = q3+(1.5*iqr)\n",
    "  df = df[(df['Sales'] <= upper) & (df['Sales'] >= lower)]\n",
    "  sns.boxplot(df['Sales'])\n",
    "  plt.title('After The Iteration '+ str(i) +' The Shape is '+ str(df.shape))\n",
    "  plt.show()\n",
    "  print('')"
   ]
  },
  {
   "cell_type": "markdown",
   "metadata": {
    "id": "578E2V7j08f6"
   },
   "source": [
    "##### What all outlier treatment techniques have you used and why did you use those techniques?"
   ]
  },
  {
   "cell_type": "markdown",
   "metadata": {
    "id": "uGZz5OrT1HH-"
   },
   "source": [
    "I deleted those observation when sale is 0 because when customer is 0 then sale is also 0 therefore these are some kind of outliers. Then I focused on the target column and deleted some outliers using  1.5*IQR method."
   ]
  },
  {
   "cell_type": "markdown",
   "metadata": {
    "id": "89xtkJwZ18nB"
   },
   "source": [
    "### 3. Categorical Encoding"
   ]
  },
  {
   "cell_type": "code",
   "execution_count": null,
   "metadata": {
    "id": "21JmIYMG2hEo",
    "scrolled": true
   },
   "outputs": [],
   "source": [
    "# Encode your categorical columns\n",
    "\n",
    "# one hot encoding for Assortment\n",
    "df['AssortmentA'] = df['Assortment'].apply(lambda data: 1 if data == 'a' else 0)\n",
    "df['AssortmentB'] = df['Assortment'].apply(lambda data: 1 if data == 'b' else 0)\n",
    "df['AssortmentC'] = df['Assortment'].apply(lambda data: 1 if data == 'c' else 0)\n",
    "\n",
    "#Store type one hot encoding\n",
    "df['StoreTypeA'] = df['StoreType'].apply(lambda data: 1 if data == 'a' else 0)\n",
    "df['StoreTypeB'] = df['StoreType'].apply(lambda data: 1 if data == 'b' else 0)\n",
    "df['StoreTypeC'] = df['StoreType'].apply(lambda data: 1 if data == 'c' else 0)\n",
    "df['StoreTypeD'] = df['StoreType'].apply(lambda data: 1 if data == 'd' else 0)\n",
    "\n",
    "# Econding StateHoliday\n",
    "df['sh_a'] = df['StateHoliday'].apply(lambda data: 1 if data == 'a' else 0)\n",
    "df['sh_b'] = df['StateHoliday'].apply(lambda data: 1 if data == 'b' else 0)\n",
    "df['sh_c'] = df['StateHoliday'].apply(lambda data: 1 if data == 'c' else 0)\n",
    "df['sh_d'] = df['StateHoliday'].apply(lambda data: 1 if data == 0 else 0)\n",
    "df['sh_e'] = df['StateHoliday'].apply(lambda data: 1 if data == '0' else 0)\n",
    "\n",
    "# Dropping the columns\n",
    "df.drop(columns =['Assortment', 'StoreType','StateHoliday'], inplace= True)"
   ]
  },
  {
   "cell_type": "markdown",
   "metadata": {
    "id": "67NQN5KX2AMe"
   },
   "source": [
    "#### What all categorical encoding techniques have you used & why did you use those techniques?"
   ]
  },
  {
   "cell_type": "markdown",
   "metadata": {
    "id": "UDaue5h32n_G"
   },
   "source": [
    "Here I did one hot encoding to StateHoliday, StoreType and Assortment columns because the mean price of each catagory was different."
   ]
  },
  {
   "cell_type": "markdown",
   "metadata": {
    "id": "-oLEiFgy-5Pf"
   },
   "source": [
    "### 4. Feature Manipulation & Selection"
   ]
  },
  {
   "cell_type": "markdown",
   "metadata": {
    "id": "C74aWNz2AliB"
   },
   "source": [
    "#### 1. Feature Manipulation"
   ]
  },
  {
   "cell_type": "code",
   "execution_count": null,
   "metadata": {
    "id": "h1qC4yhBApWC"
   },
   "outputs": [],
   "source": [
    "# Manipulate Features to minimize feature correlation and create new features\n",
    "\n",
    "# from str to date time conversion\n",
    "df['Date'] = df['Date'].apply(lambda col: datetime.strptime(col,'%Y-%m-%d'))\n",
    "\n",
    "# creating day, month, year columns\n",
    "plt.rcParams['figure.figsize'] = (5,3)\n",
    "df['day'] = df['Date'].apply(lambda d: d.day)\n",
    "df['month'] = df['Date'].apply(lambda m: m.month)\n",
    "df['year'] = df['Date'].apply(lambda y: y.year)\n",
    "\n",
    "# Dropping Date column\n",
    "df.drop(columns=['Date'], inplace=True)"
   ]
  },
  {
   "cell_type": "code",
   "execution_count": null,
   "metadata": {
    "id": "qXU1z3LP4NfQ"
   },
   "outputs": [],
   "source": [
    "#Multicollinearity\n",
    "def calc_vif(X):\n",
    "\n",
    "    # Calculating VIF\n",
    "    vif = pd.DataFrame()\n",
    "    vif[\"variables\"] = X.columns\n",
    "    vif[\"VIF\"] = [variance_inflation_factor(X.values, i) for i in range(X.shape[1])]\n",
    "\n",
    "    return(vif)"
   ]
  },
  {
   "cell_type": "code",
   "execution_count": null,
   "metadata": {
    "colab": {
     "base_uri": "https://localhost:8080/",
     "height": 0
    },
    "id": "PfmiJBTpxRZP",
    "outputId": "720f503e-d649-4a45-a05e-68c4e6e8f22b"
   },
   "outputs": [],
   "source": [
    "# Multicolinearitiy check\n",
    "high_vif_col = ['Store','Sales','year','AssortmentA','sh_d','StoreTypeA','sh_e','CompetitionOpenSinceYear']\n",
    "calc_vif(df[[i for i in df.describe().columns if i not in high_vif_col ]])"
   ]
  },
  {
   "cell_type": "markdown",
   "metadata": {
    "id": "2DejudWSA-a0"
   },
   "source": [
    "#### 2. Feature Selection"
   ]
  },
  {
   "cell_type": "code",
   "execution_count": null,
   "metadata": {
    "id": "YLhe8UmaBCEE"
   },
   "outputs": [],
   "source": [
    "# Select your features wisely to avoid overfitting\n",
    "selected_features = ['DayOfWeek','Customers','Promo','SchoolHoliday','CompetitionDistance','CompetitionOpenSinceMonth','Promo2',\\\n",
    "                     'AssortmentB','AssortmentC','StoreTypeB','StoreTypeC','StoreTypeD','sh_a','sh_b','sh_c','day','month','Sales']\n",
    "selected_df = df[selected_features]"
   ]
  },
  {
   "cell_type": "markdown",
   "metadata": {
    "id": "pEMng2IbBLp7"
   },
   "source": [
    "##### What all feature selection methods have you used  and why?"
   ]
  },
  {
   "cell_type": "markdown",
   "metadata": {
    "id": "rb2Lh6Z8BgGs"
   },
   "source": [
    "I simply used vif method to find good featues."
   ]
  },
  {
   "cell_type": "markdown",
   "metadata": {
    "id": "rAdphbQ9Bhjc"
   },
   "source": [
    "##### Which all features you found important and why?"
   ]
  },
  {
   "cell_type": "markdown",
   "metadata": {
    "id": "fGgaEstsBnaf"
   },
   "source": [
    "I choosed these feature because these has less than 7 vif scores.\n",
    "* DayOfWeek\n",
    "* Customers\n",
    "* Promo\n",
    "* SchoolHoliday\n",
    "* CompetitionDistance\n",
    "* CompetitionOpenSinceMonth\n",
    "* Promo2\n",
    "* AssortmentB\n",
    "* AssortmentC\n",
    "* StoreTypeB\n",
    "* StoreTypeC\n",
    "* StoreTypeD\n",
    "* sh_a\n",
    "* sh_b\n",
    "* sh_c\n",
    "* day\n",
    "* month\n",
    "* Sales"
   ]
  },
  {
   "cell_type": "markdown",
   "metadata": {
    "id": "TNVZ9zx19K6k"
   },
   "source": [
    "### 5. Data Transformation"
   ]
  },
  {
   "cell_type": "markdown",
   "metadata": {
    "id": "nqoHp30x9hH9"
   },
   "source": [
    "#### Do you think that your data needs to be transformed? If yes, which transformation have you used. Explain Why?"
   ]
  },
  {
   "cell_type": "code",
   "execution_count": null,
   "metadata": {
    "id": "I6quWQ1T9rtH"
   },
   "outputs": [],
   "source": [
    "# Transform Your data\n",
    "X = np.log10(selected_df[['Customers','CompetitionDistance']])\n",
    "selected_df['Customers'] = X['Customers']\n",
    "selected_df['CompetitionDistance'] = X['CompetitionDistance']\n",
    "del X"
   ]
  },
  {
   "cell_type": "markdown",
   "metadata": {
    "id": "a2mbVkgu4NfS"
   },
   "source": [
    "My data was in different range . To make them in same range data transformation is needed. Here I am using log transformation to make data more close to normal distribution."
   ]
  },
  {
   "cell_type": "markdown",
   "metadata": {
    "id": "rMDnDkt2B6du"
   },
   "source": [
    "### 6. Data Scaling"
   ]
  },
  {
   "cell_type": "code",
   "execution_count": null,
   "metadata": {
    "id": "dL9LWpySC6x_"
   },
   "outputs": [],
   "source": [
    "# Scaling your data\n",
    "standard_scaler = StandardScaler()\n",
    "X = standard_scaler.fit_transform(selected_df[['Customers','CompetitionDistance']])\n",
    "selected_df['Customers'] = X[:,0]\n",
    "selected_df['CompetitionDistance'] = X[:,1]\n",
    "del X"
   ]
  },
  {
   "cell_type": "markdown",
   "metadata": {
    "id": "yiiVWRdJDDil"
   },
   "source": [
    "##### Which method have you used to scale you data and why?"
   ]
  },
  {
   "cell_type": "markdown",
   "metadata": {
    "id": "32kL-5El4NfS"
   },
   "source": [
    "Here I used standard scaler because my data was already close to normal distribution."
   ]
  },
  {
   "cell_type": "markdown",
   "metadata": {
    "id": "1UUpS68QDMuG"
   },
   "source": [
    "### 7. Dimesionality Reduction"
   ]
  },
  {
   "cell_type": "markdown",
   "metadata": {
    "id": "kexQrXU-DjzY"
   },
   "source": [
    "##### Do you think that dimensionality reduction is needed? Explain Why?"
   ]
  },
  {
   "cell_type": "markdown",
   "metadata": {
    "id": "GGRlBsSGDtTQ"
   },
   "source": [
    "I do not think in my case dimentionality reduction is needed because I already have limited features."
   ]
  },
  {
   "cell_type": "code",
   "execution_count": null,
   "metadata": {
    "colab": {
     "base_uri": "https://localhost:8080/"
    },
    "id": "kQfvxBBHDvCa",
    "outputId": "e0a850d5-64bb-4a59-ee28-f6c32832d6ec"
   },
   "outputs": [],
   "source": [
    "# DImensionality Reduction (If needed)\n",
    "\n",
    "from sklearn.decomposition import PCA\n",
    "pca = PCA(random_state=0)\n",
    "X = pca.fit_transform(selected_df.drop(columns=['Sales']))\n",
    "pca.explained_variance_ratio_"
   ]
  },
  {
   "cell_type": "markdown",
   "metadata": {
    "id": "T5CmagL3EC8N"
   },
   "source": [
    "##### Which dimensionality reduction technique have you used and why? (If dimensionality reduction done on dataset.)"
   ]
  },
  {
   "cell_type": "markdown",
   "metadata": {
    "id": "ZKr75IDuEM7t"
   },
   "source": [
    "I used PCA for reducing my dimentions."
   ]
  },
  {
   "cell_type": "markdown",
   "metadata": {
    "id": "BhH2vgX9EjGr"
   },
   "source": [
    "### 8. Data Splitting"
   ]
  },
  {
   "cell_type": "code",
   "execution_count": null,
   "metadata": {
    "id": "0CTyd2UwEyNM"
   },
   "outputs": [],
   "source": [
    "# Split your data to train and test. Choose Splitting ratio wisely.\n",
    "xtrain,xtest,ytrain,ytest = train_test_split(X, selected_df['Sales'], test_size=.2)"
   ]
  },
  {
   "cell_type": "markdown",
   "metadata": {
    "id": "qjKvONjwE8ra"
   },
   "source": [
    "##### What data splitting ratio have you used and why? "
   ]
  },
  {
   "cell_type": "markdown",
   "metadata": {
    "id": "Y2lJ8cobFDb_"
   },
   "source": [
    "I choose 20% for test and rest 80% to train my model because more data is needed to train a model well."
   ]
  },
  {
   "cell_type": "markdown",
   "metadata": {
    "id": "VfCC591jGiD4",
    "jp-MarkdownHeadingCollapsed": true
   },
   "source": [
    "## ***7. ML Model Implementation***"
   ]
  },
  {
   "cell_type": "markdown",
   "metadata": {
    "id": "OB4l2ZhMeS1U"
   },
   "source": [
    "### ML Model - 1 - Linear Regression"
   ]
  },
  {
   "cell_type": "code",
   "execution_count": null,
   "metadata": {
    "colab": {
     "base_uri": "https://localhost:8080/"
    },
    "id": "7ebyywQieS1U",
    "outputId": "2089bf46-4633-4cb0-ac9f-659e31a47acf"
   },
   "outputs": [],
   "source": [
    "# ML Model - 1 Implementation\n",
    "linearModel = LinearRegression()\n",
    "# Fit the Algorithm\n",
    "linearModel.fit(xtrain,ytrain)\n",
    "print(f\" coefficients for the model are :\\n{linearModel.coef_}\")\n",
    "print(f\" Model intercept is : {linearModel.intercept_}\")\n",
    "\n",
    "# Predict on the model\n",
    "pred_train = linearModel.predict(xtrain)\n",
    "pred_test = linearModel.predict(xtest)"
   ]
  },
  {
   "cell_type": "code",
   "execution_count": null,
   "metadata": {
    "colab": {
     "base_uri": "https://localhost:8080/"
    },
    "id": "l_tCTmPoWAqn",
    "outputId": "249e3f3f-cc8b-4c83-8a18-fea203755b6b"
   },
   "outputs": [],
   "source": [
    "linearModel.get_params()"
   ]
  },
  {
   "cell_type": "code",
   "execution_count": null,
   "metadata": {
    "id": "fhSW8JJVzm84"
   },
   "outputs": [],
   "source": [
    "def show_metrix(xtrain,ytrain,xtest,ytest):\n",
    "  pd.Series([r2_score(ytrain,pred_train),r2_score(ytest,pred_test)],\\\n",
    "          index=['Train R2_score', 'Test R2_score']).plot.bar(color=['red','green'])\n",
    "  plt.show()\n",
    "  #Printing scores\n",
    "  print(' ')\n",
    "  print(f\"R2_score train : {r2_score(ytrain,pred_train)}\")\n",
    "  print(f\"R2_score test : {r2_score(ytest,pred_test)}\\n\")\n",
    "\n",
    "  # mean squared for train and test\n",
    "  pd.Series([np.math.sqrt(mean_squared_error(ytest,pred_test)),np.math.sqrt(mean_squared_error(ytest,pred_test))],\\\n",
    "            index=['Train RMSE', 'Test RMSE']).plot.bar(color=['red','green'])\n",
    "  plt.show()\n",
    "  # Printing scores\n",
    "  print(' ')\n",
    "  print(f\"Root mean squared error train : {np.math.sqrt(mean_squared_error(ytrain,pred_train))}\")\n",
    "  print(f\"Root mean squared error test : {np.math.sqrt(mean_squared_error(ytest,pred_test))}\")"
   ]
  },
  {
   "cell_type": "code",
   "execution_count": null,
   "metadata": {
    "colab": {
     "base_uri": "https://localhost:8080/",
     "height": 0
    },
    "id": "rqD5ZohzfxKe",
    "outputId": "bc5142d8-9920-488e-b89e-8b84d7225a38"
   },
   "outputs": [],
   "source": [
    "# Visualizing evaluation Metric Score chart\n",
    "plt.rcParams['figure.figsize'] = (20,3)\n",
    "# Metrices\n",
    "show_metrix(xtrain,ytrain,xtest,ytest)"
   ]
  },
  {
   "cell_type": "markdown",
   "metadata": {
    "id": "CYgyURTgBHZ8"
   },
   "source": [
    "Here I am using R2score evaluation matrix to see the performance of my model my r2score is .78 for train and test predictions.\n",
    "then I used root mean squared error matrix to see the error for actual and predicted data and the error for train is 1115 and for test is 1117 which is nearly equal to each other therefore I can say that the model is not overfit."
   ]
  },
  {
   "cell_type": "markdown",
   "metadata": {
    "id": "4qY1EAkEfxKe"
   },
   "source": [
    "#### 2. Cross- Validation & Hyperparameter Tuning"
   ]
  },
  {
   "cell_type": "code",
   "execution_count": null,
   "metadata": {
    "colab": {
     "base_uri": "https://localhost:8080/"
    },
    "id": "Dy61ujd6fxKe",
    "outputId": "405e9797-648a-445c-ecfa-62a949cbdca9"
   },
   "outputs": [],
   "source": [
    "# ML Model - 1 Implementation with hyperparameter optimization techniques (i.e., GridSearch CV, RandomSearch CV, Bayesian Optimization etc.)\n",
    "grid_param = {'fit_intercept': [True,False],'positive': [True,False]}\n",
    "grid_model = GridSearchCV(linearModel,cv=10, param_grid = grid_param)\n",
    "# cross validation fitting\n",
    "grid_model.fit(xtrain,ytrain)\n",
    "bestLinearEstimator = grid_model.best_estimator_\n",
    "\n",
    "print(f\" coefficients for the model are :\\n{bestLinearEstimator.coef_}\")\n",
    "print(f\" Model intercept is : {bestLinearEstimator.intercept_}\")\n",
    "\n",
    "# Predict on the model\n",
    "pred_train = bestLinearEstimator.predict(xtrain)\n",
    "pred_test = bestLinearEstimator.predict(xtest)"
   ]
  },
  {
   "cell_type": "code",
   "execution_count": null,
   "metadata": {
    "colab": {
     "base_uri": "https://localhost:8080/",
     "height": 0
    },
    "id": "AXPFeWZZ4NfW",
    "outputId": "2ddfdf10-25ff-4c6e-aa7a-b1aded645df8"
   },
   "outputs": [],
   "source": [
    "# Visualizing evaluation Metric Score chart\n",
    "# Metrices\n",
    "show_metrix(xtrain,ytrain,xtest,ytest)"
   ]
  },
  {
   "cell_type": "markdown",
   "metadata": {
    "id": "PiV4Ypx8fxKe"
   },
   "source": [
    "##### Which hyperparameter optimization technique have you used and why?"
   ]
  },
  {
   "cell_type": "markdown",
   "metadata": {
    "id": "negyGRa7fxKf"
   },
   "source": [
    "I used fit_intercept and positive hyper parameters to tune the model because Linear Regression has limited hyper parameters."
   ]
  },
  {
   "cell_type": "markdown",
   "metadata": {
    "id": "TfvqoZmBfxKf"
   },
   "source": [
    "##### Have you seen any improvement? Note down the improvement with updates Evaluation metric Score Chart."
   ]
  },
  {
   "cell_type": "markdown",
   "metadata": {
    "id": "OaLui8CcfxKf"
   },
   "source": [
    "I did not see any improvement."
   ]
  },
  {
   "cell_type": "markdown",
   "metadata": {
    "id": "dJ2tPlVmpsJ0"
   },
   "source": [
    "### ML Model - 2 - Decision Tree Regressor"
   ]
  },
  {
   "cell_type": "markdown",
   "metadata": {
    "id": "JWYfwnehpsJ1"
   },
   "source": [
    "#### 1. Explain the ML Model used and it's performance using Evaluation metric Score Chart."
   ]
  },
  {
   "cell_type": "code",
   "execution_count": null,
   "metadata": {
    "id": "yEl-hgQWpsJ1"
   },
   "outputs": [],
   "source": [
    "# Fitting decission tree regressor\n",
    "dtrModel = DecisionTreeRegressor()\n",
    "dtrModel.fit(xtrain,ytrain)\n",
    "\n",
    "# Predicting\n",
    "pred_train = dtrModel.predict(xtrain)\n",
    "pred_test = dtrModel.predict(xtest)"
   ]
  },
  {
   "cell_type": "code",
   "execution_count": null,
   "metadata": {
    "colab": {
     "base_uri": "https://localhost:8080/",
     "height": 0
    },
    "id": "_bxHRcopT-Ku",
    "outputId": "2e31a886-cf4d-4434-a6a8-96e368354094"
   },
   "outputs": [],
   "source": [
    "# Visualizing evaluation Metric Score chart\n",
    "\n",
    "# Metrices\n",
    "show_metrix(xtrain,ytrain,xtest,ytest)"
   ]
  },
  {
   "cell_type": "markdown",
   "metadata": {
    "id": "-jK_YjpMpsJ2"
   },
   "source": [
    "#### 2. Cross- Validation & Hyperparameter Tuning"
   ]
  },
  {
   "cell_type": "code",
   "execution_count": null,
   "metadata": {
    "colab": {
     "base_uri": "https://localhost:8080/"
    },
    "id": "Dn0EOfS6psJ2",
    "outputId": "ce1f8318-8ee5-4d7b-df78-c09bf17e8ab0"
   },
   "outputs": [],
   "source": [
    "# ML Model - 2 Implementation with hyperparameter optimization techniques (i.e., GridSearch CV, RandomSearch CV, Bayesian Optimization etc.)\n",
    "grid_params = {'max_depth' : [13],'random_state':[1], 'min_samples_leaf': [5]}\n",
    "grid_model = GridSearchCV(estimator=dtrModel,cv= 3, param_grid=grid_params, verbose=2)\n",
    "\n",
    "# Fit the Algorithm\n",
    "grid_model.fit(xtrain,ytrain)\n",
    "bestDtrEstimator = grid_model.best_estimator_\n",
    "# Predict on the model\n",
    "pred_train = bestDtrEstimator.predict(xtrain)\n",
    "pred_test = bestDtrEstimator.predict(xtest)"
   ]
  },
  {
   "cell_type": "code",
   "execution_count": null,
   "metadata": {
    "colab": {
     "base_uri": "https://localhost:8080/",
     "height": 0
    },
    "id": "MwY4U3lvUsHU",
    "outputId": "8d55bdc1-ce0d-4378-e712-d26463b9ffe6"
   },
   "outputs": [],
   "source": [
    "# Visualizing evaluation Metric Score chart\n",
    "# Metrices\n",
    "show_metrix(xtrain,ytrain,xtest,ytest)"
   ]
  },
  {
   "cell_type": "markdown",
   "metadata": {
    "id": "HAih1iBOpsJ2"
   },
   "source": [
    "##### Which hyperparameter optimization technique have you used and why?"
   ]
  },
  {
   "cell_type": "markdown",
   "metadata": {
    "id": "9kBgjYcdpsJ2"
   },
   "source": [
    "I used ['max_depth' : [12],'random_state':[1], 'min_samples_leaf': [5]] to avoid overfitting."
   ]
  },
  {
   "cell_type": "markdown",
   "metadata": {
    "id": "zVGeBEFhpsJ2"
   },
   "source": [
    "##### Have you seen any improvement? Note down the improvement with updates Evaluation metric Score Chart."
   ]
  },
  {
   "cell_type": "markdown",
   "metadata": {
    "id": "74yRdG6UpsJ3"
   },
   "source": [
    "Yes earlier the model was overfitted but after cross validation model is good."
   ]
  },
  {
   "cell_type": "markdown",
   "metadata": {
    "id": "bmKjuQ-FpsJ3"
   },
   "source": [
    "#### 3. Explain each evaluation metric's indication towards business and the business impact pf the ML model used."
   ]
  },
  {
   "cell_type": "markdown",
   "metadata": {
    "id": "BDKtOrBQpsJ3"
   },
   "source": [
    "I am using r2score to see the score  of the model and root mean squared error to determine the error. r2 score for the model in train case is .85 and in test case .84. Error for train is 872 and for test is 922 so the difference is not much therefore after applying cross validation and  hyper parameter tuning the model is working good."
   ]
  },
  {
   "cell_type": "markdown",
   "metadata": {
    "id": "Fze-IPXLpx6K"
   },
   "source": [
    "### ML Model - 3 - XGBoostRegressor"
   ]
  },
  {
   "cell_type": "code",
   "execution_count": null,
   "metadata": {
    "colab": {
     "base_uri": "https://localhost:8080/"
    },
    "id": "FFrSXAtrpx6M",
    "outputId": "908d28c7-807b-42c6-be29-82e16dd59019"
   },
   "outputs": [],
   "source": [
    "# ML Model - 3 Implementation\n",
    "xgbModel = XGBRegressor(random_state=0)\n",
    "# Fit the Algorithm\n",
    "xgbModel.fit(xtrain,ytrain)\n",
    "# Predict on the model\n",
    "pred_train = xgbModel.predict(xtrain)\n",
    "pred_test = xgbModel.predict(xtest)"
   ]
  },
  {
   "cell_type": "markdown",
   "metadata": {
    "id": "7AN1z2sKpx6M"
   },
   "source": [
    "#### 1. Explain the ML Model used and it's performance using Evaluation metric Score Chart."
   ]
  },
  {
   "cell_type": "code",
   "execution_count": null,
   "metadata": {
    "colab": {
     "base_uri": "https://localhost:8080/",
     "height": 641
    },
    "id": "xIY4lxxGpx6M",
    "outputId": "fa685b85-ed03-4f89-f269-e5aa2b1da859"
   },
   "outputs": [],
   "source": [
    "# Visualizing evaluation Metric Score chart\n",
    "# Metrices\n",
    "show_metrix(xtrain,ytrain,xtest,ytest)"
   ]
  },
  {
   "cell_type": "markdown",
   "metadata": {
    "id": "9PIHJqyupx6M"
   },
   "source": [
    "#### 2. Cross- Validation & Hyperparameter Tuning"
   ]
  },
  {
   "cell_type": "code",
   "execution_count": null,
   "metadata": {
    "colab": {
     "base_uri": "https://localhost:8080/"
    },
    "id": "eSVXuaSKpx6M",
    "outputId": "eb6f9e48-6547-4c22-ea55-fdcec8b7da49"
   },
   "outputs": [],
   "source": [
    "# ML Model - 3 Implementation with hyperparameter optimization techniques (i.e., GridSearch CV, RandomSearch CV, Bayesian Optimization etc.)\n",
    "grid_params = {'learning_rate':[.8],'random_state' :[0],'n_estimators': [120]}\n",
    "grid_model = GridSearchCV(estimator=xgbModel,cv= 5, param_grid=grid_params,verbose=2)\n",
    "\n",
    "# Fit the Algorithm\n",
    "grid_model.fit(xtrain,ytrain)\n",
    "bestXGBEstimator = grid_model.best_estimator_\n",
    "\n",
    "# Predict on the model\n",
    "pred_train = bestXGBEstimator.predict(xtrain)\n",
    "pred_test = bestXGBEstimator.predict(xtest)"
   ]
  },
  {
   "cell_type": "code",
   "execution_count": null,
   "metadata": {
    "colab": {
     "base_uri": "https://localhost:8080/",
     "height": 0
    },
    "id": "1sPTfbP34Nfb",
    "outputId": "7b3c8a87-a93a-4a8f-ff9c-1b03df16476e"
   },
   "outputs": [],
   "source": [
    "# Visualizing evaluation Metric Score chart\n",
    "# Metrices\n",
    "show_metrix(xtrain,ytrain,xtest,ytest)"
   ]
  },
  {
   "cell_type": "code",
   "execution_count": null,
   "metadata": {
    "colab": {
     "base_uri": "https://localhost:8080/"
    },
    "id": "hhI3kuq64Nfb",
    "outputId": "81620e0a-f8fc-4756-afa8-47aa912229e8"
   },
   "outputs": [],
   "source": [
    "# Get the best parameters\n",
    "grid_model.best_params_"
   ]
  },
  {
   "cell_type": "markdown",
   "metadata": {
    "id": "_-qAgymDpx6N"
   },
   "source": [
    "##### Which hyperparameter optimization technique have you used and why?"
   ]
  },
  {
   "cell_type": "markdown",
   "metadata": {
    "id": "lQMffxkwpx6N"
   },
   "source": [
    "I used \n",
    "* 'learning_rate':[.8] - to get better accuracy\n",
    "* 'random_state' :[0] - to avoid different splits\n",
    "* 'n_estimators': [120] - to get better accuracy"
   ]
  },
  {
   "cell_type": "markdown",
   "metadata": {
    "id": "Z-hykwinpx6N"
   },
   "source": [
    "##### Have you seen any improvement? Note down the improvement with updates Evaluation metric Score Chart."
   ]
  },
  {
   "cell_type": "markdown",
   "metadata": {
    "id": "MzVzZC6opx6N"
   },
   "source": [
    "Yes the model is slightly improved and giving better scores."
   ]
  },
  {
   "cell_type": "markdown",
   "metadata": {
    "id": "h_CCil-SKHpo"
   },
   "source": [
    "### 1. Which Evaluation metrics did you consider for a positive business impact and why?"
   ]
  },
  {
   "cell_type": "markdown",
   "metadata": {
    "id": "jHVz9hHDKFms"
   },
   "source": [
    "I considered \n",
    "* R2 score to compare the scores\n",
    "* mean squared error to compare errors."
   ]
  },
  {
   "cell_type": "markdown",
   "metadata": {
    "id": "cBFFvTBNJzUa"
   },
   "source": [
    "### 2. Which ML model did you choose from the above created models as your final prediction model and why?"
   ]
  },
  {
   "cell_type": "markdown",
   "metadata": {
    "id": "6ksF5Q1LKTVm"
   },
   "source": [
    "I choosed the third model for my final prediction because this model is giving highest r2 score and least error."
   ]
  },
  {
   "cell_type": "markdown",
   "metadata": {
    "id": "HvGl1hHyA_VK"
   },
   "source": [
    "### 3. Explain the model which you have used and the feature importance using any model explainability tool?"
   ]
  },
  {
   "cell_type": "code",
   "execution_count": null,
   "metadata": {
    "id": "PG4Vug_7__UE"
   },
   "outputs": [],
   "source": [
    "import shap\n",
    "explainer = shap.Explainer(bestXGBEstimator)\n",
    "shap_values = explainer(xtest)"
   ]
  },
  {
   "cell_type": "code",
   "execution_count": null,
   "metadata": {
    "colab": {
     "base_uri": "https://localhost:8080/",
     "height": 194
    },
    "id": "ol1Yjs-xM32y",
    "outputId": "2c6f89d1-c49a-4ce3-ec1c-b6c278dcdc2e"
   },
   "outputs": [],
   "source": [
    "# Initialize JavaScript visualizations in notebook environment\n",
    "shap.initjs()\n",
    "# Forceplot for first observation\n",
    "shap.plots.force(shap_values[0])"
   ]
  },
  {
   "cell_type": "markdown",
   "metadata": {
    "id": "qF1iXpK7SH77"
   },
   "source": [
    "Force plot shows how features are contributing and the relationship between the features in straight line."
   ]
  },
  {
   "cell_type": "code",
   "execution_count": null,
   "metadata": {
    "colab": {
     "base_uri": "https://localhost:8080/",
     "height": 418
    },
    "id": "Ddq4M6m3OHbL",
    "outputId": "7df8c52b-8504-495f-c821-681421b36fb5"
   },
   "outputs": [],
   "source": [
    "#Mean SHAP\n",
    "shap.plots.bar(shap_values)"
   ]
  },
  {
   "cell_type": "markdown",
   "metadata": {
    "id": "ECHo73p1QJ8k"
   },
   "source": [
    "In bar plot for each feature we calculate mean of the absolute shap values across all observations. Feature that have large mean shap values are those features which have a huge impact on the model prediction."
   ]
  },
  {
   "cell_type": "code",
   "execution_count": null,
   "metadata": {
    "colab": {
     "base_uri": "https://localhost:8080/",
     "height": 368
    },
    "id": "RKKCUdeuOY1T",
    "outputId": "4359c6c9-2500-48f9-da8f-206e3a48702c"
   },
   "outputs": [],
   "source": [
    "# Beeswarm plot\n",
    "shap.plots.beeswarm(shap_values)"
   ]
  },
  {
   "cell_type": "markdown",
   "metadata": {
    "id": "YnvVTiIxBL-C"
   },
   "source": [
    "Beeswarm highlights important relationships of the features from the above chart we can see feature 5, 4,6,3,12 have very huge impact on prediction."
   ]
  },
  {
   "cell_type": "markdown",
   "metadata": {
    "id": "EyNgTHvd2WFk",
    "jp-MarkdownHeadingCollapsed": true
   },
   "source": [
    "## ***8.*** ***Future Work (Optional)***"
   ]
  },
  {
   "cell_type": "markdown",
   "metadata": {
    "id": "KH5McJBi2d8v"
   },
   "source": [
    "### 1. Save the best performing ml model in a pickle file or joblib file format for deployment process.\n"
   ]
  },
  {
   "cell_type": "code",
   "execution_count": null,
   "metadata": {
    "id": "bQIANRl32f4J"
   },
   "outputs": [],
   "source": [
    "# Save the File"
   ]
  },
  {
   "cell_type": "markdown",
   "metadata": {
    "id": "iW_Lq9qf2h6X"
   },
   "source": [
    "### 2. Again Load the saved model file and try to predict unseen data for a sanity check.\n"
   ]
  },
  {
   "cell_type": "code",
   "execution_count": null,
   "metadata": {
    "id": "oEXk9ydD2nVC"
   },
   "outputs": [],
   "source": [
    "# Load the File and predict unseen data."
   ]
  },
  {
   "cell_type": "markdown",
   "metadata": {
    "id": "-Kee-DAl2viO"
   },
   "source": [
    "### ***Congrats! Your model is successfully created and ready for deployment on a live server for a real user interaction !!!***"
   ]
  },
  {
   "cell_type": "markdown",
   "metadata": {
    "id": "gCX9965dhzqZ"
   },
   "source": [
    "# **Conclusion**"
   ]
  },
  {
   "cell_type": "markdown",
   "metadata": {
    "id": "Fjb1IsQkh3yE"
   },
   "source": [
    "1. Here are some solutions to predict sales\n",
    "2. Delete the observations when stores are not opened and also delete the column open because it will contain constant value.\n",
    "3. Target column follows normal distribution if I remove zeros from the data.\n",
    "4. Sum of the sale is least on day 7 it is because mostly on day 7 stores are not opened.\n",
    "5. Average sale is more than 60% in case of promo.\n",
    "6. Average sale is high when there is school holiday.\n",
    "7. Average sale in case of state holiday is less than 3% for each a,b and c.\n",
    "8. Average sales for store type b is highest that is 37% and for type a,c,d is approximately 21%.\n",
    "9. Average sales for assortment b is highest that is more than 42% and for a and c are 27.3% and 30.2% respectively.\n",
    "10. Average sales for promo2 is only 47%.\n",
    "11. We can deploy the model with XGBoost algorithm. Because for training and test dataset, I found 85% r2 scores, 903 and 912 root mean squared error respectively.\n",
    "12. No overfitting is seen."
   ]
  },
  {
   "cell_type": "markdown",
   "metadata": {
    "id": "gIfDvo9L0UH2",
    "jp-MarkdownHeadingCollapsed": true
   },
   "source": [
    "### ***Hurrah! You have successfully completed your Machine Learning Capstone Project !!!***"
   ]
  }
 ],
 "metadata": {
  "colab": {
   "collapsed_sections": [
    "vncDsAP0Gaoa",
    "beRrZCGUAJYm",
    "FJNUwmbgGyua",
    "yQaldy8SH6Dl",
    "mDgbUHAGgjLW",
    "HhfV-JJviCcP",
    "Y3lxredqlCYt",
    "nA9Y7ga8ng1Z",
    "dauF4eBmngu3",
    "MSa1f5Uengrz",
    "GF8Ens_Soomf",
    "0wOQAZs5pc--",
    "KSlN3yHqYklG",
    "EM7whBJCYoAo",
    "4Of9eVA-YrdM",
    "bamQiAODYuh1",
    "OH-pJp9IphqM",
    "PIIx-8_IphqN",
    "BZR9WyysphqO",
    "YJ55k-q6phqO",
    "U2RJ9gkRphqQ",
    "x-EpHcCOp1ci",
    "n3dbpmDWp1ck",
    "Ag9LCva-p1cl",
    "NC_X3p0fY2L0",
    "q29F0dvdveiT",
    "g-ATYxFrGrvw",
    "xiyOF9F70UgQ",
    "id1riN9m0vUs",
    "578E2V7j08f6",
    "89xtkJwZ18nB",
    "C74aWNz2AliB",
    "2DejudWSA-a0",
    "TNVZ9zx19K6k",
    "rMDnDkt2B6du",
    "1UUpS68QDMuG",
    "kexQrXU-DjzY",
    "BhH2vgX9EjGr",
    "OB4l2ZhMeS1U",
    "dJ2tPlVmpsJ0",
    "Fze-IPXLpx6K",
    "h_CCil-SKHpo",
    "cBFFvTBNJzUa",
    "EyNgTHvd2WFk",
    "KH5McJBi2d8v",
    "iW_Lq9qf2h6X",
    "-Kee-DAl2viO",
    "gIfDvo9L0UH2"
   ],
   "provenance": []
  },
  "gpuClass": "standard",
  "kernelspec": {
   "display_name": "Python 3 (ipykernel)",
   "language": "python",
   "name": "python3"
  },
  "language_info": {
   "codemirror_mode": {
    "name": "ipython",
    "version": 3
   },
   "file_extension": ".py",
   "mimetype": "text/x-python",
   "name": "python",
   "nbconvert_exporter": "python",
   "pygments_lexer": "ipython3",
   "version": "3.11.7"
  }
 },
 "nbformat": 4,
 "nbformat_minor": 4
}
