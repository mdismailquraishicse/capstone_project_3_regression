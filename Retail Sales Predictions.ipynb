{
 "cells": [
  {
   "cell_type": "markdown",
   "metadata": {
    "id": "vncDsAP0Gaoa"
   },
   "source": [
    "# **Project Name**    - Retail Sales Prediction"
   ]
  },
  {
   "cell_type": "markdown",
   "metadata": {
    "id": "beRrZCGUAJYm"
   },
   "source": [
    "##### **Project Type**    - Regression\n",
    "##### **Contribution**    - Individual\n",
    "##### **Team Member 1 -** Md Ismail Quraishi"
   ]
  },
  {
   "cell_type": "markdown",
   "metadata": {
    "id": "FJNUwmbgGyua"
   },
   "source": [
    "# **Project Summary -**"
   ]
  },
  {
   "cell_type": "markdown",
   "metadata": {
    "id": "F6v_1wHtG2nS"
   },
   "source": [
    "Write the summary here within 500-600 words."
   ]
  },
  {
   "cell_type": "markdown",
   "metadata": {
    "id": "w6K7xa23Elo4"
   },
   "source": [
    "# **GitHub Link -**"
   ]
  },
  {
   "cell_type": "markdown",
   "metadata": {
    "id": "h1o69JH3Eqqn"
   },
   "source": [
    "https://github.com/mdismailquraishicse/capstone_project_3_regression"
   ]
  },
  {
   "cell_type": "markdown",
   "metadata": {
    "id": "yQaldy8SH6Dl"
   },
   "source": [
    "# **Problem Statement**\n"
   ]
  },
  {
   "cell_type": "markdown",
   "metadata": {
    "id": "DpeJGUA3kjGy"
   },
   "source": [
    "I have two dataset for this project 'Rossmann Stores Data.csv' and 'store.csv'. 'Rossmann Stores Data.csv' has 1017209 rows and 9 columns and 'store.csv' has 1115 rows and 10 columns. I have to do data analysis first for both the datasets and then merge the data after merging the data my task is to apply machine learning regression algorithm to predict the salling price."
   ]
  },
  {
   "cell_type": "markdown",
   "metadata": {
    "id": "mDgbUHAGgjLW"
   },
   "source": [
    "# **General Guidelines** : -  "
   ]
  },
  {
   "cell_type": "markdown",
   "metadata": {
    "id": "ZrxVaUj-hHfC"
   },
   "source": [
    "1.   Well-structured, formatted, and commented code is required. \n",
    "2.   Exception Handling, Production Grade Code & Deployment Ready Code will be a plus. Those students will be awarded some additional credits. \n",
    "     \n",
    "     The additional credits will have advantages over other students during Star Student selection.\n",
    "       \n",
    "             [ Note: - Deployment Ready Code is defined as, the whole .ipynb notebook should be executable in one go\n",
    "                       without a single error logged. ]\n",
    "\n",
    "3.   Each and every logic should have proper comments.\n",
    "4. You may add as many number of charts you want. Make Sure for each and every chart the following format should be answered.\n",
    "        \n",
    "\n",
    "```\n",
    "# Chart visualization code\n",
    "```\n",
    "            \n",
    "\n",
    "*   Why did you pick the specific chart?\n",
    "*   What is/are the insight(s) found from the chart?\n",
    "* Will the gained insights help creating a positive business impact? \n",
    "Are there any insights that lead to negative growth? Justify with specific reason.\n",
    "\n",
    "5. You have to create at least 15 logical & meaningful charts having important insights.\n",
    "\n",
    "\n",
    "[ Hints : - Do the Vizualization in  a structured way while following \"UBM\" Rule. \n",
    "\n",
    "U - Univariate Analysis,\n",
    "\n",
    "B - Bivariate Analysis (Numerical - Categorical, Numerical - Numerical, Categorical - Categorical)\n",
    "\n",
    "M - Multivariate Analysis\n",
    " ]\n",
    "\n",
    "\n",
    "\n",
    "\n",
    "\n",
    "6. You may add more ml algorithms for model creation. Make sure for each and every algorithm, the following format should be answered.\n",
    "\n",
    "\n",
    "*   Explain the ML Model used and it's performance using Evaluation metric Score Chart.\n",
    "\n",
    "\n",
    "*   Cross- Validation & Hyperparameter Tuning\n",
    "\n",
    "*   Have you seen any improvement? Note down the improvement with updates Evaluation metric Score Chart.\n",
    "\n",
    "*   Explain each evaluation metric's indication towards business and the business impact pf the ML model used.\n",
    "\n",
    "\n",
    "\n",
    "\n",
    "\n",
    "\n",
    "\n",
    "\n",
    "\n",
    "\n",
    "\n",
    "\n",
    "\n",
    "\n",
    "\n",
    "\n",
    "\n",
    "\n"
   ]
  },
  {
   "cell_type": "markdown",
   "metadata": {
    "id": "O_i_v8NEhb9l"
   },
   "source": [
    "# ***Let's Begin !***"
   ]
  },
  {
   "cell_type": "markdown",
   "metadata": {
    "id": "HhfV-JJviCcP"
   },
   "source": [
    "## ***1. Know Your Data***"
   ]
  },
  {
   "cell_type": "markdown",
   "metadata": {
    "id": "Y3lxredqlCYt"
   },
   "source": [
    "### Import Libraries"
   ]
  },
  {
   "cell_type": "code",
   "execution_count": 1,
   "metadata": {
    "id": "M8Vqi-pPk-HR"
   },
   "outputs": [],
   "source": [
    "# Import Libraries\n",
    "import numpy as np\n",
    "import pandas as pd\n",
    "import matplotlib.pyplot as plt\n",
    "import seaborn as sns\n",
    "from datetime import datetime\n",
    "from statsmodels.stats.outliers_influence import variance_inflation_factor\n",
    "from sklearn.preprocessing import  StandardScaler,MinMaxScaler\n",
    "from sklearn.model_selection import train_test_split\n",
    "from numpy import math\n",
    "from sklearn.linear_model import LinearRegression\n",
    "from sklearn.metrics import r2_score, mean_squared_error\n",
    "from sklearn.model_selection import GridSearchCV\n",
    "from sklearn.linear_model import Ridge\n",
    "from sklearn.tree import DecisionTreeRegressor\n",
    "from xgboost import XGBRegressor\n",
    "from sklearn.ensemble import IsolationForest\n",
    "from sklearn.decomposition import PCA\n",
    "import warnings\n",
    "warnings.filterwarnings('ignore')"
   ]
  },
  {
   "cell_type": "markdown",
   "metadata": {
    "id": "3RnN4peoiCZX"
   },
   "source": [
    "### Dataset Loading"
   ]
  },
  {
   "cell_type": "code",
   "execution_count": 2,
   "metadata": {
    "id": "4CkvbW_SlZ_R"
   },
   "outputs": [],
   "source": [
    "# Load Dataset\n",
    "# path = '/content/drive/MyDrive/Almabetter/Cohort Nilgiri/Capstone Project/Regression/'\n",
    "path = 'E:/Data Science/amlabetter/Capstone Projects/REGRESSION/'\n",
    "f_names = np.array(['Rossmann Stores Data.csv','store.csv'])\n",
    "rossmann_df = pd.read_csv(path+f_names[0])\n",
    "store_df = pd.read_csv(path+f_names[1])\n",
    "final_df = rossmann_df.merge(store_df,how='left', on='Store')"
   ]
  },
  {
   "cell_type": "markdown",
   "metadata": {
    "id": "x71ZqKXriCWQ"
   },
   "source": [
    "### Dataset First View"
   ]
  },
  {
   "cell_type": "code",
   "execution_count": 3,
   "metadata": {
    "id": "LWNFOSvLl09H"
   },
   "outputs": [
    {
     "data": {
      "text/html": [
       "<div>\n",
       "<style scoped>\n",
       "    .dataframe tbody tr th:only-of-type {\n",
       "        vertical-align: middle;\n",
       "    }\n",
       "\n",
       "    .dataframe tbody tr th {\n",
       "        vertical-align: top;\n",
       "    }\n",
       "\n",
       "    .dataframe thead th {\n",
       "        text-align: right;\n",
       "    }\n",
       "</style>\n",
       "<table border=\"1\" class=\"dataframe\">\n",
       "  <thead>\n",
       "    <tr style=\"text-align: right;\">\n",
       "      <th></th>\n",
       "      <th>Store</th>\n",
       "      <th>DayOfWeek</th>\n",
       "      <th>Date</th>\n",
       "      <th>Sales</th>\n",
       "      <th>Customers</th>\n",
       "      <th>Open</th>\n",
       "      <th>Promo</th>\n",
       "      <th>StateHoliday</th>\n",
       "      <th>SchoolHoliday</th>\n",
       "    </tr>\n",
       "  </thead>\n",
       "  <tbody>\n",
       "    <tr>\n",
       "      <th>0</th>\n",
       "      <td>1</td>\n",
       "      <td>5</td>\n",
       "      <td>2015-07-31</td>\n",
       "      <td>5263</td>\n",
       "      <td>555</td>\n",
       "      <td>1</td>\n",
       "      <td>1</td>\n",
       "      <td>0</td>\n",
       "      <td>1</td>\n",
       "    </tr>\n",
       "    <tr>\n",
       "      <th>1</th>\n",
       "      <td>2</td>\n",
       "      <td>5</td>\n",
       "      <td>2015-07-31</td>\n",
       "      <td>6064</td>\n",
       "      <td>625</td>\n",
       "      <td>1</td>\n",
       "      <td>1</td>\n",
       "      <td>0</td>\n",
       "      <td>1</td>\n",
       "    </tr>\n",
       "    <tr>\n",
       "      <th>2</th>\n",
       "      <td>3</td>\n",
       "      <td>5</td>\n",
       "      <td>2015-07-31</td>\n",
       "      <td>8314</td>\n",
       "      <td>821</td>\n",
       "      <td>1</td>\n",
       "      <td>1</td>\n",
       "      <td>0</td>\n",
       "      <td>1</td>\n",
       "    </tr>\n",
       "    <tr>\n",
       "      <th>3</th>\n",
       "      <td>4</td>\n",
       "      <td>5</td>\n",
       "      <td>2015-07-31</td>\n",
       "      <td>13995</td>\n",
       "      <td>1498</td>\n",
       "      <td>1</td>\n",
       "      <td>1</td>\n",
       "      <td>0</td>\n",
       "      <td>1</td>\n",
       "    </tr>\n",
       "    <tr>\n",
       "      <th>4</th>\n",
       "      <td>5</td>\n",
       "      <td>5</td>\n",
       "      <td>2015-07-31</td>\n",
       "      <td>4822</td>\n",
       "      <td>559</td>\n",
       "      <td>1</td>\n",
       "      <td>1</td>\n",
       "      <td>0</td>\n",
       "      <td>1</td>\n",
       "    </tr>\n",
       "  </tbody>\n",
       "</table>\n",
       "</div>"
      ],
      "text/plain": [
       "   Store  DayOfWeek        Date  Sales  Customers  Open  Promo StateHoliday  \\\n",
       "0      1          5  2015-07-31   5263        555     1      1            0   \n",
       "1      2          5  2015-07-31   6064        625     1      1            0   \n",
       "2      3          5  2015-07-31   8314        821     1      1            0   \n",
       "3      4          5  2015-07-31  13995       1498     1      1            0   \n",
       "4      5          5  2015-07-31   4822        559     1      1            0   \n",
       "\n",
       "   SchoolHoliday  \n",
       "0              1  \n",
       "1              1  \n",
       "2              1  \n",
       "3              1  \n",
       "4              1  "
      ]
     },
     "execution_count": 3,
     "metadata": {},
     "output_type": "execute_result"
    }
   ],
   "source": [
    "# Dataset First Look\n",
    "\n",
    "# First view for rossmann_df\n",
    "rossmann_df.head()"
   ]
  },
  {
   "cell_type": "code",
   "execution_count": 4,
   "metadata": {},
   "outputs": [
    {
     "data": {
      "text/html": [
       "<div>\n",
       "<style scoped>\n",
       "    .dataframe tbody tr th:only-of-type {\n",
       "        vertical-align: middle;\n",
       "    }\n",
       "\n",
       "    .dataframe tbody tr th {\n",
       "        vertical-align: top;\n",
       "    }\n",
       "\n",
       "    .dataframe thead th {\n",
       "        text-align: right;\n",
       "    }\n",
       "</style>\n",
       "<table border=\"1\" class=\"dataframe\">\n",
       "  <thead>\n",
       "    <tr style=\"text-align: right;\">\n",
       "      <th></th>\n",
       "      <th>Store</th>\n",
       "      <th>StoreType</th>\n",
       "      <th>Assortment</th>\n",
       "      <th>CompetitionDistance</th>\n",
       "      <th>CompetitionOpenSinceMonth</th>\n",
       "      <th>CompetitionOpenSinceYear</th>\n",
       "      <th>Promo2</th>\n",
       "      <th>Promo2SinceWeek</th>\n",
       "      <th>Promo2SinceYear</th>\n",
       "      <th>PromoInterval</th>\n",
       "    </tr>\n",
       "  </thead>\n",
       "  <tbody>\n",
       "    <tr>\n",
       "      <th>0</th>\n",
       "      <td>1</td>\n",
       "      <td>c</td>\n",
       "      <td>a</td>\n",
       "      <td>1270.0</td>\n",
       "      <td>9.0</td>\n",
       "      <td>2008.0</td>\n",
       "      <td>0</td>\n",
       "      <td>NaN</td>\n",
       "      <td>NaN</td>\n",
       "      <td>NaN</td>\n",
       "    </tr>\n",
       "    <tr>\n",
       "      <th>1</th>\n",
       "      <td>2</td>\n",
       "      <td>a</td>\n",
       "      <td>a</td>\n",
       "      <td>570.0</td>\n",
       "      <td>11.0</td>\n",
       "      <td>2007.0</td>\n",
       "      <td>1</td>\n",
       "      <td>13.0</td>\n",
       "      <td>2010.0</td>\n",
       "      <td>Jan,Apr,Jul,Oct</td>\n",
       "    </tr>\n",
       "    <tr>\n",
       "      <th>2</th>\n",
       "      <td>3</td>\n",
       "      <td>a</td>\n",
       "      <td>a</td>\n",
       "      <td>14130.0</td>\n",
       "      <td>12.0</td>\n",
       "      <td>2006.0</td>\n",
       "      <td>1</td>\n",
       "      <td>14.0</td>\n",
       "      <td>2011.0</td>\n",
       "      <td>Jan,Apr,Jul,Oct</td>\n",
       "    </tr>\n",
       "    <tr>\n",
       "      <th>3</th>\n",
       "      <td>4</td>\n",
       "      <td>c</td>\n",
       "      <td>c</td>\n",
       "      <td>620.0</td>\n",
       "      <td>9.0</td>\n",
       "      <td>2009.0</td>\n",
       "      <td>0</td>\n",
       "      <td>NaN</td>\n",
       "      <td>NaN</td>\n",
       "      <td>NaN</td>\n",
       "    </tr>\n",
       "    <tr>\n",
       "      <th>4</th>\n",
       "      <td>5</td>\n",
       "      <td>a</td>\n",
       "      <td>a</td>\n",
       "      <td>29910.0</td>\n",
       "      <td>4.0</td>\n",
       "      <td>2015.0</td>\n",
       "      <td>0</td>\n",
       "      <td>NaN</td>\n",
       "      <td>NaN</td>\n",
       "      <td>NaN</td>\n",
       "    </tr>\n",
       "  </tbody>\n",
       "</table>\n",
       "</div>"
      ],
      "text/plain": [
       "   Store StoreType Assortment  CompetitionDistance  CompetitionOpenSinceMonth  \\\n",
       "0      1         c          a               1270.0                        9.0   \n",
       "1      2         a          a                570.0                       11.0   \n",
       "2      3         a          a              14130.0                       12.0   \n",
       "3      4         c          c                620.0                        9.0   \n",
       "4      5         a          a              29910.0                        4.0   \n",
       "\n",
       "   CompetitionOpenSinceYear  Promo2  Promo2SinceWeek  Promo2SinceYear  \\\n",
       "0                    2008.0       0              NaN              NaN   \n",
       "1                    2007.0       1             13.0           2010.0   \n",
       "2                    2006.0       1             14.0           2011.0   \n",
       "3                    2009.0       0              NaN              NaN   \n",
       "4                    2015.0       0              NaN              NaN   \n",
       "\n",
       "     PromoInterval  \n",
       "0              NaN  \n",
       "1  Jan,Apr,Jul,Oct  \n",
       "2  Jan,Apr,Jul,Oct  \n",
       "3              NaN  \n",
       "4              NaN  "
      ]
     },
     "execution_count": 4,
     "metadata": {},
     "output_type": "execute_result"
    }
   ],
   "source": [
    "# First view for store_df\n",
    "store_df.head()"
   ]
  },
  {
   "cell_type": "code",
   "execution_count": 5,
   "metadata": {},
   "outputs": [
    {
     "data": {
      "text/html": [
       "<div>\n",
       "<style scoped>\n",
       "    .dataframe tbody tr th:only-of-type {\n",
       "        vertical-align: middle;\n",
       "    }\n",
       "\n",
       "    .dataframe tbody tr th {\n",
       "        vertical-align: top;\n",
       "    }\n",
       "\n",
       "    .dataframe thead th {\n",
       "        text-align: right;\n",
       "    }\n",
       "</style>\n",
       "<table border=\"1\" class=\"dataframe\">\n",
       "  <thead>\n",
       "    <tr style=\"text-align: right;\">\n",
       "      <th></th>\n",
       "      <th>Store</th>\n",
       "      <th>DayOfWeek</th>\n",
       "      <th>Date</th>\n",
       "      <th>Sales</th>\n",
       "      <th>Customers</th>\n",
       "      <th>Open</th>\n",
       "      <th>Promo</th>\n",
       "      <th>StateHoliday</th>\n",
       "      <th>SchoolHoliday</th>\n",
       "      <th>StoreType</th>\n",
       "      <th>Assortment</th>\n",
       "      <th>CompetitionDistance</th>\n",
       "      <th>CompetitionOpenSinceMonth</th>\n",
       "      <th>CompetitionOpenSinceYear</th>\n",
       "      <th>Promo2</th>\n",
       "      <th>Promo2SinceWeek</th>\n",
       "      <th>Promo2SinceYear</th>\n",
       "      <th>PromoInterval</th>\n",
       "    </tr>\n",
       "  </thead>\n",
       "  <tbody>\n",
       "    <tr>\n",
       "      <th>0</th>\n",
       "      <td>1</td>\n",
       "      <td>5</td>\n",
       "      <td>2015-07-31</td>\n",
       "      <td>5263</td>\n",
       "      <td>555</td>\n",
       "      <td>1</td>\n",
       "      <td>1</td>\n",
       "      <td>0</td>\n",
       "      <td>1</td>\n",
       "      <td>c</td>\n",
       "      <td>a</td>\n",
       "      <td>1270.0</td>\n",
       "      <td>9.0</td>\n",
       "      <td>2008.0</td>\n",
       "      <td>0</td>\n",
       "      <td>NaN</td>\n",
       "      <td>NaN</td>\n",
       "      <td>NaN</td>\n",
       "    </tr>\n",
       "    <tr>\n",
       "      <th>1</th>\n",
       "      <td>2</td>\n",
       "      <td>5</td>\n",
       "      <td>2015-07-31</td>\n",
       "      <td>6064</td>\n",
       "      <td>625</td>\n",
       "      <td>1</td>\n",
       "      <td>1</td>\n",
       "      <td>0</td>\n",
       "      <td>1</td>\n",
       "      <td>a</td>\n",
       "      <td>a</td>\n",
       "      <td>570.0</td>\n",
       "      <td>11.0</td>\n",
       "      <td>2007.0</td>\n",
       "      <td>1</td>\n",
       "      <td>13.0</td>\n",
       "      <td>2010.0</td>\n",
       "      <td>Jan,Apr,Jul,Oct</td>\n",
       "    </tr>\n",
       "    <tr>\n",
       "      <th>2</th>\n",
       "      <td>3</td>\n",
       "      <td>5</td>\n",
       "      <td>2015-07-31</td>\n",
       "      <td>8314</td>\n",
       "      <td>821</td>\n",
       "      <td>1</td>\n",
       "      <td>1</td>\n",
       "      <td>0</td>\n",
       "      <td>1</td>\n",
       "      <td>a</td>\n",
       "      <td>a</td>\n",
       "      <td>14130.0</td>\n",
       "      <td>12.0</td>\n",
       "      <td>2006.0</td>\n",
       "      <td>1</td>\n",
       "      <td>14.0</td>\n",
       "      <td>2011.0</td>\n",
       "      <td>Jan,Apr,Jul,Oct</td>\n",
       "    </tr>\n",
       "    <tr>\n",
       "      <th>3</th>\n",
       "      <td>4</td>\n",
       "      <td>5</td>\n",
       "      <td>2015-07-31</td>\n",
       "      <td>13995</td>\n",
       "      <td>1498</td>\n",
       "      <td>1</td>\n",
       "      <td>1</td>\n",
       "      <td>0</td>\n",
       "      <td>1</td>\n",
       "      <td>c</td>\n",
       "      <td>c</td>\n",
       "      <td>620.0</td>\n",
       "      <td>9.0</td>\n",
       "      <td>2009.0</td>\n",
       "      <td>0</td>\n",
       "      <td>NaN</td>\n",
       "      <td>NaN</td>\n",
       "      <td>NaN</td>\n",
       "    </tr>\n",
       "    <tr>\n",
       "      <th>4</th>\n",
       "      <td>5</td>\n",
       "      <td>5</td>\n",
       "      <td>2015-07-31</td>\n",
       "      <td>4822</td>\n",
       "      <td>559</td>\n",
       "      <td>1</td>\n",
       "      <td>1</td>\n",
       "      <td>0</td>\n",
       "      <td>1</td>\n",
       "      <td>a</td>\n",
       "      <td>a</td>\n",
       "      <td>29910.0</td>\n",
       "      <td>4.0</td>\n",
       "      <td>2015.0</td>\n",
       "      <td>0</td>\n",
       "      <td>NaN</td>\n",
       "      <td>NaN</td>\n",
       "      <td>NaN</td>\n",
       "    </tr>\n",
       "  </tbody>\n",
       "</table>\n",
       "</div>"
      ],
      "text/plain": [
       "   Store  DayOfWeek        Date  Sales  Customers  Open  Promo StateHoliday  \\\n",
       "0      1          5  2015-07-31   5263        555     1      1            0   \n",
       "1      2          5  2015-07-31   6064        625     1      1            0   \n",
       "2      3          5  2015-07-31   8314        821     1      1            0   \n",
       "3      4          5  2015-07-31  13995       1498     1      1            0   \n",
       "4      5          5  2015-07-31   4822        559     1      1            0   \n",
       "\n",
       "   SchoolHoliday StoreType Assortment  CompetitionDistance  \\\n",
       "0              1         c          a               1270.0   \n",
       "1              1         a          a                570.0   \n",
       "2              1         a          a              14130.0   \n",
       "3              1         c          c                620.0   \n",
       "4              1         a          a              29910.0   \n",
       "\n",
       "   CompetitionOpenSinceMonth  CompetitionOpenSinceYear  Promo2  \\\n",
       "0                        9.0                    2008.0       0   \n",
       "1                       11.0                    2007.0       1   \n",
       "2                       12.0                    2006.0       1   \n",
       "3                        9.0                    2009.0       0   \n",
       "4                        4.0                    2015.0       0   \n",
       "\n",
       "   Promo2SinceWeek  Promo2SinceYear    PromoInterval  \n",
       "0              NaN              NaN              NaN  \n",
       "1             13.0           2010.0  Jan,Apr,Jul,Oct  \n",
       "2             14.0           2011.0  Jan,Apr,Jul,Oct  \n",
       "3              NaN              NaN              NaN  \n",
       "4              NaN              NaN              NaN  "
      ]
     },
     "execution_count": 5,
     "metadata": {},
     "output_type": "execute_result"
    }
   ],
   "source": [
    "# First view for final_df\n",
    "final_df.head()"
   ]
  },
  {
   "cell_type": "markdown",
   "metadata": {
    "id": "7hBIi_osiCS2"
   },
   "source": [
    "### Dataset Rows & Columns count"
   ]
  },
  {
   "cell_type": "code",
   "execution_count": 6,
   "metadata": {
    "id": "Kllu7SJgmLij"
   },
   "outputs": [
    {
     "name": "stdout",
     "output_type": "stream",
     "text": [
      " Rows and columns count for rossmann_df : (1017209, 9)\n",
      " Rows and columns count for store_df : (1115, 10)\n",
      " Rows and columns count for final_df : (1017209, 18)\n"
     ]
    }
   ],
   "source": [
    "# Dataset Rows & Columns count\n",
    "\n",
    "# Rows and column counts for  rossmann_df\n",
    "print(f\" Rows and columns count for rossmann_df : {rossmann_df.shape}\")\n",
    "print(f\" Rows and columns count for store_df : {store_df.shape}\")\n",
    "print(f\" Rows and columns count for final_df : {final_df.shape}\")"
   ]
  },
  {
   "cell_type": "markdown",
   "metadata": {
    "id": "JlHwYmJAmNHm"
   },
   "source": [
    "### Dataset Information"
   ]
  },
  {
   "cell_type": "code",
   "execution_count": 7,
   "metadata": {
    "id": "e9hRXRi6meOf"
   },
   "outputs": [
    {
     "name": "stdout",
     "output_type": "stream",
     "text": [
      "Dataset info for rossmann_df : \n",
      "<class 'pandas.core.frame.DataFrame'>\n",
      "RangeIndex: 1017209 entries, 0 to 1017208\n",
      "Data columns (total 9 columns):\n",
      " #   Column         Non-Null Count    Dtype \n",
      "---  ------         --------------    ----- \n",
      " 0   Store          1017209 non-null  int64 \n",
      " 1   DayOfWeek      1017209 non-null  int64 \n",
      " 2   Date           1017209 non-null  object\n",
      " 3   Sales          1017209 non-null  int64 \n",
      " 4   Customers      1017209 non-null  int64 \n",
      " 5   Open           1017209 non-null  int64 \n",
      " 6   Promo          1017209 non-null  int64 \n",
      " 7   StateHoliday   1017209 non-null  object\n",
      " 8   SchoolHoliday  1017209 non-null  int64 \n",
      "dtypes: int64(7), object(2)\n",
      "memory usage: 69.8+ MB\n",
      "\n",
      "Dataset info for store_df : \n",
      "<class 'pandas.core.frame.DataFrame'>\n",
      "RangeIndex: 1115 entries, 0 to 1114\n",
      "Data columns (total 10 columns):\n",
      " #   Column                     Non-Null Count  Dtype  \n",
      "---  ------                     --------------  -----  \n",
      " 0   Store                      1115 non-null   int64  \n",
      " 1   StoreType                  1115 non-null   object \n",
      " 2   Assortment                 1115 non-null   object \n",
      " 3   CompetitionDistance        1112 non-null   float64\n",
      " 4   CompetitionOpenSinceMonth  761 non-null    float64\n",
      " 5   CompetitionOpenSinceYear   761 non-null    float64\n",
      " 6   Promo2                     1115 non-null   int64  \n",
      " 7   Promo2SinceWeek            571 non-null    float64\n",
      " 8   Promo2SinceYear            571 non-null    float64\n",
      " 9   PromoInterval              571 non-null    object \n",
      "dtypes: float64(5), int64(2), object(3)\n",
      "memory usage: 87.2+ KB\n",
      "\n",
      "Dataset info for final_df : \n",
      "<class 'pandas.core.frame.DataFrame'>\n",
      "Int64Index: 1017209 entries, 0 to 1017208\n",
      "Data columns (total 18 columns):\n",
      " #   Column                     Non-Null Count    Dtype  \n",
      "---  ------                     --------------    -----  \n",
      " 0   Store                      1017209 non-null  int64  \n",
      " 1   DayOfWeek                  1017209 non-null  int64  \n",
      " 2   Date                       1017209 non-null  object \n",
      " 3   Sales                      1017209 non-null  int64  \n",
      " 4   Customers                  1017209 non-null  int64  \n",
      " 5   Open                       1017209 non-null  int64  \n",
      " 6   Promo                      1017209 non-null  int64  \n",
      " 7   StateHoliday               1017209 non-null  object \n",
      " 8   SchoolHoliday              1017209 non-null  int64  \n",
      " 9   StoreType                  1017209 non-null  object \n",
      " 10  Assortment                 1017209 non-null  object \n",
      " 11  CompetitionDistance        1014567 non-null  float64\n",
      " 12  CompetitionOpenSinceMonth  693861 non-null   float64\n",
      " 13  CompetitionOpenSinceYear   693861 non-null   float64\n",
      " 14  Promo2                     1017209 non-null  int64  \n",
      " 15  Promo2SinceWeek            509178 non-null   float64\n",
      " 16  Promo2SinceYear            509178 non-null   float64\n",
      " 17  PromoInterval              509178 non-null   object \n",
      "dtypes: float64(5), int64(8), object(5)\n",
      "memory usage: 147.5+ MB\n"
     ]
    }
   ],
   "source": [
    "# Dataset Info\n",
    "# rossmann_df\n",
    "print(\"Dataset info for rossmann_df : \")\n",
    "rossmann_df.info()\n",
    "#store_df\n",
    "print(\"\\nDataset info for store_df : \")\n",
    "store_df.info()\n",
    "# final_df\n",
    "print(\"\\nDataset info for final_df : \")\n",
    "final_df.info()"
   ]
  },
  {
   "cell_type": "markdown",
   "metadata": {
    "id": "35m5QtbWiB9F"
   },
   "source": [
    "#### Duplicate Values"
   ]
  },
  {
   "cell_type": "code",
   "execution_count": 8,
   "metadata": {
    "id": "1sLdpKYkmox0"
   },
   "outputs": [
    {
     "name": "stdout",
     "output_type": "stream",
     "text": [
      "\n",
      " duplicate values for rossmann_df : False    1017209\n",
      "dtype: int64\n",
      "\n",
      " duplicate values for store_df : False    1115\n",
      "dtype: int64\n",
      "\n",
      " duplicate values for final_df : False    1017209\n",
      "dtype: int64\n"
     ]
    }
   ],
   "source": [
    "# Dataset Duplicate Value Count\n",
    "# rossmann_df\n",
    "print(f\"\\n duplicate values for rossmann_df : {rossmann_df.duplicated().value_counts()}\")\n",
    "# rossmann_df\n",
    "print(f\"\\n duplicate values for store_df : {store_df.duplicated().value_counts()}\")\n",
    "# rossmann_df\n",
    "print(f\"\\n duplicate values for final_df : {final_df.duplicated().value_counts()}\")"
   ]
  },
  {
   "cell_type": "markdown",
   "metadata": {
    "id": "PoPl-ycgm1ru"
   },
   "source": [
    "#### Missing Values/Null Values"
   ]
  },
  {
   "cell_type": "code",
   "execution_count": 9,
   "metadata": {
    "id": "GgHWkxvamxVg"
   },
   "outputs": [
    {
     "name": "stdout",
     "output_type": "stream",
     "text": [
      "\n",
      "missing/null values for rossmann_df :\n",
      " {'Store': 0, 'DayOfWeek': 0, 'Date': 0, 'Sales': 0, 'Customers': 0, 'Open': 0, 'Promo': 0, 'StateHoliday': 0, 'SchoolHoliday': 0}\n",
      "\n",
      "missing/null values for store_df :\n",
      " {'Store': 0, 'StoreType': 0, 'Assortment': 0, 'CompetitionDistance': 3, 'CompetitionOpenSinceMonth': 354, 'CompetitionOpenSinceYear': 354, 'Promo2': 0, 'Promo2SinceWeek': 544, 'Promo2SinceYear': 544, 'PromoInterval': 544}\n",
      "\n",
      "missing/null values for final_df :\n",
      " {'Store': 0, 'DayOfWeek': 0, 'Date': 0, 'Sales': 0, 'Customers': 0, 'Open': 0, 'Promo': 0, 'StateHoliday': 0, 'SchoolHoliday': 0, 'StoreType': 0, 'Assortment': 0, 'CompetitionDistance': 2642, 'CompetitionOpenSinceMonth': 323348, 'CompetitionOpenSinceYear': 323348, 'Promo2': 0, 'Promo2SinceWeek': 508031, 'Promo2SinceYear': 508031, 'PromoInterval': 508031}\n"
     ]
    }
   ],
   "source": [
    "# Missing Values/Null Values Count\n",
    "# function to calculate the number of null values\n",
    "def null_calculator(df):\n",
    "  result = {}\n",
    "  for col in df.columns:\n",
    "    result[col] = len(df[df[col].isna() == True])\n",
    "  return result\n",
    "# rossmann_df\n",
    "print(f\"\\nmissing/null values for rossmann_df :\\n {null_calculator(rossmann_df)}\")\n",
    "# store_df\n",
    "print(f\"\\nmissing/null values for store_df :\\n {null_calculator(store_df)}\")\n",
    "# rossmann_df\n",
    "print(f\"\\nmissing/null values for final_df :\\n {null_calculator(final_df)}\")"
   ]
  },
  {
   "cell_type": "code",
   "execution_count": 10,
   "metadata": {
    "id": "3q5wnI3om9sJ"
   },
   "outputs": [
    {
     "data": {
      "image/png": "[encoded data removed]",
      "text/plain": [
       "<Figure size 100x200 with 1 Axes>"
      ]
     },
     "metadata": {},
     "output_type": "display_data"
    },
    {
     "data": {
      "image/png": "[encoded data removed]",
      "text/plain": [
       "<Figure size 300x300 with 1 Axes>"
      ]
     },
     "metadata": {},
     "output_type": "display_data"
    },
    {
     "data": {
      "image/png": "[encoded data removed]",
      "text/plain": [
       "<Figure size 300x300 with 1 Axes>"
      ]
     },
     "metadata": {},
     "output_type": "display_data"
    }
   ],
   "source": [
    "# Visualizing the missing values\n",
    "# rossmann_df\n",
    "plt.rcParams['figure.figsize'] = (1,2)\n",
    "pd.Series(null_calculator(rossmann_df)).plot.barh()\n",
    "plt.xlabel('Missing values')\n",
    "plt.ylabel('columns')\n",
    "plt.title('Missing values for rossmann_df')\n",
    "plt.show()\n",
    "# store_df\n",
    "plt.rcParams['figure.figsize'] = (3,3)\n",
    "pd.Series(null_calculator(store_df)).plot.barh()\n",
    "plt.xlabel('Missing values')\n",
    "plt.ylabel('columns')\n",
    "plt.title('Missing values for store_df')\n",
    "plt.show()\n",
    "# final_df\n",
    "plt.rcParams['figure.figsize'] = (3,3)\n",
    "pd.Series(null_calculator(final_df)).plot.barh()\n",
    "plt.xlabel('Missing values')\n",
    "plt.ylabel('columns')\n",
    "plt.title('Missing values for final_df')\n",
    "plt.show()"
   ]
  },
  {
   "cell_type": "markdown",
   "metadata": {
    "id": "H0kj-8xxnORC"
   },
   "source": [
    "### What did you know about your dataset?"
   ]
  },
  {
   "cell_type": "markdown",
   "metadata": {
    "id": "gfoNAAC-nUe_"
   },
   "source": [
    "I am provided with two datasets for this project 1. rossmann_df 2. store_df and got third dataset final_df after merging them."
   ]
  },
  {
   "cell_type": "markdown",
   "metadata": {},
   "source": [
    "rossmann_df : It has 1017209 observations and 9 features without and duplicate and null values. Column names for the dataset are :\n",
    "    <ol><li> Store\n",
    "        <li>DayOfWeek\n",
    "        <li>Date\n",
    "        <li>Sales\n",
    "        <li>Customers\n",
    "        <li>Open\n",
    "        <li>Promo\n",
    "        <li>StateHoliday\n",
    "        <li>SchoolHoliday"
   ]
  },
  {
   "cell_type": "markdown",
   "metadata": {},
   "source": [
    "store_df : It has 1115 observations and 10 features without duplicate values but there are some null values. Column names and null values for each column are given below :\n",
    "    <ol><li> Store\n",
    "        <li>StoreType\n",
    "        <li>Assortment\n",
    "        <li>CompetitionDistance : 3 null values\n",
    "        <li>CompetitionOpenSinceMonth : 354 null values\n",
    "        <li>CompetitionOpenSinceYear : 354 null values\n",
    "        <li>Promo2\n",
    "        <li>Promo2SinceWeek : 544 null values\n",
    "        <li>Promo2SinceYear : 544 null values\n",
    "        <li>PromoInterval : 544 null values"
   ]
  },
  {
   "cell_type": "markdown",
   "metadata": {},
   "source": [
    "final_df : It has 1017209 rows and 18 columns and null values are below:\n",
    "\n",
    "{'Store': 0,\n",
    " 'DayOfWeek': 0,\n",
    " 'Date': 0,\n",
    " 'Sales': 0,\n",
    " 'Customers': 0,\n",
    " 'Open': 0,\n",
    " 'Promo': 0,\n",
    " 'StateHoliday': 0,\n",
    " 'SchoolHoliday': 0,\n",
    " 'StoreType': 0,\n",
    " 'Assortment': 0,\n",
    " 'CompetitionDistance': 2642,\n",
    " 'CompetitionOpenSinceMonth': 323348,\n",
    " 'CompetitionOpenSinceYear': 323348,\n",
    " 'Promo2': 0,\n",
    " 'Promo2SinceWeek': 508031,\n",
    " 'Promo2SinceYear': 508031,\n",
    " 'PromoInterval': 508031}"
   ]
  },
  {
   "cell_type": "markdown",
   "metadata": {
    "id": "nA9Y7ga8ng1Z"
   },
   "source": [
    "## ***2. Understanding Your Variables***"
   ]
  },
  {
   "cell_type": "code",
   "execution_count": 11,
   "metadata": {
    "id": "j7xfkqrt5Ag5"
   },
   "outputs": [
    {
     "name": "stdout",
     "output_type": "stream",
     "text": [
      "\n",
      "Columns for  rossmann_df : Index(['Store', 'DayOfWeek', 'Date', 'Sales', 'Customers', 'Open', 'Promo',\n",
      "       'StateHoliday', 'SchoolHoliday'],\n",
      "      dtype='object')\n",
      "\n",
      "Columns for  store_df : Index(['Store', 'StoreType', 'Assortment', 'CompetitionDistance',\n",
      "       'CompetitionOpenSinceMonth', 'CompetitionOpenSinceYear', 'Promo2',\n",
      "       'Promo2SinceWeek', 'Promo2SinceYear', 'PromoInterval'],\n",
      "      dtype='object')\n",
      "\n",
      "Columns for  final_df : Index(['Store', 'DayOfWeek', 'Date', 'Sales', 'Customers', 'Open', 'Promo',\n",
      "       'StateHoliday', 'SchoolHoliday', 'StoreType', 'Assortment',\n",
      "       'CompetitionDistance', 'CompetitionOpenSinceMonth',\n",
      "       'CompetitionOpenSinceYear', 'Promo2', 'Promo2SinceWeek',\n",
      "       'Promo2SinceYear', 'PromoInterval'],\n",
      "      dtype='object')\n"
     ]
    }
   ],
   "source": [
    "# Dataset Columns\n",
    "print(f\"\\nColumns for  rossmann_df : {rossmann_df.columns}\")\n",
    "print(f\"\\nColumns for  store_df : {store_df.columns}\")\n",
    "print(f\"\\nColumns for  final_df : {final_df.columns}\")"
   ]
  },
  {
   "cell_type": "code",
   "execution_count": 12,
   "metadata": {
    "id": "DnOaZdaE5Q5t"
   },
   "outputs": [
    {
     "data": {
      "text/html": [
       "<div>\n",
       "<style scoped>\n",
       "    .dataframe tbody tr th:only-of-type {\n",
       "        vertical-align: middle;\n",
       "    }\n",
       "\n",
       "    .dataframe tbody tr th {\n",
       "        vertical-align: top;\n",
       "    }\n",
       "\n",
       "    .dataframe thead th {\n",
       "        text-align: right;\n",
       "    }\n",
       "</style>\n",
       "<table border=\"1\" class=\"dataframe\">\n",
       "  <thead>\n",
       "    <tr style=\"text-align: right;\">\n",
       "      <th></th>\n",
       "      <th>Store</th>\n",
       "      <th>DayOfWeek</th>\n",
       "      <th>Sales</th>\n",
       "      <th>Customers</th>\n",
       "      <th>Open</th>\n",
       "      <th>Promo</th>\n",
       "      <th>SchoolHoliday</th>\n",
       "    </tr>\n",
       "  </thead>\n",
       "  <tbody>\n",
       "    <tr>\n",
       "      <th>count</th>\n",
       "      <td>1.017209e+06</td>\n",
       "      <td>1.017209e+06</td>\n",
       "      <td>1.017209e+06</td>\n",
       "      <td>1.017209e+06</td>\n",
       "      <td>1.017209e+06</td>\n",
       "      <td>1.017209e+06</td>\n",
       "      <td>1.017209e+06</td>\n",
       "    </tr>\n",
       "    <tr>\n",
       "      <th>mean</th>\n",
       "      <td>5.584297e+02</td>\n",
       "      <td>3.998341e+00</td>\n",
       "      <td>5.773819e+03</td>\n",
       "      <td>6.331459e+02</td>\n",
       "      <td>8.301067e-01</td>\n",
       "      <td>3.815145e-01</td>\n",
       "      <td>1.786467e-01</td>\n",
       "    </tr>\n",
       "    <tr>\n",
       "      <th>std</th>\n",
       "      <td>3.219087e+02</td>\n",
       "      <td>1.997391e+00</td>\n",
       "      <td>3.849926e+03</td>\n",
       "      <td>4.644117e+02</td>\n",
       "      <td>3.755392e-01</td>\n",
       "      <td>4.857586e-01</td>\n",
       "      <td>3.830564e-01</td>\n",
       "    </tr>\n",
       "    <tr>\n",
       "      <th>min</th>\n",
       "      <td>1.000000e+00</td>\n",
       "      <td>1.000000e+00</td>\n",
       "      <td>0.000000e+00</td>\n",
       "      <td>0.000000e+00</td>\n",
       "      <td>0.000000e+00</td>\n",
       "      <td>0.000000e+00</td>\n",
       "      <td>0.000000e+00</td>\n",
       "    </tr>\n",
       "    <tr>\n",
       "      <th>25%</th>\n",
       "      <td>2.800000e+02</td>\n",
       "      <td>2.000000e+00</td>\n",
       "      <td>3.727000e+03</td>\n",
       "      <td>4.050000e+02</td>\n",
       "      <td>1.000000e+00</td>\n",
       "      <td>0.000000e+00</td>\n",
       "      <td>0.000000e+00</td>\n",
       "    </tr>\n",
       "    <tr>\n",
       "      <th>50%</th>\n",
       "      <td>5.580000e+02</td>\n",
       "      <td>4.000000e+00</td>\n",
       "      <td>5.744000e+03</td>\n",
       "      <td>6.090000e+02</td>\n",
       "      <td>1.000000e+00</td>\n",
       "      <td>0.000000e+00</td>\n",
       "      <td>0.000000e+00</td>\n",
       "    </tr>\n",
       "    <tr>\n",
       "      <th>75%</th>\n",
       "      <td>8.380000e+02</td>\n",
       "      <td>6.000000e+00</td>\n",
       "      <td>7.856000e+03</td>\n",
       "      <td>8.370000e+02</td>\n",
       "      <td>1.000000e+00</td>\n",
       "      <td>1.000000e+00</td>\n",
       "      <td>0.000000e+00</td>\n",
       "    </tr>\n",
       "    <tr>\n",
       "      <th>max</th>\n",
       "      <td>1.115000e+03</td>\n",
       "      <td>7.000000e+00</td>\n",
       "      <td>4.155100e+04</td>\n",
       "      <td>7.388000e+03</td>\n",
       "      <td>1.000000e+00</td>\n",
       "      <td>1.000000e+00</td>\n",
       "      <td>1.000000e+00</td>\n",
       "    </tr>\n",
       "  </tbody>\n",
       "</table>\n",
       "</div>"
      ],
      "text/plain": [
       "              Store     DayOfWeek         Sales     Customers          Open  \\\n",
       "count  1.017209e+06  1.017209e+06  1.017209e+06  1.017209e+06  1.017209e+06   \n",
       "mean   5.584297e+02  3.998341e+00  5.773819e+03  6.331459e+02  8.301067e-01   \n",
       "std    3.219087e+02  1.997391e+00  3.849926e+03  4.644117e+02  3.755392e-01   \n",
       "min    1.000000e+00  1.000000e+00  0.000000e+00  0.000000e+00  0.000000e+00   \n",
       "25%    2.800000e+02  2.000000e+00  3.727000e+03  4.050000e+02  1.000000e+00   \n",
       "50%    5.580000e+02  4.000000e+00  5.744000e+03  6.090000e+02  1.000000e+00   \n",
       "75%    8.380000e+02  6.000000e+00  7.856000e+03  8.370000e+02  1.000000e+00   \n",
       "max    1.115000e+03  7.000000e+00  4.155100e+04  7.388000e+03  1.000000e+00   \n",
       "\n",
       "              Promo  SchoolHoliday  \n",
       "count  1.017209e+06   1.017209e+06  \n",
       "mean   3.815145e-01   1.786467e-01  \n",
       "std    4.857586e-01   3.830564e-01  \n",
       "min    0.000000e+00   0.000000e+00  \n",
       "25%    0.000000e+00   0.000000e+00  \n",
       "50%    0.000000e+00   0.000000e+00  \n",
       "75%    1.000000e+00   0.000000e+00  \n",
       "max    1.000000e+00   1.000000e+00  "
      ]
     },
     "execution_count": 12,
     "metadata": {},
     "output_type": "execute_result"
    }
   ],
   "source": [
    "# Dataset Describe\n",
    "# rossmann_df\n",
    "rossmann_df.describe()"
   ]
  },
  {
   "cell_type": "code",
   "execution_count": 13,
   "metadata": {},
   "outputs": [
    {
     "data": {
      "text/html": [
       "<div>\n",
       "<style scoped>\n",
       "    .dataframe tbody tr th:only-of-type {\n",
       "        vertical-align: middle;\n",
       "    }\n",
       "\n",
       "    .dataframe tbody tr th {\n",
       "        vertical-align: top;\n",
       "    }\n",
       "\n",
       "    .dataframe thead th {\n",
       "        text-align: right;\n",
       "    }\n",
       "</style>\n",
       "<table border=\"1\" class=\"dataframe\">\n",
       "  <thead>\n",
       "    <tr style=\"text-align: right;\">\n",
       "      <th></th>\n",
       "      <th>Store</th>\n",
       "      <th>CompetitionDistance</th>\n",
       "      <th>CompetitionOpenSinceMonth</th>\n",
       "      <th>CompetitionOpenSinceYear</th>\n",
       "      <th>Promo2</th>\n",
       "      <th>Promo2SinceWeek</th>\n",
       "      <th>Promo2SinceYear</th>\n",
       "    </tr>\n",
       "  </thead>\n",
       "  <tbody>\n",
       "    <tr>\n",
       "      <th>count</th>\n",
       "      <td>1115.00000</td>\n",
       "      <td>1112.000000</td>\n",
       "      <td>761.000000</td>\n",
       "      <td>761.000000</td>\n",
       "      <td>1115.000000</td>\n",
       "      <td>571.000000</td>\n",
       "      <td>571.000000</td>\n",
       "    </tr>\n",
       "    <tr>\n",
       "      <th>mean</th>\n",
       "      <td>558.00000</td>\n",
       "      <td>5404.901079</td>\n",
       "      <td>7.224704</td>\n",
       "      <td>2008.668857</td>\n",
       "      <td>0.512108</td>\n",
       "      <td>23.595447</td>\n",
       "      <td>2011.763573</td>\n",
       "    </tr>\n",
       "    <tr>\n",
       "      <th>std</th>\n",
       "      <td>322.01708</td>\n",
       "      <td>7663.174720</td>\n",
       "      <td>3.212348</td>\n",
       "      <td>6.195983</td>\n",
       "      <td>0.500078</td>\n",
       "      <td>14.141984</td>\n",
       "      <td>1.674935</td>\n",
       "    </tr>\n",
       "    <tr>\n",
       "      <th>min</th>\n",
       "      <td>1.00000</td>\n",
       "      <td>20.000000</td>\n",
       "      <td>1.000000</td>\n",
       "      <td>1900.000000</td>\n",
       "      <td>0.000000</td>\n",
       "      <td>1.000000</td>\n",
       "      <td>2009.000000</td>\n",
       "    </tr>\n",
       "    <tr>\n",
       "      <th>25%</th>\n",
       "      <td>279.50000</td>\n",
       "      <td>717.500000</td>\n",
       "      <td>4.000000</td>\n",
       "      <td>2006.000000</td>\n",
       "      <td>0.000000</td>\n",
       "      <td>13.000000</td>\n",
       "      <td>2011.000000</td>\n",
       "    </tr>\n",
       "    <tr>\n",
       "      <th>50%</th>\n",
       "      <td>558.00000</td>\n",
       "      <td>2325.000000</td>\n",
       "      <td>8.000000</td>\n",
       "      <td>2010.000000</td>\n",
       "      <td>1.000000</td>\n",
       "      <td>22.000000</td>\n",
       "      <td>2012.000000</td>\n",
       "    </tr>\n",
       "    <tr>\n",
       "      <th>75%</th>\n",
       "      <td>836.50000</td>\n",
       "      <td>6882.500000</td>\n",
       "      <td>10.000000</td>\n",
       "      <td>2013.000000</td>\n",
       "      <td>1.000000</td>\n",
       "      <td>37.000000</td>\n",
       "      <td>2013.000000</td>\n",
       "    </tr>\n",
       "    <tr>\n",
       "      <th>max</th>\n",
       "      <td>1115.00000</td>\n",
       "      <td>75860.000000</td>\n",
       "      <td>12.000000</td>\n",
       "      <td>2015.000000</td>\n",
       "      <td>1.000000</td>\n",
       "      <td>50.000000</td>\n",
       "      <td>2015.000000</td>\n",
       "    </tr>\n",
       "  </tbody>\n",
       "</table>\n",
       "</div>"
      ],
      "text/plain": [
       "            Store  CompetitionDistance  CompetitionOpenSinceMonth  \\\n",
       "count  1115.00000          1112.000000                 761.000000   \n",
       "mean    558.00000          5404.901079                   7.224704   \n",
       "std     322.01708          7663.174720                   3.212348   \n",
       "min       1.00000            20.000000                   1.000000   \n",
       "25%     279.50000           717.500000                   4.000000   \n",
       "50%     558.00000          2325.000000                   8.000000   \n",
       "75%     836.50000          6882.500000                  10.000000   \n",
       "max    1115.00000         75860.000000                  12.000000   \n",
       "\n",
       "       CompetitionOpenSinceYear       Promo2  Promo2SinceWeek  Promo2SinceYear  \n",
       "count                761.000000  1115.000000       571.000000       571.000000  \n",
       "mean                2008.668857     0.512108        23.595447      2011.763573  \n",
       "std                    6.195983     0.500078        14.141984         1.674935  \n",
       "min                 1900.000000     0.000000         1.000000      2009.000000  \n",
       "25%                 2006.000000     0.000000        13.000000      2011.000000  \n",
       "50%                 2010.000000     1.000000        22.000000      2012.000000  \n",
       "75%                 2013.000000     1.000000        37.000000      2013.000000  \n",
       "max                 2015.000000     1.000000        50.000000      2015.000000  "
      ]
     },
     "execution_count": 13,
     "metadata": {},
     "output_type": "execute_result"
    }
   ],
   "source": [
    "# store_df\n",
    "store_df.describe()"
   ]
  },
  {
   "cell_type": "code",
   "execution_count": 14,
   "metadata": {},
   "outputs": [
    {
     "data": {
      "text/html": [
       "<div>\n",
       "<style scoped>\n",
       "    .dataframe tbody tr th:only-of-type {\n",
       "        vertical-align: middle;\n",
       "    }\n",
       "\n",
       "    .dataframe tbody tr th {\n",
       "        vertical-align: top;\n",
       "    }\n",
       "\n",
       "    .dataframe thead th {\n",
       "        text-align: right;\n",
       "    }\n",
       "</style>\n",
       "<table border=\"1\" class=\"dataframe\">\n",
       "  <thead>\n",
       "    <tr style=\"text-align: right;\">\n",
       "      <th></th>\n",
       "      <th>Store</th>\n",
       "      <th>DayOfWeek</th>\n",
       "      <th>Sales</th>\n",
       "      <th>Customers</th>\n",
       "      <th>Open</th>\n",
       "      <th>Promo</th>\n",
       "      <th>SchoolHoliday</th>\n",
       "      <th>CompetitionDistance</th>\n",
       "      <th>CompetitionOpenSinceMonth</th>\n",
       "      <th>CompetitionOpenSinceYear</th>\n",
       "      <th>Promo2</th>\n",
       "      <th>Promo2SinceWeek</th>\n",
       "      <th>Promo2SinceYear</th>\n",
       "    </tr>\n",
       "  </thead>\n",
       "  <tbody>\n",
       "    <tr>\n",
       "      <th>count</th>\n",
       "      <td>1.017209e+06</td>\n",
       "      <td>1.017209e+06</td>\n",
       "      <td>1.017209e+06</td>\n",
       "      <td>1.017209e+06</td>\n",
       "      <td>1.017209e+06</td>\n",
       "      <td>1.017209e+06</td>\n",
       "      <td>1.017209e+06</td>\n",
       "      <td>1.014567e+06</td>\n",
       "      <td>693861.000000</td>\n",
       "      <td>693861.000000</td>\n",
       "      <td>1.017209e+06</td>\n",
       "      <td>509178.000000</td>\n",
       "      <td>509178.000000</td>\n",
       "    </tr>\n",
       "    <tr>\n",
       "      <th>mean</th>\n",
       "      <td>5.584297e+02</td>\n",
       "      <td>3.998341e+00</td>\n",
       "      <td>5.773819e+03</td>\n",
       "      <td>6.331459e+02</td>\n",
       "      <td>8.301067e-01</td>\n",
       "      <td>3.815145e-01</td>\n",
       "      <td>1.786467e-01</td>\n",
       "      <td>5.430086e+03</td>\n",
       "      <td>7.222866</td>\n",
       "      <td>2008.690228</td>\n",
       "      <td>5.005638e-01</td>\n",
       "      <td>23.269093</td>\n",
       "      <td>2011.752774</td>\n",
       "    </tr>\n",
       "    <tr>\n",
       "      <th>std</th>\n",
       "      <td>3.219087e+02</td>\n",
       "      <td>1.997391e+00</td>\n",
       "      <td>3.849926e+03</td>\n",
       "      <td>4.644117e+02</td>\n",
       "      <td>3.755392e-01</td>\n",
       "      <td>4.857586e-01</td>\n",
       "      <td>3.830564e-01</td>\n",
       "      <td>7.715324e+03</td>\n",
       "      <td>3.211832</td>\n",
       "      <td>5.992644</td>\n",
       "      <td>4.999999e-01</td>\n",
       "      <td>14.095973</td>\n",
       "      <td>1.662870</td>\n",
       "    </tr>\n",
       "    <tr>\n",
       "      <th>min</th>\n",
       "      <td>1.000000e+00</td>\n",
       "      <td>1.000000e+00</td>\n",
       "      <td>0.000000e+00</td>\n",
       "      <td>0.000000e+00</td>\n",
       "      <td>0.000000e+00</td>\n",
       "      <td>0.000000e+00</td>\n",
       "      <td>0.000000e+00</td>\n",
       "      <td>2.000000e+01</td>\n",
       "      <td>1.000000</td>\n",
       "      <td>1900.000000</td>\n",
       "      <td>0.000000e+00</td>\n",
       "      <td>1.000000</td>\n",
       "      <td>2009.000000</td>\n",
       "    </tr>\n",
       "    <tr>\n",
       "      <th>25%</th>\n",
       "      <td>2.800000e+02</td>\n",
       "      <td>2.000000e+00</td>\n",
       "      <td>3.727000e+03</td>\n",
       "      <td>4.050000e+02</td>\n",
       "      <td>1.000000e+00</td>\n",
       "      <td>0.000000e+00</td>\n",
       "      <td>0.000000e+00</td>\n",
       "      <td>7.100000e+02</td>\n",
       "      <td>4.000000</td>\n",
       "      <td>2006.000000</td>\n",
       "      <td>0.000000e+00</td>\n",
       "      <td>13.000000</td>\n",
       "      <td>2011.000000</td>\n",
       "    </tr>\n",
       "    <tr>\n",
       "      <th>50%</th>\n",
       "      <td>5.580000e+02</td>\n",
       "      <td>4.000000e+00</td>\n",
       "      <td>5.744000e+03</td>\n",
       "      <td>6.090000e+02</td>\n",
       "      <td>1.000000e+00</td>\n",
       "      <td>0.000000e+00</td>\n",
       "      <td>0.000000e+00</td>\n",
       "      <td>2.330000e+03</td>\n",
       "      <td>8.000000</td>\n",
       "      <td>2010.000000</td>\n",
       "      <td>1.000000e+00</td>\n",
       "      <td>22.000000</td>\n",
       "      <td>2012.000000</td>\n",
       "    </tr>\n",
       "    <tr>\n",
       "      <th>75%</th>\n",
       "      <td>8.380000e+02</td>\n",
       "      <td>6.000000e+00</td>\n",
       "      <td>7.856000e+03</td>\n",
       "      <td>8.370000e+02</td>\n",
       "      <td>1.000000e+00</td>\n",
       "      <td>1.000000e+00</td>\n",
       "      <td>0.000000e+00</td>\n",
       "      <td>6.890000e+03</td>\n",
       "      <td>10.000000</td>\n",
       "      <td>2013.000000</td>\n",
       "      <td>1.000000e+00</td>\n",
       "      <td>37.000000</td>\n",
       "      <td>2013.000000</td>\n",
       "    </tr>\n",
       "    <tr>\n",
       "      <th>max</th>\n",
       "      <td>1.115000e+03</td>\n",
       "      <td>7.000000e+00</td>\n",
       "      <td>4.155100e+04</td>\n",
       "      <td>7.388000e+03</td>\n",
       "      <td>1.000000e+00</td>\n",
       "      <td>1.000000e+00</td>\n",
       "      <td>1.000000e+00</td>\n",
       "      <td>7.586000e+04</td>\n",
       "      <td>12.000000</td>\n",
       "      <td>2015.000000</td>\n",
       "      <td>1.000000e+00</td>\n",
       "      <td>50.000000</td>\n",
       "      <td>2015.000000</td>\n",
       "    </tr>\n",
       "  </tbody>\n",
       "</table>\n",
       "</div>"
      ],
      "text/plain": [
       "              Store     DayOfWeek         Sales     Customers          Open  \\\n",
       "count  1.017209e+06  1.017209e+06  1.017209e+06  1.017209e+06  1.017209e+06   \n",
       "mean   5.584297e+02  3.998341e+00  5.773819e+03  6.331459e+02  8.301067e-01   \n",
       "std    3.219087e+02  1.997391e+00  3.849926e+03  4.644117e+02  3.755392e-01   \n",
       "min    1.000000e+00  1.000000e+00  0.000000e+00  0.000000e+00  0.000000e+00   \n",
       "25%    2.800000e+02  2.000000e+00  3.727000e+03  4.050000e+02  1.000000e+00   \n",
       "50%    5.580000e+02  4.000000e+00  5.744000e+03  6.090000e+02  1.000000e+00   \n",
       "75%    8.380000e+02  6.000000e+00  7.856000e+03  8.370000e+02  1.000000e+00   \n",
       "max    1.115000e+03  7.000000e+00  4.155100e+04  7.388000e+03  1.000000e+00   \n",
       "\n",
       "              Promo  SchoolHoliday  CompetitionDistance  \\\n",
       "count  1.017209e+06   1.017209e+06         1.014567e+06   \n",
       "mean   3.815145e-01   1.786467e-01         5.430086e+03   \n",
       "std    4.857586e-01   3.830564e-01         7.715324e+03   \n",
       "min    0.000000e+00   0.000000e+00         2.000000e+01   \n",
       "25%    0.000000e+00   0.000000e+00         7.100000e+02   \n",
       "50%    0.000000e+00   0.000000e+00         2.330000e+03   \n",
       "75%    1.000000e+00   0.000000e+00         6.890000e+03   \n",
       "max    1.000000e+00   1.000000e+00         7.586000e+04   \n",
       "\n",
       "       CompetitionOpenSinceMonth  CompetitionOpenSinceYear        Promo2  \\\n",
       "count              693861.000000             693861.000000  1.017209e+06   \n",
       "mean                    7.222866               2008.690228  5.005638e-01   \n",
       "std                     3.211832                  5.992644  4.999999e-01   \n",
       "min                     1.000000               1900.000000  0.000000e+00   \n",
       "25%                     4.000000               2006.000000  0.000000e+00   \n",
       "50%                     8.000000               2010.000000  1.000000e+00   \n",
       "75%                    10.000000               2013.000000  1.000000e+00   \n",
       "max                    12.000000               2015.000000  1.000000e+00   \n",
       "\n",
       "       Promo2SinceWeek  Promo2SinceYear  \n",
       "count    509178.000000    509178.000000  \n",
       "mean         23.269093      2011.752774  \n",
       "std          14.095973         1.662870  \n",
       "min           1.000000      2009.000000  \n",
       "25%          13.000000      2011.000000  \n",
       "50%          22.000000      2012.000000  \n",
       "75%          37.000000      2013.000000  \n",
       "max          50.000000      2015.000000  "
      ]
     },
     "execution_count": 14,
     "metadata": {},
     "output_type": "execute_result"
    }
   ],
   "source": [
    "# final_df\n",
    "final_df.describe()"
   ]
  },
  {
   "cell_type": "markdown",
   "metadata": {
    "id": "PBTbrJXOngz2"
   },
   "source": [
    "### Variables Description "
   ]
  },
  {
   "cell_type": "markdown",
   "metadata": {
    "id": "aJV4KIxSnxay"
   },
   "source": [
    "<ol>\n",
    "    <li>Store - Store ID\n",
    "    <li>DayOfWeek - Day of the week like 1 for monday, 2 for tuesday etc...\n",
    "    <li>Date - Date\n",
    "    <li>Sales - Sales of the day\n",
    "    <li>Customers - Number of customers\n",
    "    <li>Open - Shop open or closed\n",
    "    <li>Promo - Promoting or not\n",
    "    <li>StateHoliday - what all states has holiday that day\n",
    "    <li>SchoolHoliday - School holiday or not\n",
    "    <li>Store - Store ID\n",
    "    <li>StoreType - Type of store\n",
    "    <li>Assortment - Type of Product\n",
    "    <li>CompetitionDistance - Competition Distance\n",
    "    <li>CompetitionOpenSinceMonth - competition open since month\n",
    "    <li>CompetitionOpenSinceYear - competition open since year\n",
    "    <li>Promo2 - Promo 2 or not\n",
    "    <li>Promo2SinceWeek - Promo2 since week\n",
    "    <li>Promo2SinceYear - promo2 since year\n",
    "    <li>PromoInterval - Promo Interval"
   ]
  },
  {
   "cell_type": "markdown",
   "metadata": {
    "id": "u3PMJOP6ngxN"
   },
   "source": [
    "### Check Unique Values for each variable."
   ]
  },
  {
   "cell_type": "code",
   "execution_count": 15,
   "metadata": {
    "id": "zms12Yq5n-jE"
   },
   "outputs": [
    {
     "name": "stdout",
     "output_type": "stream",
     "text": [
      " Number of unique values in | Store : 1115\n",
      " Number of unique values in | DayOfWeek : 7\n",
      " Number of unique values in | Date : 942\n",
      " Number of unique values in | Sales : 21734\n",
      " Number of unique values in | Customers : 4086\n",
      " Number of unique values in | Open : 2\n",
      " Number of unique values in | Promo : 2\n",
      " Number of unique values in | StateHoliday : 5\n",
      " Number of unique values in | SchoolHoliday : 2\n",
      " Unique values in Store is/are : [   1    2    3 ... 1113 1114 1115]\n",
      " Unique values in DayOfWeek is/are : [5 4 3 2 1 7 6]\n",
      " Unique values in Date is/are : ['2015-07-31' '2015-07-30' '2015-07-29' '2015-07-28' '2015-07-27'\n",
      " '2015-07-26' '2015-07-25' '2015-07-24' '2015-07-23' '2015-07-22'\n",
      " '2015-07-21' '2015-07-20' '2015-07-19' '2015-07-18' '2015-07-17'\n",
      " '2015-07-16' '2015-07-15' '2015-07-14' '2015-07-13' '2015-07-12'\n",
      " '2015-07-11' '2015-07-10' '2015-07-09' '2015-07-08' '2015-07-07'\n",
      " '2015-07-06' '2015-07-05' '2015-07-04' '2015-07-03' '2015-07-02'\n",
      " '2015-07-01' '2015-06-30' '2015-06-29' '2015-06-28' '2015-06-27'\n",
      " '2015-06-26' '2015-06-25' '2015-06-24' '2015-06-23' '2015-06-22'\n",
      " '2015-06-21' '2015-06-20' '2015-06-19' '2015-06-18' '2015-06-17'\n",
      " '2015-06-16' '2015-06-15' '2015-06-14' '2015-06-13' '2015-06-12'\n",
      " '2015-06-11' '2015-06-10' '2015-06-09' '2015-06-08' '2015-06-07'\n",
      " '2015-06-06' '2015-06-05' '2015-06-04' '2015-06-03' '2015-06-02'\n",
      " '2015-06-01' '2015-05-31' '2015-05-30' '2015-05-29' '2015-05-28'\n",
      " '2015-05-27' '2015-05-26' '2015-05-25' '2015-05-24' '2015-05-23'\n",
      " '2015-05-22' '2015-05-21' '2015-05-20' '2015-05-19' '2015-05-18'\n",
      " '2015-05-17' '2015-05-16' '2015-05-15' '2015-05-14' '2015-05-13'\n",
      " '2015-05-12' '2015-05-11' '2015-05-10' '2015-05-09' '2015-05-08'\n",
      " '2015-05-07' '2015-05-06' '2015-05-05' '2015-05-04' '2015-05-03'\n",
      " '2015-05-02' '2015-05-01' '2015-04-30' '2015-04-29' '2015-04-28'\n",
      " '2015-04-27' '2015-04-26' '2015-04-25' '2015-04-24' '2015-04-23'\n",
      " '2015-04-22' '2015-04-21' '2015-04-20' '2015-04-19' '2015-04-18'\n",
      " '2015-04-17' '2015-04-16' '2015-04-15' '2015-04-14' '2015-04-13'\n",
      " '2015-04-12' '2015-04-11' '2015-04-10' '2015-04-09' '2015-04-08'\n",
      " '2015-04-07' '2015-04-06' '2015-04-05' '2015-04-04' '2015-04-03'\n",
      " '2015-04-02' '2015-04-01' '2015-03-31' '2015-03-30' '2015-03-29'\n",
      " '2015-03-28' '2015-03-27' '2015-03-26' '2015-03-25' '2015-03-24'\n",
      " '2015-03-23' '2015-03-22' '2015-03-21' '2015-03-20' '2015-03-19'\n",
      " '2015-03-18' '2015-03-17' '2015-03-16' '2015-03-15' '2015-03-14'\n",
      " '2015-03-13' '2015-03-12' '2015-03-11' '2015-03-10' '2015-03-09'\n",
      " '2015-03-08' '2015-03-07' '2015-03-06' '2015-03-05' '2015-03-04'\n",
      " '2015-03-03' '2015-03-02' '2015-03-01' '2015-02-28' '2015-02-27'\n",
      " '2015-02-26' '2015-02-25' '2015-02-24' '2015-02-23' '2015-02-22'\n",
      " '2015-02-21' '2015-02-20' '2015-02-19' '2015-02-18' '2015-02-17'\n",
      " '2015-02-16' '2015-02-15' '2015-02-14' '2015-02-13' '2015-02-12'\n",
      " '2015-02-11' '2015-02-10' '2015-02-09' '2015-02-08' '2015-02-07'\n",
      " '2015-02-06' '2015-02-05' '2015-02-04' '2015-02-03' '2015-02-02'\n",
      " '2015-02-01' '2015-01-31' '2015-01-30' '2015-01-29' '2015-01-28'\n",
      " '2015-01-27' '2015-01-26' '2015-01-25' '2015-01-24' '2015-01-23'\n",
      " '2015-01-22' '2015-01-21' '2015-01-20' '2015-01-19' '2015-01-18'\n",
      " '2015-01-17' '2015-01-16' '2015-01-15' '2015-01-14' '2015-01-13'\n",
      " '2015-01-12' '2015-01-11' '2015-01-10' '2015-01-09' '2015-01-08'\n",
      " '2015-01-07' '2015-01-06' '2015-01-05' '2015-01-04' '2015-01-03'\n",
      " '2015-01-02' '2015-01-01' '2014-12-31' '2014-12-30' '2014-12-29'\n",
      " '2014-12-28' '2014-12-27' '2014-12-26' '2014-12-25' '2014-12-24'\n",
      " '2014-12-23' '2014-12-22' '2014-12-21' '2014-12-20' '2014-12-19'\n",
      " '2014-12-18' '2014-12-17' '2014-12-16' '2014-12-15' '2014-12-14'\n",
      " '2014-12-13' '2014-12-12' '2014-12-11' '2014-12-10' '2014-12-09'\n",
      " '2014-12-08' '2014-12-07' '2014-12-06' '2014-12-05' '2014-12-04'\n",
      " '2014-12-03' '2014-12-02' '2014-12-01' '2014-11-30' '2014-11-29'\n",
      " '2014-11-28' '2014-11-27' '2014-11-26' '2014-11-25' '2014-11-24'\n",
      " '2014-11-23' '2014-11-22' '2014-11-21' '2014-11-20' '2014-11-19'\n",
      " '2014-11-18' '2014-11-17' '2014-11-16' '2014-11-15' '2014-11-14'\n",
      " '2014-11-13' '2014-11-12' '2014-11-11' '2014-11-10' '2014-11-09'\n",
      " '2014-11-08' '2014-11-07' '2014-11-06' '2014-11-05' '2014-11-04'\n",
      " '2014-11-03' '2014-11-02' '2014-11-01' '2014-10-31' '2014-10-30'\n",
      " '2014-10-29' '2014-10-28' '2014-10-27' '2014-10-26' '2014-10-25'\n",
      " '2014-10-24' '2014-10-23' '2014-10-22' '2014-10-21' '2014-10-20'\n",
      " '2014-10-19' '2014-10-18' '2014-10-17' '2014-10-16' '2014-10-15'\n",
      " '2014-10-14' '2014-10-13' '2014-10-12' '2014-10-11' '2014-10-10'\n",
      " '2014-10-09' '2014-10-08' '2014-10-07' '2014-10-06' '2014-10-05'\n",
      " '2014-10-04' '2014-10-03' '2014-10-02' '2014-10-01' '2014-09-30'\n",
      " '2014-09-29' '2014-09-28' '2014-09-27' '2014-09-26' '2014-09-25'\n",
      " '2014-09-24' '2014-09-23' '2014-09-22' '2014-09-21' '2014-09-20'\n",
      " '2014-09-19' '2014-09-18' '2014-09-17' '2014-09-16' '2014-09-15'\n",
      " '2014-09-14' '2014-09-13' '2014-09-12' '2014-09-11' '2014-09-10'\n",
      " '2014-09-09' '2014-09-08' '2014-09-07' '2014-09-06' '2014-09-05'\n",
      " '2014-09-04' '2014-09-03' '2014-09-02' '2014-09-01' '2014-08-31'\n",
      " '2014-08-30' '2014-08-29' '2014-08-28' '2014-08-27' '2014-08-26'\n",
      " '2014-08-25' '2014-08-24' '2014-08-23' '2014-08-22' '2014-08-21'\n",
      " '2014-08-20' '2014-08-19' '2014-08-18' '2014-08-17' '2014-08-16'\n",
      " '2014-08-15' '2014-08-14' '2014-08-13' '2014-08-12' '2014-08-11'\n",
      " '2014-08-10' '2014-08-09' '2014-08-08' '2014-08-07' '2014-08-06'\n",
      " '2014-08-05' '2014-08-04' '2014-08-03' '2014-08-02' '2014-08-01'\n",
      " '2014-07-31' '2014-07-30' '2014-07-29' '2014-07-28' '2014-07-27'\n",
      " '2014-07-26' '2014-07-25' '2014-07-24' '2014-07-23' '2014-07-22'\n",
      " '2014-07-21' '2014-07-20' '2014-07-19' '2014-07-18' '2014-07-17'\n",
      " '2014-07-16' '2014-07-15' '2014-07-14' '2014-07-13' '2014-07-12'\n",
      " '2014-07-11' '2014-07-10' '2014-07-09' '2014-07-08' '2014-07-07'\n",
      " '2014-07-06' '2014-07-05' '2014-07-04' '2014-07-03' '2014-07-02'\n",
      " '2014-07-01' '2014-06-30' '2014-06-29' '2014-06-28' '2014-06-27'\n",
      " '2014-06-26' '2014-06-25' '2014-06-24' '2014-06-23' '2014-06-22'\n",
      " '2014-06-21' '2014-06-20' '2014-06-19' '2014-06-18' '2014-06-17'\n",
      " '2014-06-16' '2014-06-15' '2014-06-14' '2014-06-13' '2014-06-12'\n",
      " '2014-06-11' '2014-06-10' '2014-06-09' '2014-06-08' '2014-06-07'\n",
      " '2014-06-06' '2014-06-05' '2014-06-04' '2014-06-03' '2014-06-02'\n",
      " '2014-06-01' '2014-05-31' '2014-05-30' '2014-05-29' '2014-05-28'\n",
      " '2014-05-27' '2014-05-26' '2014-05-25' '2014-05-24' '2014-05-23'\n",
      " '2014-05-22' '2014-05-21' '2014-05-20' '2014-05-19' '2014-05-18'\n",
      " '2014-05-17' '2014-05-16' '2014-05-15' '2014-05-14' '2014-05-13'\n",
      " '2014-05-12' '2014-05-11' '2014-05-10' '2014-05-09' '2014-05-08'\n",
      " '2014-05-07' '2014-05-06' '2014-05-05' '2014-05-04' '2014-05-03'\n",
      " '2014-05-02' '2014-05-01' '2014-04-30' '2014-04-29' '2014-04-28'\n",
      " '2014-04-27' '2014-04-26' '2014-04-25' '2014-04-24' '2014-04-23'\n",
      " '2014-04-22' '2014-04-21' '2014-04-20' '2014-04-19' '2014-04-18'\n",
      " '2014-04-17' '2014-04-16' '2014-04-15' '2014-04-14' '2014-04-13'\n",
      " '2014-04-12' '2014-04-11' '2014-04-10' '2014-04-09' '2014-04-08'\n",
      " '2014-04-07' '2014-04-06' '2014-04-05' '2014-04-04' '2014-04-03'\n",
      " '2014-04-02' '2014-04-01' '2014-03-31' '2014-03-30' '2014-03-29'\n",
      " '2014-03-28' '2014-03-27' '2014-03-26' '2014-03-25' '2014-03-24'\n",
      " '2014-03-23' '2014-03-22' '2014-03-21' '2014-03-20' '2014-03-19'\n",
      " '2014-03-18' '2014-03-17' '2014-03-16' '2014-03-15' '2014-03-14'\n",
      " '2014-03-13' '2014-03-12' '2014-03-11' '2014-03-10' '2014-03-09'\n",
      " '2014-03-08' '2014-03-07' '2014-03-06' '2014-03-05' '2014-03-04'\n",
      " '2014-03-03' '2014-03-02' '2014-03-01' '2014-02-28' '2014-02-27'\n",
      " '2014-02-26' '2014-02-25' '2014-02-24' '2014-02-23' '2014-02-22'\n",
      " '2014-02-21' '2014-02-20' '2014-02-19' '2014-02-18' '2014-02-17'\n",
      " '2014-02-16' '2014-02-15' '2014-02-14' '2014-02-13' '2014-02-12'\n",
      " '2014-02-11' '2014-02-10' '2014-02-09' '2014-02-08' '2014-02-07'\n",
      " '2014-02-06' '2014-02-05' '2014-02-04' '2014-02-03' '2014-02-02'\n",
      " '2014-02-01' '2014-01-31' '2014-01-30' '2014-01-29' '2014-01-28'\n",
      " '2014-01-27' '2014-01-26' '2014-01-25' '2014-01-24' '2014-01-23'\n",
      " '2014-01-22' '2014-01-21' '2014-01-20' '2014-01-19' '2014-01-18'\n",
      " '2014-01-17' '2014-01-16' '2014-01-15' '2014-01-14' '2014-01-13'\n",
      " '2014-01-12' '2014-01-11' '2014-01-10' '2014-01-09' '2014-01-08'\n",
      " '2014-01-07' '2014-01-06' '2014-01-05' '2014-01-04' '2014-01-03'\n",
      " '2014-01-02' '2014-01-01' '2013-12-31' '2013-12-30' '2013-12-29'\n",
      " '2013-12-28' '2013-12-27' '2013-12-26' '2013-12-25' '2013-12-24'\n",
      " '2013-12-23' '2013-12-22' '2013-12-21' '2013-12-20' '2013-12-19'\n",
      " '2013-12-18' '2013-12-17' '2013-12-16' '2013-12-15' '2013-12-14'\n",
      " '2013-12-13' '2013-12-12' '2013-12-11' '2013-12-10' '2013-12-09'\n",
      " '2013-12-08' '2013-12-07' '2013-12-06' '2013-12-05' '2013-12-04'\n",
      " '2013-12-03' '2013-12-02' '2013-12-01' '2013-11-30' '2013-11-29'\n",
      " '2013-11-28' '2013-11-27' '2013-11-26' '2013-11-25' '2013-11-24'\n",
      " '2013-11-23' '2013-11-22' '2013-11-21' '2013-11-20' '2013-11-19'\n",
      " '2013-11-18' '2013-11-17' '2013-11-16' '2013-11-15' '2013-11-14'\n",
      " '2013-11-13' '2013-11-12' '2013-11-11' '2013-11-10' '2013-11-09'\n",
      " '2013-11-08' '2013-11-07' '2013-11-06' '2013-11-05' '2013-11-04'\n",
      " '2013-11-03' '2013-11-02' '2013-11-01' '2013-10-31' '2013-10-30'\n",
      " '2013-10-29' '2013-10-28' '2013-10-27' '2013-10-26' '2013-10-25'\n",
      " '2013-10-24' '2013-10-23' '2013-10-22' '2013-10-21' '2013-10-20'\n",
      " '2013-10-19' '2013-10-18' '2013-10-17' '2013-10-16' '2013-10-15'\n",
      " '2013-10-14' '2013-10-13' '2013-10-12' '2013-10-11' '2013-10-10'\n",
      " '2013-10-09' '2013-10-08' '2013-10-07' '2013-10-06' '2013-10-05'\n",
      " '2013-10-04' '2013-10-03' '2013-10-02' '2013-10-01' '2013-09-30'\n",
      " '2013-09-29' '2013-09-28' '2013-09-27' '2013-09-26' '2013-09-25'\n",
      " '2013-09-24' '2013-09-23' '2013-09-22' '2013-09-21' '2013-09-20'\n",
      " '2013-09-19' '2013-09-18' '2013-09-17' '2013-09-16' '2013-09-15'\n",
      " '2013-09-14' '2013-09-13' '2013-09-12' '2013-09-11' '2013-09-10'\n",
      " '2013-09-09' '2013-09-08' '2013-09-07' '2013-09-06' '2013-09-05'\n",
      " '2013-09-04' '2013-09-03' '2013-09-02' '2013-09-01' '2013-08-31'\n",
      " '2013-08-30' '2013-08-29' '2013-08-28' '2013-08-27' '2013-08-26'\n",
      " '2013-08-25' '2013-08-24' '2013-08-23' '2013-08-22' '2013-08-21'\n",
      " '2013-08-20' '2013-08-19' '2013-08-18' '2013-08-17' '2013-08-16'\n",
      " '2013-08-15' '2013-08-14' '2013-08-13' '2013-08-12' '2013-08-11'\n",
      " '2013-08-10' '2013-08-09' '2013-08-08' '2013-08-07' '2013-08-06'\n",
      " '2013-08-05' '2013-08-04' '2013-08-03' '2013-08-02' '2013-08-01'\n",
      " '2013-07-31' '2013-07-30' '2013-07-29' '2013-07-28' '2013-07-27'\n",
      " '2013-07-26' '2013-07-25' '2013-07-24' '2013-07-23' '2013-07-22'\n",
      " '2013-07-21' '2013-07-20' '2013-07-19' '2013-07-18' '2013-07-17'\n",
      " '2013-07-16' '2013-07-15' '2013-07-14' '2013-07-13' '2013-07-12'\n",
      " '2013-07-11' '2013-07-10' '2013-07-09' '2013-07-08' '2013-07-07'\n",
      " '2013-07-06' '2013-07-05' '2013-07-04' '2013-07-03' '2013-07-02'\n",
      " '2013-07-01' '2013-06-30' '2013-06-29' '2013-06-28' '2013-06-27'\n",
      " '2013-06-26' '2013-06-25' '2013-06-24' '2013-06-23' '2013-06-22'\n",
      " '2013-06-21' '2013-06-20' '2013-06-19' '2013-06-18' '2013-06-17'\n",
      " '2013-06-16' '2013-06-15' '2013-06-14' '2013-06-13' '2013-06-12'\n",
      " '2013-06-11' '2013-06-10' '2013-06-09' '2013-06-08' '2013-06-07'\n",
      " '2013-06-06' '2013-06-05' '2013-06-04' '2013-06-03' '2013-06-02'\n",
      " '2013-06-01' '2013-05-31' '2013-05-30' '2013-05-29' '2013-05-28'\n",
      " '2013-05-27' '2013-05-26' '2013-05-25' '2013-05-24' '2013-05-23'\n",
      " '2013-05-22' '2013-05-21' '2013-05-20' '2013-05-19' '2013-05-18'\n",
      " '2013-05-17' '2013-05-16' '2013-05-15' '2013-05-14' '2013-05-13'\n",
      " '2013-05-12' '2013-05-11' '2013-05-10' '2013-05-09' '2013-05-08'\n",
      " '2013-05-07' '2013-05-06' '2013-05-05' '2013-05-04' '2013-05-03'\n",
      " '2013-05-02' '2013-05-01' '2013-04-30' '2013-04-29' '2013-04-28'\n",
      " '2013-04-27' '2013-04-26' '2013-04-25' '2013-04-24' '2013-04-23'\n",
      " '2013-04-22' '2013-04-21' '2013-04-20' '2013-04-19' '2013-04-18'\n",
      " '2013-04-17' '2013-04-16' '2013-04-15' '2013-04-14' '2013-04-13'\n",
      " '2013-04-12' '2013-04-11' '2013-04-10' '2013-04-09' '2013-04-08'\n",
      " '2013-04-07' '2013-04-06' '2013-04-05' '2013-04-04' '2013-04-03'\n",
      " '2013-04-02' '2013-04-01' '2013-03-31' '2013-03-30' '2013-03-29'\n",
      " '2013-03-28' '2013-03-27' '2013-03-26' '2013-03-25' '2013-03-24'\n",
      " '2013-03-23' '2013-03-22' '2013-03-21' '2013-03-20' '2013-03-19'\n",
      " '2013-03-18' '2013-03-17' '2013-03-16' '2013-03-15' '2013-03-14'\n",
      " '2013-03-13' '2013-03-12' '2013-03-11' '2013-03-10' '2013-03-09'\n",
      " '2013-03-08' '2013-03-07' '2013-03-06' '2013-03-05' '2013-03-04'\n",
      " '2013-03-03' '2013-03-02' '2013-03-01' '2013-02-28' '2013-02-27'\n",
      " '2013-02-26' '2013-02-25' '2013-02-24' '2013-02-23' '2013-02-22'\n",
      " '2013-02-21' '2013-02-20' '2013-02-19' '2013-02-18' '2013-02-17'\n",
      " '2013-02-16' '2013-02-15' '2013-02-14' '2013-02-13' '2013-02-12'\n",
      " '2013-02-11' '2013-02-10' '2013-02-09' '2013-02-08' '2013-02-07'\n",
      " '2013-02-06' '2013-02-05' '2013-02-04' '2013-02-03' '2013-02-02'\n",
      " '2013-02-01' '2013-01-31' '2013-01-30' '2013-01-29' '2013-01-28'\n",
      " '2013-01-27' '2013-01-26' '2013-01-25' '2013-01-24' '2013-01-23'\n",
      " '2013-01-22' '2013-01-21' '2013-01-20' '2013-01-19' '2013-01-18'\n",
      " '2013-01-17' '2013-01-16' '2013-01-15' '2013-01-14' '2013-01-13'\n",
      " '2013-01-12' '2013-01-11' '2013-01-10' '2013-01-09' '2013-01-08'\n",
      " '2013-01-07' '2013-01-06' '2013-01-05' '2013-01-04' '2013-01-03'\n",
      " '2013-01-02' '2013-01-01']\n",
      " Unique values in Sales is/are : [ 5263  6064  8314 ...   660 17815 23303]\n",
      " Unique values in Customers is/are : [ 555  625  821 ... 3900   36 4065]\n",
      " Unique values in Open is/are : [1 0]\n",
      " Unique values in Promo is/are : [1 0]\n",
      " Unique values in StateHoliday is/are : ['0' 'a' 'b' 'c' 0]\n",
      " Unique values in SchoolHoliday is/are : [1 0]\n"
     ]
    }
   ],
   "source": [
    "# rossmann_df\n",
    "# Check Unique Values for each variable.\n",
    "for col in rossmann_df.columns:\n",
    "    print(f\" Number of unique values in | {col} : {len(rossmann_df[col].unique())}\")\n",
    "    \n",
    "# Unique values for store_df\n",
    "for col in rossmann_df.columns:\n",
    "    print(f\" Unique values in {col} is/are : {rossmann_df[col].unique()}\")"
   ]
  },
  {
   "cell_type": "code",
   "execution_count": 16,
   "metadata": {},
   "outputs": [
    {
     "name": "stdout",
     "output_type": "stream",
     "text": [
      " Number of unique values in Store is | Store : 1115\n",
      " Number of unique values in Store is | StoreType : 4\n",
      " Number of unique values in Store is | Assortment : 3\n",
      " Number of unique values in Store is | CompetitionDistance : 655\n",
      " Number of unique values in Store is | CompetitionOpenSinceMonth : 13\n",
      " Number of unique values in Store is | CompetitionOpenSinceYear : 24\n",
      " Number of unique values in Store is | Promo2 : 2\n",
      " Number of unique values in Store is | Promo2SinceWeek : 25\n",
      " Number of unique values in Store is | Promo2SinceYear : 8\n",
      " Number of unique values in Store is | PromoInterval : 4\n",
      " Unique values in Store is/are : [   1    2    3 ... 1113 1114 1115]\n",
      " Unique values in StoreType is/are : ['c' 'a' 'd' 'b']\n",
      " Unique values in Assortment is/are : ['a' 'c' 'b']\n",
      " Unique values in CompetitionDistance is/are : [1.270e+03 5.700e+02 1.413e+04 6.200e+02 2.991e+04 3.100e+02 2.400e+04\n",
      " 7.520e+03 2.030e+03 3.160e+03 9.600e+02 1.070e+03 1.300e+03 4.110e+03\n",
      " 3.270e+03 5.000e+01 1.384e+04 3.240e+03 2.340e+03 5.500e+02 1.040e+03\n",
      " 4.060e+03 4.590e+03 4.300e+02 2.300e+03 6.000e+01 1.200e+03 2.170e+03\n",
      " 4.000e+01 9.800e+03 2.910e+03 1.320e+03 2.240e+03 7.660e+03 5.400e+02\n",
      " 4.230e+03 1.090e+03 2.600e+02 1.800e+02 1.180e+03 2.900e+02 4.880e+03\n",
      " 9.710e+03 2.700e+02 1.060e+03 1.801e+04 6.260e+03 1.057e+04 4.500e+02\n",
      " 3.036e+04 7.170e+03 7.200e+02 6.620e+03 4.200e+02 7.340e+03 2.840e+03\n",
      " 5.540e+03 3.500e+02 2.050e+03 3.700e+03 2.256e+04 4.100e+02 2.500e+02\n",
      " 1.130e+03 4.840e+03 1.750e+04 2.200e+03 1.650e+03 3.300e+02 2.244e+04\n",
      " 1.996e+04 3.510e+03 3.320e+03 7.910e+03 2.370e+03 2.239e+04 2.710e+03\n",
      " 1.181e+04 1.870e+03 4.800e+02 5.600e+02 1.069e+04 2.380e+03 2.410e+03\n",
      " 2.400e+02 1.669e+04 1.462e+04 1.890e+03 8.780e+03 8.980e+03 1.514e+04\n",
      " 1.793e+04 2.440e+03 1.500e+02 5.210e+03 3.900e+02 6.190e+03 1.390e+03\n",
      " 1.930e+03 2.190e+03 3.300e+03 4.659e+04 7.890e+03 1.630e+03 2.093e+04\n",
      " 4.510e+03 5.740e+03 6.800e+02 3.450e+03 3.580e+03 2.100e+03 2.290e+03\n",
      " 3.570e+03 5.826e+04 1.676e+04 1.410e+03 7.600e+02 3.370e+03 1.350e+03\n",
      " 2.000e+03 2.460e+03 9.000e+02 9.200e+02 5.190e+03 1.730e+03 2.536e+04\n",
      " 1.700e+03 1.540e+03 2.930e+03 1.657e+04 2.800e+02 8.050e+03 8.540e+03\n",
      " 2.090e+03 2.610e+03 3.183e+04 4.360e+03 1.780e+03 1.624e+04 1.642e+04\n",
      " 3.050e+03 2.020e+03 2.950e+03 1.184e+04 8.530e+03 1.711e+04 2.970e+03\n",
      " 5.340e+03 1.480e+03 1.160e+03 3.720e+03 1.000e+02 1.400e+02 1.254e+04\n",
      " 9.800e+02 2.640e+03 1.100e+02 1.309e+04 4.130e+03 3.770e+03 1.250e+03\n",
      " 1.710e+03 5.800e+03 1.261e+04 9.670e+03 3.560e+03 1.860e+03 1.936e+04\n",
      " 8.500e+02 5.760e+03 1.470e+03 1.100e+03 2.770e+03 5.200e+02 1.697e+04\n",
      " 2.200e+02 3.850e+03 4.210e+03 6.360e+03 2.026e+04 5.140e+03 4.900e+02\n",
      " 5.630e+03 3.800e+02 6.870e+03 3.000e+02 1.168e+04 9.700e+02 1.505e+04\n",
      " 4.030e+03 8.650e+03 1.900e+02 3.150e+03 6.400e+02 1.640e+03 1.000e+03\n",
      " 1.353e+04 2.920e+03 7.930e+03 1.018e+04 1.080e+04 1.741e+04 6.680e+03\n",
      " 3.840e+03 1.357e+04 4.370e+03 5.710e+03 1.420e+03 3.200e+02 6.100e+02\n",
      " 1.110e+03 7.800e+02 6.880e+03 7.100e+02 1.310e+03 4.660e+03 7.000e+01\n",
      " 3.400e+02 3.520e+03 2.233e+04 4.630e+03 8.000e+01 2.719e+04 2.100e+02\n",
      " 1.534e+04 1.140e+03 4.580e+03 3.600e+02 4.520e+03 1.450e+03 1.618e+04\n",
      " 8.480e+03 3.640e+03 2.960e+03 7.840e+03 9.260e+03 2.320e+03 1.864e+04\n",
      " 6.970e+03 1.220e+03 2.260e+03 1.290e+03 1.460e+03 2.740e+03 8.000e+02\n",
      " 6.540e+03 4.150e+03       nan 9.580e+03 1.984e+04 3.863e+04 1.200e+02\n",
      " 1.543e+04 1.950e+03 2.470e+03 5.100e+03 1.866e+04 8.740e+03 1.130e+04\n",
      " 1.416e+04 3.871e+04 9.000e+03 3.140e+03 3.233e+04 8.140e+03 8.400e+03\n",
      " 1.314e+04 1.007e+04 3.130e+03 3.700e+02 6.700e+02 1.840e+03 4.040e+03\n",
      " 9.000e+01 1.060e+04 1.590e+03 2.280e+03 8.080e+03 1.577e+04 1.865e+04\n",
      " 8.090e+03 9.360e+03 1.649e+04 1.490e+03 8.880e+03 5.290e+03 1.500e+03\n",
      " 9.720e+03 8.970e+03 2.060e+03 2.890e+03 2.040e+03 4.490e+03 1.362e+04\n",
      " 6.470e+03 5.870e+03 8.250e+03 1.970e+03 1.112e+04 1.150e+03 1.571e+04\n",
      " 1.600e+02 2.140e+03 6.630e+03 1.800e+03 2.613e+04 1.300e+02 6.690e+03\n",
      " 1.600e+03 4.600e+02 2.120e+03 4.820e+03 1.085e+04 3.620e+03 2.313e+04\n",
      " 5.360e+03 9.200e+03 5.830e+03 4.970e+03 1.080e+03 8.240e+03 5.890e+03\n",
      " 1.560e+03 8.400e+02 8.460e+03 4.460e+03 6.210e+03 6.910e+03 4.650e+03\n",
      " 1.620e+03 3.530e+03 2.880e+03 1.635e+04 1.287e+04 8.100e+02 3.003e+04\n",
      " 1.302e+04 9.100e+02 3.900e+03 2.530e+03 5.000e+02 1.140e+04 1.510e+03\n",
      " 3.970e+03 5.780e+03 1.850e+03 7.586e+04 2.645e+04 3.390e+03 3.405e+04\n",
      " 1.790e+03 4.432e+04 4.160e+03 1.089e+04 3.110e+03 2.039e+04 5.260e+03\n",
      " 5.300e+03 5.030e+03 1.481e+04 8.300e+03 7.700e+02 1.940e+03 7.470e+03\n",
      " 2.550e+03 2.310e+03 1.430e+04 2.180e+03 1.496e+04 6.600e+02 4.680e+03\n",
      " 1.740e+03 1.260e+03 5.470e+03 2.780e+03 1.610e+03 9.900e+02 1.308e+04\n",
      " 8.200e+02 9.070e+03 1.280e+03 4.740e+03 8.260e+03 5.900e+02 4.000e+02\n",
      " 1.126e+04 2.000e+01 2.249e+04 3.330e+03 2.510e+03 6.900e+03 1.861e+04\n",
      " 7.160e+03 4.086e+04 2.062e+04 1.292e+04 1.816e+04 5.950e+03 4.700e+03\n",
      " 6.000e+02 6.500e+02 7.280e+03 5.020e+03 5.800e+02 8.990e+03 3.760e+03\n",
      " 2.330e+03 4.260e+03 3.040e+03 3.000e+03 3.910e+03 1.910e+03 1.210e+03\n",
      " 7.000e+02 1.010e+03 4.270e+03 1.340e+03 2.110e+03 9.230e+03 1.190e+03\n",
      " 4.400e+03 2.270e+03 1.270e+04 2.097e+04 1.700e+02 7.250e+03 1.360e+03\n",
      " 4.400e+02 1.572e+04 3.340e+03 2.540e+03 3.306e+04 1.734e+04 8.220e+03\n",
      " 1.095e+04 1.031e+04 1.837e+04 2.070e+03 2.490e+03 7.300e+02 8.940e+03\n",
      " 9.910e+03 5.440e+03 3.000e+01 4.080e+03 6.920e+03 1.170e+03 1.074e+04\n",
      " 5.100e+02 1.690e+03 2.870e+03 3.350e+03 1.164e+04 2.753e+04 9.790e+03\n",
      " 1.017e+04 7.780e+03 8.040e+03 5.300e+02 2.300e+02 7.420e+03 2.130e+03\n",
      " 1.457e+04 2.000e+02 6.930e+03 7.860e+03 1.680e+03 2.700e+03 1.708e+04\n",
      " 1.517e+04 3.250e+03 4.140e+03 2.850e+03 2.005e+04 1.876e+04 1.504e+04\n",
      " 3.030e+03 3.780e+03 8.300e+02 8.550e+03 7.830e+03 2.900e+03 1.147e+04\n",
      " 4.870e+03 1.207e+04 3.200e+03 8.190e+03 1.532e+04 3.590e+03 5.650e+03\n",
      " 5.900e+03 1.754e+04 4.054e+04 1.399e+04 1.527e+04 3.528e+04 8.600e+02\n",
      " 1.920e+03 5.980e+03 6.400e+03 1.190e+04 4.380e+03 6.710e+03 1.370e+03\n",
      " 1.765e+04 4.330e+03 4.574e+04 3.410e+03 8.670e+03 1.313e+04 1.978e+04\n",
      " 2.390e+03 3.224e+04 2.649e+04 2.543e+04 9.820e+03 2.630e+03 2.064e+04\n",
      " 1.699e+04 6.300e+02 5.390e+03 1.549e+04 3.210e+03 1.530e+03 9.770e+03\n",
      " 1.728e+04 5.090e+03 7.180e+03 9.560e+03 4.833e+04 1.760e+03 2.477e+04\n",
      " 3.870e+03 1.862e+04 1.277e+04 9.640e+03 2.590e+03 2.453e+04 1.621e+04\n",
      " 1.757e+04 7.980e+03 3.290e+03 6.320e+03 5.070e+03 3.470e+03 2.720e+03\n",
      " 1.460e+04 6.890e+03 2.765e+04 8.860e+03 5.000e+03 1.120e+03 9.400e+02\n",
      " 1.404e+04 4.770e+03 3.440e+03 3.020e+03 6.270e+03 2.177e+04 7.400e+02\n",
      " 2.137e+04 1.020e+03 9.680e+03 2.181e+04 1.062e+04 3.860e+03 2.179e+04\n",
      " 2.919e+04 4.570e+03 7.550e+03 1.243e+04 1.970e+04 4.450e+03 1.867e+04\n",
      " 1.937e+04 1.854e+04 3.920e+03 3.170e+03 7.290e+03 1.980e+03 1.248e+04\n",
      " 3.100e+03 7.240e+03 1.871e+04 2.620e+03 6.420e+03 4.700e+02 5.150e+03\n",
      " 1.570e+04 5.460e+03 2.235e+04 2.810e+03 2.820e+03 6.860e+03 1.802e+04\n",
      " 1.670e+03 2.220e+03 1.430e+03 8.700e+02 6.300e+03 1.983e+04 9.430e+03\n",
      " 2.362e+04 9.630e+03 4.180e+03 3.890e+03 4.420e+03 2.193e+04 2.480e+03\n",
      " 3.460e+03 6.560e+03 5.840e+03 2.230e+03 1.964e+04 6.480e+03 4.610e+03\n",
      " 6.330e+03 1.520e+03 3.740e+03 1.990e+03 3.641e+04 7.680e+03 1.375e+04\n",
      " 2.715e+04 1.729e+04 2.699e+04 2.907e+04 3.750e+03 1.317e+04 5.080e+03\n",
      " 1.319e+04 5.350e+03 3.230e+03 3.380e+03 3.430e+03 8.110e+03 6.250e+03\n",
      " 1.202e+04 5.010e+03 1.805e+04 5.380e+03 1.668e+04 1.154e+04 2.210e+03\n",
      " 4.300e+03 5.220e+03 9.990e+03 1.045e+04 6.900e+02 1.830e+03 5.330e+03\n",
      " 1.400e+03 3.490e+03 1.900e+03 1.880e+03]\n",
      " Unique values in CompetitionOpenSinceMonth is/are : [ 9. 11. 12.  4. 10.  8. nan  3.  6.  5.  1.  2.  7.]\n",
      " Unique values in CompetitionOpenSinceYear is/are : [2008. 2007. 2006. 2009. 2015. 2013. 2014. 2000. 2011.   nan 2010. 2005.\n",
      " 1999. 2003. 2012. 2004. 2002. 1961. 1995. 2001. 1990. 1994. 1900. 1998.]\n",
      " Unique values in Promo2 is/are : [0 1]\n",
      " Unique values in Promo2SinceWeek is/are : [nan 13. 14.  1. 45. 40. 26. 22.  5.  6. 10. 31. 37.  9. 39. 27. 18. 35.\n",
      " 23. 48. 36. 50. 44. 49. 28.]\n",
      " Unique values in Promo2SinceYear is/are : [  nan 2010. 2011. 2012. 2009. 2014. 2015. 2013.]\n",
      " Unique values in PromoInterval is/are : [nan 'Jan,Apr,Jul,Oct' 'Feb,May,Aug,Nov' 'Mar,Jun,Sept,Dec']\n"
     ]
    }
   ],
   "source": [
    "# store_df\n",
    "# Check Unique Values for each variable.\n",
    "for col in store_df.columns:\n",
    "    print(f\" Number of unique values in Store is | {col} : {len(store_df[col].unique())}\")\n",
    "    \n",
    "# Unique values for store_df\n",
    "for col in store_df.columns:\n",
    "    print(f\" Unique values in {col} is/are : {store_df[col].unique()}\")"
   ]
  },
  {
   "cell_type": "code",
   "execution_count": 17,
   "metadata": {},
   "outputs": [
    {
     "name": "stdout",
     "output_type": "stream",
     "text": [
      " Number of unique values in  | Store : 1115\n",
      " Number of unique values in  | DayOfWeek : 7\n",
      " Number of unique values in  | Date : 942\n",
      " Number of unique values in  | Sales : 21734\n",
      " Number of unique values in  | Customers : 4086\n",
      " Number of unique values in  | Open : 2\n",
      " Number of unique values in  | Promo : 2\n",
      " Number of unique values in  | StateHoliday : 5\n",
      " Number of unique values in  | SchoolHoliday : 2\n",
      " Number of unique values in  | StoreType : 4\n",
      " Number of unique values in  | Assortment : 3\n",
      " Number of unique values in  | CompetitionDistance : 655\n",
      " Number of unique values in  | CompetitionOpenSinceMonth : 13\n",
      " Number of unique values in  | CompetitionOpenSinceYear : 24\n",
      " Number of unique values in  | Promo2 : 2\n",
      " Number of unique values in  | Promo2SinceWeek : 25\n",
      " Number of unique values in  | Promo2SinceYear : 8\n",
      " Number of unique values in  | PromoInterval : 4\n",
      " Unique values in Store is/are : [   1    2    3 ... 1113 1114 1115]\n",
      " Unique values in DayOfWeek is/are : [5 4 3 2 1 7 6]\n",
      " Unique values in Date is/are : ['2015-07-31' '2015-07-30' '2015-07-29' '2015-07-28' '2015-07-27'\n",
      " '2015-07-26' '2015-07-25' '2015-07-24' '2015-07-23' '2015-07-22'\n",
      " '2015-07-21' '2015-07-20' '2015-07-19' '2015-07-18' '2015-07-17'\n",
      " '2015-07-16' '2015-07-15' '2015-07-14' '2015-07-13' '2015-07-12'\n",
      " '2015-07-11' '2015-07-10' '2015-07-09' '2015-07-08' '2015-07-07'\n",
      " '2015-07-06' '2015-07-05' '2015-07-04' '2015-07-03' '2015-07-02'\n",
      " '2015-07-01' '2015-06-30' '2015-06-29' '2015-06-28' '2015-06-27'\n",
      " '2015-06-26' '2015-06-25' '2015-06-24' '2015-06-23' '2015-06-22'\n",
      " '2015-06-21' '2015-06-20' '2015-06-19' '2015-06-18' '2015-06-17'\n",
      " '2015-06-16' '2015-06-15' '2015-06-14' '2015-06-13' '2015-06-12'\n",
      " '2015-06-11' '2015-06-10' '2015-06-09' '2015-06-08' '2015-06-07'\n",
      " '2015-06-06' '2015-06-05' '2015-06-04' '2015-06-03' '2015-06-02'\n",
      " '2015-06-01' '2015-05-31' '2015-05-30' '2015-05-29' '2015-05-28'\n",
      " '2015-05-27' '2015-05-26' '2015-05-25' '2015-05-24' '2015-05-23'\n",
      " '2015-05-22' '2015-05-21' '2015-05-20' '2015-05-19' '2015-05-18'\n",
      " '2015-05-17' '2015-05-16' '2015-05-15' '2015-05-14' '2015-05-13'\n",
      " '2015-05-12' '2015-05-11' '2015-05-10' '2015-05-09' '2015-05-08'\n",
      " '2015-05-07' '2015-05-06' '2015-05-05' '2015-05-04' '2015-05-03'\n",
      " '2015-05-02' '2015-05-01' '2015-04-30' '2015-04-29' '2015-04-28'\n",
      " '2015-04-27' '2015-04-26' '2015-04-25' '2015-04-24' '2015-04-23'\n",
      " '2015-04-22' '2015-04-21' '2015-04-20' '2015-04-19' '2015-04-18'\n",
      " '2015-04-17' '2015-04-16' '2015-04-15' '2015-04-14' '2015-04-13'\n",
      " '2015-04-12' '2015-04-11' '2015-04-10' '2015-04-09' '2015-04-08'\n",
      " '2015-04-07' '2015-04-06' '2015-04-05' '2015-04-04' '2015-04-03'\n",
      " '2015-04-02' '2015-04-01' '2015-03-31' '2015-03-30' '2015-03-29'\n",
      " '2015-03-28' '2015-03-27' '2015-03-26' '2015-03-25' '2015-03-24'\n",
      " '2015-03-23' '2015-03-22' '2015-03-21' '2015-03-20' '2015-03-19'\n",
      " '2015-03-18' '2015-03-17' '2015-03-16' '2015-03-15' '2015-03-14'\n",
      " '2015-03-13' '2015-03-12' '2015-03-11' '2015-03-10' '2015-03-09'\n",
      " '2015-03-08' '2015-03-07' '2015-03-06' '2015-03-05' '2015-03-04'\n",
      " '2015-03-03' '2015-03-02' '2015-03-01' '2015-02-28' '2015-02-27'\n",
      " '2015-02-26' '2015-02-25' '2015-02-24' '2015-02-23' '2015-02-22'\n",
      " '2015-02-21' '2015-02-20' '2015-02-19' '2015-02-18' '2015-02-17'\n",
      " '2015-02-16' '2015-02-15' '2015-02-14' '2015-02-13' '2015-02-12'\n",
      " '2015-02-11' '2015-02-10' '2015-02-09' '2015-02-08' '2015-02-07'\n",
      " '2015-02-06' '2015-02-05' '2015-02-04' '2015-02-03' '2015-02-02'\n",
      " '2015-02-01' '2015-01-31' '2015-01-30' '2015-01-29' '2015-01-28'\n",
      " '2015-01-27' '2015-01-26' '2015-01-25' '2015-01-24' '2015-01-23'\n",
      " '2015-01-22' '2015-01-21' '2015-01-20' '2015-01-19' '2015-01-18'\n",
      " '2015-01-17' '2015-01-16' '2015-01-15' '2015-01-14' '2015-01-13'\n",
      " '2015-01-12' '2015-01-11' '2015-01-10' '2015-01-09' '2015-01-08'\n",
      " '2015-01-07' '2015-01-06' '2015-01-05' '2015-01-04' '2015-01-03'\n",
      " '2015-01-02' '2015-01-01' '2014-12-31' '2014-12-30' '2014-12-29'\n",
      " '2014-12-28' '2014-12-27' '2014-12-26' '2014-12-25' '2014-12-24'\n",
      " '2014-12-23' '2014-12-22' '2014-12-21' '2014-12-20' '2014-12-19'\n",
      " '2014-12-18' '2014-12-17' '2014-12-16' '2014-12-15' '2014-12-14'\n",
      " '2014-12-13' '2014-12-12' '2014-12-11' '2014-12-10' '2014-12-09'\n",
      " '2014-12-08' '2014-12-07' '2014-12-06' '2014-12-05' '2014-12-04'\n",
      " '2014-12-03' '2014-12-02' '2014-12-01' '2014-11-30' '2014-11-29'\n",
      " '2014-11-28' '2014-11-27' '2014-11-26' '2014-11-25' '2014-11-24'\n",
      " '2014-11-23' '2014-11-22' '2014-11-21' '2014-11-20' '2014-11-19'\n",
      " '2014-11-18' '2014-11-17' '2014-11-16' '2014-11-15' '2014-11-14'\n",
      " '2014-11-13' '2014-11-12' '2014-11-11' '2014-11-10' '2014-11-09'\n",
      " '2014-11-08' '2014-11-07' '2014-11-06' '2014-11-05' '2014-11-04'\n",
      " '2014-11-03' '2014-11-02' '2014-11-01' '2014-10-31' '2014-10-30'\n",
      " '2014-10-29' '2014-10-28' '2014-10-27' '2014-10-26' '2014-10-25'\n",
      " '2014-10-24' '2014-10-23' '2014-10-22' '2014-10-21' '2014-10-20'\n",
      " '2014-10-19' '2014-10-18' '2014-10-17' '2014-10-16' '2014-10-15'\n",
      " '2014-10-14' '2014-10-13' '2014-10-12' '2014-10-11' '2014-10-10'\n",
      " '2014-10-09' '2014-10-08' '2014-10-07' '2014-10-06' '2014-10-05'\n",
      " '2014-10-04' '2014-10-03' '2014-10-02' '2014-10-01' '2014-09-30'\n",
      " '2014-09-29' '2014-09-28' '2014-09-27' '2014-09-26' '2014-09-25'\n",
      " '2014-09-24' '2014-09-23' '2014-09-22' '2014-09-21' '2014-09-20'\n",
      " '2014-09-19' '2014-09-18' '2014-09-17' '2014-09-16' '2014-09-15'\n",
      " '2014-09-14' '2014-09-13' '2014-09-12' '2014-09-11' '2014-09-10'\n",
      " '2014-09-09' '2014-09-08' '2014-09-07' '2014-09-06' '2014-09-05'\n",
      " '2014-09-04' '2014-09-03' '2014-09-02' '2014-09-01' '2014-08-31'\n",
      " '2014-08-30' '2014-08-29' '2014-08-28' '2014-08-27' '2014-08-26'\n",
      " '2014-08-25' '2014-08-24' '2014-08-23' '2014-08-22' '2014-08-21'\n",
      " '2014-08-20' '2014-08-19' '2014-08-18' '2014-08-17' '2014-08-16'\n",
      " '2014-08-15' '2014-08-14' '2014-08-13' '2014-08-12' '2014-08-11'\n",
      " '2014-08-10' '2014-08-09' '2014-08-08' '2014-08-07' '2014-08-06'\n",
      " '2014-08-05' '2014-08-04' '2014-08-03' '2014-08-02' '2014-08-01'\n",
      " '2014-07-31' '2014-07-30' '2014-07-29' '2014-07-28' '2014-07-27'\n",
      " '2014-07-26' '2014-07-25' '2014-07-24' '2014-07-23' '2014-07-22'\n",
      " '2014-07-21' '2014-07-20' '2014-07-19' '2014-07-18' '2014-07-17'\n",
      " '2014-07-16' '2014-07-15' '2014-07-14' '2014-07-13' '2014-07-12'\n",
      " '2014-07-11' '2014-07-10' '2014-07-09' '2014-07-08' '2014-07-07'\n",
      " '2014-07-06' '2014-07-05' '2014-07-04' '2014-07-03' '2014-07-02'\n",
      " '2014-07-01' '2014-06-30' '2014-06-29' '2014-06-28' '2014-06-27'\n",
      " '2014-06-26' '2014-06-25' '2014-06-24' '2014-06-23' '2014-06-22'\n",
      " '2014-06-21' '2014-06-20' '2014-06-19' '2014-06-18' '2014-06-17'\n",
      " '2014-06-16' '2014-06-15' '2014-06-14' '2014-06-13' '2014-06-12'\n",
      " '2014-06-11' '2014-06-10' '2014-06-09' '2014-06-08' '2014-06-07'\n",
      " '2014-06-06' '2014-06-05' '2014-06-04' '2014-06-03' '2014-06-02'\n",
      " '2014-06-01' '2014-05-31' '2014-05-30' '2014-05-29' '2014-05-28'\n",
      " '2014-05-27' '2014-05-26' '2014-05-25' '2014-05-24' '2014-05-23'\n",
      " '2014-05-22' '2014-05-21' '2014-05-20' '2014-05-19' '2014-05-18'\n",
      " '2014-05-17' '2014-05-16' '2014-05-15' '2014-05-14' '2014-05-13'\n",
      " '2014-05-12' '2014-05-11' '2014-05-10' '2014-05-09' '2014-05-08'\n",
      " '2014-05-07' '2014-05-06' '2014-05-05' '2014-05-04' '2014-05-03'\n",
      " '2014-05-02' '2014-05-01' '2014-04-30' '2014-04-29' '2014-04-28'\n",
      " '2014-04-27' '2014-04-26' '2014-04-25' '2014-04-24' '2014-04-23'\n",
      " '2014-04-22' '2014-04-21' '2014-04-20' '2014-04-19' '2014-04-18'\n",
      " '2014-04-17' '2014-04-16' '2014-04-15' '2014-04-14' '2014-04-13'\n",
      " '2014-04-12' '2014-04-11' '2014-04-10' '2014-04-09' '2014-04-08'\n",
      " '2014-04-07' '2014-04-06' '2014-04-05' '2014-04-04' '2014-04-03'\n",
      " '2014-04-02' '2014-04-01' '2014-03-31' '2014-03-30' '2014-03-29'\n",
      " '2014-03-28' '2014-03-27' '2014-03-26' '2014-03-25' '2014-03-24'\n",
      " '2014-03-23' '2014-03-22' '2014-03-21' '2014-03-20' '2014-03-19'\n",
      " '2014-03-18' '2014-03-17' '2014-03-16' '2014-03-15' '2014-03-14'\n",
      " '2014-03-13' '2014-03-12' '2014-03-11' '2014-03-10' '2014-03-09'\n",
      " '2014-03-08' '2014-03-07' '2014-03-06' '2014-03-05' '2014-03-04'\n",
      " '2014-03-03' '2014-03-02' '2014-03-01' '2014-02-28' '2014-02-27'\n",
      " '2014-02-26' '2014-02-25' '2014-02-24' '2014-02-23' '2014-02-22'\n",
      " '2014-02-21' '2014-02-20' '2014-02-19' '2014-02-18' '2014-02-17'\n",
      " '2014-02-16' '2014-02-15' '2014-02-14' '2014-02-13' '2014-02-12'\n",
      " '2014-02-11' '2014-02-10' '2014-02-09' '2014-02-08' '2014-02-07'\n",
      " '2014-02-06' '2014-02-05' '2014-02-04' '2014-02-03' '2014-02-02'\n",
      " '2014-02-01' '2014-01-31' '2014-01-30' '2014-01-29' '2014-01-28'\n",
      " '2014-01-27' '2014-01-26' '2014-01-25' '2014-01-24' '2014-01-23'\n",
      " '2014-01-22' '2014-01-21' '2014-01-20' '2014-01-19' '2014-01-18'\n",
      " '2014-01-17' '2014-01-16' '2014-01-15' '2014-01-14' '2014-01-13'\n",
      " '2014-01-12' '2014-01-11' '2014-01-10' '2014-01-09' '2014-01-08'\n",
      " '2014-01-07' '2014-01-06' '2014-01-05' '2014-01-04' '2014-01-03'\n",
      " '2014-01-02' '2014-01-01' '2013-12-31' '2013-12-30' '2013-12-29'\n",
      " '2013-12-28' '2013-12-27' '2013-12-26' '2013-12-25' '2013-12-24'\n",
      " '2013-12-23' '2013-12-22' '2013-12-21' '2013-12-20' '2013-12-19'\n",
      " '2013-12-18' '2013-12-17' '2013-12-16' '2013-12-15' '2013-12-14'\n",
      " '2013-12-13' '2013-12-12' '2013-12-11' '2013-12-10' '2013-12-09'\n",
      " '2013-12-08' '2013-12-07' '2013-12-06' '2013-12-05' '2013-12-04'\n",
      " '2013-12-03' '2013-12-02' '2013-12-01' '2013-11-30' '2013-11-29'\n",
      " '2013-11-28' '2013-11-27' '2013-11-26' '2013-11-25' '2013-11-24'\n",
      " '2013-11-23' '2013-11-22' '2013-11-21' '2013-11-20' '2013-11-19'\n",
      " '2013-11-18' '2013-11-17' '2013-11-16' '2013-11-15' '2013-11-14'\n",
      " '2013-11-13' '2013-11-12' '2013-11-11' '2013-11-10' '2013-11-09'\n",
      " '2013-11-08' '2013-11-07' '2013-11-06' '2013-11-05' '2013-11-04'\n",
      " '2013-11-03' '2013-11-02' '2013-11-01' '2013-10-31' '2013-10-30'\n",
      " '2013-10-29' '2013-10-28' '2013-10-27' '2013-10-26' '2013-10-25'\n",
      " '2013-10-24' '2013-10-23' '2013-10-22' '2013-10-21' '2013-10-20'\n",
      " '2013-10-19' '2013-10-18' '2013-10-17' '2013-10-16' '2013-10-15'\n",
      " '2013-10-14' '2013-10-13' '2013-10-12' '2013-10-11' '2013-10-10'\n",
      " '2013-10-09' '2013-10-08' '2013-10-07' '2013-10-06' '2013-10-05'\n",
      " '2013-10-04' '2013-10-03' '2013-10-02' '2013-10-01' '2013-09-30'\n",
      " '2013-09-29' '2013-09-28' '2013-09-27' '2013-09-26' '2013-09-25'\n",
      " '2013-09-24' '2013-09-23' '2013-09-22' '2013-09-21' '2013-09-20'\n",
      " '2013-09-19' '2013-09-18' '2013-09-17' '2013-09-16' '2013-09-15'\n",
      " '2013-09-14' '2013-09-13' '2013-09-12' '2013-09-11' '2013-09-10'\n",
      " '2013-09-09' '2013-09-08' '2013-09-07' '2013-09-06' '2013-09-05'\n",
      " '2013-09-04' '2013-09-03' '2013-09-02' '2013-09-01' '2013-08-31'\n",
      " '2013-08-30' '2013-08-29' '2013-08-28' '2013-08-27' '2013-08-26'\n",
      " '2013-08-25' '2013-08-24' '2013-08-23' '2013-08-22' '2013-08-21'\n",
      " '2013-08-20' '2013-08-19' '2013-08-18' '2013-08-17' '2013-08-16'\n",
      " '2013-08-15' '2013-08-14' '2013-08-13' '2013-08-12' '2013-08-11'\n",
      " '2013-08-10' '2013-08-09' '2013-08-08' '2013-08-07' '2013-08-06'\n",
      " '2013-08-05' '2013-08-04' '2013-08-03' '2013-08-02' '2013-08-01'\n",
      " '2013-07-31' '2013-07-30' '2013-07-29' '2013-07-28' '2013-07-27'\n",
      " '2013-07-26' '2013-07-25' '2013-07-24' '2013-07-23' '2013-07-22'\n",
      " '2013-07-21' '2013-07-20' '2013-07-19' '2013-07-18' '2013-07-17'\n",
      " '2013-07-16' '2013-07-15' '2013-07-14' '2013-07-13' '2013-07-12'\n",
      " '2013-07-11' '2013-07-10' '2013-07-09' '2013-07-08' '2013-07-07'\n",
      " '2013-07-06' '2013-07-05' '2013-07-04' '2013-07-03' '2013-07-02'\n",
      " '2013-07-01' '2013-06-30' '2013-06-29' '2013-06-28' '2013-06-27'\n",
      " '2013-06-26' '2013-06-25' '2013-06-24' '2013-06-23' '2013-06-22'\n",
      " '2013-06-21' '2013-06-20' '2013-06-19' '2013-06-18' '2013-06-17'\n",
      " '2013-06-16' '2013-06-15' '2013-06-14' '2013-06-13' '2013-06-12'\n",
      " '2013-06-11' '2013-06-10' '2013-06-09' '2013-06-08' '2013-06-07'\n",
      " '2013-06-06' '2013-06-05' '2013-06-04' '2013-06-03' '2013-06-02'\n",
      " '2013-06-01' '2013-05-31' '2013-05-30' '2013-05-29' '2013-05-28'\n",
      " '2013-05-27' '2013-05-26' '2013-05-25' '2013-05-24' '2013-05-23'\n",
      " '2013-05-22' '2013-05-21' '2013-05-20' '2013-05-19' '2013-05-18'\n",
      " '2013-05-17' '2013-05-16' '2013-05-15' '2013-05-14' '2013-05-13'\n",
      " '2013-05-12' '2013-05-11' '2013-05-10' '2013-05-09' '2013-05-08'\n",
      " '2013-05-07' '2013-05-06' '2013-05-05' '2013-05-04' '2013-05-03'\n",
      " '2013-05-02' '2013-05-01' '2013-04-30' '2013-04-29' '2013-04-28'\n",
      " '2013-04-27' '2013-04-26' '2013-04-25' '2013-04-24' '2013-04-23'\n",
      " '2013-04-22' '2013-04-21' '2013-04-20' '2013-04-19' '2013-04-18'\n",
      " '2013-04-17' '2013-04-16' '2013-04-15' '2013-04-14' '2013-04-13'\n",
      " '2013-04-12' '2013-04-11' '2013-04-10' '2013-04-09' '2013-04-08'\n",
      " '2013-04-07' '2013-04-06' '2013-04-05' '2013-04-04' '2013-04-03'\n",
      " '2013-04-02' '2013-04-01' '2013-03-31' '2013-03-30' '2013-03-29'\n",
      " '2013-03-28' '2013-03-27' '2013-03-26' '2013-03-25' '2013-03-24'\n",
      " '2013-03-23' '2013-03-22' '2013-03-21' '2013-03-20' '2013-03-19'\n",
      " '2013-03-18' '2013-03-17' '2013-03-16' '2013-03-15' '2013-03-14'\n",
      " '2013-03-13' '2013-03-12' '2013-03-11' '2013-03-10' '2013-03-09'\n",
      " '2013-03-08' '2013-03-07' '2013-03-06' '2013-03-05' '2013-03-04'\n",
      " '2013-03-03' '2013-03-02' '2013-03-01' '2013-02-28' '2013-02-27'\n",
      " '2013-02-26' '2013-02-25' '2013-02-24' '2013-02-23' '2013-02-22'\n",
      " '2013-02-21' '2013-02-20' '2013-02-19' '2013-02-18' '2013-02-17'\n",
      " '2013-02-16' '2013-02-15' '2013-02-14' '2013-02-13' '2013-02-12'\n",
      " '2013-02-11' '2013-02-10' '2013-02-09' '2013-02-08' '2013-02-07'\n",
      " '2013-02-06' '2013-02-05' '2013-02-04' '2013-02-03' '2013-02-02'\n",
      " '2013-02-01' '2013-01-31' '2013-01-30' '2013-01-29' '2013-01-28'\n",
      " '2013-01-27' '2013-01-26' '2013-01-25' '2013-01-24' '2013-01-23'\n",
      " '2013-01-22' '2013-01-21' '2013-01-20' '2013-01-19' '2013-01-18'\n",
      " '2013-01-17' '2013-01-16' '2013-01-15' '2013-01-14' '2013-01-13'\n",
      " '2013-01-12' '2013-01-11' '2013-01-10' '2013-01-09' '2013-01-08'\n",
      " '2013-01-07' '2013-01-06' '2013-01-05' '2013-01-04' '2013-01-03'\n",
      " '2013-01-02' '2013-01-01']\n",
      " Unique values in Sales is/are : [ 5263  6064  8314 ...   660 17815 23303]\n",
      " Unique values in Customers is/are : [ 555  625  821 ... 3900   36 4065]\n",
      " Unique values in Open is/are : [1 0]\n",
      " Unique values in Promo is/are : [1 0]\n",
      " Unique values in StateHoliday is/are : ['0' 'a' 'b' 'c' 0]\n",
      " Unique values in SchoolHoliday is/are : [1 0]\n",
      " Unique values in StoreType is/are : ['c' 'a' 'd' 'b']\n",
      " Unique values in Assortment is/are : ['a' 'c' 'b']\n",
      " Unique values in CompetitionDistance is/are : [1.270e+03 5.700e+02 1.413e+04 6.200e+02 2.991e+04 3.100e+02 2.400e+04\n",
      " 7.520e+03 2.030e+03 3.160e+03 9.600e+02 1.070e+03 1.300e+03 4.110e+03\n",
      " 3.270e+03 5.000e+01 1.384e+04 3.240e+03 2.340e+03 5.500e+02 1.040e+03\n",
      " 4.060e+03 4.590e+03 4.300e+02 2.300e+03 6.000e+01 1.200e+03 2.170e+03\n",
      " 4.000e+01 9.800e+03 2.910e+03 1.320e+03 2.240e+03 7.660e+03 5.400e+02\n",
      " 4.230e+03 1.090e+03 2.600e+02 1.800e+02 1.180e+03 2.900e+02 4.880e+03\n",
      " 9.710e+03 2.700e+02 1.060e+03 1.801e+04 6.260e+03 1.057e+04 4.500e+02\n",
      " 3.036e+04 7.170e+03 7.200e+02 6.620e+03 4.200e+02 7.340e+03 2.840e+03\n",
      " 5.540e+03 3.500e+02 2.050e+03 3.700e+03 2.256e+04 4.100e+02 2.500e+02\n",
      " 1.130e+03 4.840e+03 1.750e+04 2.200e+03 1.650e+03 3.300e+02 2.244e+04\n",
      " 1.996e+04 3.510e+03 3.320e+03 7.910e+03 2.370e+03 2.239e+04 2.710e+03\n",
      " 1.181e+04 1.870e+03 4.800e+02 5.600e+02 1.069e+04 2.380e+03 2.410e+03\n",
      " 2.400e+02 1.669e+04 1.462e+04 1.890e+03 8.780e+03 8.980e+03 1.514e+04\n",
      " 1.793e+04 2.440e+03 1.500e+02 5.210e+03 3.900e+02 6.190e+03 1.390e+03\n",
      " 1.930e+03 2.190e+03 3.300e+03 4.659e+04 7.890e+03 1.630e+03 2.093e+04\n",
      " 4.510e+03 5.740e+03 6.800e+02 3.450e+03 3.580e+03 2.100e+03 2.290e+03\n",
      " 3.570e+03 5.826e+04 1.676e+04 1.410e+03 7.600e+02 3.370e+03 1.350e+03\n",
      " 2.000e+03 2.460e+03 9.000e+02 9.200e+02 5.190e+03 1.730e+03 2.536e+04\n",
      " 1.700e+03 1.540e+03 2.930e+03 1.657e+04 2.800e+02 8.050e+03 8.540e+03\n",
      " 2.090e+03 2.610e+03 3.183e+04 4.360e+03 1.780e+03 1.624e+04 1.642e+04\n",
      " 3.050e+03 2.020e+03 2.950e+03 1.184e+04 8.530e+03 1.711e+04 2.970e+03\n",
      " 5.340e+03 1.480e+03 1.160e+03 3.720e+03 1.000e+02 1.400e+02 1.254e+04\n",
      " 9.800e+02 2.640e+03 1.100e+02 1.309e+04 4.130e+03 3.770e+03 1.250e+03\n",
      " 1.710e+03 5.800e+03 1.261e+04 9.670e+03 3.560e+03 1.860e+03 1.936e+04\n",
      " 8.500e+02 5.760e+03 1.470e+03 1.100e+03 2.770e+03 5.200e+02 1.697e+04\n",
      " 2.200e+02 3.850e+03 4.210e+03 6.360e+03 2.026e+04 5.140e+03 4.900e+02\n",
      " 5.630e+03 3.800e+02 6.870e+03 3.000e+02 1.168e+04 9.700e+02 1.505e+04\n",
      " 4.030e+03 8.650e+03 1.900e+02 3.150e+03 6.400e+02 1.640e+03 1.000e+03\n",
      " 1.353e+04 2.920e+03 7.930e+03 1.018e+04 1.080e+04 1.741e+04 6.680e+03\n",
      " 3.840e+03 1.357e+04 4.370e+03 5.710e+03 1.420e+03 3.200e+02 6.100e+02\n",
      " 1.110e+03 7.800e+02 6.880e+03 7.100e+02 1.310e+03 4.660e+03 7.000e+01\n",
      " 3.400e+02 3.520e+03 2.233e+04 4.630e+03 8.000e+01 2.719e+04 2.100e+02\n",
      " 1.534e+04 1.140e+03 4.580e+03 3.600e+02 4.520e+03 1.450e+03 1.618e+04\n",
      " 8.480e+03 3.640e+03 2.960e+03 7.840e+03 9.260e+03 2.320e+03 1.864e+04\n",
      " 6.970e+03 1.220e+03 2.260e+03 1.290e+03 1.460e+03 2.740e+03 8.000e+02\n",
      " 6.540e+03 4.150e+03       nan 9.580e+03 1.984e+04 3.863e+04 1.200e+02\n",
      " 1.543e+04 1.950e+03 2.470e+03 5.100e+03 1.866e+04 8.740e+03 1.130e+04\n",
      " 1.416e+04 3.871e+04 9.000e+03 3.140e+03 3.233e+04 8.140e+03 8.400e+03\n",
      " 1.314e+04 1.007e+04 3.130e+03 3.700e+02 6.700e+02 1.840e+03 4.040e+03\n",
      " 9.000e+01 1.060e+04 1.590e+03 2.280e+03 8.080e+03 1.577e+04 1.865e+04\n",
      " 8.090e+03 9.360e+03 1.649e+04 1.490e+03 8.880e+03 5.290e+03 1.500e+03\n",
      " 9.720e+03 8.970e+03 2.060e+03 2.890e+03 2.040e+03 4.490e+03 1.362e+04\n",
      " 6.470e+03 5.870e+03 8.250e+03 1.970e+03 1.112e+04 1.150e+03 1.571e+04\n",
      " 1.600e+02 2.140e+03 6.630e+03 1.800e+03 2.613e+04 1.300e+02 6.690e+03\n",
      " 1.600e+03 4.600e+02 2.120e+03 4.820e+03 1.085e+04 3.620e+03 2.313e+04\n",
      " 5.360e+03 9.200e+03 5.830e+03 4.970e+03 1.080e+03 8.240e+03 5.890e+03\n",
      " 1.560e+03 8.400e+02 8.460e+03 4.460e+03 6.210e+03 6.910e+03 4.650e+03\n",
      " 1.620e+03 3.530e+03 2.880e+03 1.635e+04 1.287e+04 8.100e+02 3.003e+04\n",
      " 1.302e+04 9.100e+02 3.900e+03 2.530e+03 5.000e+02 1.140e+04 1.510e+03\n",
      " 3.970e+03 5.780e+03 1.850e+03 7.586e+04 2.645e+04 3.390e+03 3.405e+04\n",
      " 1.790e+03 4.432e+04 4.160e+03 1.089e+04 3.110e+03 2.039e+04 5.260e+03\n",
      " 5.300e+03 5.030e+03 1.481e+04 8.300e+03 7.700e+02 1.940e+03 7.470e+03\n",
      " 2.550e+03 2.310e+03 1.430e+04 2.180e+03 1.496e+04 6.600e+02 4.680e+03\n",
      " 1.740e+03 1.260e+03 5.470e+03 2.780e+03 1.610e+03 9.900e+02 1.308e+04\n",
      " 8.200e+02 9.070e+03 1.280e+03 4.740e+03 8.260e+03 5.900e+02 4.000e+02\n",
      " 1.126e+04 2.000e+01 2.249e+04 3.330e+03 2.510e+03 6.900e+03 1.861e+04\n",
      " 7.160e+03 4.086e+04 2.062e+04 1.292e+04 1.816e+04 5.950e+03 4.700e+03\n",
      " 6.000e+02 6.500e+02 7.280e+03 5.020e+03 5.800e+02 8.990e+03 3.760e+03\n",
      " 2.330e+03 4.260e+03 3.040e+03 3.000e+03 3.910e+03 1.910e+03 1.210e+03\n",
      " 7.000e+02 1.010e+03 4.270e+03 1.340e+03 2.110e+03 9.230e+03 1.190e+03\n",
      " 4.400e+03 2.270e+03 1.270e+04 2.097e+04 1.700e+02 7.250e+03 1.360e+03\n",
      " 4.400e+02 1.572e+04 3.340e+03 2.540e+03 3.306e+04 1.734e+04 8.220e+03\n",
      " 1.095e+04 1.031e+04 1.837e+04 2.070e+03 2.490e+03 7.300e+02 8.940e+03\n",
      " 9.910e+03 5.440e+03 3.000e+01 4.080e+03 6.920e+03 1.170e+03 1.074e+04\n",
      " 5.100e+02 1.690e+03 2.870e+03 3.350e+03 1.164e+04 2.753e+04 9.790e+03\n",
      " 1.017e+04 7.780e+03 8.040e+03 5.300e+02 2.300e+02 7.420e+03 2.130e+03\n",
      " 1.457e+04 2.000e+02 6.930e+03 7.860e+03 1.680e+03 2.700e+03 1.708e+04\n",
      " 1.517e+04 3.250e+03 4.140e+03 2.850e+03 2.005e+04 1.876e+04 1.504e+04\n",
      " 3.030e+03 3.780e+03 8.300e+02 8.550e+03 7.830e+03 2.900e+03 1.147e+04\n",
      " 4.870e+03 1.207e+04 3.200e+03 8.190e+03 1.532e+04 3.590e+03 5.650e+03\n",
      " 5.900e+03 1.754e+04 4.054e+04 1.399e+04 1.527e+04 3.528e+04 8.600e+02\n",
      " 1.920e+03 5.980e+03 6.400e+03 1.190e+04 4.380e+03 6.710e+03 1.370e+03\n",
      " 1.765e+04 4.330e+03 4.574e+04 3.410e+03 8.670e+03 1.313e+04 1.978e+04\n",
      " 2.390e+03 3.224e+04 2.649e+04 2.543e+04 9.820e+03 2.630e+03 2.064e+04\n",
      " 1.699e+04 6.300e+02 5.390e+03 1.549e+04 3.210e+03 1.530e+03 9.770e+03\n",
      " 1.728e+04 5.090e+03 7.180e+03 9.560e+03 4.833e+04 1.760e+03 2.477e+04\n",
      " 3.870e+03 1.862e+04 1.277e+04 9.640e+03 2.590e+03 2.453e+04 1.621e+04\n",
      " 1.757e+04 7.980e+03 3.290e+03 6.320e+03 5.070e+03 3.470e+03 2.720e+03\n",
      " 1.460e+04 6.890e+03 2.765e+04 8.860e+03 5.000e+03 1.120e+03 9.400e+02\n",
      " 1.404e+04 4.770e+03 3.440e+03 3.020e+03 6.270e+03 2.177e+04 7.400e+02\n",
      " 2.137e+04 1.020e+03 9.680e+03 2.181e+04 1.062e+04 3.860e+03 2.179e+04\n",
      " 2.919e+04 4.570e+03 7.550e+03 1.243e+04 1.970e+04 4.450e+03 1.867e+04\n",
      " 1.937e+04 1.854e+04 3.920e+03 3.170e+03 7.290e+03 1.980e+03 1.248e+04\n",
      " 3.100e+03 7.240e+03 1.871e+04 2.620e+03 6.420e+03 4.700e+02 5.150e+03\n",
      " 1.570e+04 5.460e+03 2.235e+04 2.810e+03 2.820e+03 6.860e+03 1.802e+04\n",
      " 1.670e+03 2.220e+03 1.430e+03 8.700e+02 6.300e+03 1.983e+04 9.430e+03\n",
      " 2.362e+04 9.630e+03 4.180e+03 3.890e+03 4.420e+03 2.193e+04 2.480e+03\n",
      " 3.460e+03 6.560e+03 5.840e+03 2.230e+03 1.964e+04 6.480e+03 4.610e+03\n",
      " 6.330e+03 1.520e+03 3.740e+03 1.990e+03 3.641e+04 7.680e+03 1.375e+04\n",
      " 2.715e+04 1.729e+04 2.699e+04 2.907e+04 3.750e+03 1.317e+04 5.080e+03\n",
      " 1.319e+04 5.350e+03 3.230e+03 3.380e+03 3.430e+03 8.110e+03 6.250e+03\n",
      " 1.202e+04 5.010e+03 1.805e+04 5.380e+03 1.668e+04 1.154e+04 2.210e+03\n",
      " 4.300e+03 5.220e+03 9.990e+03 1.045e+04 6.900e+02 1.830e+03 5.330e+03\n",
      " 1.400e+03 3.490e+03 1.900e+03 1.880e+03]\n",
      " Unique values in CompetitionOpenSinceMonth is/are : [ 9. 11. 12.  4. 10.  8. nan  3.  6.  5.  1.  2.  7.]\n",
      " Unique values in CompetitionOpenSinceYear is/are : [2008. 2007. 2006. 2009. 2015. 2013. 2014. 2000. 2011.   nan 2010. 2005.\n",
      " 1999. 2003. 2012. 2004. 2002. 1961. 1995. 2001. 1990. 1994. 1900. 1998.]\n",
      " Unique values in Promo2 is/are : [0 1]\n",
      " Unique values in Promo2SinceWeek is/are : [nan 13. 14.  1. 45. 40. 26. 22.  5.  6. 10. 31. 37.  9. 39. 27. 18. 35.\n",
      " 23. 48. 36. 50. 44. 49. 28.]\n",
      " Unique values in Promo2SinceYear is/are : [  nan 2010. 2011. 2012. 2009. 2014. 2015. 2013.]\n",
      " Unique values in PromoInterval is/are : [nan 'Jan,Apr,Jul,Oct' 'Feb,May,Aug,Nov' 'Mar,Jun,Sept,Dec']\n"
     ]
    }
   ],
   "source": [
    "# final_df\n",
    "# Check Unique Values for each variable.\n",
    "for col in final_df.columns:\n",
    "    print(f\" Number of unique values in  | {col} : {len(final_df[col].unique())}\")\n",
    "    \n",
    "# Unique values for store_df\n",
    "for col in final_df.columns:\n",
    "    print(f\" Unique values in {col} is/are : {final_df[col].unique()}\")"
   ]
  },
  {
   "cell_type": "markdown",
   "metadata": {
    "id": "dauF4eBmngu3"
   },
   "source": [
    "## 3. ***Data Wrangling***"
   ]
  },
  {
   "cell_type": "markdown",
   "metadata": {
    "id": "bKJF3rekwFvQ"
   },
   "source": [
    "### Data Wrangling Code"
   ]
  },
  {
   "cell_type": "markdown",
   "metadata": {},
   "source": [
    "rossmann_df"
   ]
  },
  {
   "cell_type": "code",
   "execution_count": 18,
   "metadata": {},
   "outputs": [
    {
     "name": "stdout",
     "output_type": "stream",
     "text": [
      "Percentage of data when shops were closed : 16.99.\n"
     ]
    }
   ],
   "source": [
    "# approximately 17% observations are zero\n",
    "print(f\"Percentage of data when shops were closed : {round(len(rossmann_df[rossmann_df['Open'] == 0])/len(rossmann_df),4)*100}.\")\n",
    "\n",
    "# Dropping the data when shops were closed and also dropping the  column 'Open'.\n",
    "rossmann_df = rossmann_df[rossmann_df['Open'] == 1]\n",
    "rossmann_df.drop(columns=['Open'], inplace=True)\n",
    "\n",
    "# from str to date time conversion\n",
    "rossmann_df['Date'] = rossmann_df['Date'].apply(lambda col: datetime.strptime(col,'%Y-%m-%d'))\n",
    "\n",
    "# creating day, month, year columns\n",
    "plt.rcParams['figure.figsize'] = (5,3)\n",
    "rossmann_df['day'] = rossmann_df['Date'].apply(lambda d: d.day)\n",
    "rossmann_df['month'] = rossmann_df['Date'].apply(lambda m: m.month)\n",
    "rossmann_df['year'] = rossmann_df['Date'].apply(lambda y: y.year)"
   ]
  },
  {
   "cell_type": "markdown",
   "metadata": {
    "id": "MSa1f5Uengrz"
   },
   "source": [
    "### What all manipulations have you done and insights you found?"
   ]
  },
  {
   "cell_type": "markdown",
   "metadata": {
    "id": "LbyXE7I1olp8"
   },
   "source": [
    "#### rossmann_df :\n",
    "First of all I dropped all the rows which contains only zeros in all columns and also dropped the column Open. After that I converted Date column from string to date time type. Further I created 3 more columns day, month, year from Date column."
   ]
  },
  {
   "cell_type": "markdown",
   "metadata": {
    "id": "GF8Ens_Soomf"
   },
   "source": [
    "## ***4. Data Vizualization, Storytelling & Experimenting with charts : Understand the relationships between variables***"
   ]
  },
  {
   "cell_type": "markdown",
   "metadata": {
    "id": "0wOQAZs5pc--"
   },
   "source": [
    "#### Chart - 1"
   ]
  },
  {
   "cell_type": "code",
   "execution_count": 19,
   "metadata": {
    "id": "7v_ESjsspbW7"
   },
   "outputs": [
    {
     "data": {
      "image/png": "[encoded data removed]",
      "text/plain": [
       "<Figure size 500x300 with 1 Axes>"
      ]
     },
     "metadata": {},
     "output_type": "display_data"
    },
    {
     "name": "stdout",
     "output_type": "stream",
     "text": [
      "\n",
      "\n"
     ]
    },
    {
     "data": {
      "image/png": "[encoded data removed]",
      "text/plain": [
       "<Figure size 500x300 with 1 Axes>"
      ]
     },
     "metadata": {},
     "output_type": "display_data"
    }
   ],
   "source": [
    "# Chart - 1 visualization code\n",
    "\n",
    "# Distribution plot for Sales\n",
    "\n",
    "# Before log transformation\n",
    "sns.distplot(rossmann_df['Sales'])\n",
    "plt.title('Distribution of Sales')\n",
    "plt.show()\n",
    "print('\\n')\n",
    "\n",
    "# After log transformation\n",
    "sns.distplot(np.log2(rossmann_df['Sales']+1))\n",
    "plt.title('Distribution of Sales')\n",
    "plt.show()"
   ]
  },
  {
   "cell_type": "markdown",
   "metadata": {
    "id": "K5QZ13OEpz2H"
   },
   "source": [
    "##### 1. Why did you pick the specific chart?"
   ]
  },
  {
   "cell_type": "markdown",
   "metadata": {
    "id": "XESiWehPqBRc"
   },
   "source": [
    "I picked that chart to see how the Target column is distributed."
   ]
  },
  {
   "cell_type": "markdown",
   "metadata": {
    "id": "lQ7QKXXCp7Bj"
   },
   "source": [
    "##### 2. What is/are the insight(s) found from the chart?"
   ]
  },
  {
   "cell_type": "markdown",
   "metadata": {
    "id": "C_j1G7yiqdRP"
   },
   "source": [
    "From that  chart I found that the Sales column was very close to normal distribution but after log transformation I found that the distribution became more closer to Normal distribution."
   ]
  },
  {
   "cell_type": "markdown",
   "metadata": {
    "id": "448CDAPjqfQr"
   },
   "source": [
    "##### 3. Will the gained insights help creating a positive business impact? \n",
    "Are there any insights that lead to negative growth? Justify with specific reason."
   ]
  },
  {
   "cell_type": "markdown",
   "metadata": {
    "id": "3cspy4FjqxJW"
   },
   "source": [
    "Since the column is normally distributed so it will be very helpfull when ML algorithm will be applied, it will give good accuracy. I do not think there is any negative impact."
   ]
  },
  {
   "cell_type": "markdown",
   "metadata": {
    "id": "KSlN3yHqYklG"
   },
   "source": [
    "#### Chart - 2"
   ]
  },
  {
   "cell_type": "code",
   "execution_count": 20,
   "metadata": {
    "id": "R4YgtaqtYklH"
   },
   "outputs": [
    {
     "data": {
      "image/png": "[encoded data removed]",
      "text/plain": [
       "<Figure size 400x200 with 1 Axes>"
      ]
     },
     "metadata": {},
     "output_type": "display_data"
    }
   ],
   "source": [
    "# Chart - 2 visualization code\n",
    "# Average Sales from day 1 to day 7\n",
    "plt.rcParams['figure.figsize'] = (4,2)\n",
    "rossmann_df.groupby(['DayOfWeek'])['Sales'].mean().plot.bar()\n",
    "plt.ylabel('Sales')\n",
    "plt.show()\n",
    "\n",
    "# hypothesis : Sales are minimum on day 7"
   ]
  },
  {
   "cell_type": "markdown",
   "metadata": {
    "id": "t6dVpIINYklI"
   },
   "source": [
    "##### 1. Why did you pick the specific chart?"
   ]
  },
  {
   "cell_type": "markdown",
   "metadata": {
    "id": "5aaW0BYyYklI"
   },
   "source": [
    "I picked this chart to see what are the Sales for different days."
   ]
  },
  {
   "cell_type": "markdown",
   "metadata": {
    "id": "ijmpgYnKYklI"
   },
   "source": [
    "##### 2. What is/are the insight(s) found from the chart?"
   ]
  },
  {
   "cell_type": "markdown",
   "metadata": {
    "id": "PSx9atu2YklI"
   },
   "source": [
    "I found that average sales are maximum are day 1 and day 7."
   ]
  },
  {
   "cell_type": "markdown",
   "metadata": {
    "id": "-JiQyfWJYklI"
   },
   "source": [
    "##### 3. Will the gained insights help creating a positive business impact? \n",
    "Are there any insights that lead to negative growth? Justify with specific reason."
   ]
  },
  {
   "cell_type": "markdown",
   "metadata": {
    "id": "BcBbebzrYklV"
   },
   "source": [
    "Yes. On day 1 and 7 I found that Sales are maximum I think it is because most of the people are free on sunday and therefore they purchace more."
   ]
  },
  {
   "cell_type": "markdown",
   "metadata": {
    "id": "EM7whBJCYoAo"
   },
   "source": [
    "#### Chart - 3"
   ]
  },
  {
   "cell_type": "code",
   "execution_count": 21,
   "metadata": {
    "id": "t6GMdE67YoAp"
   },
   "outputs": [
    {
     "data": {
      "text/plain": [
       "Text(0, 0.5, 'Sales')"
      ]
     },
     "execution_count": 21,
     "metadata": {},
     "output_type": "execute_result"
    },
    {
     "data": {
      "image/png": "[encoded data removed]",
      "text/plain": [
       "<Figure size 400x200 with 1 Axes>"
      ]
     },
     "metadata": {},
     "output_type": "display_data"
    }
   ],
   "source": [
    "# Chart - 3 visualization code\n",
    "# Sales comparison for promotional and non promotional\n",
    "rossmann_df.groupby(['Promo'])['Sales'].mean().plot.bar()\n",
    "plt.title('Promo vs Non Promo')\n",
    "plt.xlabel('Promo')\n",
    "plt.ylabel('Sales')"
   ]
  },
  {
   "cell_type": "markdown",
   "metadata": {
    "id": "fge-S5ZAYoAp"
   },
   "source": [
    "##### 1. Why did you pick the specific chart?"
   ]
  },
  {
   "cell_type": "markdown",
   "metadata": {
    "id": "5dBItgRVYoAp"
   },
   "source": [
    "To see the effect of Promo on Sales."
   ]
  },
  {
   "cell_type": "markdown",
   "metadata": {
    "id": "85gYPyotYoAp"
   },
   "source": [
    "##### 2. What is/are the insight(s) found from the chart?"
   ]
  },
  {
   "cell_type": "markdown",
   "metadata": {
    "id": "4jstXR6OYoAp"
   },
   "source": [
    "I found that Sale is higher when running promo."
   ]
  },
  {
   "cell_type": "markdown",
   "metadata": {
    "id": "RoGjAbkUYoAp"
   },
   "source": [
    "##### 3. Will the gained insights help creating a positive business impact? \n",
    "Are there any insights that lead to negative growth? Justify with specific reason."
   ]
  },
  {
   "cell_type": "markdown",
   "metadata": {
    "id": "zfJ8IqMcYoAp"
   },
   "source": [
    "Yes the insights help creating a positive business impact.<br> There is some negative insight when the shop is not running a promo so their sale is lower."
   ]
  },
  {
   "cell_type": "markdown",
   "metadata": {
    "id": "4Of9eVA-YrdM"
   },
   "source": [
    "#### Chart - 4"
   ]
  },
  {
   "cell_type": "code",
   "execution_count": 22,
   "metadata": {
    "id": "irlUoxc8YrdO"
   },
   "outputs": [
    {
     "data": {
      "text/plain": [
       "<AxesSubplot:xlabel='Open'>"
      ]
     },
     "execution_count": 22,
     "metadata": {},
     "output_type": "execute_result"
    },
    {
     "data": {
      "image/png": "[encoded data removed]",
      "text/plain": [
       "<Figure size 400x200 with 1 Axes>"
      ]
     },
     "metadata": {},
     "output_type": "display_data"
    }
   ],
   "source": [
    "# Chart - 4 visualization code\n",
    "final_df.groupby(['Open'])['Sales'].mean().plot.bar()\n",
    "# hypothesis : mean price is 0 when shop is closed."
   ]
  },
  {
   "cell_type": "markdown",
   "metadata": {
    "id": "iky9q4vBYrdO"
   },
   "source": [
    "##### 1. Why did you pick the specific chart?"
   ]
  },
  {
   "cell_type": "markdown",
   "metadata": {
    "id": "aJRCwT6DYrdO"
   },
   "source": [
    "To check mean sales when shop is opened/closed"
   ]
  },
  {
   "cell_type": "markdown",
   "metadata": {
    "id": "F6T5p64dYrdO"
   },
   "source": [
    "##### 2. What is/are the insight(s) found from the chart?"
   ]
  },
  {
   "cell_type": "markdown",
   "metadata": {
    "id": "Xx8WAJvtYrdO"
   },
   "source": [
    "I found that the average price is zero when shop is closed."
   ]
  },
  {
   "cell_type": "markdown",
   "metadata": {
    "id": "y-Ehk30pYrdP"
   },
   "source": [
    "##### 3. Will the gained insights help creating a positive business impact? \n",
    "Are there any insights that lead to negative growth? Justify with specific reason."
   ]
  },
  {
   "cell_type": "markdown",
   "metadata": {
    "id": "jLNxxz7MYrdP"
   },
   "source": [
    "Yes the  chart is very helpful to see the relationship between open and closed shop. Yes when the shop is closed then sale is zero that is not good for any business."
   ]
  },
  {
   "cell_type": "markdown",
   "metadata": {
    "id": "bamQiAODYuh1"
   },
   "source": [
    "#### Chart - 5"
   ]
  },
  {
   "cell_type": "code",
   "execution_count": 23,
   "metadata": {
    "id": "TIJwrbroYuh3"
   },
   "outputs": [
    {
     "data": {
      "text/plain": [
       "<AxesSubplot:ylabel='Sales'>"
      ]
     },
     "execution_count": 23,
     "metadata": {},
     "output_type": "execute_result"
    },
    {
     "data": {
      "image/png": "[encoded data removed]",
      "text/plain": [
       "<Figure size 400x200 with 1 Axes>"
      ]
     },
     "metadata": {},
     "output_type": "display_data"
    }
   ],
   "source": [
    "# Chart - 5 visualization code\n",
    "final_df.groupby(['SchoolHoliday'])['Sales'].mean().plot.pie()"
   ]
  },
  {
   "cell_type": "markdown",
   "metadata": {
    "id": "QHF8YVU7Yuh3"
   },
   "source": [
    "##### 1. Why did you pick the specific chart?"
   ]
  },
  {
   "cell_type": "markdown",
   "metadata": {
    "id": "dcxuIMRPYuh3"
   },
   "source": [
    "To check effect of Sales on holiday and non holiday for school."
   ]
  },
  {
   "cell_type": "markdown",
   "metadata": {
    "id": "GwzvFGzlYuh3"
   },
   "source": [
    "##### 2. What is/are the insight(s) found from the chart?"
   ]
  },
  {
   "cell_type": "markdown",
   "metadata": {
    "id": "uyqkiB8YYuh3"
   },
   "source": [
    "Mean price is higher when there is school holiday."
   ]
  },
  {
   "cell_type": "markdown",
   "metadata": {
    "id": "qYpmQ266Yuh3"
   },
   "source": [
    "##### 3. Will the gained insights help creating a positive business impact? \n",
    "Are there any insights that lead to negative growth? Justify with specific reason."
   ]
  },
  {
   "cell_type": "markdown",
   "metadata": {
    "id": "_WtzZ_hCYuh4"
   },
   "source": [
    "Yes, when there is school holiday then sale is hihgher."
   ]
  },
  {
   "cell_type": "markdown",
   "metadata": {
    "id": "OH-pJp9IphqM"
   },
   "source": [
    "#### Chart - 6"
   ]
  },
  {
   "cell_type": "code",
   "execution_count": 24,
   "metadata": {
    "id": "kuRf4wtuphqN"
   },
   "outputs": [
    {
     "data": {
      "text/plain": [
       "Text(0.5, 0, 'Sales')"
      ]
     },
     "execution_count": 24,
     "metadata": {},
     "output_type": "execute_result"
    },
    {
     "data": {
      "image/png": "[encoded data removed]",
      "text/plain": [
       "<Figure size 400x200 with 1 Axes>"
      ]
     },
     "metadata": {},
     "output_type": "display_data"
    }
   ],
   "source": [
    "# Chart - 6 visualization code\n",
    "final_df.groupby(['StateHoliday'])['Sales'].mean().plot.barh()\n",
    "plt.xlabel('Sales')"
   ]
  },
  {
   "cell_type": "markdown",
   "metadata": {
    "id": "bbFf2-_FphqN"
   },
   "source": [
    "##### 1. Why did you pick the specific chart?"
   ]
  },
  {
   "cell_type": "markdown",
   "metadata": {
    "id": "loh7H2nzphqN"
   },
   "source": [
    "To check relationship between average sales and state holiday."
   ]
  },
  {
   "cell_type": "markdown",
   "metadata": {
    "id": "_ouA3fa0phqN"
   },
   "source": [
    "##### 2. What is/are the insight(s) found from the chart?"
   ]
  },
  {
   "cell_type": "markdown",
   "metadata": {
    "id": "VECbqPI7phqN"
   },
   "source": [
    "Average price for 0 and '0' is ten times higher than a,b,c type of state holidays."
   ]
  },
  {
   "cell_type": "markdown",
   "metadata": {
    "id": "Seke61FWphqN"
   },
   "source": [
    "##### 3. Will the gained insights help creating a positive business impact? \n",
    "Are there any insights that lead to negative growth? Justify with specific reason."
   ]
  },
  {
   "cell_type": "markdown",
   "metadata": {
    "id": "DW4_bGpfphqN"
   },
   "source": [
    "Answer Here"
   ]
  },
  {
   "cell_type": "markdown",
   "metadata": {
    "id": "PIIx-8_IphqN"
   },
   "source": [
    "#### Chart - 7"
   ]
  },
  {
   "cell_type": "code",
   "execution_count": 25,
   "metadata": {
    "id": "lqAIGUfyphqO"
   },
   "outputs": [
    {
     "data": {
      "text/plain": [
       "<AxesSubplot:ylabel='Sales'>"
      ]
     },
     "execution_count": 25,
     "metadata": {},
     "output_type": "execute_result"
    },
    {
     "data": {
      "image/png": "[encoded data removed]",
      "text/plain": [
       "<Figure size 400x200 with 1 Axes>"
      ]
     },
     "metadata": {},
     "output_type": "display_data"
    }
   ],
   "source": [
    "# Chart - 7 visualization code\n",
    "final_df.groupby(['StoreType'])['Sales'].mean().plot.pie()"
   ]
  },
  {
   "cell_type": "markdown",
   "metadata": {
    "id": "t27r6nlMphqO"
   },
   "source": [
    "##### 1. Why did you pick the specific chart?"
   ]
  },
  {
   "cell_type": "markdown",
   "metadata": {
    "id": "iv6ro40sphqO"
   },
   "source": [
    "to check which type of shop is earnig most."
   ]
  },
  {
   "cell_type": "markdown",
   "metadata": {
    "id": "r2jJGEOYphqO"
   },
   "source": [
    "##### 2. What is/are the insight(s) found from the chart?"
   ]
  },
  {
   "cell_type": "markdown",
   "metadata": {
    "id": "Po6ZPi4hphqO"
   },
   "source": [
    "I found that average sales for type b is highest."
   ]
  },
  {
   "cell_type": "markdown",
   "metadata": {
    "id": "b0JNsNcRphqO"
   },
   "source": [
    "##### 3. Will the gained insights help creating a positive business impact? \n",
    "Are there any insights that lead to negative growth? Justify with specific reason."
   ]
  },
  {
   "cell_type": "markdown",
   "metadata": {
    "id": "xvSq8iUTphqO"
   },
   "source": [
    "Yes here I found that sales for type b shop is highest."
   ]
  },
  {
   "cell_type": "markdown",
   "metadata": {
    "id": "BZR9WyysphqO"
   },
   "source": [
    "#### Chart - 8"
   ]
  },
  {
   "cell_type": "code",
   "execution_count": 26,
   "metadata": {
    "id": "TdPTWpAVphqO"
   },
   "outputs": [
    {
     "data": {
      "text/plain": [
       "<AxesSubplot:>"
      ]
     },
     "execution_count": 26,
     "metadata": {},
     "output_type": "execute_result"
    },
    {
     "data": {
      "image/png": "[encoded data removed]",
      "text/plain": [
       "<Figure size 400x200 with 1 Axes>"
      ]
     },
     "metadata": {},
     "output_type": "display_data"
    }
   ],
   "source": [
    "# Chart - 8 visualization code\n",
    "final_df['Assortment'].value_counts().plot.bar()"
   ]
  },
  {
   "cell_type": "markdown",
   "metadata": {
    "id": "jj7wYXLtphqO"
   },
   "source": [
    "##### 1. Why did you pick the specific chart?"
   ]
  },
  {
   "cell_type": "markdown",
   "metadata": {
    "id": "Ob8u6rCTphqO"
   },
   "source": [
    "To see quantity of assortment."
   ]
  },
  {
   "cell_type": "markdown",
   "metadata": {
    "id": "eZrbJ2SmphqO"
   },
   "source": [
    "##### 2. What is/are the insight(s) found from the chart?"
   ]
  },
  {
   "cell_type": "markdown",
   "metadata": {
    "id": "mZtgC_hjphqO"
   },
   "source": [
    "I found that count of type a assortment is highest which is more than 50,000 and type c is slightly lower than a but type c is least among them."
   ]
  },
  {
   "cell_type": "markdown",
   "metadata": {
    "id": "rFu4xreNphqO"
   },
   "source": [
    "##### 3. Will the gained insights help creating a positive business impact? \n",
    "Are there any insights that lead to negative growth? Justify with specific reason."
   ]
  },
  {
   "cell_type": "markdown",
   "metadata": {
    "id": "ey_0qi68phqO"
   },
   "source": [
    "Answer Here"
   ]
  },
  {
   "cell_type": "markdown",
   "metadata": {
    "id": "YJ55k-q6phqO"
   },
   "source": [
    "#### Chart - 9"
   ]
  },
  {
   "cell_type": "code",
   "execution_count": 27,
   "metadata": {
    "id": "B2aS4O1ophqO"
   },
   "outputs": [
    {
     "data": {
      "text/plain": [
       "<AxesSubplot:xlabel='CompetitionDistance'>"
      ]
     },
     "execution_count": 27,
     "metadata": {},
     "output_type": "execute_result"
    },
    {
     "data": {
      "image/png": "[encoded data removed]",
      "text/plain": [
       "<Figure size 400x200 with 1 Axes>"
      ]
     },
     "metadata": {},
     "output_type": "display_data"
    }
   ],
   "source": [
    "# Chart - 9 visualization code\n",
    "final_df[ (final_df['CompetitionDistance'] == final_df['CompetitionDistance'].min())\\\n",
    "         | (final_df['CompetitionDistance'] == final_df['CompetitionDistance'].max())].\\\n",
    "groupby(['CompetitionDistance'])['Sales'].mean().plot.bar()"
   ]
  },
  {
   "cell_type": "markdown",
   "metadata": {
    "id": "gCFgpxoyphqP"
   },
   "source": [
    "##### 1. Why did you pick the specific chart?"
   ]
  },
  {
   "cell_type": "markdown",
   "metadata": {
    "id": "TVxDimi2phqP"
   },
   "source": [
    "To see effect of competition distance on average sales."
   ]
  },
  {
   "cell_type": "markdown",
   "metadata": {
    "id": "OVtJsKN_phqQ"
   },
   "source": [
    "##### 2. What is/are the insight(s) found from the chart?"
   ]
  },
  {
   "cell_type": "markdown",
   "metadata": {
    "id": "ngGi97qjphqQ"
   },
   "source": [
    "I found that for min distance average sales is lower but for high competition average sale is also higher."
   ]
  },
  {
   "cell_type": "markdown",
   "metadata": {
    "id": "lssrdh5qphqQ"
   },
   "source": [
    "##### 3. Will the gained insights help creating a positive business impact? \n",
    "Are there any insights that lead to negative growth? Justify with specific reason."
   ]
  },
  {
   "cell_type": "markdown",
   "metadata": {
    "id": "tBpY5ekJphqQ"
   },
   "source": [
    "Answer Here"
   ]
  },
  {
   "cell_type": "markdown",
   "metadata": {
    "id": "U2RJ9gkRphqQ"
   },
   "source": [
    "#### Chart - 10"
   ]
  },
  {
   "cell_type": "code",
   "execution_count": 28,
   "metadata": {
    "id": "GM7a4YP4phqQ"
   },
   "outputs": [
    {
     "data": {
      "text/plain": [
       "<AxesSubplot:ylabel='Sales'>"
      ]
     },
     "execution_count": 28,
     "metadata": {},
     "output_type": "execute_result"
    },
    {
     "data": {
      "image/png": "[encoded data removed]",
      "text/plain": [
       "<Figure size 500x500 with 1 Axes>"
      ]
     },
     "metadata": {},
     "output_type": "display_data"
    }
   ],
   "source": [
    "# Chart - 10 visualization code\n",
    "plt.rcParams['figure.figsize'] = (5,5)\n",
    "final_df.groupby(['Promo2'])['Sales'].mean().plot.pie()"
   ]
  },
  {
   "cell_type": "markdown",
   "metadata": {
    "id": "1M8mcRywphqQ"
   },
   "source": [
    "##### 1. Why did you pick the specific chart?"
   ]
  },
  {
   "cell_type": "markdown",
   "metadata": {
    "id": "8agQvks0phqQ"
   },
   "source": [
    "Relationship between Promo2 and average price."
   ]
  },
  {
   "cell_type": "markdown",
   "metadata": {
    "id": "tgIPom80phqQ"
   },
   "source": [
    "##### 2. What is/are the insight(s) found from the chart?"
   ]
  },
  {
   "cell_type": "markdown",
   "metadata": {
    "id": "Qp13pnNzphqQ"
   },
   "source": [
    "Average price is higher when there is no promo2."
   ]
  },
  {
   "cell_type": "markdown",
   "metadata": {
    "id": "JMzcOPDDphqR"
   },
   "source": [
    "##### 3. Will the gained insights help creating a positive business impact? \n",
    "Are there any insights that lead to negative growth? Justify with specific reason."
   ]
  },
  {
   "cell_type": "markdown",
   "metadata": {
    "id": "R4Ka1PC2phqR"
   },
   "source": [
    "answer"
   ]
  },
  {
   "cell_type": "markdown",
   "metadata": {
    "id": "x-EpHcCOp1ci"
   },
   "source": [
    "#### Chart - 11"
   ]
  },
  {
   "cell_type": "code",
   "execution_count": 29,
   "metadata": {
    "id": "mAQTIvtqp1cj"
   },
   "outputs": [
    {
     "data": {
      "text/plain": [
       "<AxesSubplot:ylabel='Sales'>"
      ]
     },
     "execution_count": 29,
     "metadata": {},
     "output_type": "execute_result"
    },
    {
     "data": {
      "image/png": "[encoded data removed]",
      "text/plain": [
       "<Figure size 500x500 with 1 Axes>"
      ]
     },
     "metadata": {},
     "output_type": "display_data"
    }
   ],
   "source": [
    "# Chart - 11 visualization code\n",
    "rossmann_df.groupby(['year'])['Sales'].mean().plot.pie()"
   ]
  },
  {
   "cell_type": "markdown",
   "metadata": {
    "id": "X_VqEhTip1ck"
   },
   "source": [
    "##### 1. Why did you pick the specific chart?"
   ]
  },
  {
   "cell_type": "markdown",
   "metadata": {
    "id": "-vsMzt_np1ck"
   },
   "source": [
    "Answer Here."
   ]
  },
  {
   "cell_type": "markdown",
   "metadata": {
    "id": "8zGJKyg5p1ck"
   },
   "source": [
    "##### 2. What is/are the insight(s) found from the chart?"
   ]
  },
  {
   "cell_type": "markdown",
   "metadata": {
    "id": "ZYdMsrqVp1ck"
   },
   "source": [
    "Answer Here"
   ]
  },
  {
   "cell_type": "markdown",
   "metadata": {
    "id": "PVzmfK_Ep1ck"
   },
   "source": [
    "##### 3. Will the gained insights help creating a positive business impact? \n",
    "Are there any insights that lead to negative growth? Justify with specific reason."
   ]
  },
  {
   "cell_type": "markdown",
   "metadata": {
    "id": "druuKYZpp1ck"
   },
   "source": [
    "Answer Here"
   ]
  },
  {
   "cell_type": "markdown",
   "metadata": {
    "id": "n3dbpmDWp1ck"
   },
   "source": [
    "#### Chart - 12"
   ]
  },
  {
   "cell_type": "code",
   "execution_count": 30,
   "metadata": {
    "id": "bwevp1tKp1ck"
   },
   "outputs": [
    {
     "data": {
      "text/plain": [
       "<AxesSubplot:ylabel='Sales'>"
      ]
     },
     "execution_count": 30,
     "metadata": {},
     "output_type": "execute_result"
    },
    {
     "data": {
      "image/png": "[encoded data removed]",
      "text/plain": [
       "<Figure size 500x500 with 1 Axes>"
      ]
     },
     "metadata": {},
     "output_type": "display_data"
    }
   ],
   "source": [
    "# Chart - 12 visualization code\n",
    "rossmann_df.groupby(['month'])['Sales'].mean().plot.pie()"
   ]
  },
  {
   "cell_type": "markdown",
   "metadata": {
    "id": "ylSl6qgtp1ck"
   },
   "source": [
    "##### 1. Why did you pick the specific chart?"
   ]
  },
  {
   "cell_type": "markdown",
   "metadata": {
    "id": "m2xqNkiQp1ck"
   },
   "source": [
    "Answer Here."
   ]
  },
  {
   "cell_type": "markdown",
   "metadata": {
    "id": "ZWILFDl5p1ck"
   },
   "source": [
    "##### 2. What is/are the insight(s) found from the chart?"
   ]
  },
  {
   "cell_type": "markdown",
   "metadata": {
    "id": "x-lUsV2mp1ck"
   },
   "source": [
    "Answer Here"
   ]
  },
  {
   "cell_type": "markdown",
   "metadata": {
    "id": "M7G43BXep1ck"
   },
   "source": [
    "##### 3. Will the gained insights help creating a positive business impact? \n",
    "Are there any insights that lead to negative growth? Justify with specific reason."
   ]
  },
  {
   "cell_type": "markdown",
   "metadata": {
    "id": "5wwDJXsLp1cl"
   },
   "source": [
    "Answer Here"
   ]
  },
  {
   "cell_type": "markdown",
   "metadata": {
    "id": "Ag9LCva-p1cl"
   },
   "source": [
    "#### Chart - 13"
   ]
  },
  {
   "cell_type": "code",
   "execution_count": 31,
   "metadata": {
    "id": "EUfxeq9-p1cl"
   },
   "outputs": [
    {
     "data": {
      "image/png": "[encoded data removed]",
      "text/plain": [
       "<Figure size 500x500 with 1 Axes>"
      ]
     },
     "metadata": {},
     "output_type": "display_data"
    }
   ],
   "source": [
    "# Chart - 13 visualization code\n",
    "rossmann_df.groupby(['day'])['Sales'].mean().plot.pie()\n",
    "del rossmann_df\n",
    "del store_df"
   ]
  },
  {
   "cell_type": "markdown",
   "metadata": {
    "id": "E6MkPsBcp1cl"
   },
   "source": [
    "##### 1. Why did you pick the specific chart?"
   ]
  },
  {
   "cell_type": "markdown",
   "metadata": {
    "id": "V22bRsFWp1cl"
   },
   "source": [
    "Answer Here."
   ]
  },
  {
   "cell_type": "markdown",
   "metadata": {
    "id": "2cELzS2fp1cl"
   },
   "source": [
    "##### 2. What is/are the insight(s) found from the chart?"
   ]
  },
  {
   "cell_type": "markdown",
   "metadata": {
    "id": "ozQPc2_Ip1cl"
   },
   "source": [
    "Answer Here"
   ]
  },
  {
   "cell_type": "markdown",
   "metadata": {
    "id": "3MPXvC8up1cl"
   },
   "source": [
    "##### 3. Will the gained insights help creating a positive business impact? \n",
    "Are there any insights that lead to negative growth? Justify with specific reason."
   ]
  },
  {
   "cell_type": "markdown",
   "metadata": {
    "id": "GL8l1tdLp1cl"
   },
   "source": [
    "Answer Here"
   ]
  },
  {
   "cell_type": "markdown",
   "metadata": {
    "id": "NC_X3p0fY2L0"
   },
   "source": [
    "#### Chart - 14 - Correlation Heatmap"
   ]
  },
  {
   "cell_type": "code",
   "execution_count": 32,
   "metadata": {
    "id": "xyC9zolEZNRQ"
   },
   "outputs": [
    {
     "data": {
      "text/plain": [
       "<AxesSubplot:>"
      ]
     },
     "execution_count": 32,
     "metadata": {},
     "output_type": "execute_result"
    },
    {
     "data": {
      "image/png": "[encoded data removed]",
      "text/plain": [
       "<Figure size 1500x1000 with 2 Axes>"
      ]
     },
     "metadata": {},
     "output_type": "display_data"
    }
   ],
   "source": [
    "# Correlation Heatmap visualization code\n",
    "plt.rcParams['figure.figsize'] = (15,10)\n",
    "corr = final_df.corr()\n",
    "sns.heatmap(corr,annot=True, cmap= 'coolwarm')"
   ]
  },
  {
   "cell_type": "markdown",
   "metadata": {
    "id": "UV0SzAkaZNRQ"
   },
   "source": [
    "##### 1. Why did you pick the specific chart?"
   ]
  },
  {
   "cell_type": "markdown",
   "metadata": {
    "id": "DVPuT8LYZNRQ"
   },
   "source": [
    "To check correlations"
   ]
  },
  {
   "cell_type": "markdown",
   "metadata": {
    "id": "YPEH6qLeZNRQ"
   },
   "source": [
    "##### 2. What is/are the insight(s) found from the chart?"
   ]
  },
  {
   "cell_type": "markdown",
   "metadata": {
    "id": "bfSqtnDqZNRR"
   },
   "source": [
    "Customers are .89 correlated with Sales, .62 with Open, .32 with Promo. promo and sales are .45 correlated. Promo and open are .3 correlated. Open and Sales are .68 correlated. rest are very low correlated."
   ]
  },
  {
   "cell_type": "markdown",
   "metadata": {
    "id": "q29F0dvdveiT"
   },
   "source": [
    "#### Chart - 15 - Pair Plot "
   ]
  },
  {
   "cell_type": "code",
   "execution_count": 33,
   "metadata": {
    "id": "o58-TEIhveiU"
   },
   "outputs": [
    {
     "data": {
      "text/plain": [
       "<matplotlib.collections.PathCollection at 0x2150083d520>"
      ]
     },
     "execution_count": 33,
     "metadata": {},
     "output_type": "execute_result"
    },
    {
     "data": {
      "image/png": "[encoded data removed]",
      "text/plain": [
       "<Figure size 500x400 with 1 Axes>"
      ]
     },
     "metadata": {},
     "output_type": "display_data"
    }
   ],
   "source": [
    "# Pair Plot visualization code\n",
    "plt.rcParams['figure.figsize'] = (5,4)\n",
    "plt.scatter(final_df['Customers'],final_df['Sales'])"
   ]
  },
  {
   "cell_type": "markdown",
   "metadata": {
    "id": "EXh0U9oCveiU"
   },
   "source": [
    "##### 1. Why did you pick the specific chart?"
   ]
  },
  {
   "cell_type": "markdown",
   "metadata": {
    "id": "eMmPjTByveiU"
   },
   "source": [
    "to see how linear sales are with customers."
   ]
  },
  {
   "cell_type": "markdown",
   "metadata": {
    "id": "22aHeOlLveiV"
   },
   "source": [
    "##### 2. What is/are the insight(s) found from the chart?"
   ]
  },
  {
   "cell_type": "markdown",
   "metadata": {
    "id": "uPQ8RGwHveiV"
   },
   "source": [
    "I found they have linear pattern."
   ]
  },
  {
   "cell_type": "markdown",
   "metadata": {
    "id": "g-ATYxFrGrvw"
   },
   "source": [
    "## ***5. Hypothesis Testing***"
   ]
  },
  {
   "cell_type": "markdown",
   "metadata": {
    "id": "Yfr_Vlr8HBkt"
   },
   "source": [
    "### Based on your chart experiments, define three hypothetical statements from the dataset. In the next three questions, perform hypothesis testing to obtain final conclusion about the statements through your code and statistical testing."
   ]
  },
  {
   "cell_type": "markdown",
   "metadata": {
    "id": "-7MS06SUHkB-"
   },
   "source": [
    "Answer Here."
   ]
  },
  {
   "cell_type": "markdown",
   "metadata": {
    "id": "8yEUt7NnHlrM"
   },
   "source": [
    "### Hypothetical Statement - 1"
   ]
  },
  {
   "cell_type": "markdown",
   "metadata": {
    "id": "tEA2Xm5dHt1r"
   },
   "source": [
    "#### 1. State Your research hypothesis as a null hypothesis and alternate hypothesis."
   ]
  },
  {
   "cell_type": "markdown",
   "metadata": {
    "id": "HI9ZP0laH0D-"
   },
   "source": [
    "Answer Here."
   ]
  },
  {
   "cell_type": "markdown",
   "metadata": {
    "id": "I79__PHVH19G"
   },
   "source": [
    "#### 2. Perform an appropriate statistical test."
   ]
  },
  {
   "cell_type": "code",
   "execution_count": 34,
   "metadata": {
    "id": "oZrfquKtyian"
   },
   "outputs": [],
   "source": [
    "# Perform Statistical Test to obtain P-Value"
   ]
  },
  {
   "cell_type": "markdown",
   "metadata": {
    "id": "Ou-I18pAyIpj"
   },
   "source": [
    "##### Which statistical test have you done to obtain P-Value?"
   ]
  },
  {
   "cell_type": "markdown",
   "metadata": {
    "id": "s2U0kk00ygSB"
   },
   "source": [
    "Answer Here."
   ]
  },
  {
   "cell_type": "markdown",
   "metadata": {
    "id": "fF3858GYyt-u"
   },
   "source": [
    "##### Why did you choose the specific statistical test?"
   ]
  },
  {
   "cell_type": "markdown",
   "metadata": {
    "id": "HO4K0gP5y3B4"
   },
   "source": [
    "Answer Here."
   ]
  },
  {
   "cell_type": "markdown",
   "metadata": {
    "id": "4_0_7-oCpUZd"
   },
   "source": [
    "### Hypothetical Statement - 2"
   ]
  },
  {
   "cell_type": "markdown",
   "metadata": {
    "id": "hwyV_J3ipUZe"
   },
   "source": [
    "#### 1. State Your research hypothesis as a null hypothesis and alternate hypothesis."
   ]
  },
  {
   "cell_type": "markdown",
   "metadata": {
    "id": "FnpLGJ-4pUZe"
   },
   "source": [
    "Answer Here."
   ]
  },
  {
   "cell_type": "markdown",
   "metadata": {
    "id": "3yB-zSqbpUZe"
   },
   "source": [
    "#### 2. Perform an appropriate statistical test."
   ]
  },
  {
   "cell_type": "code",
   "execution_count": 35,
   "metadata": {
    "id": "sWxdNTXNpUZe"
   },
   "outputs": [],
   "source": [
    "# Perform Statistical Test to obtain P-Value"
   ]
  },
  {
   "cell_type": "markdown",
   "metadata": {
    "id": "dEUvejAfpUZe"
   },
   "source": [
    "##### Which statistical test have you done to obtain P-Value?"
   ]
  },
  {
   "cell_type": "markdown",
   "metadata": {
    "id": "oLDrPz7HpUZf"
   },
   "source": [
    "Answer Here."
   ]
  },
  {
   "cell_type": "markdown",
   "metadata": {
    "id": "Fd15vwWVpUZf"
   },
   "source": [
    "##### Why did you choose the specific statistical test?"
   ]
  },
  {
   "cell_type": "markdown",
   "metadata": {
    "id": "4xOGYyiBpUZf"
   },
   "source": [
    "Answer Here."
   ]
  },
  {
   "cell_type": "markdown",
   "metadata": {
    "id": "bn_IUdTipZyH"
   },
   "source": [
    "### Hypothetical Statement - 3"
   ]
  },
  {
   "cell_type": "markdown",
   "metadata": {
    "id": "49K5P_iCpZyH"
   },
   "source": [
    "#### 1. State Your research hypothesis as a null hypothesis and alternate hypothesis."
   ]
  },
  {
   "cell_type": "markdown",
   "metadata": {
    "id": "7gWI5rT9pZyH"
   },
   "source": [
    "Answer Here."
   ]
  },
  {
   "cell_type": "markdown",
   "metadata": {
    "id": "Nff-vKELpZyI"
   },
   "source": [
    "#### 2. Perform an appropriate statistical test."
   ]
  },
  {
   "cell_type": "code",
   "execution_count": 36,
   "metadata": {
    "id": "s6AnJQjtpZyI"
   },
   "outputs": [],
   "source": [
    "# Perform Statistical Test to obtain P-Value"
   ]
  },
  {
   "cell_type": "markdown",
   "metadata": {
    "id": "kLW572S8pZyI"
   },
   "source": [
    "##### Which statistical test have you done to obtain P-Value?"
   ]
  },
  {
   "cell_type": "markdown",
   "metadata": {
    "id": "ytWJ8v15pZyI"
   },
   "source": [
    "Answer Here."
   ]
  },
  {
   "cell_type": "markdown",
   "metadata": {
    "id": "dWbDXHzopZyI"
   },
   "source": [
    "##### Why did you choose the specific statistical test?"
   ]
  },
  {
   "cell_type": "markdown",
   "metadata": {
    "id": "M99G98V6pZyI"
   },
   "source": [
    "Answer Here."
   ]
  },
  {
   "cell_type": "markdown",
   "metadata": {
    "id": "yLjJCtPM0KBk"
   },
   "source": [
    "## ***6. Feature Engineering & Data Pre-processing***"
   ]
  },
  {
   "cell_type": "markdown",
   "metadata": {
    "id": "xiyOF9F70UgQ"
   },
   "source": [
    "### 1. Handling Missing Values"
   ]
  },
  {
   "cell_type": "code",
   "execution_count": 37,
   "metadata": {
    "id": "iRsAHk1K0fpS"
   },
   "outputs": [
    {
     "name": "stdout",
     "output_type": "stream",
     "text": [
      "Store : 0.0\n",
      "DayOfWeek : 0.0\n",
      "Date : 0.0\n",
      "Sales : 0.0\n",
      "Customers : 0.0\n",
      "Open : 0.0\n",
      "Promo : 0.0\n",
      "StateHoliday : 0.0\n",
      "SchoolHoliday : 0.0\n",
      "StoreType : 0.0\n",
      "Assortment : 0.0\n",
      "CompetitionDistance : 0.25973030124586\n",
      "CompetitionOpenSinceMonth : 31.787764363075826\n",
      "CompetitionOpenSinceYear : 31.787764363075826\n",
      "Promo2 : 0.0\n",
      "Promo2SinceWeek : 49.94362023930186\n",
      "Promo2SinceYear : 49.94362023930186\n",
      "PromoInterval : 49.94362023930186\n"
     ]
    }
   ],
   "source": [
    "# Handling Missing Values & Missing Value Imputation\n",
    "for i in null_calculator(final_df).keys():\n",
    "    print(f\"{i} : {null_calculator(final_df)[i]/len(final_df)*100}\")\n",
    "    \n",
    "# dropping the columns which has more than 30% null values because already lost lot of informations and also dropping the rows\n",
    "# which has only less than 1% null values \n",
    "col_to_drop = ['Open', 'CompetitionOpenSinceMonth','CompetitionOpenSinceYear',\\\n",
    "               'Promo2SinceWeek','Promo2SinceYear','PromoInterval']\n",
    "final_df.drop(columns=col_to_drop,inplace=True)\n",
    "final_df = final_df.dropna()"
   ]
  },
  {
   "cell_type": "markdown",
   "metadata": {
    "id": "7wuGOrhz0itI"
   },
   "source": [
    "#### What all missing value imputation techniques have you used and why did you use those techniques?"
   ]
  },
  {
   "cell_type": "markdown",
   "metadata": {
    "id": "1ixusLtI0pqI"
   },
   "source": [
    "Deleted these columns ['Open', 'CompetitionOpenSinceMonth','CompetitionOpenSinceYear',\\\n",
    "               'Promo2SinceWeek','Promo2SinceYear','PromoInterval'] they were containing more than 30% null values and 'Open' columns is not required. Also deleted some null rows which is less than 1% null values."
   ]
  },
  {
   "cell_type": "markdown",
   "metadata": {
    "id": "id1riN9m0vUs"
   },
   "source": [
    "### 2. Handling Outliers"
   ]
  },
  {
   "cell_type": "code",
   "execution_count": 38,
   "metadata": {
    "id": "M6w2CzZf04JK"
   },
   "outputs": [
    {
     "data": {
      "text/plain": [
       "(811408, 12)"
      ]
     },
     "execution_count": 38,
     "metadata": {},
     "output_type": "execute_result"
    }
   ],
   "source": [
    "# Handling Outliers & Outlier treatments\n",
    "final_df = final_df[final_df['Sales']!=0]\n",
    "\n",
    "# Single variate outlier detection\n",
    "q1 = final_df['Sales'].quantile(.25)\n",
    "q3 = final_df['Sales'].quantile(.75)\n",
    "iqr = q3-q1\n",
    "lower = q1-(1.5*iqr)\n",
    "upper = q3+(1.5*iqr)\n",
    "final_df = final_df[(final_df['Sales'] <= upper) & (final_df['Sales'] >= lower)]\n",
    "final_df.shape"
   ]
  },
  {
   "cell_type": "markdown",
   "metadata": {
    "id": "578E2V7j08f6"
   },
   "source": [
    "##### What all outlier treatment techniques have you used and why did you use those techniques?"
   ]
  },
  {
   "cell_type": "markdown",
   "metadata": {
    "id": "uGZz5OrT1HH-"
   },
   "source": [
    "I deleted those observation when sale is 0 because when customer is 0 then sale is also 0 or shop is closed therefore these are some kind of outliers. Then I focused on the target column and deleted some outliers using  1.5*IQR method."
   ]
  },
  {
   "cell_type": "markdown",
   "metadata": {
    "id": "89xtkJwZ18nB"
   },
   "source": [
    "### 3. Categorical Encoding"
   ]
  },
  {
   "cell_type": "code",
   "execution_count": 39,
   "metadata": {
    "id": "21JmIYMG2hEo",
    "scrolled": true
   },
   "outputs": [
    {
     "name": "stdout",
     "output_type": "stream",
     "text": [
      "Different catagories for StateHoliday : StateHoliday\n",
      "0    6411.805871\n",
      "0    6615.432532\n",
      "a    6666.006803\n",
      "b    6466.185185\n",
      "c    7597.017241\n",
      "Name: Sales, dtype: float64\n"
     ]
    }
   ],
   "source": [
    "# Encode your categorical columns\n",
    "# Econding StateHoliday\n",
    "# mean: c>a>'0'>b>0\n",
    "print(f\"Different catagories for StateHoliday : {final_df.groupby(['StateHoliday'])['Sales'].mean()}\")\n",
    "# function for encoding the column 'StateHoliday'\n",
    "# def State_holiday_encoder(col):\n",
    "#     if col == 'c':\n",
    "#         return 5\n",
    "#     elif col == 'b':\n",
    "#         return 2\n",
    "#     elif col == 'a':\n",
    "#         return 4\n",
    "#     elif col == '0':\n",
    "#         return 3\n",
    "#     elif col == 0:\n",
    "#         return 1\n",
    "#     else:\n",
    "#         print('invalid')\n",
    "        \n",
    "# b>c>a\n",
    "# function to encode assortment\n",
    "# def assortment_encoder(col):\n",
    "#     if col == 'a':\n",
    "#         return 1\n",
    "#     elif col == 'b':\n",
    "#         return 3\n",
    "#     else:\n",
    "#         return 2\n",
    "    \n",
    "# b>d>c>a\n",
    "# function to encode store type\n",
    "# def store_type_encoder(col):\n",
    "#     if col == 'a':\n",
    "#         return 1\n",
    "#     elif col == 'b':\n",
    "#         return 4\n",
    "#     elif col == 'c':\n",
    "#         return 2\n",
    "#     else:\n",
    "#         return 3\n",
    "    \n",
    "# applying above function\n",
    "# final_df['Assortment'] = final_df['Assortment'].apply(assortment_encoder)\n",
    "# final_df['StateHoliday'] = final_df['StateHoliday'].apply(State_holiday_encoder)\n",
    "# final_df['StoreType'] = final_df['StoreType'].apply(store_type_encoder)\n",
    "\n",
    "\n",
    "\n",
    "\n",
    "# one hot encoding for Assortment and StoreType columns\n",
    "final_df['AssortmentA'] = final_df['Assortment'].apply(lambda data: 1 if data == 'a' else 0)\n",
    "final_df['AssortmentB'] = final_df['Assortment'].apply(lambda data: 1 if data == 'b' else 0)\n",
    "final_df['AssortmentC'] = final_df['Assortment'].apply(lambda data: 1 if data == 'c' else 0)\n",
    "\n",
    "final_df['StoreTypeA'] = final_df['StoreType'].apply(lambda data: 1 if data == 'a' else 0)\n",
    "final_df['StoreTypeB'] = final_df['StoreType'].apply(lambda data: 1 if data == 'b' else 0)\n",
    "final_df['StoreTypeC'] = final_df['StoreType'].apply(lambda data: 1 if data == 'c' else 0)\n",
    "final_df['StoreTypeD'] = final_df['StoreType'].apply(lambda data: 1 if data == 'd' else 0)\n",
    "\n",
    "\n",
    "final_df['sh_a'] = final_df['StateHoliday'].apply(lambda data: 1 if data == 'a' else 0)\n",
    "final_df['sh_b'] = final_df['StateHoliday'].apply(lambda data: 1 if data == 'b' else 0)\n",
    "final_df['sh_c'] = final_df['StateHoliday'].apply(lambda data: 1 if data == 'c' else 0)\n",
    "final_df['sh_d'] = final_df['StateHoliday'].apply(lambda data: 1 if data == 0 else 0)\n",
    "final_df['sh_e'] = final_df['StateHoliday'].apply(lambda data: 1 if data == '0' else 0)\n",
    "\n",
    "\n",
    "final_df.drop(columns =['Assortment', 'StoreType','StateHoliday'], inplace= True)"
   ]
  },
  {
   "cell_type": "markdown",
   "metadata": {
    "id": "67NQN5KX2AMe"
   },
   "source": [
    "#### What all categorical encoding techniques have you used & why did you use those techniques?"
   ]
  },
  {
   "cell_type": "markdown",
   "metadata": {
    "id": "UDaue5h32n_G"
   },
   "source": [
    "Here I did Integer encoding to StateHoliday, StoreType and Assortment columns because the mean price of each catagory was different."
   ]
  },
  {
   "cell_type": "markdown",
   "metadata": {
    "id": "-oLEiFgy-5Pf"
   },
   "source": [
    "### 4. Feature Manipulation & Selection"
   ]
  },
  {
   "cell_type": "markdown",
   "metadata": {
    "id": "C74aWNz2AliB"
   },
   "source": [
    "#### 1. Feature Manipulation"
   ]
  },
  {
   "cell_type": "code",
   "execution_count": 40,
   "metadata": {
    "id": "h1qC4yhBApWC"
   },
   "outputs": [],
   "source": [
    "# Manipulate Features to minimize feature correlation and create new features\n",
    "\n",
    "# from str to date time conversion\n",
    "final_df['Date'] = final_df['Date'].apply(lambda col: datetime.strptime(col,'%Y-%m-%d'))\n",
    "# creating day, month, year columns\n",
    "plt.rcParams['figure.figsize'] = (5,3)\n",
    "final_df['day'] = final_df['Date'].apply(lambda d: d.day)\n",
    "final_df['month'] = final_df['Date'].apply(lambda m: m.month)\n",
    "final_df['year'] = final_df['Date'].apply(lambda y: y.year)\n",
    "\n",
    "# Dropping Date column\n",
    "final_df.drop(columns=['Date'], inplace=True)"
   ]
  },
  {
   "cell_type": "code",
   "execution_count": 41,
   "metadata": {},
   "outputs": [
    {
     "data": {
      "text/html": [
       "<div>\n",
       "<style scoped>\n",
       "    .dataframe tbody tr th:only-of-type {\n",
       "        vertical-align: middle;\n",
       "    }\n",
       "\n",
       "    .dataframe tbody tr th {\n",
       "        vertical-align: top;\n",
       "    }\n",
       "\n",
       "    .dataframe thead th {\n",
       "        text-align: right;\n",
       "    }\n",
       "</style>\n",
       "<table border=\"1\" class=\"dataframe\">\n",
       "  <thead>\n",
       "    <tr style=\"text-align: right;\">\n",
       "      <th></th>\n",
       "      <th>variables</th>\n",
       "      <th>VIF</th>\n",
       "    </tr>\n",
       "  </thead>\n",
       "  <tbody>\n",
       "    <tr>\n",
       "      <th>0</th>\n",
       "      <td>Store</td>\n",
       "      <td>3.643572</td>\n",
       "    </tr>\n",
       "    <tr>\n",
       "      <th>1</th>\n",
       "      <td>DayOfWeek</td>\n",
       "      <td>4.414041</td>\n",
       "    </tr>\n",
       "    <tr>\n",
       "      <th>2</th>\n",
       "      <td>Customers</td>\n",
       "      <td>6.502388</td>\n",
       "    </tr>\n",
       "    <tr>\n",
       "      <th>3</th>\n",
       "      <td>Promo</td>\n",
       "      <td>1.949802</td>\n",
       "    </tr>\n",
       "    <tr>\n",
       "      <th>4</th>\n",
       "      <td>SchoolHoliday</td>\n",
       "      <td>1.273658</td>\n",
       "    </tr>\n",
       "    <tr>\n",
       "      <th>5</th>\n",
       "      <td>CompetitionDistance</td>\n",
       "      <td>1.565183</td>\n",
       "    </tr>\n",
       "    <tr>\n",
       "      <th>6</th>\n",
       "      <td>Promo2</td>\n",
       "      <td>1.994935</td>\n",
       "    </tr>\n",
       "    <tr>\n",
       "      <th>7</th>\n",
       "      <td>AssortmentB</td>\n",
       "      <td>2.527099</td>\n",
       "    </tr>\n",
       "    <tr>\n",
       "      <th>8</th>\n",
       "      <td>AssortmentC</td>\n",
       "      <td>2.030765</td>\n",
       "    </tr>\n",
       "    <tr>\n",
       "      <th>9</th>\n",
       "      <td>StoreTypeB</td>\n",
       "      <td>2.638817</td>\n",
       "    </tr>\n",
       "    <tr>\n",
       "      <th>10</th>\n",
       "      <td>StoreTypeC</td>\n",
       "      <td>1.264606</td>\n",
       "    </tr>\n",
       "    <tr>\n",
       "      <th>11</th>\n",
       "      <td>StoreTypeD</td>\n",
       "      <td>1.711273</td>\n",
       "    </tr>\n",
       "    <tr>\n",
       "      <th>12</th>\n",
       "      <td>sh_a</td>\n",
       "      <td>1.006026</td>\n",
       "    </tr>\n",
       "    <tr>\n",
       "      <th>13</th>\n",
       "      <td>sh_b</td>\n",
       "      <td>1.004089</td>\n",
       "    </tr>\n",
       "    <tr>\n",
       "      <th>14</th>\n",
       "      <td>sh_c</td>\n",
       "      <td>1.004863</td>\n",
       "    </tr>\n",
       "    <tr>\n",
       "      <th>15</th>\n",
       "      <td>day</td>\n",
       "      <td>3.809590</td>\n",
       "    </tr>\n",
       "    <tr>\n",
       "      <th>16</th>\n",
       "      <td>month</td>\n",
       "      <td>3.800324</td>\n",
       "    </tr>\n",
       "  </tbody>\n",
       "</table>\n",
       "</div>"
      ],
      "text/plain": [
       "              variables       VIF\n",
       "0                 Store  3.643572\n",
       "1             DayOfWeek  4.414041\n",
       "2             Customers  6.502388\n",
       "3                 Promo  1.949802\n",
       "4         SchoolHoliday  1.273658\n",
       "5   CompetitionDistance  1.565183\n",
       "6                Promo2  1.994935\n",
       "7           AssortmentB  2.527099\n",
       "8           AssortmentC  2.030765\n",
       "9            StoreTypeB  2.638817\n",
       "10           StoreTypeC  1.264606\n",
       "11           StoreTypeD  1.711273\n",
       "12                 sh_a  1.006026\n",
       "13                 sh_b  1.004089\n",
       "14                 sh_c  1.004863\n",
       "15                  day  3.809590\n",
       "16                month  3.800324"
      ]
     },
     "execution_count": 41,
     "metadata": {},
     "output_type": "execute_result"
    }
   ],
   "source": [
    "#Multicollinearity\n",
    "def calc_vif(X):\n",
    "\n",
    "    # Calculating VIF\n",
    "    vif = pd.DataFrame()\n",
    "    vif[\"variables\"] = X.columns\n",
    "    vif[\"VIF\"] = [variance_inflation_factor(X.values, i) for i in range(X.shape[1])]\n",
    "\n",
    "    return(vif)\n",
    "\n",
    "# Multicolinearitiy check\n",
    "high_vif_col = ['Sales','year','AssortmentA','sh_d','StoreTypeA','sh_e']\n",
    "calc_vif(final_df[[i for i in final_df.describe().columns if i not in high_vif_col ]])"
   ]
  },
  {
   "cell_type": "markdown",
   "metadata": {
    "id": "2DejudWSA-a0"
   },
   "source": [
    "#### 2. Feature Selection"
   ]
  },
  {
   "cell_type": "code",
   "execution_count": 42,
   "metadata": {
    "id": "YLhe8UmaBCEE"
   },
   "outputs": [],
   "source": [
    "# Select your features wisely to avoid overfitting\n",
    "selected_features = ['DayOfWeek','Customers','Promo','SchoolHoliday','CompetitionDistance','Promo2',\\\n",
    "                     'AssortmentB','AssortmentC','StoreTypeB','StoreTypeC','StoreTypeD','sh_a','sh_b','sh_c','day','month','Sales']\n",
    "final_df = final_df[selected_features]"
   ]
  },
  {
   "cell_type": "markdown",
   "metadata": {
    "id": "pEMng2IbBLp7"
   },
   "source": [
    "##### What all feature selection methods have you used  and why?"
   ]
  },
  {
   "cell_type": "markdown",
   "metadata": {
    "id": "rb2Lh6Z8BgGs"
   },
   "source": [
    " These are the features ['DayOfWeek','Customers','Promo','SchoolHoliday','CompetitionDistance','Promo2',\\\n",
    "                     'AssortmentB','AssortmentC','StoreTypeB','StoreTypeC','StoreTypeD','sh_a','sh_b','sh_c','day','month'] I have selected because they have low VIF score."
   ]
  },
  {
   "cell_type": "markdown",
   "metadata": {
    "id": "rAdphbQ9Bhjc"
   },
   "source": [
    "##### Which all features you found important and why?"
   ]
  },
  {
   "cell_type": "markdown",
   "metadata": {
    "id": "fGgaEstsBnaf"
   },
   "source": [
    "Answer Here."
   ]
  },
  {
   "cell_type": "markdown",
   "metadata": {
    "id": "TNVZ9zx19K6k"
   },
   "source": [
    "### 5. Data Transformation"
   ]
  },
  {
   "cell_type": "markdown",
   "metadata": {
    "id": "nqoHp30x9hH9"
   },
   "source": [
    "#### Do you think that your data needs to be transformed? If yes, which transformation have you used. Explain Why?"
   ]
  },
  {
   "cell_type": "code",
   "execution_count": 43,
   "metadata": {
    "id": "I6quWQ1T9rtH"
   },
   "outputs": [],
   "source": [
    "# Transform Your data\n",
    "X = np.log10(final_df[['Customers','CompetitionDistance']])\n",
    "final_df['Customers'] = X['Customers']\n",
    "final_df['CompetitionDistance'] = X['CompetitionDistance']\n",
    "del X"
   ]
  },
  {
   "cell_type": "markdown",
   "metadata": {},
   "source": [
    "My data was in different range . To make them in same range data transformation is needed. Here I am using log transformation."
   ]
  },
  {
   "cell_type": "markdown",
   "metadata": {
    "id": "rMDnDkt2B6du"
   },
   "source": [
    "### 6. Data Scaling"
   ]
  },
  {
   "cell_type": "code",
   "execution_count": 44,
   "metadata": {
    "id": "dL9LWpySC6x_"
   },
   "outputs": [],
   "source": [
    "# Scaling your data\n",
    "standard_scaler = StandardScaler()\n",
    "X = standard_scaler.fit_transform(final_df[['Customers','CompetitionDistance']])\n",
    "final_df['Customers'] = X[:,0]\n",
    "final_df['CompetitionDistance'] = X[:,1]\n",
    "del X"
   ]
  },
  {
   "cell_type": "markdown",
   "metadata": {
    "id": "yiiVWRdJDDil"
   },
   "source": [
    "##### Which method have you used to scale you data and why?"
   ]
  },
  {
   "cell_type": "markdown",
   "metadata": {},
   "source": [
    "Here I used standard scaler because my data was already very close to normal distribution."
   ]
  },
  {
   "cell_type": "markdown",
   "metadata": {
    "id": "1UUpS68QDMuG"
   },
   "source": [
    "### 7. Dimesionality Reduction"
   ]
  },
  {
   "cell_type": "markdown",
   "metadata": {
    "id": "kexQrXU-DjzY"
   },
   "source": [
    "##### Do you think that dimensionality reduction is needed? Explain Why?"
   ]
  },
  {
   "cell_type": "markdown",
   "metadata": {
    "id": "GGRlBsSGDtTQ"
   },
   "source": [
    "I do not think in my case dimentionality reduction is needed because I already have limited features."
   ]
  },
  {
   "cell_type": "code",
   "execution_count": 45,
   "metadata": {
    "id": "kQfvxBBHDvCa"
   },
   "outputs": [
    {
     "data": {
      "text/plain": [
       "array([8.13674433e-01, 1.19113431e-01, 3.25202331e-02, 1.39641971e-02,\n",
       "       8.31147031e-03, 2.94078596e-03, 2.49142321e-03, 2.16982191e-03,\n",
       "       1.89102316e-03, 1.62724349e-03, 1.05528202e-03, 2.03896967e-04,\n",
       "       2.67119104e-05, 7.83159003e-06, 1.44133217e-06, 7.73473280e-07])"
      ]
     },
     "execution_count": 45,
     "metadata": {},
     "output_type": "execute_result"
    }
   ],
   "source": [
    "# DImensionality Reduction (If needed)\n",
    "from sklearn.decomposition import PCA\n",
    "pca = PCA(random_state=0)\n",
    "X = pca.fit_transform(final_df.drop(columns=['Sales']))\n",
    "pca.explained_variance_ratio_"
   ]
  },
  {
   "cell_type": "markdown",
   "metadata": {
    "id": "T5CmagL3EC8N"
   },
   "source": [
    "##### Which dimensionality reduction technique have you used and why? (If dimensionality reduction done on dataset.)"
   ]
  },
  {
   "cell_type": "markdown",
   "metadata": {
    "id": "ZKr75IDuEM7t"
   },
   "source": [
    "Answer Here."
   ]
  },
  {
   "cell_type": "markdown",
   "metadata": {
    "id": "BhH2vgX9EjGr"
   },
   "source": [
    "### 8. Data Splitting"
   ]
  },
  {
   "cell_type": "code",
   "execution_count": 46,
   "metadata": {
    "id": "0CTyd2UwEyNM"
   },
   "outputs": [],
   "source": [
    "# Split your data to train and test. Choose Splitting ratio wisely.\n",
    "# xtrain,xtest,ytrain,ytest = train_test_split(final_df.drop(columns=['Sales']), final_df['Sales'], test_size=.25)\n",
    "xtrain,xtest,ytrain,ytest = train_test_split(X, final_df['Sales'], test_size=.25)"
   ]
  },
  {
   "cell_type": "markdown",
   "metadata": {
    "id": "qjKvONjwE8ra"
   },
   "source": [
    "##### What data splitting ratio have you used and why? "
   ]
  },
  {
   "cell_type": "markdown",
   "metadata": {
    "id": "Y2lJ8cobFDb_"
   },
   "source": [
    "I choose 25% for test and rest 75% to train my model."
   ]
  },
  {
   "cell_type": "markdown",
   "metadata": {
    "id": "P1XJ9OREExlT"
   },
   "source": [
    "### 9. Handling Imbalanced Dataset"
   ]
  },
  {
   "cell_type": "markdown",
   "metadata": {
    "id": "VFOzZv6IFROw"
   },
   "source": [
    "##### Do you think the dataset is imbalanced? Explain Why."
   ]
  },
  {
   "cell_type": "markdown",
   "metadata": {
    "id": "GeKDIv7pFgcC"
   },
   "source": [
    "Answer Here."
   ]
  },
  {
   "cell_type": "code",
   "execution_count": 47,
   "metadata": {
    "id": "nQsRhhZLFiDs"
   },
   "outputs": [],
   "source": [
    "# Handling Imbalanced Dataset (If needed)"
   ]
  },
  {
   "cell_type": "markdown",
   "metadata": {
    "id": "TIqpNgepFxVj"
   },
   "source": [
    "##### What technique did you use to handle the imbalance dataset and why? (If needed to be balanced)"
   ]
  },
  {
   "cell_type": "markdown",
   "metadata": {
    "id": "qbet1HwdGDTz"
   },
   "source": [
    "Answer Here."
   ]
  },
  {
   "cell_type": "markdown",
   "metadata": {
    "id": "VfCC591jGiD4"
   },
   "source": [
    "## ***7. ML Model Implementation***"
   ]
  },
  {
   "cell_type": "markdown",
   "metadata": {
    "id": "OB4l2ZhMeS1U"
   },
   "source": [
    "### ML Model - 1"
   ]
  },
  {
   "cell_type": "code",
   "execution_count": 48,
   "metadata": {
    "id": "7ebyywQieS1U"
   },
   "outputs": [],
   "source": [
    "# ML Model - 1 Implementation\n",
    "linear_simple_model = LinearRegression()\n",
    "# Fit the Algorithm\n",
    "linear_simple_model.fit(xtrain,ytrain)\n",
    "# Predict on the model\n",
    "pred_train = linear_simple_model.predict(xtrain)\n",
    "pred_test = linear_simple_model.predict(xtest)"
   ]
  },
  {
   "cell_type": "markdown",
   "metadata": {
    "id": "ArJBuiUVfxKd"
   },
   "source": [
    "#### 1. Explain the ML Model used and it's performance using Evaluation metric Score Chart."
   ]
  },
  {
   "cell_type": "code",
   "execution_count": 49,
   "metadata": {
    "id": "rqD5ZohzfxKe"
   },
   "outputs": [
    {
     "name": "stdout",
     "output_type": "stream",
     "text": [
      "R2_score train : 0.7872291668235303\n",
      "R2_score test : 0.7878442580250777\n"
     ]
    },
    {
     "data": {
      "image/png": "[encoded data removed]",
      "text/plain": [
       "<Figure size 400x200 with 1 Axes>"
      ]
     },
     "metadata": {},
     "output_type": "display_data"
    },
    {
     "name": "stdout",
     "output_type": "stream",
     "text": [
      "Root mean squared error train : 1116.685020545167\n",
      "Root mean squared error test : 1113.896703457641\n"
     ]
    },
    {
     "data": {
      "image/png": "[encoded data removed]",
      "text/plain": [
       "<Figure size 400x200 with 1 Axes>"
      ]
     },
     "metadata": {},
     "output_type": "display_data"
    }
   ],
   "source": [
    "# Visualizing evaluation Metric Score chart\n",
    "plt.rcParams['figure.figsize'] = (4,2)\n",
    "# R2 score for train and test\n",
    "print(f\"R2_score train : {r2_score(ytrain,pred_train)}\")\n",
    "print(f\"R2_score test : {r2_score(ytest,pred_test)}\")\n",
    "pd.Series([r2_score(ytrain,pred_train),r2_score(ytest,pred_test)],\\\n",
    "          index=['Train R2_score', 'Test R2_score']).plot.bar()\n",
    "plt.show()\n",
    "\n",
    "# mean squared for train and test\n",
    "print(f\"Root mean squared error train : {np.math.sqrt(mean_squared_error(ytrain,pred_train))}\")\n",
    "print(f\"Root mean squared error test : {np.math.sqrt(mean_squared_error(ytest,pred_test))}\")\n",
    "pd.Series([np.math.sqrt(mean_squared_error(ytest,pred_test)),np.math.sqrt(mean_squared_error(ytest,pred_test))],\\\n",
    "          index=['Train RMSE', 'Test RMSE']).plot.bar()\n",
    "plt.show()"
   ]
  },
  {
   "cell_type": "markdown",
   "metadata": {
    "id": "4qY1EAkEfxKe"
   },
   "source": [
    "#### 2. Cross- Validation & Hyperparameter Tuning"
   ]
  },
  {
   "cell_type": "code",
   "execution_count": 50,
   "metadata": {
    "id": "Dy61ujd6fxKe"
   },
   "outputs": [
    {
     "name": "stdout",
     "output_type": "stream",
     "text": [
      "Fitting 10 folds for each of 4 candidates, totalling 40 fits\n",
      "[CV] END ..................fit_intercept=True, positive=True; total time=   0.3s\n",
      "[CV] END ..................fit_intercept=True, positive=True; total time=   0.4s\n",
      "[CV] END ..................fit_intercept=True, positive=True; total time=   0.3s\n",
      "[CV] END ..................fit_intercept=True, positive=True; total time=   0.3s\n",
      "[CV] END ..................fit_intercept=True, positive=True; total time=   0.3s\n",
      "[CV] END ..................fit_intercept=True, positive=True; total time=   0.3s\n",
      "[CV] END ..................fit_intercept=True, positive=True; total time=   0.3s\n",
      "[CV] END ..................fit_intercept=True, positive=True; total time=   0.3s\n",
      "[CV] END ..................fit_intercept=True, positive=True; total time=   0.3s\n",
      "[CV] END ..................fit_intercept=True, positive=True; total time=   0.3s\n",
      "[CV] END .................fit_intercept=True, positive=False; total time=   0.2s\n",
      "[CV] END .................fit_intercept=True, positive=False; total time=   0.2s\n",
      "[CV] END .................fit_intercept=True, positive=False; total time=   0.2s\n",
      "[CV] END .................fit_intercept=True, positive=False; total time=   0.2s\n",
      "[CV] END .................fit_intercept=True, positive=False; total time=   0.3s\n",
      "[CV] END .................fit_intercept=True, positive=False; total time=   0.2s\n",
      "[CV] END .................fit_intercept=True, positive=False; total time=   0.3s\n",
      "[CV] END .................fit_intercept=True, positive=False; total time=   0.3s\n",
      "[CV] END .................fit_intercept=True, positive=False; total time=   0.3s\n",
      "[CV] END .................fit_intercept=True, positive=False; total time=   0.3s\n",
      "[CV] END .................fit_intercept=False, positive=True; total time=   0.3s\n",
      "[CV] END .................fit_intercept=False, positive=True; total time=   0.3s\n",
      "[CV] END .................fit_intercept=False, positive=True; total time=   0.3s\n",
      "[CV] END .................fit_intercept=False, positive=True; total time=   0.3s\n",
      "[CV] END .................fit_intercept=False, positive=True; total time=   0.3s\n",
      "[CV] END .................fit_intercept=False, positive=True; total time=   0.3s\n",
      "[CV] END .................fit_intercept=False, positive=True; total time=   0.3s\n",
      "[CV] END .................fit_intercept=False, positive=True; total time=   0.3s\n",
      "[CV] END .................fit_intercept=False, positive=True; total time=   0.3s\n",
      "[CV] END .................fit_intercept=False, positive=True; total time=   0.3s\n",
      "[CV] END ................fit_intercept=False, positive=False; total time=   0.2s\n",
      "[CV] END ................fit_intercept=False, positive=False; total time=   0.2s\n",
      "[CV] END ................fit_intercept=False, positive=False; total time=   0.2s\n",
      "[CV] END ................fit_intercept=False, positive=False; total time=   0.2s\n",
      "[CV] END ................fit_intercept=False, positive=False; total time=   0.2s\n",
      "[CV] END ................fit_intercept=False, positive=False; total time=   0.2s\n",
      "[CV] END ................fit_intercept=False, positive=False; total time=   0.2s\n",
      "[CV] END ................fit_intercept=False, positive=False; total time=   0.3s\n",
      "[CV] END ................fit_intercept=False, positive=False; total time=   0.2s\n",
      "[CV] END ................fit_intercept=False, positive=False; total time=   0.2s\n",
      "{'fit_intercept': True, 'positive': False}\n"
     ]
    }
   ],
   "source": [
    "# ML Model - 1 Implementation with hyperparameter optimization techniques (i.e., GridSearch CV, RandomSearch CV, Bayesian Optimization etc.)\n",
    "\n",
    "# Fit the Algorithm\n",
    "\n",
    "# Predict on the model\n",
    "\n",
    "# cross validation fitting\n",
    "mdl = LinearRegression()\n",
    "grid_param = {'fit_intercept': [True,False],'positive': [True,False]}\n",
    "grid_model = GridSearchCV(mdl,cv=10, param_grid = grid_param,verbose=2)\n",
    "grid_model.fit(xtrain,ytrain)\n",
    "print(grid_model.best_params_)\n",
    "model = grid_model.best_estimator_\n",
    "\n",
    "# Predicting for test and train\n",
    "pred_train = model.predict(xtrain)\n",
    "pred_test = model.predict(xtest)"
   ]
  },
  {
   "cell_type": "code",
   "execution_count": 51,
   "metadata": {},
   "outputs": [
    {
     "name": "stdout",
     "output_type": "stream",
     "text": [
      "R2_score train : 0.7872291668235303\n",
      "R2_score test : 0.7878442580250777\n",
      "Root mean squared error train : 1116.685020545167\n",
      "Root mean squared error test : 1113.896703457641\n"
     ]
    },
    {
     "data": {
      "text/plain": [
       "<AxesSubplot:>"
      ]
     },
     "execution_count": 51,
     "metadata": {},
     "output_type": "execute_result"
    },
    {
     "data": {
      "image/png": "[encoded data removed]",
      "text/plain": [
       "<Figure size 400x200 with 1 Axes>"
      ]
     },
     "metadata": {},
     "output_type": "display_data"
    }
   ],
   "source": [
    "# R2 score for train and test\n",
    "plt.rcParams['figure.figsize'] = (4,2)\n",
    "print(f\"R2_score train : {r2_score(ytrain,pred_train)}\")\n",
    "print(f\"R2_score test : {r2_score(ytest,pred_test)}\")\n",
    "pd.Series([r2_score(ytrain,pred_train),r2_score(ytest,pred_test)],\\\n",
    "          index=['Train R2_score', 'Test R2_score']).plot.bar()\n",
    "\n",
    "# mean squared for train and test\n",
    "print(f\"Root mean squared error train : {np.math.sqrt(mean_squared_error(ytrain,pred_train))}\")\n",
    "print(f\"Root mean squared error test : {np.math.sqrt(mean_squared_error(ytest,pred_test))}\")\n",
    "pd.Series([np.math.sqrt(mean_squared_error(ytest,pred_test)),np.math.sqrt(mean_squared_error(ytest,pred_test))],\\\n",
    "          index=['Train RMSE', 'Test RMSE']).plot.bar()"
   ]
  },
  {
   "cell_type": "markdown",
   "metadata": {
    "id": "PiV4Ypx8fxKe"
   },
   "source": [
    "##### Which hyperparameter optimization technique have you used and why?"
   ]
  },
  {
   "cell_type": "markdown",
   "metadata": {
    "id": "negyGRa7fxKf"
   },
   "source": [
    "Answer Here."
   ]
  },
  {
   "cell_type": "markdown",
   "metadata": {
    "id": "TfvqoZmBfxKf"
   },
   "source": [
    "##### Have you seen any improvement? Note down the improvement with updates Evaluation metric Score Chart."
   ]
  },
  {
   "cell_type": "markdown",
   "metadata": {
    "id": "OaLui8CcfxKf"
   },
   "source": [
    "Answer Here."
   ]
  },
  {
   "cell_type": "markdown",
   "metadata": {
    "id": "dJ2tPlVmpsJ0"
   },
   "source": [
    "### ML Model - 2"
   ]
  },
  {
   "cell_type": "markdown",
   "metadata": {
    "id": "JWYfwnehpsJ1"
   },
   "source": [
    "#### 1. Explain the ML Model used and it's performance using Evaluation metric Score Chart."
   ]
  },
  {
   "cell_type": "code",
   "execution_count": 52,
   "metadata": {
    "id": "yEl-hgQWpsJ1"
   },
   "outputs": [],
   "source": [
    "# Visualizing evaluation Metric Score chart"
   ]
  },
  {
   "cell_type": "markdown",
   "metadata": {
    "id": "-jK_YjpMpsJ2"
   },
   "source": [
    "#### 2. Cross- Validation & Hyperparameter Tuning"
   ]
  },
  {
   "cell_type": "code",
   "execution_count": 53,
   "metadata": {
    "id": "Dn0EOfS6psJ2"
   },
   "outputs": [],
   "source": [
    "# ML Model - 1 Implementation with hyperparameter optimization techniques (i.e., GridSearch CV, RandomSearch CV, Bayesian Optimization etc.)\n",
    "\n",
    "# Fit the Algorithm\n",
    "\n",
    "# Predict on the model"
   ]
  },
  {
   "cell_type": "markdown",
   "metadata": {
    "id": "HAih1iBOpsJ2"
   },
   "source": [
    "##### Which hyperparameter optimization technique have you used and why?"
   ]
  },
  {
   "cell_type": "markdown",
   "metadata": {
    "id": "9kBgjYcdpsJ2"
   },
   "source": [
    "Answer Here."
   ]
  },
  {
   "cell_type": "markdown",
   "metadata": {
    "id": "zVGeBEFhpsJ2"
   },
   "source": [
    "##### Have you seen any improvement? Note down the improvement with updates Evaluation metric Score Chart."
   ]
  },
  {
   "cell_type": "markdown",
   "metadata": {
    "id": "74yRdG6UpsJ3"
   },
   "source": [
    "Answer Here."
   ]
  },
  {
   "cell_type": "markdown",
   "metadata": {
    "id": "bmKjuQ-FpsJ3"
   },
   "source": [
    "#### 3. Explain each evaluation metric's indication towards business and the business impact pf the ML model used."
   ]
  },
  {
   "cell_type": "markdown",
   "metadata": {
    "id": "BDKtOrBQpsJ3"
   },
   "source": [
    "Answer Here."
   ]
  },
  {
   "cell_type": "markdown",
   "metadata": {
    "id": "Fze-IPXLpx6K"
   },
   "source": [
    "### ML Model - 3"
   ]
  },
  {
   "cell_type": "code",
   "execution_count": 54,
   "metadata": {
    "id": "FFrSXAtrpx6M"
   },
   "outputs": [],
   "source": [
    "# ML Model - 3 Implementation\n",
    "\n",
    "# Fit the Algorithm\n",
    "\n",
    "# Predict on the model"
   ]
  },
  {
   "cell_type": "markdown",
   "metadata": {
    "id": "7AN1z2sKpx6M"
   },
   "source": [
    "#### 1. Explain the ML Model used and it's performance using Evaluation metric Score Chart."
   ]
  },
  {
   "cell_type": "code",
   "execution_count": 55,
   "metadata": {
    "id": "xIY4lxxGpx6M"
   },
   "outputs": [],
   "source": [
    "# Visualizing evaluation Metric Score chart"
   ]
  },
  {
   "cell_type": "markdown",
   "metadata": {
    "id": "9PIHJqyupx6M"
   },
   "source": [
    "#### 2. Cross- Validation & Hyperparameter Tuning"
   ]
  },
  {
   "cell_type": "code",
   "execution_count": 56,
   "metadata": {
    "id": "eSVXuaSKpx6M"
   },
   "outputs": [],
   "source": [
    "# ML Model - 3 Implementation with hyperparameter optimization techniques (i.e., GridSearch CV, RandomSearch CV, Bayesian Optimization etc.)\n",
    "\n",
    "# Fit the Algorithm\n",
    "\n",
    "# Predict on the model"
   ]
  },
  {
   "cell_type": "markdown",
   "metadata": {
    "id": "_-qAgymDpx6N"
   },
   "source": [
    "##### Which hyperparameter optimization technique have you used and why?"
   ]
  },
  {
   "cell_type": "markdown",
   "metadata": {
    "id": "lQMffxkwpx6N"
   },
   "source": [
    "Answer Here."
   ]
  },
  {
   "cell_type": "markdown",
   "metadata": {
    "id": "Z-hykwinpx6N"
   },
   "source": [
    "##### Have you seen any improvement? Note down the improvement with updates Evaluation metric Score Chart."
   ]
  },
  {
   "cell_type": "markdown",
   "metadata": {
    "id": "MzVzZC6opx6N"
   },
   "source": [
    "Answer Here."
   ]
  },
  {
   "cell_type": "markdown",
   "metadata": {
    "id": "h_CCil-SKHpo"
   },
   "source": [
    "### 1. Which Evaluation metrics did you consider for a positive business impact and why?"
   ]
  },
  {
   "cell_type": "markdown",
   "metadata": {
    "id": "jHVz9hHDKFms"
   },
   "source": [
    "Answer Here."
   ]
  },
  {
   "cell_type": "markdown",
   "metadata": {
    "id": "cBFFvTBNJzUa"
   },
   "source": [
    "### 2. Which ML model did you choose from the above created models as your final prediction model and why?"
   ]
  },
  {
   "cell_type": "markdown",
   "metadata": {
    "id": "6ksF5Q1LKTVm"
   },
   "source": [
    "Answer Here."
   ]
  },
  {
   "cell_type": "markdown",
   "metadata": {
    "id": "HvGl1hHyA_VK"
   },
   "source": [
    "### 3. Explain the model which you have used and the feature importance using any model explainability tool?"
   ]
  },
  {
   "cell_type": "markdown",
   "metadata": {
    "id": "YnvVTiIxBL-C"
   },
   "source": [
    "Answer Here."
   ]
  },
  {
   "cell_type": "markdown",
   "metadata": {
    "id": "EyNgTHvd2WFk"
   },
   "source": [
    "## ***8.*** ***Future Work (Optional)***"
   ]
  },
  {
   "cell_type": "markdown",
   "metadata": {
    "id": "KH5McJBi2d8v"
   },
   "source": [
    "### 1. Save the best performing ml model in a pickle file or joblib file format for deployment process.\n"
   ]
  },
  {
   "cell_type": "code",
   "execution_count": 57,
   "metadata": {
    "id": "bQIANRl32f4J"
   },
   "outputs": [],
   "source": [
    "# Save the File"
   ]
  },
  {
   "cell_type": "markdown",
   "metadata": {
    "id": "iW_Lq9qf2h6X"
   },
   "source": [
    "### 2. Again Load the saved model file and try to predict unseen data for a sanity check.\n"
   ]
  },
  {
   "cell_type": "code",
   "execution_count": 58,
   "metadata": {
    "id": "oEXk9ydD2nVC"
   },
   "outputs": [],
   "source": [
    "# Load the File and predict unseen data."
   ]
  },
  {
   "cell_type": "markdown",
   "metadata": {
    "id": "-Kee-DAl2viO"
   },
   "source": [
    "### ***Congrats! Your model is successfully created and ready for deployment on a live server for a real user interaction !!!***"
   ]
  },
  {
   "cell_type": "markdown",
   "metadata": {
    "id": "gCX9965dhzqZ"
   },
   "source": [
    "# **Conclusion**"
   ]
  },
  {
   "cell_type": "markdown",
   "metadata": {
    "id": "Fjb1IsQkh3yE"
   },
   "source": [
    "Write the conclusion here."
   ]
  },
  {
   "cell_type": "markdown",
   "metadata": {
    "id": "gIfDvo9L0UH2"
   },
   "source": [
    "### ***Hurrah! You have successfully completed your Machine Learning Capstone Project !!!***"
   ]
  }
 ],
 "metadata": {
  "colab": {
   "collapsed_sections": [
    "vncDsAP0Gaoa",
    "FJNUwmbgGyua",
    "w6K7xa23Elo4",
    "yQaldy8SH6Dl",
    "mDgbUHAGgjLW",
    "O_i_v8NEhb9l",
    "HhfV-JJviCcP",
    "Y3lxredqlCYt",
    "3RnN4peoiCZX",
    "x71ZqKXriCWQ",
    "7hBIi_osiCS2",
    "JlHwYmJAmNHm",
    "35m5QtbWiB9F",
    "PoPl-ycgm1ru",
    "H0kj-8xxnORC",
    "nA9Y7ga8ng1Z",
    "PBTbrJXOngz2",
    "u3PMJOP6ngxN",
    "dauF4eBmngu3",
    "bKJF3rekwFvQ",
    "MSa1f5Uengrz",
    "GF8Ens_Soomf",
    "0wOQAZs5pc--",
    "K5QZ13OEpz2H",
    "lQ7QKXXCp7Bj",
    "448CDAPjqfQr",
    "KSlN3yHqYklG",
    "t6dVpIINYklI",
    "ijmpgYnKYklI",
    "-JiQyfWJYklI",
    "EM7whBJCYoAo",
    "fge-S5ZAYoAp",
    "85gYPyotYoAp",
    "RoGjAbkUYoAp",
    "4Of9eVA-YrdM",
    "iky9q4vBYrdO",
    "F6T5p64dYrdO",
    "y-Ehk30pYrdP",
    "bamQiAODYuh1",
    "QHF8YVU7Yuh3",
    "GwzvFGzlYuh3",
    "qYpmQ266Yuh3",
    "OH-pJp9IphqM",
    "bbFf2-_FphqN",
    "_ouA3fa0phqN",
    "Seke61FWphqN",
    "PIIx-8_IphqN",
    "t27r6nlMphqO",
    "r2jJGEOYphqO",
    "b0JNsNcRphqO",
    "BZR9WyysphqO",
    "jj7wYXLtphqO",
    "eZrbJ2SmphqO",
    "rFu4xreNphqO",
    "YJ55k-q6phqO",
    "gCFgpxoyphqP",
    "OVtJsKN_phqQ",
    "lssrdh5qphqQ",
    "U2RJ9gkRphqQ",
    "1M8mcRywphqQ",
    "tgIPom80phqQ",
    "JMzcOPDDphqR",
    "x-EpHcCOp1ci",
    "X_VqEhTip1ck",
    "8zGJKyg5p1ck",
    "PVzmfK_Ep1ck",
    "n3dbpmDWp1ck",
    "ylSl6qgtp1ck",
    "ZWILFDl5p1ck",
    "M7G43BXep1ck",
    "Ag9LCva-p1cl",
    "E6MkPsBcp1cl",
    "2cELzS2fp1cl",
    "3MPXvC8up1cl",
    "NC_X3p0fY2L0",
    "UV0SzAkaZNRQ",
    "YPEH6qLeZNRQ",
    "q29F0dvdveiT",
    "EXh0U9oCveiU",
    "22aHeOlLveiV",
    "g-ATYxFrGrvw",
    "Yfr_Vlr8HBkt",
    "8yEUt7NnHlrM",
    "tEA2Xm5dHt1r",
    "I79__PHVH19G",
    "Ou-I18pAyIpj",
    "fF3858GYyt-u",
    "4_0_7-oCpUZd",
    "hwyV_J3ipUZe",
    "3yB-zSqbpUZe",
    "dEUvejAfpUZe",
    "Fd15vwWVpUZf",
    "bn_IUdTipZyH",
    "49K5P_iCpZyH",
    "Nff-vKELpZyI",
    "kLW572S8pZyI",
    "dWbDXHzopZyI",
    "yLjJCtPM0KBk",
    "xiyOF9F70UgQ",
    "7wuGOrhz0itI",
    "id1riN9m0vUs",
    "578E2V7j08f6",
    "89xtkJwZ18nB",
    "67NQN5KX2AMe",
    "Iwf50b-R2tYG",
    "GMQiZwjn3iu7",
    "WVIkgGqN3qsr",
    "XkPnILGE3zoT",
    "Hlsf0x5436Go",
    "mT9DMSJo4nBL",
    "c49ITxTc407N",
    "OeJFEK0N496M",
    "9ExmJH0g5HBk",
    "cJNqERVU536h",
    "k5UmGsbsOxih",
    "T0VqWOYE6DLQ",
    "qBMux9mC6MCf",
    "-oLEiFgy-5Pf",
    "C74aWNz2AliB",
    "2DejudWSA-a0",
    "pEMng2IbBLp7",
    "rAdphbQ9Bhjc",
    "TNVZ9zx19K6k",
    "nqoHp30x9hH9",
    "rMDnDkt2B6du",
    "yiiVWRdJDDil",
    "1UUpS68QDMuG",
    "kexQrXU-DjzY",
    "T5CmagL3EC8N",
    "BhH2vgX9EjGr",
    "qjKvONjwE8ra",
    "P1XJ9OREExlT",
    "VFOzZv6IFROw",
    "TIqpNgepFxVj",
    "VfCC591jGiD4",
    "OB4l2ZhMeS1U",
    "ArJBuiUVfxKd",
    "4qY1EAkEfxKe",
    "PiV4Ypx8fxKe",
    "TfvqoZmBfxKf",
    "dJ2tPlVmpsJ0",
    "JWYfwnehpsJ1",
    "-jK_YjpMpsJ2",
    "HAih1iBOpsJ2",
    "zVGeBEFhpsJ2",
    "bmKjuQ-FpsJ3",
    "Fze-IPXLpx6K",
    "7AN1z2sKpx6M",
    "9PIHJqyupx6M",
    "_-qAgymDpx6N",
    "Z-hykwinpx6N",
    "h_CCil-SKHpo",
    "cBFFvTBNJzUa",
    "HvGl1hHyA_VK",
    "EyNgTHvd2WFk",
    "KH5McJBi2d8v",
    "iW_Lq9qf2h6X",
    "-Kee-DAl2viO",
    "gCX9965dhzqZ",
    "gIfDvo9L0UH2"
   ],
   "private_outputs": true,
   "provenance": []
  },
  "kernelspec": {
   "display_name": "Python 3 (ipykernel)",
   "language": "python",
   "name": "python3"
  },
  "language_info": {
   "codemirror_mode": {
    "name": "ipython",
    "version": 3
   },
   "file_extension": ".py",
   "mimetype": "text/x-python",
   "name": "python",
   "nbconvert_exporter": "python",
   "pygments_lexer": "ipython3",
   "version": "3.9.13"
  }
 },
 "nbformat": 4,
 "nbformat_minor": 1
}
