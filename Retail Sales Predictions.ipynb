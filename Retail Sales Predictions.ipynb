{
 "cells": [
  {
   "cell_type": "code",
   "execution_count": 43,
   "id": "5b9632e5",
   "metadata": {},
   "outputs": [],
   "source": [
    "# Importing modules\n",
    "import numpy as np\n",
    "import pandas as pd\n",
    "import matplotlib.pyplot as plt\n",
    "import seaborn as sns\n",
    "import warnings\n",
    "warnings.filterwarnings('ignore')"
   ]
  },
  {
   "cell_type": "code",
   "execution_count": 44,
   "id": "44d8e8ed",
   "metadata": {},
   "outputs": [],
   "source": [
    "# Loading file(Rossmann Stores Data.csv)\n",
    "# path = '/content/drive/MyDrive/Almabetter/Cohort Nilgiri/Capstone Project/Regression/'\n",
    "path = 'E:/Data Science/amlabetter/Capstone Projects/REGRESSION/'\n",
    "\n",
    "f_names = ['Rossmann Stores Data.csv','store.csv']"
   ]
  },
  {
   "cell_type": "code",
   "execution_count": 45,
   "id": "000e3172",
   "metadata": {},
   "outputs": [],
   "source": [
    "# function to calculate the percentage of null values\n",
    "def null_calculator(df):\n",
    "  result = {}\n",
    "  for col in df.columns:\n",
    "    result[col] = round(len(df[df[col].isna() == True])/len(df),4)*100\n",
    "  return result"
   ]
  },
  {
   "cell_type": "code",
   "execution_count": null,
   "id": "6c0ffbc8",
   "metadata": {},
   "outputs": [],
   "source": []
  }
 ],
 "metadata": {
  "kernelspec": {
   "display_name": "Python 3 (ipykernel)",
   "language": "python",
   "name": "python3"
  },
  "language_info": {
   "codemirror_mode": {
    "name": "ipython",
    "version": 3
   },
   "file_extension": ".py",
   "mimetype": "text/x-python",
   "name": "python",
   "nbconvert_exporter": "python",
   "pygments_lexer": "ipython3",
   "version": "3.9.13"
  }
 },
 "nbformat": 4,
 "nbformat_minor": 5
}
