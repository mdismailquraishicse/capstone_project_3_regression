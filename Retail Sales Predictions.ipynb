{
 "cells": [
  {
   "cell_type": "markdown",
   "id": "e430ff67",
   "metadata": {},
   "source": [
    "# **Project Name**    - Retail Sales Prediction"
   ]
  },
  {
   "cell_type": "markdown",
   "id": "a79c2dca",
   "metadata": {},
   "source": [
    "##### **Project Type**    - Regression\n",
    "##### **Contribution**    - Individual\n",
    "##### **Team Member 1 -** Md Ismail Quraishi"
   ]
  },
  {
   "cell_type": "markdown",
   "id": "fb35d006",
   "metadata": {},
   "source": [
    "# **Project Summary -**"
   ]
  },
  {
   "cell_type": "markdown",
   "id": "6931f29c",
   "metadata": {},
   "source": [
    "write summary here 500-600 words"
   ]
  },
  {
   "cell_type": "markdown",
   "id": "800136f3",
   "metadata": {},
   "source": [
    "# **GitHub Link -**"
   ]
  },
  {
   "cell_type": "markdown",
   "id": "00cc2c1a",
   "metadata": {},
   "source": [
    "https://github.com/mdismailquraishicse/capstone_project_3_regression"
   ]
  },
  {
   "cell_type": "markdown",
   "id": "6274da1c",
   "metadata": {},
   "source": [
    "# **Problem Statement**"
   ]
  },
  {
   "cell_type": "markdown",
   "id": "361c4316",
   "metadata": {},
   "source": [
    "I have two dataset for this project 'Rossmann Stores Data.csv' and 'store.csv'. 'Rossmann Stores Data.csv' has 1017209 rows and 9 columns and 'store.csv' has 1115 rows and 10 columns. I have to do data analysis first for both the datasets and then merge the data after merging the data my task is to apply machine learning regression algorithm to predict the salling price."
   ]
  },
  {
   "cell_type": "markdown",
   "id": "a21aded4",
   "metadata": {},
   "source": [
    "# **General Guidelines** : -  "
   ]
  },
  {
   "cell_type": "markdown",
   "id": "8b164eb9",
   "metadata": {},
   "source": [
    "1.   Well-structured, formatted, and commented code is required. \n",
    "2.   Exception Handling, Production Grade Code & Deployment Ready Code will be a plus. Those students will be awarded some additional credits. \n",
    "     \n",
    "     The additional credits will have advantages over other students during Star Student selection.\n",
    "       \n",
    "             [ Note: - Deployment Ready Code is defined as, the whole .ipynb notebook should be executable in one go\n",
    "                       without a single error logged. ]\n",
    "\n",
    "3.   Each and every logic should have proper comments.\n",
    "4. You may add as many number of charts you want. Make Sure for each and every chart the following format should be answered.\n",
    "        \n",
    "\n",
    "```\n",
    "# Chart visualization code\n",
    "```\n",
    "            \n",
    "\n",
    "*   Why did you pick the specific chart?\n",
    "*   What is/are the insight(s) found from the chart?\n",
    "* Will the gained insights help creating a positive business impact? \n",
    "Are there any insights that lead to negative growth? Justify with specific reason.\n",
    "\n",
    "5. You have to create at least 15 logical & meaningful charts having important insights.\n",
    "\n",
    "\n",
    "[ Hints : - Do the Vizualization in  a structured way while following \"UBM\" Rule. \n",
    "\n",
    "U - Univariate Analysis,\n",
    "\n",
    "B - Bivariate Analysis (Numerical - Categorical, Numerical - Numerical, Categorical - Categorical)\n",
    "\n",
    "M - Multivariate Analysis\n",
    " ]\n",
    "\n",
    "\n",
    "\n",
    "\n",
    "\n",
    "6. You may add more ml algorithms for model creation. Make sure for each and every algorithm, the following format should be answered.\n",
    "\n",
    "\n",
    "*   Explain the ML Model used and it's performance using Evaluation metric Score Chart.\n",
    "\n",
    "\n",
    "*   Cross- Validation & Hyperparameter Tuning\n",
    "\n",
    "*   Have you seen any improvement? Note down the improvement with updates Evaluation metric Score Chart.\n",
    "\n",
    "*   Explain each evaluation metric's indication towards business and the business impact pf the ML model used.\n",
    "\n",
    "\n",
    "\n",
    "\n",
    "\n",
    "\n",
    "\n",
    "\n",
    "\n",
    "\n",
    "\n",
    "\n",
    "\n",
    "\n",
    "\n",
    "\n",
    "\n",
    "\n"
   ]
  },
  {
   "cell_type": "markdown",
   "id": "bb9f82cb",
   "metadata": {},
   "source": [
    "## ***1. Know Your Data***"
   ]
  },
  {
   "cell_type": "markdown",
   "id": "21533611",
   "metadata": {},
   "source": [
    "### Import Libraries"
   ]
  },
  {
   "cell_type": "code",
   "execution_count": 1,
   "id": "50d8f9f3",
   "metadata": {},
   "outputs": [],
   "source": [
    "# Importing modules\n",
    "import numpy as np\n",
    "import pandas as pd\n",
    "import matplotlib.pyplot as plt\n",
    "import seaborn as sns\n",
    "from datetime import datetime\n",
    "from statsmodels.stats.outliers_influence import variance_inflation_factor\n",
    "from sklearn.preprocessing import  StandardScaler\n",
    "from sklearn.model_selection import train_test_split\n",
    "from numpy import math\n",
    "from sklearn.linear_model import LinearRegression\n",
    "from sklearn.metrics import r2_score, mean_squared_error\n",
    "from sklearn.model_selection import GridSearchCV\n",
    "from sklearn.linear_model import Ridge\n",
    "from sklearn.tree import DecisionTreeRegressor\n",
    "from xgboost import XGBRegressor\n",
    "from sklearn.ensemble import IsolationForest\n",
    "import warnings\n",
    "warnings.filterwarnings('ignore')"
   ]
  },
  {
   "cell_type": "markdown",
   "id": "883ea3bd",
   "metadata": {},
   "source": [
    "### Dataset Loading"
   ]
  },
  {
   "cell_type": "code",
   "execution_count": 2,
   "id": "3b9aa6b7",
   "metadata": {},
   "outputs": [],
   "source": [
    "# Loading file(Rossmann Stores Data.csv)\n",
    "# path = '/content/drive/MyDrive/Almabetter/Cohort Nilgiri/Capstone Project/Regression/'\n",
    "path = 'E:/Data Science/amlabetter/Capstone Projects/REGRESSION/'\n",
    "f_names = np.array(['Rossmann Stores Data.csv','store.csv'])\n",
    "rossmann_df = pd.read_csv(path+f_names[0])\n",
    "store_df = pd.read_csv(path+f_names[1])"
   ]
  },
  {
   "cell_type": "markdown",
   "id": "b25f0e82",
   "metadata": {},
   "source": [
    "### Dataset First View"
   ]
  },
  {
   "cell_type": "code",
   "execution_count": 3,
   "id": "351e9c44",
   "metadata": {},
   "outputs": [
    {
     "data": {
      "text/html": [
       "<div>\n",
       "<style scoped>\n",
       "    .dataframe tbody tr th:only-of-type {\n",
       "        vertical-align: middle;\n",
       "    }\n",
       "\n",
       "    .dataframe tbody tr th {\n",
       "        vertical-align: top;\n",
       "    }\n",
       "\n",
       "    .dataframe thead th {\n",
       "        text-align: right;\n",
       "    }\n",
       "</style>\n",
       "<table border=\"1\" class=\"dataframe\">\n",
       "  <thead>\n",
       "    <tr style=\"text-align: right;\">\n",
       "      <th></th>\n",
       "      <th>Store</th>\n",
       "      <th>DayOfWeek</th>\n",
       "      <th>Date</th>\n",
       "      <th>Sales</th>\n",
       "      <th>Customers</th>\n",
       "      <th>Open</th>\n",
       "      <th>Promo</th>\n",
       "      <th>StateHoliday</th>\n",
       "      <th>SchoolHoliday</th>\n",
       "    </tr>\n",
       "  </thead>\n",
       "  <tbody>\n",
       "    <tr>\n",
       "      <th>0</th>\n",
       "      <td>1</td>\n",
       "      <td>5</td>\n",
       "      <td>2015-07-31</td>\n",
       "      <td>5263</td>\n",
       "      <td>555</td>\n",
       "      <td>1</td>\n",
       "      <td>1</td>\n",
       "      <td>0</td>\n",
       "      <td>1</td>\n",
       "    </tr>\n",
       "    <tr>\n",
       "      <th>1</th>\n",
       "      <td>2</td>\n",
       "      <td>5</td>\n",
       "      <td>2015-07-31</td>\n",
       "      <td>6064</td>\n",
       "      <td>625</td>\n",
       "      <td>1</td>\n",
       "      <td>1</td>\n",
       "      <td>0</td>\n",
       "      <td>1</td>\n",
       "    </tr>\n",
       "    <tr>\n",
       "      <th>2</th>\n",
       "      <td>3</td>\n",
       "      <td>5</td>\n",
       "      <td>2015-07-31</td>\n",
       "      <td>8314</td>\n",
       "      <td>821</td>\n",
       "      <td>1</td>\n",
       "      <td>1</td>\n",
       "      <td>0</td>\n",
       "      <td>1</td>\n",
       "    </tr>\n",
       "    <tr>\n",
       "      <th>3</th>\n",
       "      <td>4</td>\n",
       "      <td>5</td>\n",
       "      <td>2015-07-31</td>\n",
       "      <td>13995</td>\n",
       "      <td>1498</td>\n",
       "      <td>1</td>\n",
       "      <td>1</td>\n",
       "      <td>0</td>\n",
       "      <td>1</td>\n",
       "    </tr>\n",
       "    <tr>\n",
       "      <th>4</th>\n",
       "      <td>5</td>\n",
       "      <td>5</td>\n",
       "      <td>2015-07-31</td>\n",
       "      <td>4822</td>\n",
       "      <td>559</td>\n",
       "      <td>1</td>\n",
       "      <td>1</td>\n",
       "      <td>0</td>\n",
       "      <td>1</td>\n",
       "    </tr>\n",
       "  </tbody>\n",
       "</table>\n",
       "</div>"
      ],
      "text/plain": [
       "   Store  DayOfWeek        Date  Sales  Customers  Open  Promo StateHoliday  \\\n",
       "0      1          5  2015-07-31   5263        555     1      1            0   \n",
       "1      2          5  2015-07-31   6064        625     1      1            0   \n",
       "2      3          5  2015-07-31   8314        821     1      1            0   \n",
       "3      4          5  2015-07-31  13995       1498     1      1            0   \n",
       "4      5          5  2015-07-31   4822        559     1      1            0   \n",
       "\n",
       "   SchoolHoliday  \n",
       "0              1  \n",
       "1              1  \n",
       "2              1  \n",
       "3              1  \n",
       "4              1  "
      ]
     },
     "execution_count": 3,
     "metadata": {},
     "output_type": "execute_result"
    }
   ],
   "source": [
    "# First view for rossmann_df\n",
    "rossmann_df.head()"
   ]
  },
  {
   "cell_type": "code",
   "execution_count": 4,
   "id": "18e03fc5",
   "metadata": {},
   "outputs": [
    {
     "data": {
      "text/html": [
       "<div>\n",
       "<style scoped>\n",
       "    .dataframe tbody tr th:only-of-type {\n",
       "        vertical-align: middle;\n",
       "    }\n",
       "\n",
       "    .dataframe tbody tr th {\n",
       "        vertical-align: top;\n",
       "    }\n",
       "\n",
       "    .dataframe thead th {\n",
       "        text-align: right;\n",
       "    }\n",
       "</style>\n",
       "<table border=\"1\" class=\"dataframe\">\n",
       "  <thead>\n",
       "    <tr style=\"text-align: right;\">\n",
       "      <th></th>\n",
       "      <th>Store</th>\n",
       "      <th>StoreType</th>\n",
       "      <th>Assortment</th>\n",
       "      <th>CompetitionDistance</th>\n",
       "      <th>CompetitionOpenSinceMonth</th>\n",
       "      <th>CompetitionOpenSinceYear</th>\n",
       "      <th>Promo2</th>\n",
       "      <th>Promo2SinceWeek</th>\n",
       "      <th>Promo2SinceYear</th>\n",
       "      <th>PromoInterval</th>\n",
       "    </tr>\n",
       "  </thead>\n",
       "  <tbody>\n",
       "    <tr>\n",
       "      <th>0</th>\n",
       "      <td>1</td>\n",
       "      <td>c</td>\n",
       "      <td>a</td>\n",
       "      <td>1270.0</td>\n",
       "      <td>9.0</td>\n",
       "      <td>2008.0</td>\n",
       "      <td>0</td>\n",
       "      <td>NaN</td>\n",
       "      <td>NaN</td>\n",
       "      <td>NaN</td>\n",
       "    </tr>\n",
       "    <tr>\n",
       "      <th>1</th>\n",
       "      <td>2</td>\n",
       "      <td>a</td>\n",
       "      <td>a</td>\n",
       "      <td>570.0</td>\n",
       "      <td>11.0</td>\n",
       "      <td>2007.0</td>\n",
       "      <td>1</td>\n",
       "      <td>13.0</td>\n",
       "      <td>2010.0</td>\n",
       "      <td>Jan,Apr,Jul,Oct</td>\n",
       "    </tr>\n",
       "    <tr>\n",
       "      <th>2</th>\n",
       "      <td>3</td>\n",
       "      <td>a</td>\n",
       "      <td>a</td>\n",
       "      <td>14130.0</td>\n",
       "      <td>12.0</td>\n",
       "      <td>2006.0</td>\n",
       "      <td>1</td>\n",
       "      <td>14.0</td>\n",
       "      <td>2011.0</td>\n",
       "      <td>Jan,Apr,Jul,Oct</td>\n",
       "    </tr>\n",
       "    <tr>\n",
       "      <th>3</th>\n",
       "      <td>4</td>\n",
       "      <td>c</td>\n",
       "      <td>c</td>\n",
       "      <td>620.0</td>\n",
       "      <td>9.0</td>\n",
       "      <td>2009.0</td>\n",
       "      <td>0</td>\n",
       "      <td>NaN</td>\n",
       "      <td>NaN</td>\n",
       "      <td>NaN</td>\n",
       "    </tr>\n",
       "    <tr>\n",
       "      <th>4</th>\n",
       "      <td>5</td>\n",
       "      <td>a</td>\n",
       "      <td>a</td>\n",
       "      <td>29910.0</td>\n",
       "      <td>4.0</td>\n",
       "      <td>2015.0</td>\n",
       "      <td>0</td>\n",
       "      <td>NaN</td>\n",
       "      <td>NaN</td>\n",
       "      <td>NaN</td>\n",
       "    </tr>\n",
       "  </tbody>\n",
       "</table>\n",
       "</div>"
      ],
      "text/plain": [
       "   Store StoreType Assortment  CompetitionDistance  CompetitionOpenSinceMonth  \\\n",
       "0      1         c          a               1270.0                        9.0   \n",
       "1      2         a          a                570.0                       11.0   \n",
       "2      3         a          a              14130.0                       12.0   \n",
       "3      4         c          c                620.0                        9.0   \n",
       "4      5         a          a              29910.0                        4.0   \n",
       "\n",
       "   CompetitionOpenSinceYear  Promo2  Promo2SinceWeek  Promo2SinceYear  \\\n",
       "0                    2008.0       0              NaN              NaN   \n",
       "1                    2007.0       1             13.0           2010.0   \n",
       "2                    2006.0       1             14.0           2011.0   \n",
       "3                    2009.0       0              NaN              NaN   \n",
       "4                    2015.0       0              NaN              NaN   \n",
       "\n",
       "     PromoInterval  \n",
       "0              NaN  \n",
       "1  Jan,Apr,Jul,Oct  \n",
       "2  Jan,Apr,Jul,Oct  \n",
       "3              NaN  \n",
       "4              NaN  "
      ]
     },
     "execution_count": 4,
     "metadata": {},
     "output_type": "execute_result"
    }
   ],
   "source": [
    "# First view for store_df\n",
    "store_df.head()"
   ]
  },
  {
   "cell_type": "markdown",
   "id": "152df956",
   "metadata": {},
   "source": [
    "### Dataset Rows & Columns count"
   ]
  },
  {
   "cell_type": "code",
   "execution_count": 5,
   "id": "ce414c44",
   "metadata": {},
   "outputs": [
    {
     "data": {
      "text/plain": [
       "(1017209, 9)"
      ]
     },
     "execution_count": 5,
     "metadata": {},
     "output_type": "execute_result"
    }
   ],
   "source": [
    "# Rows and column counts for  rossmann_df\n",
    "rossmann_df.shape"
   ]
  },
  {
   "cell_type": "code",
   "execution_count": 6,
   "id": "4010ccfe",
   "metadata": {},
   "outputs": [
    {
     "data": {
      "text/plain": [
       "(1115, 10)"
      ]
     },
     "execution_count": 6,
     "metadata": {},
     "output_type": "execute_result"
    }
   ],
   "source": [
    "# Rows and column counts for  store_df\n",
    "store_df.shape"
   ]
  },
  {
   "cell_type": "markdown",
   "id": "c6245d2b",
   "metadata": {},
   "source": [
    "### Dataset Information"
   ]
  },
  {
   "cell_type": "code",
   "execution_count": 7,
   "id": "cb97a14d",
   "metadata": {},
   "outputs": [
    {
     "name": "stdout",
     "output_type": "stream",
     "text": [
      "<class 'pandas.core.frame.DataFrame'>\n",
      "RangeIndex: 1017209 entries, 0 to 1017208\n",
      "Data columns (total 9 columns):\n",
      " #   Column         Non-Null Count    Dtype \n",
      "---  ------         --------------    ----- \n",
      " 0   Store          1017209 non-null  int64 \n",
      " 1   DayOfWeek      1017209 non-null  int64 \n",
      " 2   Date           1017209 non-null  object\n",
      " 3   Sales          1017209 non-null  int64 \n",
      " 4   Customers      1017209 non-null  int64 \n",
      " 5   Open           1017209 non-null  int64 \n",
      " 6   Promo          1017209 non-null  int64 \n",
      " 7   StateHoliday   1017209 non-null  object\n",
      " 8   SchoolHoliday  1017209 non-null  int64 \n",
      "dtypes: int64(7), object(2)\n",
      "memory usage: 69.8+ MB\n"
     ]
    }
   ],
   "source": [
    "# rossmann_df info\n",
    "rossmann_df.info()"
   ]
  },
  {
   "cell_type": "code",
   "execution_count": 8,
   "id": "416503fe",
   "metadata": {},
   "outputs": [
    {
     "name": "stdout",
     "output_type": "stream",
     "text": [
      "<class 'pandas.core.frame.DataFrame'>\n",
      "RangeIndex: 1115 entries, 0 to 1114\n",
      "Data columns (total 10 columns):\n",
      " #   Column                     Non-Null Count  Dtype  \n",
      "---  ------                     --------------  -----  \n",
      " 0   Store                      1115 non-null   int64  \n",
      " 1   StoreType                  1115 non-null   object \n",
      " 2   Assortment                 1115 non-null   object \n",
      " 3   CompetitionDistance        1112 non-null   float64\n",
      " 4   CompetitionOpenSinceMonth  761 non-null    float64\n",
      " 5   CompetitionOpenSinceYear   761 non-null    float64\n",
      " 6   Promo2                     1115 non-null   int64  \n",
      " 7   Promo2SinceWeek            571 non-null    float64\n",
      " 8   Promo2SinceYear            571 non-null    float64\n",
      " 9   PromoInterval              571 non-null    object \n",
      "dtypes: float64(5), int64(2), object(3)\n",
      "memory usage: 87.2+ KB\n"
     ]
    }
   ],
   "source": [
    "# store_df info\n",
    "store_df.info()"
   ]
  },
  {
   "cell_type": "markdown",
   "id": "77f0bef9",
   "metadata": {},
   "source": [
    "#### Duplicate Values"
   ]
  },
  {
   "cell_type": "code",
   "execution_count": 9,
   "id": "daf9aed1",
   "metadata": {},
   "outputs": [
    {
     "data": {
      "text/plain": [
       "False    1017209\n",
       "dtype: int64"
      ]
     },
     "execution_count": 9,
     "metadata": {},
     "output_type": "execute_result"
    }
   ],
   "source": [
    "# Duplicate values for rossmann_df\n",
    "rossmann_df.duplicated().value_counts()"
   ]
  },
  {
   "cell_type": "markdown",
   "id": "6e13b793",
   "metadata": {},
   "source": [
    "There is no duplicate value in rossmann_df"
   ]
  },
  {
   "cell_type": "code",
   "execution_count": 10,
   "id": "c6070530",
   "metadata": {},
   "outputs": [
    {
     "data": {
      "text/plain": [
       "False    1115\n",
       "dtype: int64"
      ]
     },
     "execution_count": 10,
     "metadata": {},
     "output_type": "execute_result"
    }
   ],
   "source": [
    "# Duplicate values for store_df\n",
    "store_df.duplicated().value_counts()"
   ]
  },
  {
   "cell_type": "markdown",
   "id": "e6dad527",
   "metadata": {},
   "source": [
    "There is no duplicate value in store_df"
   ]
  },
  {
   "cell_type": "markdown",
   "id": "82b6745c",
   "metadata": {},
   "source": [
    "#### Missing Values/Null Values"
   ]
  },
  {
   "cell_type": "code",
   "execution_count": 11,
   "id": "a070fddf",
   "metadata": {},
   "outputs": [],
   "source": [
    "# function to calculate the number of null values\n",
    "def null_calculator(df):\n",
    "  result = {}\n",
    "  for col in df.columns:\n",
    "    result[col] = len(df[df[col].isna() == True])\n",
    "  return result"
   ]
  },
  {
   "cell_type": "code",
   "execution_count": 12,
   "id": "4ce2f4b5",
   "metadata": {},
   "outputs": [
    {
     "data": {
      "text/plain": [
       "{'Store': 0,\n",
       " 'DayOfWeek': 0,\n",
       " 'Date': 0,\n",
       " 'Sales': 0,\n",
       " 'Customers': 0,\n",
       " 'Open': 0,\n",
       " 'Promo': 0,\n",
       " 'StateHoliday': 0,\n",
       " 'SchoolHoliday': 0}"
      ]
     },
     "execution_count": 12,
     "metadata": {},
     "output_type": "execute_result"
    }
   ],
   "source": [
    "# Null value count in rossmann_df\n",
    "null_calculator(rossmann_df)"
   ]
  },
  {
   "cell_type": "code",
   "execution_count": 13,
   "id": "8de1d0cd",
   "metadata": {},
   "outputs": [
    {
     "data": {
      "text/plain": [
       "{'Store': 0,\n",
       " 'StoreType': 0,\n",
       " 'Assortment': 0,\n",
       " 'CompetitionDistance': 3,\n",
       " 'CompetitionOpenSinceMonth': 354,\n",
       " 'CompetitionOpenSinceYear': 354,\n",
       " 'Promo2': 0,\n",
       " 'Promo2SinceWeek': 544,\n",
       " 'Promo2SinceYear': 544,\n",
       " 'PromoInterval': 544}"
      ]
     },
     "execution_count": 13,
     "metadata": {},
     "output_type": "execute_result"
    }
   ],
   "source": [
    "# Null value count in store_df\n",
    "null_calculator(store_df)"
   ]
  },
  {
   "cell_type": "code",
   "execution_count": 14,
   "id": "c05ad912",
   "metadata": {},
   "outputs": [
    {
     "data": {
      "text/plain": [
       "<AxesSubplot:>"
      ]
     },
     "execution_count": 14,
     "metadata": {},
     "output_type": "execute_result"
    },
    {
     "data": {
      "image/png": "[encoded data removed]",
      "text/plain": [
       "<Figure size 500x300 with 1 Axes>"
      ]
     },
     "metadata": {},
     "output_type": "display_data"
    }
   ],
   "source": [
    "# Visualizing the missing values\n",
    "plt.rcParams['figure.figsize'] = (5,3)\n",
    "pd.Series(null_calculator(store_df)).plot.barh()"
   ]
  },
  {
   "cell_type": "markdown",
   "id": "c276586b",
   "metadata": {},
   "source": [
    "### What did you know about your dataset?"
   ]
  },
  {
   "cell_type": "markdown",
   "id": "5a4a52e3",
   "metadata": {},
   "source": [
    "I am provided with two datasets for this project 1. rossmann_df 2. store_df."
   ]
  },
  {
   "cell_type": "markdown",
   "id": "b181d7eb",
   "metadata": {},
   "source": [
    "rossmann_df : It has 1017209 observations and 9 features without and duplicate and null values. Column names for the dataset are :\n",
    "    <ol><li> Store\n",
    "        <li>DayOfWeek\n",
    "        <li>Date\n",
    "        <li>Sales\n",
    "        <li>Customers\n",
    "        <li>Open\n",
    "        <li>Promo\n",
    "        <li>StateHoliday\n",
    "        <li>SchoolHoliday"
   ]
  },
  {
   "cell_type": "markdown",
   "id": "62dbf069",
   "metadata": {},
   "source": [
    "store_df : It has 1115 observations and 10 features without duplicate values but there are some null values. Column names and null values for each column are given below :\n",
    "    <ol><li> Store\n",
    "        <li>StoreType\n",
    "        <li>Assortment\n",
    "        <li>CompetitionDistance : 3 null values\n",
    "        <li>CompetitionOpenSinceMonth : 354 null values\n",
    "        <li>CompetitionOpenSinceYear : 354 null values\n",
    "        <li>Promo2\n",
    "        <li>Promo2SinceWeek : 544 null values\n",
    "        <li>Promo2SinceYear : 544 null values\n",
    "        <li>PromoInterval : 544 null values"
   ]
  },
  {
   "cell_type": "markdown",
   "id": "08153afc",
   "metadata": {},
   "source": [
    "## ***2. Understanding Your Variables***"
   ]
  },
  {
   "cell_type": "code",
   "execution_count": 15,
   "id": "b6e150bf",
   "metadata": {},
   "outputs": [
    {
     "data": {
      "text/plain": [
       "Index(['Store', 'DayOfWeek', 'Date', 'Sales', 'Customers', 'Open', 'Promo',\n",
       "       'StateHoliday', 'SchoolHoliday'],\n",
       "      dtype='object')"
      ]
     },
     "execution_count": 15,
     "metadata": {},
     "output_type": "execute_result"
    }
   ],
   "source": [
    "# Dataset Columns for rossmann_df\n",
    "rossmann_df.columns"
   ]
  },
  {
   "cell_type": "code",
   "execution_count": 16,
   "id": "ba490694",
   "metadata": {},
   "outputs": [
    {
     "data": {
      "text/html": [
       "<div>\n",
       "<style scoped>\n",
       "    .dataframe tbody tr th:only-of-type {\n",
       "        vertical-align: middle;\n",
       "    }\n",
       "\n",
       "    .dataframe tbody tr th {\n",
       "        vertical-align: top;\n",
       "    }\n",
       "\n",
       "    .dataframe thead th {\n",
       "        text-align: right;\n",
       "    }\n",
       "</style>\n",
       "<table border=\"1\" class=\"dataframe\">\n",
       "  <thead>\n",
       "    <tr style=\"text-align: right;\">\n",
       "      <th></th>\n",
       "      <th>Store</th>\n",
       "      <th>DayOfWeek</th>\n",
       "      <th>Sales</th>\n",
       "      <th>Customers</th>\n",
       "      <th>Open</th>\n",
       "      <th>Promo</th>\n",
       "      <th>SchoolHoliday</th>\n",
       "    </tr>\n",
       "  </thead>\n",
       "  <tbody>\n",
       "    <tr>\n",
       "      <th>count</th>\n",
       "      <td>1.017209e+06</td>\n",
       "      <td>1.017209e+06</td>\n",
       "      <td>1.017209e+06</td>\n",
       "      <td>1.017209e+06</td>\n",
       "      <td>1.017209e+06</td>\n",
       "      <td>1.017209e+06</td>\n",
       "      <td>1.017209e+06</td>\n",
       "    </tr>\n",
       "    <tr>\n",
       "      <th>mean</th>\n",
       "      <td>5.584297e+02</td>\n",
       "      <td>3.998341e+00</td>\n",
       "      <td>5.773819e+03</td>\n",
       "      <td>6.331459e+02</td>\n",
       "      <td>8.301067e-01</td>\n",
       "      <td>3.815145e-01</td>\n",
       "      <td>1.786467e-01</td>\n",
       "    </tr>\n",
       "    <tr>\n",
       "      <th>std</th>\n",
       "      <td>3.219087e+02</td>\n",
       "      <td>1.997391e+00</td>\n",
       "      <td>3.849926e+03</td>\n",
       "      <td>4.644117e+02</td>\n",
       "      <td>3.755392e-01</td>\n",
       "      <td>4.857586e-01</td>\n",
       "      <td>3.830564e-01</td>\n",
       "    </tr>\n",
       "    <tr>\n",
       "      <th>min</th>\n",
       "      <td>1.000000e+00</td>\n",
       "      <td>1.000000e+00</td>\n",
       "      <td>0.000000e+00</td>\n",
       "      <td>0.000000e+00</td>\n",
       "      <td>0.000000e+00</td>\n",
       "      <td>0.000000e+00</td>\n",
       "      <td>0.000000e+00</td>\n",
       "    </tr>\n",
       "    <tr>\n",
       "      <th>25%</th>\n",
       "      <td>2.800000e+02</td>\n",
       "      <td>2.000000e+00</td>\n",
       "      <td>3.727000e+03</td>\n",
       "      <td>4.050000e+02</td>\n",
       "      <td>1.000000e+00</td>\n",
       "      <td>0.000000e+00</td>\n",
       "      <td>0.000000e+00</td>\n",
       "    </tr>\n",
       "    <tr>\n",
       "      <th>50%</th>\n",
       "      <td>5.580000e+02</td>\n",
       "      <td>4.000000e+00</td>\n",
       "      <td>5.744000e+03</td>\n",
       "      <td>6.090000e+02</td>\n",
       "      <td>1.000000e+00</td>\n",
       "      <td>0.000000e+00</td>\n",
       "      <td>0.000000e+00</td>\n",
       "    </tr>\n",
       "    <tr>\n",
       "      <th>75%</th>\n",
       "      <td>8.380000e+02</td>\n",
       "      <td>6.000000e+00</td>\n",
       "      <td>7.856000e+03</td>\n",
       "      <td>8.370000e+02</td>\n",
       "      <td>1.000000e+00</td>\n",
       "      <td>1.000000e+00</td>\n",
       "      <td>0.000000e+00</td>\n",
       "    </tr>\n",
       "    <tr>\n",
       "      <th>max</th>\n",
       "      <td>1.115000e+03</td>\n",
       "      <td>7.000000e+00</td>\n",
       "      <td>4.155100e+04</td>\n",
       "      <td>7.388000e+03</td>\n",
       "      <td>1.000000e+00</td>\n",
       "      <td>1.000000e+00</td>\n",
       "      <td>1.000000e+00</td>\n",
       "    </tr>\n",
       "  </tbody>\n",
       "</table>\n",
       "</div>"
      ],
      "text/plain": [
       "              Store     DayOfWeek         Sales     Customers          Open  \\\n",
       "count  1.017209e+06  1.017209e+06  1.017209e+06  1.017209e+06  1.017209e+06   \n",
       "mean   5.584297e+02  3.998341e+00  5.773819e+03  6.331459e+02  8.301067e-01   \n",
       "std    3.219087e+02  1.997391e+00  3.849926e+03  4.644117e+02  3.755392e-01   \n",
       "min    1.000000e+00  1.000000e+00  0.000000e+00  0.000000e+00  0.000000e+00   \n",
       "25%    2.800000e+02  2.000000e+00  3.727000e+03  4.050000e+02  1.000000e+00   \n",
       "50%    5.580000e+02  4.000000e+00  5.744000e+03  6.090000e+02  1.000000e+00   \n",
       "75%    8.380000e+02  6.000000e+00  7.856000e+03  8.370000e+02  1.000000e+00   \n",
       "max    1.115000e+03  7.000000e+00  4.155100e+04  7.388000e+03  1.000000e+00   \n",
       "\n",
       "              Promo  SchoolHoliday  \n",
       "count  1.017209e+06   1.017209e+06  \n",
       "mean   3.815145e-01   1.786467e-01  \n",
       "std    4.857586e-01   3.830564e-01  \n",
       "min    0.000000e+00   0.000000e+00  \n",
       "25%    0.000000e+00   0.000000e+00  \n",
       "50%    0.000000e+00   0.000000e+00  \n",
       "75%    1.000000e+00   0.000000e+00  \n",
       "max    1.000000e+00   1.000000e+00  "
      ]
     },
     "execution_count": 16,
     "metadata": {},
     "output_type": "execute_result"
    }
   ],
   "source": [
    "# Dataset Describe for rossmann_df\n",
    "rossmann_df.describe()"
   ]
  },
  {
   "cell_type": "code",
   "execution_count": 17,
   "id": "ba2a2ed6",
   "metadata": {},
   "outputs": [
    {
     "data": {
      "text/plain": [
       "Index(['Store', 'StoreType', 'Assortment', 'CompetitionDistance',\n",
       "       'CompetitionOpenSinceMonth', 'CompetitionOpenSinceYear', 'Promo2',\n",
       "       'Promo2SinceWeek', 'Promo2SinceYear', 'PromoInterval'],\n",
       "      dtype='object')"
      ]
     },
     "execution_count": 17,
     "metadata": {},
     "output_type": "execute_result"
    }
   ],
   "source": [
    "# Dataset Columns for store_df\n",
    "store_df.columns"
   ]
  },
  {
   "cell_type": "code",
   "execution_count": 18,
   "id": "c5069119",
   "metadata": {},
   "outputs": [
    {
     "data": {
      "text/html": [
       "<div>\n",
       "<style scoped>\n",
       "    .dataframe tbody tr th:only-of-type {\n",
       "        vertical-align: middle;\n",
       "    }\n",
       "\n",
       "    .dataframe tbody tr th {\n",
       "        vertical-align: top;\n",
       "    }\n",
       "\n",
       "    .dataframe thead th {\n",
       "        text-align: right;\n",
       "    }\n",
       "</style>\n",
       "<table border=\"1\" class=\"dataframe\">\n",
       "  <thead>\n",
       "    <tr style=\"text-align: right;\">\n",
       "      <th></th>\n",
       "      <th>Store</th>\n",
       "      <th>CompetitionDistance</th>\n",
       "      <th>CompetitionOpenSinceMonth</th>\n",
       "      <th>CompetitionOpenSinceYear</th>\n",
       "      <th>Promo2</th>\n",
       "      <th>Promo2SinceWeek</th>\n",
       "      <th>Promo2SinceYear</th>\n",
       "    </tr>\n",
       "  </thead>\n",
       "  <tbody>\n",
       "    <tr>\n",
       "      <th>count</th>\n",
       "      <td>1115.00000</td>\n",
       "      <td>1112.000000</td>\n",
       "      <td>761.000000</td>\n",
       "      <td>761.000000</td>\n",
       "      <td>1115.000000</td>\n",
       "      <td>571.000000</td>\n",
       "      <td>571.000000</td>\n",
       "    </tr>\n",
       "    <tr>\n",
       "      <th>mean</th>\n",
       "      <td>558.00000</td>\n",
       "      <td>5404.901079</td>\n",
       "      <td>7.224704</td>\n",
       "      <td>2008.668857</td>\n",
       "      <td>0.512108</td>\n",
       "      <td>23.595447</td>\n",
       "      <td>2011.763573</td>\n",
       "    </tr>\n",
       "    <tr>\n",
       "      <th>std</th>\n",
       "      <td>322.01708</td>\n",
       "      <td>7663.174720</td>\n",
       "      <td>3.212348</td>\n",
       "      <td>6.195983</td>\n",
       "      <td>0.500078</td>\n",
       "      <td>14.141984</td>\n",
       "      <td>1.674935</td>\n",
       "    </tr>\n",
       "    <tr>\n",
       "      <th>min</th>\n",
       "      <td>1.00000</td>\n",
       "      <td>20.000000</td>\n",
       "      <td>1.000000</td>\n",
       "      <td>1900.000000</td>\n",
       "      <td>0.000000</td>\n",
       "      <td>1.000000</td>\n",
       "      <td>2009.000000</td>\n",
       "    </tr>\n",
       "    <tr>\n",
       "      <th>25%</th>\n",
       "      <td>279.50000</td>\n",
       "      <td>717.500000</td>\n",
       "      <td>4.000000</td>\n",
       "      <td>2006.000000</td>\n",
       "      <td>0.000000</td>\n",
       "      <td>13.000000</td>\n",
       "      <td>2011.000000</td>\n",
       "    </tr>\n",
       "    <tr>\n",
       "      <th>50%</th>\n",
       "      <td>558.00000</td>\n",
       "      <td>2325.000000</td>\n",
       "      <td>8.000000</td>\n",
       "      <td>2010.000000</td>\n",
       "      <td>1.000000</td>\n",
       "      <td>22.000000</td>\n",
       "      <td>2012.000000</td>\n",
       "    </tr>\n",
       "    <tr>\n",
       "      <th>75%</th>\n",
       "      <td>836.50000</td>\n",
       "      <td>6882.500000</td>\n",
       "      <td>10.000000</td>\n",
       "      <td>2013.000000</td>\n",
       "      <td>1.000000</td>\n",
       "      <td>37.000000</td>\n",
       "      <td>2013.000000</td>\n",
       "    </tr>\n",
       "    <tr>\n",
       "      <th>max</th>\n",
       "      <td>1115.00000</td>\n",
       "      <td>75860.000000</td>\n",
       "      <td>12.000000</td>\n",
       "      <td>2015.000000</td>\n",
       "      <td>1.000000</td>\n",
       "      <td>50.000000</td>\n",
       "      <td>2015.000000</td>\n",
       "    </tr>\n",
       "  </tbody>\n",
       "</table>\n",
       "</div>"
      ],
      "text/plain": [
       "            Store  CompetitionDistance  CompetitionOpenSinceMonth  \\\n",
       "count  1115.00000          1112.000000                 761.000000   \n",
       "mean    558.00000          5404.901079                   7.224704   \n",
       "std     322.01708          7663.174720                   3.212348   \n",
       "min       1.00000            20.000000                   1.000000   \n",
       "25%     279.50000           717.500000                   4.000000   \n",
       "50%     558.00000          2325.000000                   8.000000   \n",
       "75%     836.50000          6882.500000                  10.000000   \n",
       "max    1115.00000         75860.000000                  12.000000   \n",
       "\n",
       "       CompetitionOpenSinceYear       Promo2  Promo2SinceWeek  Promo2SinceYear  \n",
       "count                761.000000  1115.000000       571.000000       571.000000  \n",
       "mean                2008.668857     0.512108        23.595447      2011.763573  \n",
       "std                    6.195983     0.500078        14.141984         1.674935  \n",
       "min                 1900.000000     0.000000         1.000000      2009.000000  \n",
       "25%                 2006.000000     0.000000        13.000000      2011.000000  \n",
       "50%                 2010.000000     1.000000        22.000000      2012.000000  \n",
       "75%                 2013.000000     1.000000        37.000000      2013.000000  \n",
       "max                 2015.000000     1.000000        50.000000      2015.000000  "
      ]
     },
     "execution_count": 18,
     "metadata": {},
     "output_type": "execute_result"
    }
   ],
   "source": [
    "# Dataset Describe for store_df\n",
    "store_df.describe()"
   ]
  },
  {
   "cell_type": "markdown",
   "id": "855d5f8a",
   "metadata": {},
   "source": [
    "\n",
    "### Variables Description "
   ]
  },
  {
   "cell_type": "markdown",
   "id": "871bd12a",
   "metadata": {},
   "source": [
    "answer"
   ]
  },
  {
   "cell_type": "markdown",
   "id": "22a7a82c",
   "metadata": {},
   "source": [
    "### Check Unique Values for each variable."
   ]
  },
  {
   "cell_type": "markdown",
   "id": "8a02f479",
   "metadata": {},
   "source": [
    "#### Unique values for rossmann_df"
   ]
  },
  {
   "cell_type": "code",
   "execution_count": 19,
   "id": "86c7d67f",
   "metadata": {},
   "outputs": [
    {
     "name": "stdout",
     "output_type": "stream",
     "text": [
      " Number of unique values in Store is : 1115\n",
      " Number of unique values in DayOfWeek is : 7\n",
      " Number of unique values in Date is : 942\n",
      " Number of unique values in Sales is : 21734\n",
      " Number of unique values in Customers is : 4086\n",
      " Number of unique values in Open is : 2\n",
      " Number of unique values in Promo is : 2\n",
      " Number of unique values in StateHoliday is : 5\n",
      " Number of unique values in SchoolHoliday is : 2\n"
     ]
    }
   ],
   "source": [
    "# Check Unique Values for each variable.\n",
    "print(f\" Number of unique values in Store is : {len(rossmann_df['Store'].unique())}\")\n",
    "print(f\" Number of unique values in DayOfWeek is : {len(rossmann_df['DayOfWeek'].unique())}\")\n",
    "print(f\" Number of unique values in Date is : {len(rossmann_df['Date'].unique())}\")\n",
    "print(f\" Number of unique values in Sales is : {len(rossmann_df['Sales'].unique())}\")\n",
    "print(f\" Number of unique values in Customers is : {len(rossmann_df['Customers'].unique())}\")\n",
    "print(f\" Number of unique values in Open is : {len(rossmann_df['Open'].unique())}\")\n",
    "print(f\" Number of unique values in Promo is : {len(rossmann_df['Promo'].unique())}\")\n",
    "print(f\" Number of unique values in StateHoliday is : {len(rossmann_df['StateHoliday'].unique())}\")\n",
    "print(f\" Number of unique values in SchoolHoliday is : {len(rossmann_df['SchoolHoliday'].unique())}\")"
   ]
  },
  {
   "cell_type": "code",
   "execution_count": 20,
   "id": "1e61a866",
   "metadata": {},
   "outputs": [
    {
     "name": "stdout",
     "output_type": "stream",
     "text": [
      " Unique values in DayOfWeek are : [5 4 3 2 1 7 6]\n",
      " Unique values in Open are : [1 0]\n",
      " Unique values in Promo are : [1 0]\n",
      " Unique values in StateHoliday are : ['0' 'a' 'b' 'c' 0]\n",
      " Unique values in SchoolHoliday are : [1 0]\n"
     ]
    }
   ],
   "source": [
    "print(f\" Unique values in DayOfWeek are : {rossmann_df['DayOfWeek'].unique()}\")\n",
    "print(f\" Unique values in Open are : {rossmann_df['Open'].unique()}\")\n",
    "print(f\" Unique values in Promo are : {rossmann_df['Promo'].unique()}\")\n",
    "print(f\" Unique values in StateHoliday are : {rossmann_df['StateHoliday'].unique()}\")\n",
    "print(f\" Unique values in SchoolHoliday are : {rossmann_df['SchoolHoliday'].unique()}\")"
   ]
  },
  {
   "cell_type": "markdown",
   "id": "37eae6e0",
   "metadata": {},
   "source": [
    "## 3. ***Data Wrangling***"
   ]
  },
  {
   "cell_type": "markdown",
   "id": "aee0f3f7",
   "metadata": {},
   "source": [
    "### Data wrangling for  rossmann_df"
   ]
  },
  {
   "cell_type": "code",
   "execution_count": 21,
   "id": "12d078e5",
   "metadata": {},
   "outputs": [
    {
     "name": "stdout",
     "output_type": "stream",
     "text": [
      "Percentage of data when shops were closed : 16.99.\n"
     ]
    }
   ],
   "source": [
    "# approximately 17% observations are zero\n",
    "print(f\"Percentage of data when shops were closed : {round(len(rossmann_df[rossmann_df['Open'] == 0])/len(rossmann_df),4)*100}.\")\n",
    "\n",
    "# Dropping the data when shops were closed.\n",
    "rossmann_df = rossmann_df[rossmann_df['Open'] == 1]"
   ]
  },
  {
   "cell_type": "code",
   "execution_count": 22,
   "id": "3c4485e1",
   "metadata": {},
   "outputs": [
    {
     "name": "stdout",
     "output_type": "stream",
     "text": [
      "Different catagories for StateHoliday : StateHoliday\n",
      "0    6701.492117\n",
      "0    6992.158856\n",
      "a    8487.471182\n",
      "b    9887.889655\n",
      "c    9743.746479\n",
      "Name: Sales, dtype: float64\n"
     ]
    }
   ],
   "source": [
    "# Econding StateHoliday\n",
    "# sum : '0'>0>a>b>c\n",
    "# mean: b>c>a>'0'>0\n",
    "print(f\"Different catagories for StateHoliday : {rossmann_df.groupby(['StateHoliday'])['Sales'].mean()}\")\n",
    "# function for encoding the column 'StateHoliday'\n",
    "def State_holiday_encoder(col):\n",
    "    if col == 'c':\n",
    "        return 4\n",
    "    elif col == 'b':\n",
    "        return 5\n",
    "    elif col == 'a':\n",
    "        return 3\n",
    "    elif col == '0':\n",
    "        return 2\n",
    "    elif col == 0:\n",
    "        return 1\n",
    "    else:\n",
    "        print('invalid')\n",
    "        \n",
    "# applying the  above function\n",
    "rossmann_df['StateHoliday'] = rossmann_df['StateHoliday'].apply(State_holiday_encoder)"
   ]
  },
  {
   "cell_type": "markdown",
   "id": "67d66254",
   "metadata": {},
   "source": [
    "#### Date operations"
   ]
  },
  {
   "cell_type": "code",
   "execution_count": 23,
   "id": "b085613e",
   "metadata": {},
   "outputs": [],
   "source": [
    "# from str to date time conversion\n",
    "rossmann_df['Date'] = rossmann_df['Date'].apply(lambda col: datetime.strptime(col,'%Y-%m-%d'))"
   ]
  },
  {
   "cell_type": "code",
   "execution_count": 24,
   "id": "6561aee3",
   "metadata": {},
   "outputs": [],
   "source": [
    "# creating day, month, year columns\n",
    "plt.rcParams['figure.figsize'] = (5,3)\n",
    "rossmann_df['day'] = rossmann_df['Date'].apply(lambda d: d.day)\n",
    "rossmann_df['month'] = rossmann_df['Date'].apply(lambda m: m.month)\n",
    "rossmann_df['year'] = rossmann_df['Date'].apply(lambda y: y.year)"
   ]
  },
  {
   "cell_type": "markdown",
   "id": "56c24f4b",
   "metadata": {},
   "source": [
    "### Data wrangling for  store_df"
   ]
  },
  {
   "cell_type": "code",
   "execution_count": 25,
   "id": "cb9931dd",
   "metadata": {},
   "outputs": [
    {
     "data": {
      "text/plain": [
       "{'Store': 0,\n",
       " 'StoreType': 0,\n",
       " 'Assortment': 0,\n",
       " 'CompetitionDistance': 3,\n",
       " 'CompetitionOpenSinceMonth': 354,\n",
       " 'CompetitionOpenSinceYear': 354,\n",
       " 'Promo2': 0,\n",
       " 'Promo2SinceWeek': 544,\n",
       " 'Promo2SinceYear': 544,\n",
       " 'PromoInterval': 544}"
      ]
     },
     "execution_count": 25,
     "metadata": {},
     "output_type": "execute_result"
    }
   ],
   "source": [
    "# null value count\n",
    "null_calculator(store_df)"
   ]
  },
  {
   "cell_type": "code",
   "execution_count": 26,
   "id": "864dd65d",
   "metadata": {},
   "outputs": [],
   "source": [
    "# dropping the columns having more than 30% null values\n",
    "col_tobe_dropped = ['CompetitionOpenSinceMonth', 'CompetitionOpenSinceYear', \n",
    "                    'Promo2SinceWeek', 'Promo2SinceYear', 'PromoInterval']\n",
    "store_df.drop( columns=col_tobe_dropped, inplace=True)\n",
    "# dropping null values less than 1%\n",
    "store_df.dropna( subset=['CompetitionDistance'], inplace= True)"
   ]
  },
  {
   "cell_type": "markdown",
   "id": "1e36cb86",
   "metadata": {},
   "source": [
    "### What all manipulations have you done and insights you found?"
   ]
  },
  {
   "cell_type": "markdown",
   "id": "412abf95",
   "metadata": {},
   "source": [
    "#### rossmann_df :\n",
    "First of all I dropped all the rows which contains only zeros in all columns then I encoded StateHoliday so that it can be feeded to ML algorithms. After that I converted Date column from string to date time type. Further I created 3 more columns day, month, year from Date column.\n",
    "#### store_df :\n",
    "Here I just dropped the columns which had more than 30% null values and also deleted some rows having less than 1% null values."
   ]
  },
  {
   "cell_type": "markdown",
   "id": "7d53b23b",
   "metadata": {},
   "source": [
    "## ***4. Data Vizualization, Storytelling & Experimenting with charts : Understand the relationships between variables***"
   ]
  },
  {
   "cell_type": "markdown",
   "id": "6fe082bb",
   "metadata": {},
   "source": [
    "#### Chart - 1"
   ]
  },
  {
   "cell_type": "code",
   "execution_count": 27,
   "id": "e631da57",
   "metadata": {},
   "outputs": [
    {
     "data": {
      "image/png": "[encoded data removed]",
      "text/plain": [
       "<Figure size 500x300 with 1 Axes>"
      ]
     },
     "metadata": {},
     "output_type": "display_data"
    },
    {
     "name": "stdout",
     "output_type": "stream",
     "text": [
      "\n",
      "\n"
     ]
    },
    {
     "data": {
      "image/png": "[encoded data removed]",
      "text/plain": [
       "<Figure size 500x300 with 1 Axes>"
      ]
     },
     "metadata": {},
     "output_type": "display_data"
    }
   ],
   "source": [
    "# Distribution plot for Sales\n",
    "# Before log transformation\n",
    "sns.distplot(rossmann_df['Sales'])\n",
    "plt.title('Distribution of Sales')\n",
    "plt.show()\n",
    "print('\\n')\n",
    "# After log transformation\n",
    "sns.distplot(np.log2(rossmann_df['Sales']+1))\n",
    "plt.title('Distribution of Sales')\n",
    "plt.show()"
   ]
  },
  {
   "cell_type": "markdown",
   "id": "428b09aa",
   "metadata": {},
   "source": [
    "##### 1. Why did you pick the specific chart?"
   ]
  },
  {
   "cell_type": "markdown",
   "id": "aa361a12",
   "metadata": {},
   "source": [
    "I picked that chart to see how the Target column is distributed."
   ]
  },
  {
   "cell_type": "markdown",
   "id": "84c927b5",
   "metadata": {},
   "source": [
    "##### 2. What is/are the insight(s) found from the chart?"
   ]
  },
  {
   "cell_type": "markdown",
   "id": "17c7709f",
   "metadata": {},
   "source": [
    "Answer : From that  chart I found that the Sales column was very close to normal distribution but after log transformation I found that the distribution became more closer to Normal distribution."
   ]
  },
  {
   "cell_type": "markdown",
   "id": "125a02e1",
   "metadata": {},
   "source": [
    "##### 3. Will the gained insights help creating a positive business impact? \n",
    "Are there any insights that lead to negative growth? Justify with specific reason."
   ]
  },
  {
   "cell_type": "markdown",
   "id": "795bebcd",
   "metadata": {},
   "source": [
    "Answer : Since the column is normally distributed so it will be very helpfull when ML algorithm will be applied, it will give good accuracy."
   ]
  },
  {
   "cell_type": "markdown",
   "id": "ca947909",
   "metadata": {},
   "source": [
    "#### Chart - 2"
   ]
  },
  {
   "cell_type": "code",
   "execution_count": 28,
   "id": "49fd99c7",
   "metadata": {},
   "outputs": [
    {
     "data": {
      "image/png": "[encoded data removed]",
      "text/plain": [
       "<Figure size 400x200 with 1 Axes>"
      ]
     },
     "metadata": {},
     "output_type": "display_data"
    },
    {
     "data": {
      "image/png": "[encoded data removed]",
      "text/plain": [
       "<Figure size 400x200 with 1 Axes>"
      ]
     },
     "metadata": {},
     "output_type": "display_data"
    },
    {
     "data": {
      "image/png": "[encoded data removed]",
      "text/plain": [
       "<Figure size 400x200 with 1 Axes>"
      ]
     },
     "metadata": {},
     "output_type": "display_data"
    },
    {
     "data": {
      "image/png": "[encoded data removed]",
      "text/plain": [
       "<Figure size 400x200 with 1 Axes>"
      ]
     },
     "metadata": {},
     "output_type": "display_data"
    },
    {
     "data": {
      "image/png": "[encoded data removed]",
      "text/plain": [
       "<Figure size 400x200 with 1 Axes>"
      ]
     },
     "metadata": {},
     "output_type": "display_data"
    },
    {
     "data": {
      "image/png": "[encoded data removed]",
      "text/plain": [
       "<Figure size 400x200 with 1 Axes>"
      ]
     },
     "metadata": {},
     "output_type": "display_data"
    },
    {
     "data": {
      "image/png": "[encoded data removed]",
      "text/plain": [
       "<Figure size 400x200 with 1 Axes>"
      ]
     },
     "metadata": {},
     "output_type": "display_data"
    },
    {
     "data": {
      "image/png": "[encoded data removed]",
      "text/plain": [
       "<Figure size 400x200 with 1 Axes>"
      ]
     },
     "metadata": {},
     "output_type": "display_data"
    },
    {
     "data": {
      "image/png": "[encoded data removed]",
      "text/plain": [
       "<Figure size 400x200 with 1 Axes>"
      ]
     },
     "metadata": {},
     "output_type": "display_data"
    }
   ],
   "source": [
    "# Scatter plots Sales vs All Numerical columns\n",
    "plt.rcParams['figure.figsize'] = (4,2)\n",
    "for col in rossmann_df.describe():\n",
    "    if (col == 'Sales') | (col == 'Store'):\n",
    "        pass\n",
    "    else:\n",
    "        plt.scatter(rossmann_df[col],rossmann_df['Sales'])\n",
    "        plt.title(col+' vs Sales')\n",
    "        plt.xlabel(col)\n",
    "        plt.ylabel('Sales')\n",
    "        plt.show()"
   ]
  },
  {
   "cell_type": "markdown",
   "id": "5707eb70",
   "metadata": {},
   "source": [
    "##### 1. Why did you pick the specific chart?"
   ]
  },
  {
   "cell_type": "markdown",
   "id": "3d3447bf",
   "metadata": {},
   "source": [
    "Answer :\n",
    "    I picked these chart to see what all columns are linearly correlated with Sales column. Because for Linear regression we need columns to be linearly correlated with target column."
   ]
  },
  {
   "cell_type": "markdown",
   "id": "7b6fdcd6",
   "metadata": {},
   "source": [
    "##### 2. What is/are the insight(s) found from the chart?"
   ]
  },
  {
   "cell_type": "markdown",
   "id": "122d4833",
   "metadata": {},
   "source": [
    "Answer : I found that only the  column Customer is linearly correlated with Sales rest of them are not linear to Sales."
   ]
  },
  {
   "cell_type": "markdown",
   "id": "e0f14b6d",
   "metadata": {},
   "source": [
    "##### 3. Will the gained insights help creating a positive business impact? \n",
    "Are there any insights that lead to negative growth? Justify with specific reason."
   ]
  },
  {
   "cell_type": "markdown",
   "id": "e6ebe849",
   "metadata": {},
   "source": [
    "Yes the chart helped me to find that Customer column is very important feature for this business.<br>\n",
    "There I did not see any negative growth to the business."
   ]
  },
  {
   "cell_type": "markdown",
   "id": "f5561822",
   "metadata": {},
   "source": [
    "#### Chart - 3"
   ]
  },
  {
   "cell_type": "code",
   "execution_count": 29,
   "id": "cf1b3edd",
   "metadata": {},
   "outputs": [
    {
     "data": {
      "text/plain": [
       "Text(0, 0.5, 'Sales')"
      ]
     },
     "execution_count": 29,
     "metadata": {},
     "output_type": "execute_result"
    },
    {
     "data": {
      "image/png": "[encoded data removed]",
      "text/plain": [
       "<Figure size 400x200 with 1 Axes>"
      ]
     },
     "metadata": {},
     "output_type": "display_data"
    }
   ],
   "source": [
    "# Sales from day 1 to day 7\n",
    "plt.rcParams['figure.figsize'] = (4,2)\n",
    "rossmann_df.groupby(['DayOfWeek'])['Sales'].sum().plot.bar()\n",
    "plt.ylabel('Sales')"
   ]
  },
  {
   "cell_type": "markdown",
   "id": "3e8f289e",
   "metadata": {},
   "source": [
    "##### 1. Why did you pick the specific chart?"
   ]
  },
  {
   "cell_type": "markdown",
   "id": "f3eab293",
   "metadata": {},
   "source": [
    "Answer : I picked this chart to see what are the Sales for different days."
   ]
  },
  {
   "cell_type": "markdown",
   "id": "61b3739f",
   "metadata": {},
   "source": [
    "##### 2. What is/are the insight(s) found from the chart?"
   ]
  },
  {
   "cell_type": "markdown",
   "id": "3d9869c1",
   "metadata": {},
   "source": [
    "Answer : I fount that the Sale is gradually decreasing from day 1 to day 7."
   ]
  },
  {
   "cell_type": "markdown",
   "id": "54dba293",
   "metadata": {},
   "source": [
    "##### 3. Will the gained insights help creating a positive business impact? \n",
    "Are there any insights that lead to negative growth? Justify with specific reason."
   ]
  },
  {
   "cell_type": "markdown",
   "id": "691ea8de",
   "metadata": {},
   "source": [
    "Yes. On day 7 I found that Salling is least I think it is because the shops remains closed on Sunday.<br> To earn more profit we should open the shop everyday.Yes. On day 7 I found that Salling is least I think it is because the shops remains closed on Sunday.<br> To earn more profit we should open the shop everyday."
   ]
  },
  {
   "cell_type": "markdown",
   "id": "13a4a5f9",
   "metadata": {},
   "source": [
    "#### Chart - 4"
   ]
  },
  {
   "cell_type": "code",
   "execution_count": 30,
   "id": "d12451c7",
   "metadata": {},
   "outputs": [
    {
     "data": {
      "text/plain": [
       "Text(0, 0.5, 'Sales')"
      ]
     },
     "execution_count": 30,
     "metadata": {},
     "output_type": "execute_result"
    },
    {
     "data": {
      "image/png": "[encoded data removed]",
      "text/plain": [
       "<Figure size 400x200 with 1 Axes>"
      ]
     },
     "metadata": {},
     "output_type": "display_data"
    }
   ],
   "source": [
    "# Sales comparison for promotional and non promotional\n",
    "rossmann_df.groupby(['Promo'])['Sales'].mean().plot.bar()\n",
    "plt.title('Promo vs Non Promo')\n",
    "plt.xlabel('Promo')\n",
    "plt.ylabel('Sales')"
   ]
  },
  {
   "cell_type": "markdown",
   "id": "30917cb8",
   "metadata": {},
   "source": [
    "##### 1. Why did you pick the specific chart?"
   ]
  },
  {
   "cell_type": "markdown",
   "id": "d5df5546",
   "metadata": {},
   "source": [
    "Answer : To see the effect of Promo on Sales."
   ]
  },
  {
   "cell_type": "markdown",
   "id": "daf561bb",
   "metadata": {},
   "source": [
    "##### 2. What is/are the insight(s) found from the chart?"
   ]
  },
  {
   "cell_type": "markdown",
   "id": "e0675a39",
   "metadata": {},
   "source": [
    "Answer : I found that promo has higher sales than non promo."
   ]
  },
  {
   "cell_type": "markdown",
   "id": "dcfc634e",
   "metadata": {},
   "source": [
    "##### 3. Will the gained insights help creating a positive business impact? \n",
    "Are there any insights that lead to negative growth? Justify with specific reason."
   ]
  },
  {
   "cell_type": "markdown",
   "id": "6c5c89b6",
   "metadata": {},
   "source": [
    "Answer : Yes the insights help creating a positive business impact.<br> There is some negative insight when it is a non promo to avoid this negative impact we should avoid non promo."
   ]
  },
  {
   "cell_type": "markdown",
   "id": "f10e0580",
   "metadata": {},
   "source": [
    "#### Chart - 5"
   ]
  },
  {
   "cell_type": "code",
   "execution_count": 31,
   "id": "a27dc92b",
   "metadata": {},
   "outputs": [
    {
     "data": {
      "image/png": "[encoded data removed]",
      "text/plain": [
       "<Figure size 500x300 with 1 Axes>"
      ]
     },
     "metadata": {},
     "output_type": "display_data"
    },
    {
     "data": {
      "image/png": "[encoded data removed]",
      "text/plain": [
       "<Figure size 500x300 with 1 Axes>"
      ]
     },
     "metadata": {},
     "output_type": "display_data"
    },
    {
     "data": {
      "image/png": "[encoded data removed]",
      "text/plain": [
       "<Figure size 500x300 with 1 Axes>"
      ]
     },
     "metadata": {},
     "output_type": "display_data"
    }
   ],
   "source": [
    "# looking for the patterns in a specific day, month, year\n",
    "plt.rcParams['figure.figsize'] = (5,3)\n",
    "rossmann_df.groupby(['day'])['Sales'].mean().plot.bar()\n",
    "plt.ylabel('Sales')\n",
    "plt.show()\n",
    "rossmann_df.groupby(['month'])['Sales'].mean().plot.bar()\n",
    "plt.ylabel('Sales')\n",
    "plt.show()\n",
    "rossmann_df.groupby(['year'])['Sales'].mean().plot.bar()\n",
    "plt.ylabel('Sales')\n",
    "plt.show()"
   ]
  },
  {
   "cell_type": "markdown",
   "id": "ad74d058",
   "metadata": {},
   "source": [
    "##### 1. Why did you pick the specific chart?"
   ]
  },
  {
   "cell_type": "markdown",
   "id": "d38f94f1",
   "metadata": {},
   "source": [
    "Answer : To see sales for each day, each month and each year"
   ]
  },
  {
   "cell_type": "markdown",
   "id": "cedeec1b",
   "metadata": {},
   "source": [
    "##### 2. What is/are the insight(s) found from the chart?"
   ]
  },
  {
   "cell_type": "markdown",
   "id": "123f57ea",
   "metadata": {},
   "source": [
    "Answer : I did not find any helpful information from these three charts."
   ]
  },
  {
   "cell_type": "code",
   "execution_count": null,
   "id": "4accdd61",
   "metadata": {},
   "outputs": [],
   "source": []
  }
 ],
 "metadata": {
  "kernelspec": {
   "display_name": "Python 3 (ipykernel)",
   "language": "python",
   "name": "python3"
  },
  "language_info": {
   "codemirror_mode": {
    "name": "ipython",
    "version": 3
   },
   "file_extension": ".py",
   "mimetype": "text/x-python",
   "name": "python",
   "nbconvert_exporter": "python",
   "pygments_lexer": "ipython3",
   "version": "3.9.13"
  }
 },
 "nbformat": 4,
 "nbformat_minor": 5
}
